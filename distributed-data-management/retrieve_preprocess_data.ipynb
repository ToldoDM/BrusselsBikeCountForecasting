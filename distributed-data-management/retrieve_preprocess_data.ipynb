{
 "cells": [
  {
   "cell_type": "markdown",
   "source": [
    "## Common imports"
   ],
   "metadata": {
    "collapsed": false
   }
  },
  {
   "cell_type": "code",
   "execution_count": 1,
   "metadata": {
    "ExecuteTime": {
     "end_time": "2023-04-26T13:18:16.266876Z",
     "start_time": "2023-04-26T13:18:16.262553Z"
    }
   },
   "outputs": [],
   "source": [
    "import requests\n",
    "import io\n",
    "import pandas as pd\n",
    "import os\n",
    "import numpy as np\n",
    "from tqdm import tqdm\n",
    "import itertools"
   ]
  },
  {
   "cell_type": "markdown",
   "metadata": {},
   "source": [
    "# Goal\n",
    "- Get list of all sensors\n",
    "- For each sensors, retrieve data from 2018 to 2023\n",
    "- Preprocessing of the data : handle the missing data as in PDF"
   ]
  },
  {
   "cell_type": "markdown",
   "metadata": {},
   "source": [
    "# Retrieve all sensors"
   ]
  },
  {
   "cell_type": "code",
   "execution_count": 2,
   "metadata": {
    "ExecuteTime": {
     "end_time": "2023-04-26T13:01:55.962418Z",
     "start_time": "2023-04-26T13:01:55.957385Z"
    }
   },
   "outputs": [],
   "source": [
    "def get_all_sensors():\n",
    "    \"\"\"\n",
    "    Retrieve all sensors from the Brussels Mobility API\n",
    "    :return: all sensors from the Brussels Mobility API\n",
    "    \"\"\"\n",
    "    response = requests.get(\"https://data.mobility.brussels/bike/api/counts/?request=devices\")\n",
    "    data = response.json()\n",
    "    return [sensor['id'][7:] for sensor in data['features']]"
   ]
  },
  {
   "cell_type": "code",
   "execution_count": 3,
   "metadata": {
    "ExecuteTime": {
     "end_time": "2023-04-26T13:09:18.665513Z",
     "start_time": "2023-04-26T13:09:18.462325Z"
    }
   },
   "outputs": [],
   "source": [
    "sensors = get_all_sensors()"
   ]
  },
  {
   "cell_type": "markdown",
   "metadata": {},
   "source": [
    "# Retrieve data from all sensors\n",
    "## Retrieve data for one sensor"
   ]
  },
  {
   "cell_type": "code",
   "execution_count": 4,
   "metadata": {
    "ExecuteTime": {
     "end_time": "2023-04-26T13:18:53.338171Z",
     "start_time": "2023-04-26T13:18:51.674437Z"
    }
   },
   "outputs": [
    {
     "data": {
      "text/plain": "             Date  Time gap  Count  Average speed\n0      2020-10-27        93      0             -1\n1      2020-10-27        94      0             -1\n2      2020-10-27        95      0             -1\n3      2020-10-27        96      0             -1\n4      2020-10-28         1      0             -1\n...           ...       ...    ...            ...\n84955  2023-03-31        92      4             18\n84956  2023-03-31        93      3             19\n84957  2023-03-31        94      1             12\n84958  2023-03-31        95      1             29\n84959  2023-03-31        96      2             18\n\n[84960 rows x 4 columns]",
      "text/html": "<div>\n<style scoped>\n    .dataframe tbody tr th:only-of-type {\n        vertical-align: middle;\n    }\n\n    .dataframe tbody tr th {\n        vertical-align: top;\n    }\n\n    .dataframe thead th {\n        text-align: right;\n    }\n</style>\n<table border=\"1\" class=\"dataframe\">\n  <thead>\n    <tr style=\"text-align: right;\">\n      <th></th>\n      <th>Date</th>\n      <th>Time gap</th>\n      <th>Count</th>\n      <th>Average speed</th>\n    </tr>\n  </thead>\n  <tbody>\n    <tr>\n      <th>0</th>\n      <td>2020-10-27</td>\n      <td>93</td>\n      <td>0</td>\n      <td>-1</td>\n    </tr>\n    <tr>\n      <th>1</th>\n      <td>2020-10-27</td>\n      <td>94</td>\n      <td>0</td>\n      <td>-1</td>\n    </tr>\n    <tr>\n      <th>2</th>\n      <td>2020-10-27</td>\n      <td>95</td>\n      <td>0</td>\n      <td>-1</td>\n    </tr>\n    <tr>\n      <th>3</th>\n      <td>2020-10-27</td>\n      <td>96</td>\n      <td>0</td>\n      <td>-1</td>\n    </tr>\n    <tr>\n      <th>4</th>\n      <td>2020-10-28</td>\n      <td>1</td>\n      <td>0</td>\n      <td>-1</td>\n    </tr>\n    <tr>\n      <th>...</th>\n      <td>...</td>\n      <td>...</td>\n      <td>...</td>\n      <td>...</td>\n    </tr>\n    <tr>\n      <th>84955</th>\n      <td>2023-03-31</td>\n      <td>92</td>\n      <td>4</td>\n      <td>18</td>\n    </tr>\n    <tr>\n      <th>84956</th>\n      <td>2023-03-31</td>\n      <td>93</td>\n      <td>3</td>\n      <td>19</td>\n    </tr>\n    <tr>\n      <th>84957</th>\n      <td>2023-03-31</td>\n      <td>94</td>\n      <td>1</td>\n      <td>12</td>\n    </tr>\n    <tr>\n      <th>84958</th>\n      <td>2023-03-31</td>\n      <td>95</td>\n      <td>1</td>\n      <td>29</td>\n    </tr>\n    <tr>\n      <th>84959</th>\n      <td>2023-03-31</td>\n      <td>96</td>\n      <td>2</td>\n      <td>18</td>\n    </tr>\n  </tbody>\n</table>\n<p>84960 rows × 4 columns</p>\n</div>"
     },
     "execution_count": 4,
     "metadata": {},
     "output_type": "execute_result"
    }
   ],
   "source": [
    "def retrieve_historical_data_from_one_sensor(sensor_id: str, start_date=\"20181206\", end_date=\"20230331\", save=False,\n",
    "                                             prefix_path=\"historical_data_csv/\"):\n",
    "    url = f\"https://data.mobility.brussels/bike/api/counts/?request=history&featureID={sensor_id}&startDate={start_date}&endDate={end_date}&outputFormat=csv\"\n",
    "    response = requests.get(url)\n",
    "    if response.status_code == 200:\n",
    "        content = response.content\n",
    "        csv_buffer = io.StringIO(content.decode())\n",
    "        df = pd.read_csv(csv_buffer)\n",
    "        if save:\n",
    "            if not os.path.exists(prefix_path):\n",
    "                os.makedirs(prefix_path)\n",
    "                print(\"Folder created!\")\n",
    "            df.to_csv(f\"{prefix_path}/{sensor_id}.csv\")\n",
    "        return df\n",
    "    else:\n",
    "        raise Exception(f\"Error request : might be that {sensor_id} is not a valid sensor\")\n",
    "\n",
    "\n",
    "retrieve_historical_data_from_one_sensor(sensor_id=sensors[0])"
   ]
  },
  {
   "cell_type": "markdown",
   "metadata": {},
   "source": [
    "Note if we use the first sensor : the start date begins in 2020, we will need to handle this in the preprocessing"
   ]
  },
  {
   "cell_type": "markdown",
   "metadata": {},
   "source": [
    "## Retrieve Historical Data For All sensors"
   ]
  },
  {
   "cell_type": "code",
   "execution_count": 5,
   "metadata": {
    "ExecuteTime": {
     "end_time": "2023-04-26T13:19:35.228387Z",
     "start_time": "2023-04-26T13:18:55.726487Z"
    }
   },
   "outputs": [
    {
     "name": "stderr",
     "output_type": "stream",
     "text": [
      "100%|██████████| 18/18 [00:45<00:00,  2.51s/it]\n"
     ]
    }
   ],
   "source": [
    "for sensor in tqdm(sensors):\n",
    "    retrieve_historical_data_from_one_sensor(sensor, save=True)"
   ]
  },
  {
   "cell_type": "markdown",
   "metadata": {},
   "source": [
    "# Data Preprocessing\n",
    "Combine all csv together before preprocess the data"
   ]
  },
  {
   "cell_type": "code",
   "execution_count": 6,
   "metadata": {},
   "outputs": [
    {
     "data": {
      "text/plain": "             Date  Time gap  Count  Average speed Sensor\n0      2020-10-27        93      0             -1  CAT17\n1      2020-10-27        94      0             -1  CAT17\n2      2020-10-27        95      0             -1  CAT17\n3      2020-10-27        96      0             -1  CAT17\n4      2020-10-28         1      0             -1  CAT17\n...           ...       ...    ...            ...    ...\n84955  2023-03-31        92      4             18  CAT17\n84956  2023-03-31        93      3             19  CAT17\n84957  2023-03-31        94      1             12  CAT17\n84958  2023-03-31        95      1             29  CAT17\n84959  2023-03-31        96      2             18  CAT17\n\n[84960 rows x 5 columns]",
      "text/html": "<div>\n<style scoped>\n    .dataframe tbody tr th:only-of-type {\n        vertical-align: middle;\n    }\n\n    .dataframe tbody tr th {\n        vertical-align: top;\n    }\n\n    .dataframe thead th {\n        text-align: right;\n    }\n</style>\n<table border=\"1\" class=\"dataframe\">\n  <thead>\n    <tr style=\"text-align: right;\">\n      <th></th>\n      <th>Date</th>\n      <th>Time gap</th>\n      <th>Count</th>\n      <th>Average speed</th>\n      <th>Sensor</th>\n    </tr>\n  </thead>\n  <tbody>\n    <tr>\n      <th>0</th>\n      <td>2020-10-27</td>\n      <td>93</td>\n      <td>0</td>\n      <td>-1</td>\n      <td>CAT17</td>\n    </tr>\n    <tr>\n      <th>1</th>\n      <td>2020-10-27</td>\n      <td>94</td>\n      <td>0</td>\n      <td>-1</td>\n      <td>CAT17</td>\n    </tr>\n    <tr>\n      <th>2</th>\n      <td>2020-10-27</td>\n      <td>95</td>\n      <td>0</td>\n      <td>-1</td>\n      <td>CAT17</td>\n    </tr>\n    <tr>\n      <th>3</th>\n      <td>2020-10-27</td>\n      <td>96</td>\n      <td>0</td>\n      <td>-1</td>\n      <td>CAT17</td>\n    </tr>\n    <tr>\n      <th>4</th>\n      <td>2020-10-28</td>\n      <td>1</td>\n      <td>0</td>\n      <td>-1</td>\n      <td>CAT17</td>\n    </tr>\n    <tr>\n      <th>...</th>\n      <td>...</td>\n      <td>...</td>\n      <td>...</td>\n      <td>...</td>\n      <td>...</td>\n    </tr>\n    <tr>\n      <th>84955</th>\n      <td>2023-03-31</td>\n      <td>92</td>\n      <td>4</td>\n      <td>18</td>\n      <td>CAT17</td>\n    </tr>\n    <tr>\n      <th>84956</th>\n      <td>2023-03-31</td>\n      <td>93</td>\n      <td>3</td>\n      <td>19</td>\n      <td>CAT17</td>\n    </tr>\n    <tr>\n      <th>84957</th>\n      <td>2023-03-31</td>\n      <td>94</td>\n      <td>1</td>\n      <td>12</td>\n      <td>CAT17</td>\n    </tr>\n    <tr>\n      <th>84958</th>\n      <td>2023-03-31</td>\n      <td>95</td>\n      <td>1</td>\n      <td>29</td>\n      <td>CAT17</td>\n    </tr>\n    <tr>\n      <th>84959</th>\n      <td>2023-03-31</td>\n      <td>96</td>\n      <td>2</td>\n      <td>18</td>\n      <td>CAT17</td>\n    </tr>\n  </tbody>\n</table>\n<p>84960 rows × 5 columns</p>\n</div>"
     },
     "execution_count": 6,
     "metadata": {},
     "output_type": "execute_result"
    }
   ],
   "source": [
    "def get_sensor_csv(sensor_name: str, prefix_path=\"historical_data_csv/\"):\n",
    "    sf = pd.read_csv(f\"{prefix_path + sensor_name}.csv\", index_col=0)\n",
    "    sf[\"Sensor\"] = sensor_name\n",
    "    return sf\n",
    "\n",
    "\n",
    "get_sensor_csv('CAT17')"
   ]
  },
  {
   "cell_type": "markdown",
   "metadata": {},
   "source": [
    "Get all the dates and check for every date that the time gap goes from 1 to 96 otherwise fill the missing values."
   ]
  },
  {
   "cell_type": "code",
   "execution_count": 7,
   "metadata": {},
   "outputs": [],
   "source": [
    "def get_df_with_filled_missing_values(start_date=\"20181206\", end_date=\"20230331\", save=False,\n",
    "                                      prefix_path=\"historical_data_csv/\"):\n",
    "    all_history = pd.DataFrame()\n",
    "    for sensor in tqdm(sensors):\n",
    "        all_history = pd.concat([all_history, get_sensor_csv(sensor)], ignore_index=True)\n",
    "\n",
    "    all_dates = pd.date_range(start=start_date, end=end_date)\n",
    "    all_numbers = np.arange(1, 97)\n",
    "\n",
    "    # create all possible combinations of dates, time gaps, and sensors\n",
    "    combinations = tqdm(list(itertools.product(all_dates.strftime('%Y-%m-%d'), all_numbers, sensors)))\n",
    "\n",
    "    # create a DataFrame from the combinations\n",
    "    oj = pd.DataFrame(combinations, columns=['Date', 'Time gap', 'Sensor'])\n",
    "\n",
    "    # perform an outer join on 'Date', 'Time gap', 'Sensor' columns\n",
    "    df_merge = pd.merge(oj, all_history, on=['Date', 'Time gap', 'Sensor'], how='outer')\n",
    "\n",
    "    # fill NaN values in column 'Count' with 0, and in column 'Average speed' with -1\n",
    "    fill_values = {'Count': 0, 'Average speed': -1}\n",
    "    df_filled = df_merge.fillna(value=fill_values)\n",
    "    print(\"Done!\")\n",
    "    if save:\n",
    "        if not os.path.exists(prefix_path):\n",
    "            os.makedirs(prefix_path)\n",
    "            print(\"Folder created!\")\n",
    "        df_filled.to_csv(f\"{prefix_path}/data.csv\")\n",
    "    return df_filled"
   ]
  },
  {
   "cell_type": "code",
   "execution_count": 8,
   "metadata": {},
   "outputs": [
    {
     "name": "stderr",
     "output_type": "stream",
     "text": [
      "100%|██████████| 18/18 [00:00<00:00, 33.74it/s]\n",
      "100%|██████████| 2725056/2725056 [00:00<00:00, 10320804.74it/s]\n"
     ]
    },
    {
     "name": "stdout",
     "output_type": "stream",
     "text": [
      "Done!\n"
     ]
    },
    {
     "data": {
      "text/plain": "               Date  Time gap   Sensor  Count  Average speed\n0        2018-12-06         1    CAT17    0.0           -1.0\n1        2018-12-06         1  CB02411    0.0           -1.0\n2        2018-12-06         1   CB1101    0.0           -1.0\n3        2018-12-06         1   CB1142    0.0           -1.0\n4        2018-12-06         1   CB1143    0.0           -1.0\n...             ...       ...      ...    ...            ...\n2725051  2023-03-31        96   CJE181    1.0            4.0\n2725052  2023-03-31        96    CJM90   10.0           17.0\n2725053  2023-03-31        96   CLW239    0.0           -1.0\n2725054  2023-03-31        96   COM205    2.0           13.0\n2725055  2023-03-31        96   CVT387    0.0           -1.0\n\n[2725056 rows x 5 columns]",
      "text/html": "<div>\n<style scoped>\n    .dataframe tbody tr th:only-of-type {\n        vertical-align: middle;\n    }\n\n    .dataframe tbody tr th {\n        vertical-align: top;\n    }\n\n    .dataframe thead th {\n        text-align: right;\n    }\n</style>\n<table border=\"1\" class=\"dataframe\">\n  <thead>\n    <tr style=\"text-align: right;\">\n      <th></th>\n      <th>Date</th>\n      <th>Time gap</th>\n      <th>Sensor</th>\n      <th>Count</th>\n      <th>Average speed</th>\n    </tr>\n  </thead>\n  <tbody>\n    <tr>\n      <th>0</th>\n      <td>2018-12-06</td>\n      <td>1</td>\n      <td>CAT17</td>\n      <td>0.0</td>\n      <td>-1.0</td>\n    </tr>\n    <tr>\n      <th>1</th>\n      <td>2018-12-06</td>\n      <td>1</td>\n      <td>CB02411</td>\n      <td>0.0</td>\n      <td>-1.0</td>\n    </tr>\n    <tr>\n      <th>2</th>\n      <td>2018-12-06</td>\n      <td>1</td>\n      <td>CB1101</td>\n      <td>0.0</td>\n      <td>-1.0</td>\n    </tr>\n    <tr>\n      <th>3</th>\n      <td>2018-12-06</td>\n      <td>1</td>\n      <td>CB1142</td>\n      <td>0.0</td>\n      <td>-1.0</td>\n    </tr>\n    <tr>\n      <th>4</th>\n      <td>2018-12-06</td>\n      <td>1</td>\n      <td>CB1143</td>\n      <td>0.0</td>\n      <td>-1.0</td>\n    </tr>\n    <tr>\n      <th>...</th>\n      <td>...</td>\n      <td>...</td>\n      <td>...</td>\n      <td>...</td>\n      <td>...</td>\n    </tr>\n    <tr>\n      <th>2725051</th>\n      <td>2023-03-31</td>\n      <td>96</td>\n      <td>CJE181</td>\n      <td>1.0</td>\n      <td>4.0</td>\n    </tr>\n    <tr>\n      <th>2725052</th>\n      <td>2023-03-31</td>\n      <td>96</td>\n      <td>CJM90</td>\n      <td>10.0</td>\n      <td>17.0</td>\n    </tr>\n    <tr>\n      <th>2725053</th>\n      <td>2023-03-31</td>\n      <td>96</td>\n      <td>CLW239</td>\n      <td>0.0</td>\n      <td>-1.0</td>\n    </tr>\n    <tr>\n      <th>2725054</th>\n      <td>2023-03-31</td>\n      <td>96</td>\n      <td>COM205</td>\n      <td>2.0</td>\n      <td>13.0</td>\n    </tr>\n    <tr>\n      <th>2725055</th>\n      <td>2023-03-31</td>\n      <td>96</td>\n      <td>CVT387</td>\n      <td>0.0</td>\n      <td>-1.0</td>\n    </tr>\n  </tbody>\n</table>\n<p>2725056 rows × 5 columns</p>\n</div>"
     },
     "execution_count": 8,
     "metadata": {},
     "output_type": "execute_result"
    }
   ],
   "source": [
    "get_df_with_filled_missing_values(save=True)"
   ]
  }
 ],
 "metadata": {
  "kernelspec": {
   "display_name": "Python 3 (ipykernel)",
   "language": "python",
   "name": "python3"
  },
  "language_info": {
   "codemirror_mode": {
    "name": "ipython",
    "version": 3
   },
   "file_extension": ".py",
   "mimetype": "text/x-python",
   "name": "python",
   "nbconvert_exporter": "python",
   "pygments_lexer": "ipython3",
   "version": "3.11.0"
  }
 },
 "nbformat": 4,
 "nbformat_minor": 1
}
