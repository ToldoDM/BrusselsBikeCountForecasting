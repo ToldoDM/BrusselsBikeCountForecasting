{
 "cells": [
  {
   "cell_type": "markdown",
   "id": "a258ac98",
   "metadata": {},
   "source": [
    "# Stream Processing\n",
    "## Goal\n",
    "The goal of the producer is to download all historical measurements between 2018-12-06 and 2023-03-31, and then send batches of measurements in regular time intervals.\n",
    "Specifically, every $∆$ seconds, the producer sends a batch of measurements corresponding to all timestamps within a time period $Π$.\n",
    "For example, if $Π$ = 30 days, and ∆ = 5 seconds, the producer will send one month’s worth of data for each sensor every 5 seconds. The producer should be parameterizable by $∆$ and $Π$."
   ]
  },
  {
   "cell_type": "markdown",
   "id": "bd57e7f7",
   "metadata": {},
   "source": [
    "## Common imports and Environment variables"
   ]
  },
  {
   "cell_type": "code",
   "execution_count": 1,
   "id": "89f8b2ff",
   "metadata": {},
   "outputs": [],
   "source": [
    "import time\n",
    "import numpy as np\n",
    "import socket\n",
    "import os\n",
    "from datetime import datetime, timedelta\n",
    "from pyspark.sql import SparkSession\n",
    "from pyspark.sql.functions import col, first\n",
    "import sys\n",
    "\n",
    "os.environ['PYSPARK_SUBMIT_ARGS'] = '--conf spark.ui.port=4040 ' + \\\n",
    "                                    '--conf spark.driver.memory=1g  pyspark-shell '\n",
    "np.set_printoptions(threshold=sys.maxsize)"
   ]
  },
  {
   "cell_type": "markdown",
   "id": "041d4377",
   "metadata": {},
   "source": [
    "## Parameters\n",
    "In this section we will define the value of $∆$ and $Π$.\n",
    "After multiple attempts, since the computation of the consumer takes around 2 minutes, we have decided to push data every 2 minutes. So the consumer time to compute."
   ]
  },
  {
   "cell_type": "code",
   "execution_count": 2,
   "id": "29adb8b7",
   "metadata": {},
   "outputs": [],
   "source": [
    "delta = 120  # seconds\n",
    "pi = 30  # days"
   ]
  },
  {
   "cell_type": "markdown",
   "id": "5163a801",
   "metadata": {},
   "source": [
    "## Spark session creation"
   ]
  },
  {
   "cell_type": "code",
   "execution_count": 3,
   "id": "26197bff",
   "metadata": {
    "scrolled": true
   },
   "outputs": [
    {
     "name": "stdout",
     "output_type": "stream",
     "text": [
      "23/05/15 21:58:57 WARN Utils: Your hostname, pop-os resolves to a loopback address: 127.0.1.1; using 192.168.129.3 instead (on interface enp38s0)\n",
      "23/05/15 21:58:57 WARN Utils: Set SPARK_LOCAL_IP if you need to bind to another address\n"
     ]
    },
    {
     "name": "stderr",
     "output_type": "stream",
     "text": [
      "Setting default log level to \"WARN\".\n",
      "To adjust logging level use sc.setLogLevel(newLevel). For SparkR, use setLogLevel(newLevel).\n"
     ]
    },
    {
     "name": "stdout",
     "output_type": "stream",
     "text": [
      "23/05/15 21:58:57 WARN NativeCodeLoader: Unable to load native-hadoop library for your platform... using builtin-java classes where applicable\n"
     ]
    }
   ],
   "source": [
    "spark = SparkSession.builder.master(\"local[*]\").appName(\"stream_processing\").getOrCreate()\n",
    "\n",
    "# Get Spark context\n",
    "sc = spark.sparkContext\n",
    "sc.setLogLevel(\"ERROR\")"
   ]
  },
  {
   "cell_type": "markdown",
   "id": "4a96ae38",
   "metadata": {},
   "source": [
    "## Data read\n",
    "The file `data.csv` contains the data pre-processed of Part 1. In case you don't have this file you can run the notebook `retrieve_preprocess_data`.\n",
    "The variable `df` is the dataframe with the content of this file."
   ]
  },
  {
   "cell_type": "code",
   "execution_count": 4,
   "id": "21db2f87",
   "metadata": {},
   "outputs": [
    {
     "name": "stdout",
     "output_type": "stream",
     "text": [
      "+---+----------+--------+-------+-----+-------------+\n",
      "|_c0|      Date|Time gap| Sensor|Count|Average speed|\n",
      "+---+----------+--------+-------+-----+-------------+\n",
      "|  0|2018-12-06|       1|  CAT17|  0.0|         -1.0|\n",
      "|  1|2018-12-06|       1|CB02411|  0.0|         -1.0|\n",
      "|  2|2018-12-06|       1| CB1101|  0.0|         -1.0|\n",
      "|  3|2018-12-06|       1| CB1142|  0.0|         -1.0|\n",
      "|  4|2018-12-06|       1| CB1143|  0.0|         -1.0|\n",
      "|  5|2018-12-06|       1| CB1599|  0.0|         -1.0|\n",
      "|  6|2018-12-06|       1| CB1699|  0.0|         -1.0|\n",
      "|  7|2018-12-06|       1| CB2105|  0.0|         -1.0|\n",
      "|  8|2018-12-06|       1| CEE016|  0.0|         -1.0|\n",
      "|  9|2018-12-06|       1| CEK049|  0.0|         -1.0|\n",
      "| 10|2018-12-06|       1|  CEK18|  0.0|         -1.0|\n",
      "| 11|2018-12-06|       1|  CEK31|  0.0|         -1.0|\n",
      "| 12|2018-12-06|       1| CEV011|  0.0|         -1.0|\n",
      "| 13|2018-12-06|       1| CJE181|  0.0|         -1.0|\n",
      "| 14|2018-12-06|       1|  CJM90|  0.0|         -1.0|\n",
      "| 15|2018-12-06|       1| CLW239|  0.0|         -1.0|\n",
      "| 16|2018-12-06|       1| COM205|  0.0|         -1.0|\n",
      "| 17|2018-12-06|       1| CVT387|  0.0|         -1.0|\n",
      "| 18|2018-12-06|       2|  CAT17|  0.0|         -1.0|\n",
      "| 19|2018-12-06|       2|CB02411|  0.0|         -1.0|\n",
      "+---+----------+--------+-------+-----+-------------+\n",
      "only showing top 20 rows\n",
      "\n"
     ]
    }
   ],
   "source": [
    "df = spark.read.option(\"header\", True).csv(\"data.csv\")\n",
    "df.show()"
   ]
  },
  {
   "cell_type": "markdown",
   "id": "80178265",
   "metadata": {},
   "source": [
    "## Socket creation\n",
    "We are going to open a connection to the port `9999` and wait for a consumer to attach."
   ]
  },
  {
   "cell_type": "code",
   "execution_count": 5,
   "id": "2cdb2497",
   "metadata": {},
   "outputs": [
    {
     "name": "stdout",
     "output_type": "stream",
     "text": [
      "Waiting for a new connection...\n",
      "CONNECTION FROM: ('127.0.0.1', 39770)\n"
     ]
    }
   ],
   "source": [
    "host = 'localhost'\n",
    "port = 9999\n",
    "s = socket.socket(socket.AF_INET, socket.SOCK_STREAM)\n",
    "s.bind((host, port))\n",
    "s.listen(2)\n",
    "print(\"Waiting for a new connection...\")\n",
    "c, addr = s.accept()\n",
    "print(\"CONNECTION FROM:\", str(addr))"
   ]
  },
  {
   "cell_type": "markdown",
   "id": "fc52d150",
   "metadata": {},
   "source": [
    "This cell stops when the `consumer` notebook connects, on $localhost$ with port $9999$."
   ]
  },
  {
   "cell_type": "markdown",
   "id": "1898fc91",
   "metadata": {},
   "source": [
    "## Data streaming\n",
    "Then, we send the data through the socket, with $∆$ interval, containing $Π$ days per batch.\n",
    "We've set a customizable `max_day`, value that halts batch sending once it's reached, and `from_day`, which specifies the starting point.\n",
    "These variables are very useful since not every sensor is active from the beginning, so modifying the `from_day` or `max_day` we can isolate specific time frame and calculate the person coefficient correspondingly."
   ]
  },
  {
   "cell_type": "code",
   "execution_count": null,
   "id": "f962958d",
   "metadata": {},
   "outputs": [
    {
     "name": "stderr",
     "output_type": "stream",
     "text": [
      "                                                                                \r"
     ]
    },
    {
     "name": "stdout",
     "output_type": "stream",
     "text": [
      "[['0','201\n"
     ]
    },
    {
     "name": "stderr",
     "output_type": "stream",
     "text": [
      "                                                                                \r"
     ]
    },
    {
     "name": "stdout",
     "output_type": "stream",
     "text": [
      "[['51840',\n"
     ]
    },
    {
     "name": "stderr",
     "output_type": "stream",
     "text": [
      "\r",
      "[Stage 12:================>                                       (7 + 17) / 24]\r",
      "\r",
      "                                                                                \r"
     ]
    },
    {
     "name": "stdout",
     "output_type": "stream",
     "text": [
      "[['103680'\n"
     ]
    },
    {
     "name": "stderr",
     "output_type": "stream",
     "text": [
      "                                                                                \r"
     ]
    },
    {
     "name": "stdout",
     "output_type": "stream",
     "text": [
      "[['155520'\n"
     ]
    }
   ],
   "source": [
    "max_day = '2023-05-31'\n",
    "from_day = '2018-12-06'\n",
    "date_format = '%Y-%m-%d'\n",
    "\n",
    "start_date = datetime.strptime(from_day, date_format)\n",
    "end_date = datetime.strptime(max_day, date_format)\n",
    "\n",
    "while start_date <= end_date:\n",
    "    # Extract pi days\n",
    "    pi_days = df.filter((col(\"Date\") >= start_date) & (col(\"Date\") < (start_date + timedelta(days=pi)))).orderBy(col(\"Date\"), col(\"Time gap\")).collect()\n",
    "\n",
    "    # Increase the start date\n",
    "    start_date = start_date + timedelta(days=pi)\n",
    "\n",
    "    # Put in an array the data to send\n",
    "    data = np.array(pi_days)\n",
    "    # Serialize array and print message as a string\n",
    "    message = np.array2string(data, separator=',', max_line_width=1000) + '\\n'\n",
    "    print(message[:10])\n",
    "\n",
    "    # Send message to the client\n",
    "    try:\n",
    "        c.send(message.encode())\n",
    "    except socket.error:\n",
    "        print(\"Failed. Waiting for a new connection...\")\n",
    "        # If failed, client is probably disconnected. Wait for another connection\n",
    "        c.close()\n",
    "        c, addr = s.accept()\n",
    "\n",
    "    time.sleep(delta)"
   ]
  },
  {
   "cell_type": "markdown",
   "id": "4cb72c4e",
   "metadata": {},
   "source": [
    "Then we properly close the sockets."
   ]
  },
  {
   "cell_type": "code",
   "execution_count": null,
   "id": "6831aa08",
   "metadata": {},
   "outputs": [],
   "source": [
    "c.close()\n",
    "s.close()"
   ]
  }
 ],
 "metadata": {
  "kernelspec": {
   "display_name": "Python 3 (ipykernel)",
   "language": "python",
   "name": "python3"
  },
  "language_info": {
   "codemirror_mode": {
    "name": "ipython",
    "version": 3
   },
   "file_extension": ".py",
   "mimetype": "text/x-python",
   "name": "python",
   "nbconvert_exporter": "python",
   "pygments_lexer": "ipython3",
   "version": "3.10.4"
  }
 },
 "nbformat": 4,
 "nbformat_minor": 5
}
