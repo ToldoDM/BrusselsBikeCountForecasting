{
 "cells": [
  {
   "cell_type": "markdown",
   "id": "71cc1a7f",
   "metadata": {},
   "source": [
    "# Task 4 Plotting Performance of models"
   ]
  },
  {
   "cell_type": "code",
   "execution_count": 2,
   "id": "c0dd93d4",
   "metadata": {},
   "outputs": [],
   "source": [
    "import pandas as pd\n",
    "import seaborn"
   ]
  },
  {
   "cell_type": "markdown",
   "id": "33032674",
   "metadata": {},
   "source": [
    "## Define performances\n",
    "\n",
    "Due to the impossibility for us to stop the updateStateByKey consumer once no more data have to be consumed. We had to manually stop the data consuming and we took screenshots to reuse here the different values of the models and we write them manually here. We only care for the last values so it is not a problem"
   ]
  },
  {
   "cell_type": "code",
   "execution_count": 17,
   "id": "914da6d0",
   "metadata": {},
   "outputs": [
    {
     "data": {
      "text/html": [
       "<div>\n",
       "<style scoped>\n",
       "    .dataframe tbody tr th:only-of-type {\n",
       "        vertical-align: middle;\n",
       "    }\n",
       "\n",
       "    .dataframe tbody tr th {\n",
       "        vertical-align: top;\n",
       "    }\n",
       "\n",
       "    .dataframe thead th {\n",
       "        text-align: right;\n",
       "    }\n",
       "</style>\n",
       "<table border=\"1\" class=\"dataframe\">\n",
       "  <thead>\n",
       "    <tr style=\"text-align: right;\">\n",
       "      <th>Sensor</th>\n",
       "      <th>CAT17</th>\n",
       "      <th>CB02411</th>\n",
       "      <th>CB1101</th>\n",
       "      <th>CB1142</th>\n",
       "      <th>CB1143</th>\n",
       "      <th>CB1599</th>\n",
       "      <th>CB1699</th>\n",
       "      <th>CB2105</th>\n",
       "      <th>CEE016</th>\n",
       "      <th>CEK049</th>\n",
       "      <th>CEK18</th>\n",
       "      <th>CEK31</th>\n",
       "      <th>CEV011</th>\n",
       "      <th>CJE181</th>\n",
       "      <th>CJM90</th>\n",
       "      <th>CLW239</th>\n",
       "      <th>COM205</th>\n",
       "      <th>CVT387</th>\n",
       "    </tr>\n",
       "    <tr>\n",
       "      <th>model</th>\n",
       "      <th></th>\n",
       "      <th></th>\n",
       "      <th></th>\n",
       "      <th></th>\n",
       "      <th></th>\n",
       "      <th></th>\n",
       "      <th></th>\n",
       "      <th></th>\n",
       "      <th></th>\n",
       "      <th></th>\n",
       "      <th></th>\n",
       "      <th></th>\n",
       "      <th></th>\n",
       "      <th></th>\n",
       "      <th></th>\n",
       "      <th></th>\n",
       "      <th></th>\n",
       "      <th></th>\n",
       "    </tr>\n",
       "  </thead>\n",
       "  <tbody>\n",
       "    <tr>\n",
       "      <th>avg_2</th>\n",
       "      <td>60.99</td>\n",
       "      <td>128.76</td>\n",
       "      <td>58.12</td>\n",
       "      <td>289.82</td>\n",
       "      <td>111.62</td>\n",
       "      <td>21.52</td>\n",
       "      <td>19.25</td>\n",
       "      <td>64.13</td>\n",
       "      <td>119.75</td>\n",
       "      <td>74.42</td>\n",
       "      <td>100.79</td>\n",
       "      <td>104.43</td>\n",
       "      <td>22.08</td>\n",
       "      <td>7.55</td>\n",
       "      <td>243.67</td>\n",
       "      <td>17.99</td>\n",
       "      <td>38.72</td>\n",
       "      <td>19.40</td>\n",
       "    </tr>\n",
       "    <tr>\n",
       "      <th>avg_3</th>\n",
       "      <td>72.57</td>\n",
       "      <td>164.95</td>\n",
       "      <td>79.49</td>\n",
       "      <td>411.02</td>\n",
       "      <td>144.19</td>\n",
       "      <td>23.95</td>\n",
       "      <td>19.65</td>\n",
       "      <td>66.40</td>\n",
       "      <td>119.66</td>\n",
       "      <td>90.78</td>\n",
       "      <td>141.25</td>\n",
       "      <td>143.74</td>\n",
       "      <td>26.20</td>\n",
       "      <td>7.32</td>\n",
       "      <td>319.82</td>\n",
       "      <td>19.05</td>\n",
       "      <td>40.74</td>\n",
       "      <td>20.29</td>\n",
       "    </tr>\n",
       "    <tr>\n",
       "      <th>avg_4</th>\n",
       "      <td>86.92</td>\n",
       "      <td>209.27</td>\n",
       "      <td>102.11</td>\n",
       "      <td>533.86</td>\n",
       "      <td>183.34</td>\n",
       "      <td>26.95</td>\n",
       "      <td>21.07</td>\n",
       "      <td>71.41</td>\n",
       "      <td>122.43</td>\n",
       "      <td>110.14</td>\n",
       "      <td>184.01</td>\n",
       "      <td>187.19</td>\n",
       "      <td>30.73</td>\n",
       "      <td>7.40</td>\n",
       "      <td>405.09</td>\n",
       "      <td>20.79</td>\n",
       "      <td>45.00</td>\n",
       "      <td>21.83</td>\n",
       "    </tr>\n",
       "    <tr>\n",
       "      <th>persistance</th>\n",
       "      <td>60.18</td>\n",
       "      <td>114.21</td>\n",
       "      <td>44.62</td>\n",
       "      <td>194.58</td>\n",
       "      <td>97.18</td>\n",
       "      <td>22.46</td>\n",
       "      <td>21.95</td>\n",
       "      <td>73.72</td>\n",
       "      <td>127.05</td>\n",
       "      <td>72.42</td>\n",
       "      <td>71.01</td>\n",
       "      <td>80.96</td>\n",
       "      <td>21.06</td>\n",
       "      <td>9.47</td>\n",
       "      <td>198.93</td>\n",
       "      <td>20.20</td>\n",
       "      <td>44.24</td>\n",
       "      <td>21.51</td>\n",
       "    </tr>\n",
       "  </tbody>\n",
       "</table>\n",
       "</div>"
      ],
      "text/plain": [
       "Sensor       CAT17  CB02411  CB1101  CB1142  CB1143  CB1599  CB1699  CB2105  \\\n",
       "model                                                                         \n",
       "avg_2        60.99   128.76   58.12  289.82  111.62   21.52   19.25   64.13   \n",
       "avg_3        72.57   164.95   79.49  411.02  144.19   23.95   19.65   66.40   \n",
       "avg_4        86.92   209.27  102.11  533.86  183.34   26.95   21.07   71.41   \n",
       "persistance  60.18   114.21   44.62  194.58   97.18   22.46   21.95   73.72   \n",
       "\n",
       "Sensor       CEE016  CEK049   CEK18   CEK31  CEV011  CJE181   CJM90  CLW239  \\\n",
       "model                                                                         \n",
       "avg_2        119.75   74.42  100.79  104.43   22.08    7.55  243.67   17.99   \n",
       "avg_3        119.66   90.78  141.25  143.74   26.20    7.32  319.82   19.05   \n",
       "avg_4        122.43  110.14  184.01  187.19   30.73    7.40  405.09   20.79   \n",
       "persistance  127.05   72.42   71.01   80.96   21.06    9.47  198.93   20.20   \n",
       "\n",
       "Sensor       COM205  CVT387  \n",
       "model                        \n",
       "avg_2         38.72   19.40  \n",
       "avg_3         40.74   20.29  \n",
       "avg_4         45.00   21.83  \n",
       "persistance   44.24   21.51  "
      ]
     },
     "execution_count": 17,
     "metadata": {},
     "output_type": "execute_result"
    }
   ],
   "source": [
    "persistance = pd.read_csv(\"streaming/Task1/persistance/part-00000\", names=[\"Sensor\", \"MSE\", \"Error\", \"nb_pred\"])\n",
    "persistance[\"model\"] = \"persistance\"\n",
    "avg_2 = pd.read_csv(\"streaming/Task1/avg_2/part-00000\", names=[\"Sensor\", \"MSE\", \"Error\", \"nb_pred\"])\n",
    "avg_2[\"model\"] = \"avg_2\"\n",
    "avg_3 = pd.read_csv(\"streaming/Task1/avg_3/part-00000\", names=[\"Sensor\", \"MSE\", \"Error\", \"nb_pred\"])\n",
    "avg_3[\"model\"] = \"avg_3\"\n",
    "avg_4 = pd.read_csv(\"streaming/Task1/avg_4/part-00000\", names=[\"Sensor\", \"MSE\", \"Error\", \"nb_pred\"])\n",
    "avg_4[\"model\"] = \"avg_4\"\n",
    "persistant_models = [persistance, avg_2, avg_3, avg_4]\n",
    "persistant_models[0]\n",
    "persistant_models = [x[[\"Sensor\", \"MSE\", \"model\"]] for x in persistant_models]\n",
    "performance_df = pd.concat(persistant_models).pivot(columns=\"Sensor\", index=\"model\", values=\"MSE\")\n",
    "performance_df"
   ]
  },
  {
   "cell_type": "code",
   "execution_count": 76,
   "id": "d7b06db5",
   "metadata": {},
   "outputs": [
    {
     "data": {
      "image/png": "[encoded data removed]",
      "text/plain": [
       "<Figure size 432x288 with 1 Axes>"
      ]
     },
     "metadata": {
      "needs_background": "light"
     },
     "output_type": "display_data"
    }
   ],
   "source": [
    "ax = performance_df.mean(axis=1).round(2).plot.bar(title=\"Barplot mean performance of each Task model over all sensors\")\n",
    "for container in ax.containers:\n",
    "    ax.bar_label(container)"
   ]
  },
  {
   "cell_type": "markdown",
   "id": "2f0bf63d",
   "metadata": {},
   "source": [
    "Let us compute the mean of the rank of the MSE for each models over each sensors"
   ]
  },
  {
   "cell_type": "code",
   "execution_count": 75,
   "id": "fcf85979",
   "metadata": {},
   "outputs": [
    {
     "data": {
      "image/png": "[encoded data removed]",
      "text/plain": [
       "<Figure size 432x288 with 1 Axes>"
      ]
     },
     "metadata": {
      "needs_background": "light"
     },
     "output_type": "display_data"
    }
   ],
   "source": [
    "ax = performance_df.rank().agg([\"mean\", \"std\"],axis=1).round(2).plot.bar(title=\"Mean and STD of the rank of MSE of each models\\nLower rank => lower mse\")\n",
    "for container in ax.containers:\n",
    "    ax.bar_label(container)"
   ]
  },
  {
   "cell_type": "markdown",
   "id": "115be61d",
   "metadata": {},
   "source": [
    "It is apparent that the **avg_2** model has the lowest mean rank as well as the lowest std rank. As such we can consider it to outperform the other models\n",
    "\n",
    "However we can see in the following plot that it happens sometimes that persistance is the best models compared to avg_2"
   ]
  },
  {
   "cell_type": "code",
   "execution_count": 35,
   "id": "a0c8deb8",
   "metadata": {},
   "outputs": [
    {
     "data": {
      "text/plain": [
       "<AxesSubplot:title={'center':'Barplot performance of each task model for each sensor'}, xlabel='Sensor'>"
      ]
     },
     "execution_count": 35,
     "metadata": {},
     "output_type": "execute_result"
    },
    {
     "data": {
      "image/png": "[encoded data removed]",
      "text/plain": [
       "<Figure size 432x288 with 1 Axes>"
      ]
     },
     "metadata": {
      "needs_background": "light"
     },
     "output_type": "display_data"
    }
   ],
   "source": [
    "performance_df.T.plot.bar(title=\"Barplot performance of each task model for each sensor\")"
   ]
  },
  {
   "cell_type": "markdown",
   "id": "5ff4a927",
   "metadata": {},
   "source": [
    "The model **Persistance** and **AVG 2** are the best model so far. \n",
    "From an analysis of the rank, the best model seems to be the avg_2 since it has lowest mean rank as well as the lowest std.\n",
    "\n",
    "It would be interresting to observe the effect of a weighted average model in future works"
   ]
  },
  {
   "cell_type": "markdown",
   "id": "dcdd88d9",
   "metadata": {},
   "source": [
    "## RLS Model"
   ]
  },
  {
   "cell_type": "code",
   "execution_count": 36,
   "id": "ec4120d0",
   "metadata": {},
   "outputs": [],
   "source": [
    "prefix = \"streaming/RLS_Vanilla_N_\"\n",
    "data_frame_list = []\n",
    "for i in range(1,5):\n",
    "    data = pd.read_csv(f\"{prefix}{i}/part-00000\", names=[\"Sensor\",\"MSE\", \"Error\", \"Nb_predictions\"])\n",
    "    data[\"N\"] = i\n",
    "    data_frame_list.append(data[[\"Sensor\", \"MSE\", \"N\"]])\n",
    "RLS_models = pd.concat(data_frame_list)"
   ]
  },
  {
   "cell_type": "code",
   "execution_count": 41,
   "id": "4d1abd24",
   "metadata": {},
   "outputs": [
    {
     "data": {
      "text/plain": [
       "<AxesSubplot:xlabel='Sensor', ylabel='MSE'>"
      ]
     },
     "execution_count": 41,
     "metadata": {},
     "output_type": "execute_result"
    },
    {
     "data": {
      "image/png": "[encoded data removed]",
      "text/plain": [
       "<Figure size 432x288 with 1 Axes>"
      ]
     },
     "metadata": {
      "needs_background": "light"
     },
     "output_type": "display_data"
    }
   ],
   "source": [
    "seaborn.barplot(data=RLS_models, x=\"Sensor\", y=\"MSE\", hue=\"N\")"
   ]
  },
  {
   "cell_type": "code",
   "execution_count": 44,
   "id": "fb20c961",
   "metadata": {},
   "outputs": [
    {
     "data": {
      "text/plain": [
       "[Text(0.5, 1.0, 'Boxplot of the MSE of the RLS models depending on N')]"
      ]
     },
     "execution_count": 44,
     "metadata": {},
     "output_type": "execute_result"
    },
    {
     "data": {
      "image/png": "[encoded data removed]",
      "text/plain": [
       "<Figure size 432x288 with 1 Axes>"
      ]
     },
     "metadata": {
      "needs_background": "light"
     },
     "output_type": "display_data"
    }
   ],
   "source": [
    "seaborn.boxplot(data=RLS_models, x=\"N\", y=\"MSE\").set(title=\"Boxplot of the MSE of the RLS models depending on N\")"
   ]
  },
  {
   "cell_type": "code",
   "execution_count": 73,
   "id": "c6519484",
   "metadata": {},
   "outputs": [
    {
     "data": {
      "image/png": "[encoded data removed]",
      "text/plain": [
       "<Figure size 432x288 with 1 Axes>"
      ]
     },
     "metadata": {
      "needs_background": "light"
     },
     "output_type": "display_data"
    }
   ],
   "source": [
    "ax = RLS_models.pivot(index='N', columns='Sensor', values='MSE').rank().mean(axis=1).round(2).plot.bar(title=\"Bar plot of the mean rank of each RLS modeling depending on N over all sensors\")\n",
    "for container in ax.containers:\n",
    "    ax.bar_label(container)"
   ]
  },
  {
   "cell_type": "markdown",
   "id": "ea4280a4",
   "metadata": {},
   "source": [
    "While the difference does not seem significant, N = 4 is the best performing model\n",
    "We also tried before the a value of nu to 0.9 but it lead too to high error for our processor to execute"
   ]
  },
  {
   "cell_type": "code",
   "execution_count": 61,
   "id": "76b46996",
   "metadata": {},
   "outputs": [],
   "source": [
    "rls_4 = RLS_models.query(\"N == 4\")\n",
    "perf_avg_2 = pd.concat(persistant_models).query(\"model == 'avg_2'\").drop(\"model\", axis=1).rename(columns={\"MSE\": \"avg_2\"})\n",
    "performances_comp_rls_vs_avg = pd.merge(rls_4, perf_avg_2, on=\"Sensor\").rename(columns={\"MSE\": \"RLS_4\"}).set_index(\"Sensor\").drop([\"N\"], axis=1)"
   ]
  },
  {
   "cell_type": "code",
   "execution_count": 71,
   "id": "ea091a2b",
   "metadata": {},
   "outputs": [
    {
     "data": {
      "image/png": "[encoded data removed]",
      "text/plain": [
       "<Figure size 432x288 with 1 Axes>"
      ]
     },
     "metadata": {
      "needs_background": "light"
     },
     "output_type": "display_data"
    }
   ],
   "source": [
    "ax = performances_comp_rls_vs_avg.rank(axis=1).agg([\"mean\", \"std\"]).T.round(2).plot.bar(title=\"Mean and STD MSE rank of RLS_4 and avg_2\")\n",
    "for container in ax.containers:\n",
    "    ax.bar_label(container)"
   ]
  },
  {
   "cell_type": "markdown",
   "id": "cde891ab",
   "metadata": {},
   "source": [
    "We observe a significant difference between the performance of RLS_4 anf avg_2 where RLS_4 is clearly superior with a mean rank a bit higher than one"
   ]
  },
  {
   "cell_type": "code",
   "execution_count": 77,
   "id": "0c600566",
   "metadata": {},
   "outputs": [
    {
     "data": {
      "text/plain": [
       "<AxesSubplot:title={'center':'Individual MSE for each Sensor between best avg_2 and RLS_4'}, xlabel='Sensor'>"
      ]
     },
     "execution_count": 77,
     "metadata": {},
     "output_type": "execute_result"
    },
    {
     "data": {
      "image/png": "[encoded data removed]",
      "text/plain": [
       "<Figure size 432x288 with 1 Axes>"
      ]
     },
     "metadata": {
      "needs_background": "light"
     },
     "output_type": "display_data"
    }
   ],
   "source": [
    "performances_comp_rls_vs_avg.plot.bar(title=\"Individual MSE for each Sensor between best avg_2 and RLS_4\")"
   ]
  },
  {
   "cell_type": "markdown",
   "id": "868a0509",
   "metadata": {},
   "source": [
    "Both the rank comparison as well as the bar plot of performances shows the superiority of the RLS_4 model over the avg_2 model."
   ]
  },
  {
   "cell_type": "markdown",
   "id": "5034633d",
   "metadata": {},
   "source": [
    "## Time Features RLS\n",
    "In this section we test whether or not the addition of time related features improves the prediction of the RLS\n",
    "We will do so by comparing the Time Related Features RLS versus the RLS - 4"
   ]
  },
  {
   "cell_type": "code",
   "execution_count": 67,
   "id": "9bb6081c",
   "metadata": {},
   "outputs": [
    {
     "data": {
      "text/html": [
       "<div>\n",
       "<style scoped>\n",
       "    .dataframe tbody tr th:only-of-type {\n",
       "        vertical-align: middle;\n",
       "    }\n",
       "\n",
       "    .dataframe tbody tr th {\n",
       "        vertical-align: top;\n",
       "    }\n",
       "\n",
       "    .dataframe thead th {\n",
       "        text-align: right;\n",
       "    }\n",
       "</style>\n",
       "<table border=\"1\" class=\"dataframe\">\n",
       "  <thead>\n",
       "    <tr style=\"text-align: right;\">\n",
       "      <th></th>\n",
       "      <th>Sensor</th>\n",
       "      <th>MSE</th>\n",
       "      <th>Error</th>\n",
       "      <th>Nb_predictions</th>\n",
       "    </tr>\n",
       "  </thead>\n",
       "  <tbody>\n",
       "    <tr>\n",
       "      <th>0</th>\n",
       "      <td>CEE016</td>\n",
       "      <td>189.08</td>\n",
       "      <td>5.663393e+06</td>\n",
       "      <td>29952</td>\n",
       "    </tr>\n",
       "    <tr>\n",
       "      <th>1</th>\n",
       "      <td>CB02411</td>\n",
       "      <td>100.58</td>\n",
       "      <td>3.012459e+06</td>\n",
       "      <td>29951</td>\n",
       "    </tr>\n",
       "    <tr>\n",
       "      <th>2</th>\n",
       "      <td>CEK049</td>\n",
       "      <td>62.90</td>\n",
       "      <td>1.884092e+06</td>\n",
       "      <td>29952</td>\n",
       "    </tr>\n",
       "    <tr>\n",
       "      <th>3</th>\n",
       "      <td>CB1699</td>\n",
       "      <td>18.23</td>\n",
       "      <td>5.459177e+05</td>\n",
       "      <td>29952</td>\n",
       "    </tr>\n",
       "    <tr>\n",
       "      <th>4</th>\n",
       "      <td>CJE181</td>\n",
       "      <td>6.62</td>\n",
       "      <td>1.981790e+05</td>\n",
       "      <td>29952</td>\n",
       "    </tr>\n",
       "    <tr>\n",
       "      <th>5</th>\n",
       "      <td>CVT387</td>\n",
       "      <td>18.95</td>\n",
       "      <td>5.677244e+05</td>\n",
       "      <td>29952</td>\n",
       "    </tr>\n",
       "    <tr>\n",
       "      <th>6</th>\n",
       "      <td>CEK31</td>\n",
       "      <td>70.63</td>\n",
       "      <td>2.115499e+06</td>\n",
       "      <td>29952</td>\n",
       "    </tr>\n",
       "    <tr>\n",
       "      <th>7</th>\n",
       "      <td>CB2105</td>\n",
       "      <td>61.97</td>\n",
       "      <td>1.856134e+06</td>\n",
       "      <td>29952</td>\n",
       "    </tr>\n",
       "    <tr>\n",
       "      <th>8</th>\n",
       "      <td>CJM90</td>\n",
       "      <td>184.85</td>\n",
       "      <td>5.536615e+06</td>\n",
       "      <td>29952</td>\n",
       "    </tr>\n",
       "    <tr>\n",
       "      <th>9</th>\n",
       "      <td>CAT17</td>\n",
       "      <td>50.81</td>\n",
       "      <td>1.521879e+06</td>\n",
       "      <td>29951</td>\n",
       "    </tr>\n",
       "    <tr>\n",
       "      <th>10</th>\n",
       "      <td>CB1599</td>\n",
       "      <td>18.63</td>\n",
       "      <td>5.580924e+05</td>\n",
       "      <td>29952</td>\n",
       "    </tr>\n",
       "    <tr>\n",
       "      <th>11</th>\n",
       "      <td>CB1143</td>\n",
       "      <td>88.05</td>\n",
       "      <td>2.637361e+06</td>\n",
       "      <td>29952</td>\n",
       "    </tr>\n",
       "    <tr>\n",
       "      <th>12</th>\n",
       "      <td>CLW239</td>\n",
       "      <td>15.85</td>\n",
       "      <td>4.746999e+05</td>\n",
       "      <td>29952</td>\n",
       "    </tr>\n",
       "    <tr>\n",
       "      <th>13</th>\n",
       "      <td>CB1101</td>\n",
       "      <td>45.97</td>\n",
       "      <td>1.376904e+06</td>\n",
       "      <td>29952</td>\n",
       "    </tr>\n",
       "    <tr>\n",
       "      <th>14</th>\n",
       "      <td>CEK18</td>\n",
       "      <td>65.35</td>\n",
       "      <td>1.957343e+06</td>\n",
       "      <td>29952</td>\n",
       "    </tr>\n",
       "    <tr>\n",
       "      <th>15</th>\n",
       "      <td>CB1142</td>\n",
       "      <td>172.13</td>\n",
       "      <td>5.155557e+06</td>\n",
       "      <td>29952</td>\n",
       "    </tr>\n",
       "    <tr>\n",
       "      <th>16</th>\n",
       "      <td>COM205</td>\n",
       "      <td>35.22</td>\n",
       "      <td>1.054971e+06</td>\n",
       "      <td>29952</td>\n",
       "    </tr>\n",
       "    <tr>\n",
       "      <th>17</th>\n",
       "      <td>CEV011</td>\n",
       "      <td>18.61</td>\n",
       "      <td>5.573210e+05</td>\n",
       "      <td>29952</td>\n",
       "    </tr>\n",
       "  </tbody>\n",
       "</table>\n",
       "</div>"
      ],
      "text/plain": [
       "     Sensor     MSE         Error  Nb_predictions\n",
       "0    CEE016  189.08  5.663393e+06           29952\n",
       "1   CB02411  100.58  3.012459e+06           29951\n",
       "2    CEK049   62.90  1.884092e+06           29952\n",
       "3    CB1699   18.23  5.459177e+05           29952\n",
       "4    CJE181    6.62  1.981790e+05           29952\n",
       "5    CVT387   18.95  5.677244e+05           29952\n",
       "6     CEK31   70.63  2.115499e+06           29952\n",
       "7    CB2105   61.97  1.856134e+06           29952\n",
       "8     CJM90  184.85  5.536615e+06           29952\n",
       "9     CAT17   50.81  1.521879e+06           29951\n",
       "10   CB1599   18.63  5.580924e+05           29952\n",
       "11   CB1143   88.05  2.637361e+06           29952\n",
       "12   CLW239   15.85  4.746999e+05           29952\n",
       "13   CB1101   45.97  1.376904e+06           29952\n",
       "14    CEK18   65.35  1.957343e+06           29952\n",
       "15   CB1142  172.13  5.155557e+06           29952\n",
       "16   COM205   35.22  1.054971e+06           29952\n",
       "17   CEV011   18.61  5.573210e+05           29952"
      ]
     },
     "execution_count": 67,
     "metadata": {},
     "output_type": "execute_result"
    }
   ],
   "source": [
    "time_feature_rls = pd.read_csv(f\"streaming/RLS_TIME_4/part-00000\", names=[\"Sensor\",\"MSE\", \"Error\", \"Nb_predictions\"])\n",
    "time_feature_rls"
   ]
  },
  {
   "cell_type": "code",
   "execution_count": 69,
   "id": "cbfb9feb",
   "metadata": {},
   "outputs": [
    {
     "data": {
      "image/png": "[encoded data removed]",
      "text/plain": [
       "<Figure size 432x288 with 1 Axes>"
      ]
     },
     "metadata": {
      "needs_background": "light"
     },
     "output_type": "display_data"
    }
   ],
   "source": [
    "merged_prediction = pd.concat([performances_comp_rls_vs_avg, time_feature_rls.set_index(\"Sensor\").drop([\"Error\", \"Nb_predictions\"], axis=1)[\"MSE\"].rename(\"time_rls\") ], axis=1)\n",
    "ax = merged_prediction.dropna().rank(axis=1).agg([\"mean\", \"std\"]).round(2).T.plot.bar(title=\"Mean and STD MSE rank of RLS_4, avg_2 and Time Related Features RLS_4\")\n",
    "for container in ax.containers:\n",
    "    ax.bar_label(container)"
   ]
  },
  {
   "cell_type": "markdown",
   "id": "008f1efc",
   "metadata": {},
   "source": [
    "**time_rls** seems very slightly better but its std is higher than RLS_4 and the differance is not significant, however they clearly outperform avg_2$\n",
    "\n",
    "We cannot conclude significant improvement of the Time Related RLS however this could be due to numerous factor such as the choice of hyperparameters such as nu, our preprocessing techniques, among other things"
   ]
  }
 ],
 "metadata": {
  "kernelspec": {
   "display_name": "Python 3 (ipykernel)",
   "language": "python",
   "name": "python3"
  },
  "language_info": {
   "codemirror_mode": {
    "name": "ipython",
    "version": 3
   },
   "file_extension": ".py",
   "mimetype": "text/x-python",
   "name": "python",
   "nbconvert_exporter": "python",
   "pygments_lexer": "ipython3",
   "version": "3.10.4"
  }
 },
 "nbformat": 4,
 "nbformat_minor": 5
}
