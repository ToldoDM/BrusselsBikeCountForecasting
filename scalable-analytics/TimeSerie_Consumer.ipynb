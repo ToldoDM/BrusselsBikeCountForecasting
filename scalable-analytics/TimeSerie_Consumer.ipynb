{
 "cells": [
  {
   "cell_type": "markdown",
   "id": "373bf3e6",
   "metadata": {},
   "source": [
    "# Bike counter forecasting - Data Stream Consumer \n",
    "\n",
    "## Goal\n",
    "The goal of this notebook is to perform Task 1 and 2 : that is to apply the persistence and average models on the stream produced by the Producer.\n",
    "\n",
    "This processing will be done separetaly for each models :\n",
    "- **persistance**\n",
    "- **average n=2**\n",
    "- **average n=3**\n",
    "- **average n=4**\n",
    "\n",
    "Also for a some model, say average n=2, we will maintain 1 state/model per Sensor. This will be enabled by the *updateStateByKey()* function.\n",
    "Each state will contain :\n",
    "1. the key : the name of the Sensor\n",
    "2. the previous values in an array\n",
    "3. the number of predictions\n",
    "4. the sum of the squarred error (SSE)\n",
    "5. the number of time we have the same prediction error\n",
    "\n",
    "Performance Results can be seen in **Model_Racing_Plots.ipynb**\n",
    "\n"
   ]
  },
  {
   "cell_type": "markdown",
   "id": "aed3db6c",
   "metadata": {},
   "source": [
    "## Common imports"
   ]
  },
  {
   "cell_type": "code",
   "execution_count": 1,
   "id": "f144647e",
   "metadata": {},
   "outputs": [],
   "source": [
    "import pandas as pd\n",
    "import numpy as np\n",
    "import ast\n",
    "from pyspark import Row\n",
    "from pyspark.sql import SparkSession\n",
    "from pyspark.streaming import StreamingContext\n",
    "from pyspark.sql.functions import *\n",
    "from pyspark.sql.window import Window\n",
    "from itertools import combinations\n",
    "from pyspark.sql.types import StructField, IntegerType, FloatType\n",
    "import os\n",
    "import math \n",
    "from pyspark.ml.evaluation import RegressionEvaluator\n",
    "\n",
    "os.environ['PYSPARK_SUBMIT_ARGS'] = '--conf spark.ui.port=4040 ' + \\\n",
    "                                    '--conf spark.driver.memory=1g  pyspark-shell '\n",
    "streaming_path = \"streaming\""
   ]
  },
  {
   "cell_type": "markdown",
   "id": "5cf9a490",
   "metadata": {},
   "source": [
    "## Spark session construction"
   ]
  },
  {
   "cell_type": "code",
   "execution_count": 2,
   "id": "ddd562c4",
   "metadata": {},
   "outputs": [],
   "source": [
    "#This function creates a connection to a network socket\n",
    "#You may change the batch interval\n",
    "#The function returns the Spark context, Spark streaming context, and DStream object\n",
    "SOCKET = 2222\n",
    "def getDStream(spark, batch_interval=10):\n",
    "\n",
    "    # Get Spark context\n",
    "    sc = spark.sparkContext\n",
    "    sc.setLogLevel(\"ERROR\")\n",
    "\n",
    "    #Create streaming context, with required batch interval\n",
    "    ssc = StreamingContext(sc, batch_interval)\n",
    "\n",
    "    #Checkpointing needed for stateful transforms\n",
    "    ssc.checkpoint(\"checkpoint\")\n",
    "    \n",
    "    # Create a DStream that represents streaming data from a network socket\n",
    "    # See https://spark.apache.org/docs/latest/streaming-programming-guide.html#a-quick-example\n",
    "    dstream = ssc.socketTextStream(\"localhost\", SOCKET)\n",
    "    \n",
    "    return [sc,ssc,dstream]"
   ]
  },
  {
   "cell_type": "code",
   "execution_count": 3,
   "id": "a5e59717",
   "metadata": {},
   "outputs": [
    {
     "name": "stdout",
     "output_type": "stream",
     "text": [
      "23/05/15 21:02:15 WARN Utils: Your hostname, pop-os resolves to a loopback address: 127.0.1.1; using 192.168.129.3 instead (on interface enp38s0)\n",
      "23/05/15 21:02:15 WARN Utils: Set SPARK_LOCAL_IP if you need to bind to another address\n"
     ]
    },
    {
     "name": "stderr",
     "output_type": "stream",
     "text": [
      "Setting default log level to \"WARN\".\n",
      "To adjust logging level use sc.setLogLevel(newLevel). For SparkR, use setLogLevel(newLevel).\n"
     ]
    },
    {
     "name": "stdout",
     "output_type": "stream",
     "text": [
      "23/05/15 21:02:15 WARN NativeCodeLoader: Unable to load native-hadoop library for your platform... using builtin-java classes where applicable\n",
      "23/05/15 21:02:15 WARN Utils: Service 'SparkUI' could not bind on port 4040. Attempting port 4041.\n"
     ]
    }
   ],
   "source": [
    "spark = SparkSession \\\n",
    "    .builder \\\n",
    "    .master(\"local[*]\") \\\n",
    "    .appName(\"bike_forecasting\") \\\n",
    "    .getOrCreate()\n",
    "sc = spark.sparkContext"
   ]
  },
  {
   "cell_type": "markdown",
   "id": "0ded581f",
   "metadata": {},
   "source": [
    "## Stateful Processing of persistance model"
   ]
  },
  {
   "cell_type": "code",
   "execution_count": 4,
   "id": "65a2ca55",
   "metadata": {},
   "outputs": [
    {
     "name": "stderr",
     "output_type": "stream",
     "text": [
      "                                                                                \r"
     ]
    },
    {
     "data": {
      "text/plain": [
       "array([['CB02411'],\n",
       "       ['CEE016'],\n",
       "       ['CJM90'],\n",
       "       ['CEK049'],\n",
       "       ['CB1101'],\n",
       "       ['CB2105'],\n",
       "       ['CB1142'],\n",
       "       ['CLW239'],\n",
       "       ['CB1699'],\n",
       "       ['CB1143'],\n",
       "       ['CJE181'],\n",
       "       ['CB1599'],\n",
       "       ['CEV011'],\n",
       "       ['CVT387'],\n",
       "       ['CEK18'],\n",
       "       ['COM205'],\n",
       "       ['CEK31'],\n",
       "       ['CAT17']], dtype=object)"
      ]
     },
     "execution_count": 4,
     "metadata": {},
     "output_type": "execute_result"
    }
   ],
   "source": [
    "#Retrieve first the different sensors to define the different keys of the states\n",
    "df = spark.read.option(\"header\", True).csv(\"data.csv\")\n",
    "different_sensors = df.filter(\"Date =='2022-01-01'\").filter(col(\"Time Gap\") == 1).select(col(\"Sensor\")).distinct().toPandas().values\n",
    "different_sensors"
   ]
  },
  {
   "cell_type": "code",
   "execution_count": 6,
   "id": "1563a37b",
   "metadata": {},
   "outputs": [],
   "source": []
  },
  {
   "cell_type": "code",
   "execution_count": 5,
   "id": "59c784f4",
   "metadata": {},
   "outputs": [],
   "source": [
    "def persistance_prediction(previous_values):\n",
    "    \"\"\"\n",
    "    Perform the persistence model i.e. predict the new value to be the same of the preceeding value.\n",
    "    @param previous_values : an np.array with size 1 containing the previous value \n",
    "    \"\"\"\n",
    "    return previous_values[0]\n",
    "def average_model(previous_values):\n",
    "    \"\"\"\n",
    "    Perform the average model i.e. predict the new value to be the average of the previous values seen.\n",
    "    @param previous_values : an np.array with size n.\n",
    "    Note that for each N, the size of previous_values will be different.\n",
    "    \"\"\"\n",
    "    return previous_values.mean()\n",
    "def set_state_from_x(x, previous_value_size, prediction_function):\n",
    "    \"\"\"\n",
    "    Define the state value (key not included) from x (the row received from producer).\n",
    "    @param previous_value_size : the number of previous value we want to keep track of. (Equal to the n parameter in the statement)\n",
    "    @param prediction_function : the prediction function, either persistance_prediction or average_model\n",
    "    \"\"\"\n",
    "    previous_values = np.zeros(previous_value_size)\n",
    "    nb_predictions = 0\n",
    "    SSE = 0\n",
    "    last_prediction = 0\n",
    "    nb_same_SSE = 0\n",
    "    return (x[0],last_prediction, previous_values,nb_predictions,SSE, prediction_function, nb_same_SSE)\n",
    "def updateFunction(newValues, state):\n",
    "    \"\"\"\n",
    "    Update the state of the corresponding sensor with newValues.\n",
    "    Perform the prediction and updtate the metrics\n",
    "    @param newValues : the new values from the stream : one row of the corresponding sensor\n",
    "    @param state : the current state to be updated\n",
    "    \"\"\"\n",
    "    nb_values = len(newValues)\n",
    "    if nb_values > 0:\n",
    "        for line in newValues:            \n",
    "            key, last_prediction, previous_values, nb_predictions, SSE, prediction_function, nb_same_SEE = state \n",
    "            true_value = line[1][4]\n",
    "            #use the prediction function defined by the state\n",
    "            prediction = prediction_function(previous_values) \n",
    "            SSE += math.pow(float(true_value)-float(prediction), 2)\n",
    "            nb_predictions +=1\n",
    "            #replace the oldest value seen by the true value, works thanks to modulo\n",
    "            previous_values[nb_predictions%len(previous_values)] = true_value\n",
    "            date = line[1][1]\n",
    "           \n",
    "            state = (key, prediction, previous_values, nb_predictions, SSE, prediction_function,0)\n",
    "    else:\n",
    "        #this block is used to set the state to none if we have 5 time the same SEE (we do not receive new data 5 times in a row)\n",
    "        key, last_prediction, previous_values, nb_predictions, SSE, prediction_function, nb_same_SEE = state \n",
    "        nb_same_SEE +=1\n",
    "        if nb_same_SEE >= 5:\n",
    "            return None\n",
    "        state = (key, last_prediction, previous_values, nb_predictions, SSE, prediction_function, nb_same_SEE)\n",
    "    return state"
   ]
  },
  {
   "cell_type": "markdown",
   "id": "f2a4eed9",
   "metadata": {},
   "source": [
    "## Persistance model computation"
   ]
  },
  {
   "cell_type": "code",
   "execution_count": 6,
   "id": "d14601db",
   "metadata": {},
   "outputs": [],
   "source": [
    "batch_interval = 2\n",
    "[sc,ssc,dstream] = getDStream(spark, batch_interval)\n",
    "initialStateRDD = sc.parallelize([(x[0], set_state_from_x(x, 1, persistance_prediction)) for x in different_sensors]) \n",
    "dataS=dstream.map(ast.literal_eval)\n",
    "\n",
    "\n",
    "dataS=dataS.flatMap(lambda x: [(x[3],(x[3],x))]) #x[3] contains the key (sensor)\n",
    "dataS.pprint()\n",
    "updatedState = dataS.updateStateByKey(updateFunction, initialRDD=initialStateRDD)\n",
    "\n",
    "def save_to_file(rdd):\n",
    "    \"\"\"\n",
    "    Update the state on a file to retrieve data after the is stream completed\n",
    "    \"\"\"\n",
    "    # coalesce the RDD into a single partition\n",
    "    merged_rdd = rdd.coalesce(1)\n",
    "    # save the merged RDD to a text file\n",
    "    if not merged_rdd.isEmpty():\n",
    "        merged_rdd.map(lambda x: f\"{x[0]},{(x[1][4]/(x[1][3] if x[1][3] != 0 else 1)):.2f},{x[1][4]},{x[1][3]}\") \\\n",
    "            .saveAsTextFile(\"streaming/Task1/trash\")\n",
    "\n",
    "\n",
    "updatedState.foreachRDD(lambda x : save_to_file(x))\n"
   ]
  },
  {
   "cell_type": "code",
   "execution_count": 7,
   "id": "1faefb86",
   "metadata": {},
   "outputs": [
    {
     "name": "stderr",
     "output_type": "stream",
     "text": [
      "\r",
      "[Stage 4:>                                                          (0 + 1) / 1]\r"
     ]
    },
    {
     "name": "stdout",
     "output_type": "stream",
     "text": [
      "-------------------------------------------\n",
      "Time: 2023-05-15 21:02:36\n",
      "-------------------------------------------\n",
      "\n"
     ]
    },
    {
     "name": "stderr",
     "output_type": "stream",
     "text": [
      "                                                                                \r"
     ]
    },
    {
     "name": "stdout",
     "output_type": "stream",
     "text": [
      "-------------------------------------------\n",
      "Time: 2023-05-15 21:02:38\n",
      "-------------------------------------------\n",
      "('CAT17', ('CAT17', ['2120256', '2022-04-16', '1', 'CAT17', '1.0', '21.0', '106', '7', '2022', '15', '2022-106', '15', '2022-15']))\n",
      "('CB02411', ('CB02411', ['2120257', '2022-04-16', '1', 'CB02411', '3.0', '22.0', '106', '7', '2022', '15', '2022-106', '15', '2022-15']))\n",
      "('CB1101', ('CB1101', ['2120258', '2022-04-16', '1', 'CB1101', '0.0', '-1.0', '106', '7', '2022', '15', '2022-106', '15', '2022-15']))\n",
      "('CB1142', ('CB1142', ['2120259', '2022-04-16', '1', 'CB1142', '3.0', '21.0', '106', '7', '2022', '15', '2022-106', '15', '2022-15']))\n",
      "('CB1143', ('CB1143', ['2120260', '2022-04-16', '1', 'CB1143', '1.0', '27.0', '106', '7', '2022', '15', '2022-106', '15', '2022-15']))\n",
      "('CB1599', ('CB1599', ['2120261', '2022-04-16', '1', 'CB1599', '1.0', '19.0', '106', '7', '2022', '15', '2022-106', '15', '2022-15']))\n",
      "('CB1699', ('CB1699', ['2120262', '2022-04-16', '1', 'CB1699', '0.0', '-1.0', '106', '7', '2022', '15', '2022-106', '15', '2022-15']))\n",
      "('CB2105', ('CB2105', ['2120263', '2022-04-16', '1', 'CB2105', '7.0', '19.0', '106', '7', '2022', '15', '2022-106', '15', '2022-15']))\n",
      "('CEE016', ('CEE016', ['2120264', '2022-04-16', '1', 'CEE016', '1.0', '19.0', '106', '7', '2022', '15', '2022-106', '15', '2022-15']))\n",
      "('CEK049', ('CEK049', ['2120265', '2022-04-16', '1', 'CEK049', '8.0', '20.0', '106', '7', '2022', '15', '2022-106', '15', '2022-15']))\n",
      "...\n",
      "\n"
     ]
    },
    {
     "name": "stderr",
     "output_type": "stream",
     "text": [
      "                                                                                \r"
     ]
    },
    {
     "name": "stdout",
     "output_type": "stream",
     "text": [
      "-------------------------------------------\n",
      "Time: 2023-05-15 21:02:40\n",
      "-------------------------------------------\n",
      "\n"
     ]
    },
    {
     "name": "stderr",
     "output_type": "stream",
     "text": [
      "                                                                                \r"
     ]
    },
    {
     "name": "stdout",
     "output_type": "stream",
     "text": [
      "-------------------------------------------\n",
      "Time: 2023-05-15 21:02:42\n",
      "-------------------------------------------\n",
      "('CAT17', ('CAT17', ['2123712', '2022-04-18', '1', 'CAT17', '2.0', '17.0', '108', '2', '2022', '16', '2022-108', '16', '2022-16']))\n",
      "('CB02411', ('CB02411', ['2123713', '2022-04-18', '1', 'CB02411', '2.0', '28.0', '108', '2', '2022', '16', '2022-108', '16', '2022-16']))\n",
      "('CB1101', ('CB1101', ['2123714', '2022-04-18', '1', 'CB1101', '0.0', '-1.0', '108', '2', '2022', '16', '2022-108', '16', '2022-16']))\n",
      "('CB1142', ('CB1142', ['2123715', '2022-04-18', '1', 'CB1142', '0.0', '-1.0', '108', '2', '2022', '16', '2022-108', '16', '2022-16']))\n",
      "('CB1143', ('CB1143', ['2123716', '2022-04-18', '1', 'CB1143', '0.0', '-1.0', '108', '2', '2022', '16', '2022-108', '16', '2022-16']))\n",
      "('CB1599', ('CB1599', ['2123717', '2022-04-18', '1', 'CB1599', '0.0', '-1.0', '108', '2', '2022', '16', '2022-108', '16', '2022-16']))\n",
      "('CB1699', ('CB1699', ['2123718', '2022-04-18', '1', 'CB1699', '1.0', '17.0', '108', '2', '2022', '16', '2022-108', '16', '2022-16']))\n",
      "('CB2105', ('CB2105', ['2123719', '2022-04-18', '1', 'CB2105', '8.0', '19.0', '108', '2', '2022', '16', '2022-108', '16', '2022-16']))\n",
      "('CEE016', ('CEE016', ['2123720', '2022-04-18', '1', 'CEE016', '0.0', '-1.0', '108', '2', '2022', '16', '2022-108', '16', '2022-16']))\n",
      "('CEK049', ('CEK049', ['2123721', '2022-04-18', '1', 'CEK049', '4.0', '21.0', '108', '2', '2022', '16', '2022-108', '16', '2022-16']))\n",
      "...\n",
      "\n"
     ]
    },
    {
     "name": "stderr",
     "output_type": "stream",
     "text": [
      "\r",
      "[Stage 4:>                                                          (0 + 1) / 1]\r",
      "\r",
      "[Stage 4:>                  (0 + 1) / 1][Stage 36:>                 (0 + 1) / 1]\r"
     ]
    }
   ],
   "source": [
    "ssc.start()\n",
    "ssc.awaitTermination(10)"
   ]
  },
  {
   "cell_type": "code",
   "execution_count": null,
   "id": "5eb4564c",
   "metadata": {},
   "outputs": [
    {
     "name": "stdout",
     "output_type": "stream",
     "text": [
      "23/05/15 21:02:46 ERROR ReceiverTracker: Deregistered receiver for stream 0: Stopped by driver\n"
     ]
    },
    {
     "name": "stderr",
     "output_type": "stream",
     "text": [
      "Exception in thread \"receiver-supervisor-future-0\" java.lang.InterruptedException: sleep interrupted\n",
      "\tat java.base/java.lang.Thread.sleep(Native Method)\n",
      "\tat org.apache.spark.streaming.receiver.ReceiverSupervisor.$anonfun$restartReceiver$1(ReceiverSupervisor.scala:196)\n",
      "\tat scala.runtime.java8.JFunction0$mcV$sp.apply(JFunction0$mcV$sp.java:23)\n",
      "\tat scala.concurrent.Future$.$anonfun$apply$1(Future.scala:659)\n",
      "\tat scala.util.Success.$anonfun$map$1(Try.scala:255)\n",
      "\tat scala.util.Success.map(Try.scala:213)\n",
      "\tat scala.concurrent.Future.$anonfun$map$1(Future.scala:292)\n",
      "\tat scala.concurrent.impl.Promise.liftedTree1$1(Promise.scala:33)\n",
      "\tat scala.concurrent.impl.Promise.$anonfun$transform$1(Promise.scala:33)\n",
      "\tat scala.concurrent.impl.CallbackRunnable.run(Promise.scala:64)\n",
      "\tat java.base/java.util.concurrent.ThreadPoolExecutor.runWorker(ThreadPoolExecutor.java:1128)\n",
      "\tat java.base/java.util.concurrent.ThreadPoolExecutor$Worker.run(ThreadPoolExecutor.java:628)\n",
      "\tat java.base/java.lang.Thread.run(Thread.java:829)\n",
      "\r",
      "                                                                                \r"
     ]
    },
    {
     "name": "stdout",
     "output_type": "stream",
     "text": [
      "-------------------------------------------\n",
      "Time: 2023-05-15 21:02:44\n",
      "-------------------------------------------\n",
      "('CAT17', ('CAT17', ['2135808', '2022-04-25', '1', 'CAT17', '0.0', '-1.0', '115', '2', '2022', '17', '2022-115', '17', '2022-17']))\n",
      "('CB02411', ('CB02411', ['2135809', '2022-04-25', '1', 'CB02411', '3.0', '22.0', '115', '2', '2022', '17', '2022-115', '17', '2022-17']))\n",
      "('CB1101', ('CB1101', ['2135810', '2022-04-25', '1', 'CB1101', '0.0', '-1.0', '115', '2', '2022', '17', '2022-115', '17', '2022-17']))\n",
      "('CB1142', ('CB1142', ['2135811', '2022-04-25', '1', 'CB1142', '2.0', '17.0', '115', '2', '2022', '17', '2022-115', '17', '2022-17']))\n",
      "('CB1143', ('CB1143', ['2135812', '2022-04-25', '1', 'CB1143', '0.0', '-1.0', '115', '2', '2022', '17', '2022-115', '17', '2022-17']))\n",
      "('CB1599', ('CB1599', ['2135813', '2022-04-25', '1', 'CB1599', '0.0', '-1.0', '115', '2', '2022', '17', '2022-115', '17', '2022-17']))\n",
      "('CB1699', ('CB1699', ['2135814', '2022-04-25', '1', 'CB1699', '1.0', '20.0', '115', '2', '2022', '17', '2022-115', '17', '2022-17']))\n",
      "('CB2105', ('CB2105', ['2135815', '2022-04-25', '1', 'CB2105', '5.0', '16.0', '115', '2', '2022', '17', '2022-115', '17', '2022-17']))\n",
      "('CEE016', ('CEE016', ['2135816', '2022-04-25', '1', 'CEE016', '1.0', '10.0', '115', '2', '2022', '17', '2022-115', '17', '2022-17']))\n",
      "('CEK049', ('CEK049', ['2135817', '2022-04-25', '1', 'CEK049', '1.0', '22.0', '115', '2', '2022', '17', '2022-115', '17', '2022-17']))\n",
      "...\n",
      "\n"
     ]
    }
   ],
   "source": [
    "ssc.stop(stopSparkContext=False, stopGraceFully=False)"
   ]
  },
  {
   "cell_type": "markdown",
   "id": "e419b6bd",
   "metadata": {},
   "source": [
    "## Average Model"
   ]
  },
  {
   "cell_type": "markdown",
   "id": "7a0c31a6",
   "metadata": {},
   "source": [
    "### N = 2"
   ]
  },
  {
   "cell_type": "code",
   "execution_count": 14,
   "id": "4477701e",
   "metadata": {},
   "outputs": [],
   "source": [
    "batch_interval = 2\n",
    "[sc,ssc,dstream] = getDStream(spark, batch_interval)\n",
    "initialStateRDD = sc.parallelize([(x[0], set_state_from_x(x, 2, average_model)) for x in different_sensors]) \n",
    "dataS=dstream.map(ast.literal_eval)\n",
    "dataS=dataS.flatMap(lambda x: [(x[3],(x[3],x))]) #x[3] contains the key (sensor)\n",
    "dataS.pprint()\n",
    "updatedState = dataS.updateStateByKey(updateFunction, initialRDD=initialStateRDD)\n",
    "def save_to_file(rdd):\n",
    "    \"\"\"\n",
    "    Update the state on a file to retrieve data after the stream completed\n",
    "    \"\"\"\n",
    "    # coalesce the RDD into a single partition\n",
    "    merged_rdd = rdd.coalesce(1)\n",
    "    # save the merged RDD to a text file\n",
    "    if not merged_rdd.isEmpty():\n",
    "        merged_rdd.map(lambda x: f\"{x[0]},{(x[1][4]/(x[1][3] if x[1][3] != 0 else 1)):.2f},{x[1][4]},{x[1][3]}\") \\\n",
    "            .saveAsTextFile(\"streaming/Task1/avg_2\")\n",
    "\n",
    "\n",
    "updatedState.foreachRDD(lambda x : save_to_file(x))"
   ]
  },
  {
   "cell_type": "code",
   "execution_count": 15,
   "id": "bb042cec",
   "metadata": {},
   "outputs": [
    {
     "name": "stderr",
     "output_type": "stream",
     "text": [
      "\r",
      "[Stage 872:>                                                        (0 + 1) / 1]\r",
      "\r",
      "                                                                                \r"
     ]
    },
    {
     "name": "stdout",
     "output_type": "stream",
     "text": [
      "-------------------------------------------\n",
      "Time: 2023-05-14 13:51:00\n",
      "-------------------------------------------\n",
      "('CB02411', ('CB02411', ['2120257', '2022-04-16', '1', 'CB02411', '3.0', '22.0', '106', '7', '2022', '15', '2022-106', '15', '2022-15']))\n",
      "('CB1101', ('CB1101', ['2120258', '2022-04-16', '1', 'CB1101', '0.0', '-1.0', '106', '7', '2022', '15', '2022-106', '15', '2022-15']))\n",
      "('CB1142', ('CB1142', ['2120259', '2022-04-16', '1', 'CB1142', '3.0', '21.0', '106', '7', '2022', '15', '2022-106', '15', '2022-15']))\n",
      "('CB1143', ('CB1143', ['2120260', '2022-04-16', '1', 'CB1143', '1.0', '27.0', '106', '7', '2022', '15', '2022-106', '15', '2022-15']))\n",
      "('CB1599', ('CB1599', ['2120261', '2022-04-16', '1', 'CB1599', '1.0', '19.0', '106', '7', '2022', '15', '2022-106', '15', '2022-15']))\n",
      "('CB1699', ('CB1699', ['2120262', '2022-04-16', '1', 'CB1699', '0.0', '-1.0', '106', '7', '2022', '15', '2022-106', '15', '2022-15']))\n",
      "('CB2105', ('CB2105', ['2120263', '2022-04-16', '1', 'CB2105', '7.0', '19.0', '106', '7', '2022', '15', '2022-106', '15', '2022-15']))\n",
      "('CEE016', ('CEE016', ['2120264', '2022-04-16', '1', 'CEE016', '1.0', '19.0', '106', '7', '2022', '15', '2022-106', '15', '2022-15']))\n",
      "('CEK049', ('CEK049', ['2120265', '2022-04-16', '1', 'CEK049', '8.0', '20.0', '106', '7', '2022', '15', '2022-106', '15', '2022-15']))\n",
      "('CEK18', ('CEK18', ['2120266', '2022-04-16', '1', 'CEK18', '1.0', '18.0', '106', '7', '2022', '15', '2022-106', '15', '2022-15']))\n",
      "...\n",
      "\n"
     ]
    },
    {
     "name": "stderr",
     "output_type": "stream",
     "text": [
      "                                                                                \r"
     ]
    },
    {
     "name": "stdout",
     "output_type": "stream",
     "text": [
      "-------------------------------------------\n",
      "Time: 2023-05-14 13:51:02\n",
      "-------------------------------------------\n",
      "\n"
     ]
    },
    {
     "name": "stderr",
     "output_type": "stream",
     "text": [
      "                                                                                \r"
     ]
    },
    {
     "name": "stdout",
     "output_type": "stream",
     "text": [
      "-------------------------------------------\n",
      "Time: 2023-05-14 13:51:04\n",
      "-------------------------------------------\n",
      "('CAT17', ('CAT17', ['2123712', '2022-04-18', '1', 'CAT17', '2.0', '17.0', '108', '2', '2022', '16', '2022-108', '16', '2022-16']))\n",
      "('CB02411', ('CB02411', ['2123713', '2022-04-18', '1', 'CB02411', '2.0', '28.0', '108', '2', '2022', '16', '2022-108', '16', '2022-16']))\n",
      "('CB1101', ('CB1101', ['2123714', '2022-04-18', '1', 'CB1101', '0.0', '-1.0', '108', '2', '2022', '16', '2022-108', '16', '2022-16']))\n",
      "('CB1142', ('CB1142', ['2123715', '2022-04-18', '1', 'CB1142', '0.0', '-1.0', '108', '2', '2022', '16', '2022-108', '16', '2022-16']))\n",
      "('CB1143', ('CB1143', ['2123716', '2022-04-18', '1', 'CB1143', '0.0', '-1.0', '108', '2', '2022', '16', '2022-108', '16', '2022-16']))\n",
      "('CB1599', ('CB1599', ['2123717', '2022-04-18', '1', 'CB1599', '0.0', '-1.0', '108', '2', '2022', '16', '2022-108', '16', '2022-16']))\n",
      "('CB1699', ('CB1699', ['2123718', '2022-04-18', '1', 'CB1699', '1.0', '17.0', '108', '2', '2022', '16', '2022-108', '16', '2022-16']))\n",
      "('CB2105', ('CB2105', ['2123719', '2022-04-18', '1', 'CB2105', '8.0', '19.0', '108', '2', '2022', '16', '2022-108', '16', '2022-16']))\n",
      "('CEE016', ('CEE016', ['2123720', '2022-04-18', '1', 'CEE016', '0.0', '-1.0', '108', '2', '2022', '16', '2022-108', '16', '2022-16']))\n",
      "('CEK049', ('CEK049', ['2123721', '2022-04-18', '1', 'CEK049', '4.0', '21.0', '108', '2', '2022', '16', '2022-108', '16', '2022-16']))\n",
      "...\n",
      "\n"
     ]
    },
    {
     "name": "stderr",
     "output_type": "stream",
     "text": [
      "                                                                                \r"
     ]
    },
    {
     "name": "stdout",
     "output_type": "stream",
     "text": [
      "-------------------------------------------\n",
      "Time: 2023-05-14 13:51:06\n",
      "-------------------------------------------\n",
      "('CAT17', ('CAT17', ['2135808', '2022-04-25', '1', 'CAT17', '0.0', '-1.0', '115', '2', '2022', '17', '2022-115', '17', '2022-17']))\n",
      "('CB02411', ('CB02411', ['2135809', '2022-04-25', '1', 'CB02411', '3.0', '22.0', '115', '2', '2022', '17', '2022-115', '17', '2022-17']))\n",
      "('CB1101', ('CB1101', ['2135810', '2022-04-25', '1', 'CB1101', '0.0', '-1.0', '115', '2', '2022', '17', '2022-115', '17', '2022-17']))\n",
      "('CB1142', ('CB1142', ['2135811', '2022-04-25', '1', 'CB1142', '2.0', '17.0', '115', '2', '2022', '17', '2022-115', '17', '2022-17']))\n",
      "('CB1143', ('CB1143', ['2135812', '2022-04-25', '1', 'CB1143', '0.0', '-1.0', '115', '2', '2022', '17', '2022-115', '17', '2022-17']))\n",
      "('CB1599', ('CB1599', ['2135813', '2022-04-25', '1', 'CB1599', '0.0', '-1.0', '115', '2', '2022', '17', '2022-115', '17', '2022-17']))\n",
      "('CB1699', ('CB1699', ['2135814', '2022-04-25', '1', 'CB1699', '1.0', '20.0', '115', '2', '2022', '17', '2022-115', '17', '2022-17']))\n",
      "('CB2105', ('CB2105', ['2135815', '2022-04-25', '1', 'CB2105', '5.0', '16.0', '115', '2', '2022', '17', '2022-115', '17', '2022-17']))\n",
      "('CEE016', ('CEE016', ['2135816', '2022-04-25', '1', 'CEE016', '1.0', '10.0', '115', '2', '2022', '17', '2022-115', '17', '2022-17']))\n",
      "('CEK049', ('CEK049', ['2135817', '2022-04-25', '1', 'CEK049', '1.0', '22.0', '115', '2', '2022', '17', '2022-115', '17', '2022-17']))\n",
      "...\n",
      "\n"
     ]
    },
    {
     "name": "stderr",
     "output_type": "stream",
     "text": [
      "                                                                                \r"
     ]
    },
    {
     "name": "stdout",
     "output_type": "stream",
     "text": [
      "-------------------------------------------\n",
      "Time: 2023-05-14 13:51:08\n",
      "-------------------------------------------\n",
      "('CAT17', ('CAT17', ['2147904', '2022-05-02', '1', 'CAT17', '0.0', '-1.0', '122', '2', '2022', '18', '2022-122', '18', '2022-18']))\n",
      "('CB02411', ('CB02411', ['2147905', '2022-05-02', '1', 'CB02411', '49.0', '17.0', '122', '2', '2022', '18', '2022-122', '18', '2022-18']))\n",
      "('CB1101', ('CB1101', ['2147906', '2022-05-02', '1', 'CB1101', '0.0', '-1.0', '122', '2', '2022', '18', '2022-122', '18', '2022-18']))\n",
      "('CB1142', ('CB1142', ['2147907', '2022-05-02', '1', 'CB1142', '5.0', '20.0', '122', '2', '2022', '18', '2022-122', '18', '2022-18']))\n",
      "('CB1143', ('CB1143', ['2147908', '2022-05-02', '1', 'CB1143', '5.0', '23.0', '122', '2', '2022', '18', '2022-122', '18', '2022-18']))\n",
      "('CB1599', ('CB1599', ['2147909', '2022-05-02', '1', 'CB1599', '0.0', '-1.0', '122', '2', '2022', '18', '2022-122', '18', '2022-18']))\n",
      "('CB1699', ('CB1699', ['2147910', '2022-05-02', '1', 'CB1699', '0.0', '-1.0', '122', '2', '2022', '18', '2022-122', '18', '2022-18']))\n",
      "('CB2105', ('CB2105', ['2147911', '2022-05-02', '1', 'CB2105', '6.0', '20.0', '122', '2', '2022', '18', '2022-122', '18', '2022-18']))\n",
      "('CEE016', ('CEE016', ['2147912', '2022-05-02', '1', 'CEE016', '0.0', '-1.0', '122', '2', '2022', '18', '2022-122', '18', '2022-18']))\n",
      "('CEK049', ('CEK049', ['2147913', '2022-05-02', '1', 'CEK049', '1.0', '23.0', '122', '2', '2022', '18', '2022-122', '18', '2022-18']))\n",
      "...\n",
      "\n"
     ]
    },
    {
     "name": "stderr",
     "output_type": "stream",
     "text": [
      "                                                                                \r"
     ]
    },
    {
     "name": "stdout",
     "output_type": "stream",
     "text": [
      "-------------------------------------------\n",
      "Time: 2023-05-14 13:51:10\n",
      "-------------------------------------------\n",
      "('COM205', ('COM205', ['2154220', '2022-05-05', '63', 'COM205', '35.0', '23.0', '125', '5', '2022', '18', '2022-125', '18', '2022-18']))\n",
      "('CVT387', ('CVT387', ['2154221', '2022-05-05', '63', 'CVT387', '16.0', '14.0', '125', '5', '2022', '18', '2022-125', '18', '2022-18']))\n",
      "('CAT17', ('CAT17', ['2154222', '2022-05-05', '64', 'CAT17', '57.0', '22.0', '125', '5', '2022', '18', '2022-125', '18', '2022-18']))\n",
      "('CB02411', ('CB02411', ['2154223', '2022-05-05', '64', 'CB02411', '93.0', '21.0', '125', '5', '2022', '18', '2022-125', '18', '2022-18']))\n",
      "('CB1101', ('CB1101', ['2154224', '2022-05-05', '64', 'CB1101', '0.0', '-1.0', '125', '5', '2022', '18', '2022-125', '18', '2022-18']))\n",
      "('CB1142', ('CB1142', ['2154225', '2022-05-05', '64', 'CB1142', '84.0', '16.0', '125', '5', '2022', '18', '2022-125', '18', '2022-18']))\n",
      "('CB1143', ('CB1143', ['2154226', '2022-05-05', '64', 'CB1143', '156.0', '20.0', '125', '5', '2022', '18', '2022-125', '18', '2022-18']))\n",
      "('CB1599', ('CB1599', ['2154227', '2022-05-05', '64', 'CB1599', '27.0', '21.0', '125', '5', '2022', '18', '2022-125', '18', '2022-18']))\n",
      "('CB1699', ('CB1699', ['2154228', '2022-05-05', '64', 'CB1699', '0.0', '-1.0', '125', '5', '2022', '18', '2022-125', '18', '2022-18']))\n",
      "('CB2105', ('CB2105', ['2154229', '2022-05-05', '64', 'CB2105', '58.0', '20.0', '125', '5', '2022', '18', '2022-125', '18', '2022-18']))\n",
      "...\n",
      "\n"
     ]
    },
    {
     "name": "stderr",
     "output_type": "stream",
     "text": [
      "                                                                                \r"
     ]
    },
    {
     "name": "stdout",
     "output_type": "stream",
     "text": [
      "-------------------------------------------\n",
      "Time: 2023-05-14 13:51:12\n",
      "-------------------------------------------\n",
      "('CAT17', ('CAT17', ['2160000', '2022-05-09', '1', 'CAT17', '1.0', '22.0', '129', '2', '2022', '19', '2022-129', '19', '2022-19']))\n",
      "('CB02411', ('CB02411', ['2160001', '2022-05-09', '1', 'CB02411', '1.0', '22.0', '129', '2', '2022', '19', '2022-129', '19', '2022-19']))\n",
      "('CB1101', ('CB1101', ['2160002', '2022-05-09', '1', 'CB1101', '0.0', '-1.0', '129', '2', '2022', '19', '2022-129', '19', '2022-19']))\n",
      "('CB1142', ('CB1142', ['2160003', '2022-05-09', '1', 'CB1142', '1.0', '22.0', '129', '2', '2022', '19', '2022-129', '19', '2022-19']))\n",
      "('CB1143', ('CB1143', ['2160004', '2022-05-09', '1', 'CB1143', '1.0', '25.0', '129', '2', '2022', '19', '2022-129', '19', '2022-19']))\n",
      "('CB1599', ('CB1599', ['2160005', '2022-05-09', '1', 'CB1599', '0.0', '-1.0', '129', '2', '2022', '19', '2022-129', '19', '2022-19']))\n",
      "('CB1699', ('CB1699', ['2160006', '2022-05-09', '1', 'CB1699', '0.0', '-1.0', '129', '2', '2022', '19', '2022-129', '19', '2022-19']))\n",
      "('CB2105', ('CB2105', ['2160007', '2022-05-09', '1', 'CB2105', '5.0', '23.0', '129', '2', '2022', '19', '2022-129', '19', '2022-19']))\n",
      "('CEE016', ('CEE016', ['2160008', '2022-05-09', '1', 'CEE016', '1.0', '23.0', '129', '2', '2022', '19', '2022-129', '19', '2022-19']))\n",
      "('CEK049', ('CEK049', ['2160009', '2022-05-09', '1', 'CEK049', '3.0', '21.0', '129', '2', '2022', '19', '2022-129', '19', '2022-19']))\n",
      "...\n",
      "\n"
     ]
    },
    {
     "name": "stderr",
     "output_type": "stream",
     "text": [
      "                                                                                \r"
     ]
    },
    {
     "name": "stdout",
     "output_type": "stream",
     "text": [
      "-------------------------------------------\n",
      "Time: 2023-05-14 13:51:14\n",
      "-------------------------------------------\n",
      "('CAT17', ('CAT17', ['2172096', '2022-05-16', '1', 'CAT17', '1.0', '18.0', '136', '2', '2022', '20', '2022-136', '20', '2022-20']))\n",
      "('CB02411', ('CB02411', ['2172097', '2022-05-16', '1', 'CB02411', '4.0', '21.0', '136', '2', '2022', '20', '2022-136', '20', '2022-20']))\n",
      "('CB1101', ('CB1101', ['2172098', '2022-05-16', '1', 'CB1101', '0.0', '-1.0', '136', '2', '2022', '20', '2022-136', '20', '2022-20']))\n",
      "('CB1142', ('CB1142', ['2172099', '2022-05-16', '1', 'CB1142', '0.0', '-1.0', '136', '2', '2022', '20', '2022-136', '20', '2022-20']))\n",
      "('CB1143', ('CB1143', ['2172100', '2022-05-16', '1', 'CB1143', '5.0', '14.0', '136', '2', '2022', '20', '2022-136', '20', '2022-20']))\n",
      "('CB1599', ('CB1599', ['2172101', '2022-05-16', '1', 'CB1599', '1.0', '12.0', '136', '2', '2022', '20', '2022-136', '20', '2022-20']))\n",
      "('CB1699', ('CB1699', ['2172102', '2022-05-16', '1', 'CB1699', '0.0', '-1.0', '136', '2', '2022', '20', '2022-136', '20', '2022-20']))\n",
      "('CB2105', ('CB2105', ['2172103', '2022-05-16', '1', 'CB2105', '1.0', '24.0', '136', '2', '2022', '20', '2022-136', '20', '2022-20']))\n",
      "('CEE016', ('CEE016', ['2172104', '2022-05-16', '1', 'CEE016', '2.0', '21.0', '136', '2', '2022', '20', '2022-136', '20', '2022-20']))\n",
      "('CEK049', ('CEK049', ['2172105', '2022-05-16', '1', 'CEK049', '1.0', '24.0', '136', '2', '2022', '20', '2022-136', '20', '2022-20']))\n",
      "...\n",
      "\n"
     ]
    },
    {
     "name": "stderr",
     "output_type": "stream",
     "text": [
      "                                                                                \r"
     ]
    },
    {
     "name": "stdout",
     "output_type": "stream",
     "text": [
      "-------------------------------------------\n",
      "Time: 2023-05-14 13:51:16\n",
      "-------------------------------------------\n",
      "\n"
     ]
    },
    {
     "name": "stderr",
     "output_type": "stream",
     "text": [
      "                                                                                \r"
     ]
    },
    {
     "name": "stdout",
     "output_type": "stream",
     "text": [
      "-------------------------------------------\n",
      "Time: 2023-05-14 13:51:18\n",
      "-------------------------------------------\n",
      "('CAT17', ('CAT17', ['2184192', '2022-05-23', '1', 'CAT17', '0.0', '-1.0', '143', '2', '2022', '21', '2022-143', '21', '2022-21']))\n",
      "('CB02411', ('CB02411', ['2184193', '2022-05-23', '1', 'CB02411', '2.0', '23.0', '143', '2', '2022', '21', '2022-143', '21', '2022-21']))\n",
      "('CB1101', ('CB1101', ['2184194', '2022-05-23', '1', 'CB1101', '0.0', '-1.0', '143', '2', '2022', '21', '2022-143', '21', '2022-21']))\n",
      "('CB1142', ('CB1142', ['2184195', '2022-05-23', '1', 'CB1142', '1.0', '29.0', '143', '2', '2022', '21', '2022-143', '21', '2022-21']))\n",
      "('CB1143', ('CB1143', ['2184196', '2022-05-23', '1', 'CB1143', '3.0', '23.0', '143', '2', '2022', '21', '2022-143', '21', '2022-21']))\n",
      "('CB1599', ('CB1599', ['2184197', '2022-05-23', '1', 'CB1599', '0.0', '-1.0', '143', '2', '2022', '21', '2022-143', '21', '2022-21']))\n",
      "('CB1699', ('CB1699', ['2184198', '2022-05-23', '1', 'CB1699', '1.0', '22.0', '143', '2', '2022', '21', '2022-143', '21', '2022-21']))\n",
      "('CB2105', ('CB2105', ['2184199', '2022-05-23', '1', 'CB2105', '2.0', '23.0', '143', '2', '2022', '21', '2022-143', '21', '2022-21']))\n",
      "('CEE016', ('CEE016', ['2184200', '2022-05-23', '1', 'CEE016', '1.0', '18.0', '143', '2', '2022', '21', '2022-143', '21', '2022-21']))\n",
      "('CEK049', ('CEK049', ['2184201', '2022-05-23', '1', 'CEK049', '1.0', '23.0', '143', '2', '2022', '21', '2022-143', '21', '2022-21']))\n",
      "...\n",
      "\n"
     ]
    },
    {
     "name": "stderr",
     "output_type": "stream",
     "text": [
      "                                                                                \r"
     ]
    },
    {
     "name": "stdout",
     "output_type": "stream",
     "text": [
      "-------------------------------------------\n",
      "Time: 2023-05-14 13:51:20\n",
      "-------------------------------------------\n",
      "('CAT17', ('CAT17', ['2196288', '2022-05-30', '1', 'CAT17', '0.0', '-1.0', '150', '2', '2022', '22', '2022-150', '22', '2022-22']))\n",
      "('CB02411', ('CB02411', ['2196289', '2022-05-30', '1', 'CB02411', '3.0', '20.0', '150', '2', '2022', '22', '2022-150', '22', '2022-22']))\n",
      "('CB1101', ('CB1101', ['2196290', '2022-05-30', '1', 'CB1101', '0.0', '-1.0', '150', '2', '2022', '22', '2022-150', '22', '2022-22']))\n",
      "('CB1142', ('CB1142', ['2196291', '2022-05-30', '1', 'CB1142', '3.0', '20.0', '150', '2', '2022', '22', '2022-150', '22', '2022-22']))\n",
      "('CB1143', ('CB1143', ['2196292', '2022-05-30', '1', 'CB1143', '1.0', '25.0', '150', '2', '2022', '22', '2022-150', '22', '2022-22']))\n",
      "('CB1599', ('CB1599', ['2196293', '2022-05-30', '1', 'CB1599', '1.0', '20.0', '150', '2', '2022', '22', '2022-150', '22', '2022-22']))\n",
      "('CB1699', ('CB1699', ['2196294', '2022-05-30', '1', 'CB1699', '0.0', '-1.0', '150', '2', '2022', '22', '2022-150', '22', '2022-22']))\n",
      "('CB2105', ('CB2105', ['2196295', '2022-05-30', '1', 'CB2105', '2.0', '21.0', '150', '2', '2022', '22', '2022-150', '22', '2022-22']))\n",
      "('CEE016', ('CEE016', ['2196296', '2022-05-30', '1', 'CEE016', '1.0', '16.0', '150', '2', '2022', '22', '2022-150', '22', '2022-22']))\n",
      "('CEK049', ('CEK049', ['2196297', '2022-05-30', '1', 'CEK049', '0.0', '-1.0', '150', '2', '2022', '22', '2022-150', '22', '2022-22']))\n",
      "...\n",
      "\n"
     ]
    },
    {
     "name": "stderr",
     "output_type": "stream",
     "text": [
      "                                                                                \r"
     ]
    },
    {
     "name": "stdout",
     "output_type": "stream",
     "text": [
      "-------------------------------------------\n",
      "Time: 2023-05-14 13:51:22\n",
      "-------------------------------------------\n",
      "('CAT17', ('CAT17', ['2208384', '2022-06-06', '1', 'CAT17', '0.0', '-1.0', '157', '2', '2022', '23', '2022-157', '23', '2022-23']))\n",
      "('CB02411', ('CB02411', ['2208385', '2022-06-06', '1', 'CB02411', '4.0', '20.0', '157', '2', '2022', '23', '2022-157', '23', '2022-23']))\n",
      "('CB1101', ('CB1101', ['2208386', '2022-06-06', '1', 'CB1101', '0.0', '-1.0', '157', '2', '2022', '23', '2022-157', '23', '2022-23']))\n",
      "('CB1142', ('CB1142', ['2208387', '2022-06-06', '1', 'CB1142', '2.0', '17.0', '157', '2', '2022', '23', '2022-157', '23', '2022-23']))\n",
      "('CB1143', ('CB1143', ['2208388', '2022-06-06', '1', 'CB1143', '2.0', '21.0', '157', '2', '2022', '23', '2022-157', '23', '2022-23']))\n",
      "('CB1599', ('CB1599', ['2208389', '2022-06-06', '1', 'CB1599', '1.0', '25.0', '157', '2', '2022', '23', '2022-157', '23', '2022-23']))\n",
      "('CB1699', ('CB1699', ['2208390', '2022-06-06', '1', 'CB1699', '1.0', '20.0', '157', '2', '2022', '23', '2022-157', '23', '2022-23']))\n",
      "('CB2105', ('CB2105', ['2208391', '2022-06-06', '1', 'CB2105', '10.0', '19.0', '157', '2', '2022', '23', '2022-157', '23', '2022-23']))\n",
      "('CEE016', ('CEE016', ['2208392', '2022-06-06', '1', 'CEE016', '4.0', '21.0', '157', '2', '2022', '23', '2022-157', '23', '2022-23']))\n",
      "('CEK049', ('CEK049', ['2208393', '2022-06-06', '1', 'CEK049', '4.0', '23.0', '157', '2', '2022', '23', '2022-157', '23', '2022-23']))\n",
      "...\n",
      "\n"
     ]
    },
    {
     "name": "stderr",
     "output_type": "stream",
     "text": [
      "                                                                                \r"
     ]
    },
    {
     "name": "stdout",
     "output_type": "stream",
     "text": [
      "-------------------------------------------\n",
      "Time: 2023-05-14 13:51:24\n",
      "-------------------------------------------\n",
      "('CB02411', ('CB02411', ['2210743', '2022-06-07', '36', 'CB02411', '13.0', '23.0', '158', '3', '2022', '23', '2022-158', '23', '2022-23']))\n",
      "('CB1101', ('CB1101', ['2210744', '2022-06-07', '36', 'CB1101', '0.0', '-1.0', '158', '3', '2022', '23', '2022-158', '23', '2022-23']))\n",
      "('CB1142', ('CB1142', ['2210745', '2022-06-07', '36', 'CB1142', '31.0', '21.0', '158', '3', '2022', '23', '2022-158', '23', '2022-23']))\n",
      "('CB1143', ('CB1143', ['2210746', '2022-06-07', '36', 'CB1143', '28.0', '21.0', '158', '3', '2022', '23', '2022-158', '23', '2022-23']))\n",
      "('CB1599', ('CB1599', ['2210747', '2022-06-07', '36', 'CB1599', '13.0', '20.0', '158', '3', '2022', '23', '2022-158', '23', '2022-23']))\n",
      "('CB1699', ('CB1699', ['2210748', '2022-06-07', '36', 'CB1699', '4.0', '15.0', '158', '3', '2022', '23', '2022-158', '23', '2022-23']))\n",
      "('CB2105', ('CB2105', ['2210749', '2022-06-07', '36', 'CB2105', '19.0', '20.0', '158', '3', '2022', '23', '2022-158', '23', '2022-23']))\n",
      "('CEE016', ('CEE016', ['2210750', '2022-06-07', '36', 'CEE016', '10.0', '21.0', '158', '3', '2022', '23', '2022-158', '23', '2022-23']))\n",
      "('CEK049', ('CEK049', ['2210751', '2022-06-07', '36', 'CEK049', '34.0', '22.0', '158', '3', '2022', '23', '2022-158', '23', '2022-23']))\n",
      "('CEK18', ('CEK18', ['2210752', '2022-06-07', '36', 'CEK18', '19.0', '18.0', '158', '3', '2022', '23', '2022-158', '23', '2022-23']))\n",
      "...\n",
      "\n"
     ]
    },
    {
     "name": "stderr",
     "output_type": "stream",
     "text": [
      "                                                                                \r"
     ]
    },
    {
     "name": "stdout",
     "output_type": "stream",
     "text": [
      "-------------------------------------------\n",
      "Time: 2023-05-14 13:51:26\n",
      "-------------------------------------------\n",
      "('CAT17', ('CAT17', ['2220480', '2022-06-13', '1', 'CAT17', '2.0', '18.0', '164', '2', '2022', '24', '2022-164', '24', '2022-24']))\n",
      "('CB02411', ('CB02411', ['2220481', '2022-06-13', '1', 'CB02411', '2.0', '26.0', '164', '2', '2022', '24', '2022-164', '24', '2022-24']))\n",
      "('CB1101', ('CB1101', ['2220482', '2022-06-13', '1', 'CB1101', '0.0', '-1.0', '164', '2', '2022', '24', '2022-164', '24', '2022-24']))\n",
      "('CB1142', ('CB1142', ['2220483', '2022-06-13', '1', 'CB1142', '0.0', '-1.0', '164', '2', '2022', '24', '2022-164', '24', '2022-24']))\n",
      "('CB1143', ('CB1143', ['2220484', '2022-06-13', '1', 'CB1143', '1.0', '21.0', '164', '2', '2022', '24', '2022-164', '24', '2022-24']))\n",
      "('CB1599', ('CB1599', ['2220485', '2022-06-13', '1', 'CB1599', '0.0', '-1.0', '164', '2', '2022', '24', '2022-164', '24', '2022-24']))\n",
      "('CB1699', ('CB1699', ['2220486', '2022-06-13', '1', 'CB1699', '1.0', '21.0', '164', '2', '2022', '24', '2022-164', '24', '2022-24']))\n",
      "('CB2105', ('CB2105', ['2220487', '2022-06-13', '1', 'CB2105', '6.0', '23.0', '164', '2', '2022', '24', '2022-164', '24', '2022-24']))\n",
      "('CEE016', ('CEE016', ['2220488', '2022-06-13', '1', 'CEE016', '0.0', '-1.0', '164', '2', '2022', '24', '2022-164', '24', '2022-24']))\n",
      "('CEK049', ('CEK049', ['2220489', '2022-06-13', '1', 'CEK049', '0.0', '-1.0', '164', '2', '2022', '24', '2022-164', '24', '2022-24']))\n",
      "...\n",
      "\n"
     ]
    },
    {
     "name": "stderr",
     "output_type": "stream",
     "text": [
      "                                                                                \r"
     ]
    },
    {
     "name": "stdout",
     "output_type": "stream",
     "text": [
      "-------------------------------------------\n",
      "Time: 2023-05-14 13:51:28\n",
      "-------------------------------------------\n",
      "('CAT17', ('CAT17', ['2232576', '2022-06-20', '1', 'CAT17', '1.0', '18.0', '171', '2', '2022', '25', '2022-171', '25', '2022-25']))\n",
      "('CB02411', ('CB02411', ['2232577', '2022-06-20', '1', 'CB02411', '1.0', '22.0', '171', '2', '2022', '25', '2022-171', '25', '2022-25']))\n",
      "('CB1101', ('CB1101', ['2232578', '2022-06-20', '1', 'CB1101', '0.0', '-1.0', '171', '2', '2022', '25', '2022-171', '25', '2022-25']))\n",
      "('CB1142', ('CB1142', ['2232579', '2022-06-20', '1', 'CB1142', '2.0', '26.0', '171', '2', '2022', '25', '2022-171', '25', '2022-25']))\n",
      "('CB1143', ('CB1143', ['2232580', '2022-06-20', '1', 'CB1143', '1.0', '14.0', '171', '2', '2022', '25', '2022-171', '25', '2022-25']))\n",
      "('CB1599', ('CB1599', ['2232581', '2022-06-20', '1', 'CB1599', '1.0', '19.0', '171', '2', '2022', '25', '2022-171', '25', '2022-25']))\n",
      "('CB1699', ('CB1699', ['2232582', '2022-06-20', '1', 'CB1699', '1.0', '21.0', '171', '2', '2022', '25', '2022-171', '25', '2022-25']))\n",
      "('CB2105', ('CB2105', ['2232583', '2022-06-20', '1', 'CB2105', '7.0', '22.0', '171', '2', '2022', '25', '2022-171', '25', '2022-25']))\n",
      "('CEE016', ('CEE016', ['2232584', '2022-06-20', '1', 'CEE016', '0.0', '-1.0', '171', '2', '2022', '25', '2022-171', '25', '2022-25']))\n",
      "('CEK049', ('CEK049', ['2232585', '2022-06-20', '1', 'CEK049', '1.0', '14.0', '171', '2', '2022', '25', '2022-171', '25', '2022-25']))\n",
      "...\n",
      "\n"
     ]
    },
    {
     "name": "stderr",
     "output_type": "stream",
     "text": [
      "                                                                                \r"
     ]
    },
    {
     "name": "stdout",
     "output_type": "stream",
     "text": [
      "-------------------------------------------\n",
      "Time: 2023-05-14 13:51:30\n",
      "-------------------------------------------\n",
      "\n"
     ]
    },
    {
     "name": "stderr",
     "output_type": "stream",
     "text": [
      "                                                                                \r"
     ]
    },
    {
     "name": "stdout",
     "output_type": "stream",
     "text": [
      "-------------------------------------------\n",
      "Time: 2023-05-14 13:51:32\n",
      "-------------------------------------------\n",
      "('CAT17', ('CAT17', ['2244672', '2022-06-27', '1', 'CAT17', '1.0', '26.0', '178', '2', '2022', '26', '2022-178', '26', '2022-26']))\n",
      "('CB02411', ('CB02411', ['2244673', '2022-06-27', '1', 'CB02411', '18.0', '18.0', '178', '2', '2022', '26', '2022-178', '26', '2022-26']))\n",
      "('CB1101', ('CB1101', ['2244674', '2022-06-27', '1', 'CB1101', '0.0', '-1.0', '178', '2', '2022', '26', '2022-178', '26', '2022-26']))\n",
      "('CB1142', ('CB1142', ['2244675', '2022-06-27', '1', 'CB1142', '4.0', '25.0', '178', '2', '2022', '26', '2022-178', '26', '2022-26']))\n",
      "('CB1143', ('CB1143', ['2244676', '2022-06-27', '1', 'CB1143', '6.0', '25.0', '178', '2', '2022', '26', '2022-178', '26', '2022-26']))\n",
      "('CB1599', ('CB1599', ['2244677', '2022-06-27', '1', 'CB1599', '1.0', '17.0', '178', '2', '2022', '26', '2022-178', '26', '2022-26']))\n",
      "('CB1699', ('CB1699', ['2244678', '2022-06-27', '1', 'CB1699', '1.0', '21.0', '178', '2', '2022', '26', '2022-178', '26', '2022-26']))\n",
      "('CB2105', ('CB2105', ['2244679', '2022-06-27', '1', 'CB2105', '6.0', '22.0', '178', '2', '2022', '26', '2022-178', '26', '2022-26']))\n",
      "('CEE016', ('CEE016', ['2244680', '2022-06-27', '1', 'CEE016', '1.0', '22.0', '178', '2', '2022', '26', '2022-178', '26', '2022-26']))\n",
      "('CEK049', ('CEK049', ['2244681', '2022-06-27', '1', 'CEK049', '2.0', '16.0', '178', '2', '2022', '26', '2022-178', '26', '2022-26']))\n",
      "...\n",
      "\n"
     ]
    },
    {
     "name": "stderr",
     "output_type": "stream",
     "text": [
      "                                                                                \r"
     ]
    },
    {
     "name": "stdout",
     "output_type": "stream",
     "text": [
      "-------------------------------------------\n",
      "Time: 2023-05-14 13:51:34\n",
      "-------------------------------------------\n",
      "('CAT17', ('CAT17', ['2256768', '2022-07-04', '1', 'CAT17', '0.0', '-1.0', '185', '2', '2022', '27', '2022-185', '27', '2022-27']))\n",
      "('CB02411', ('CB02411', ['2256769', '2022-07-04', '1', 'CB02411', '2.0', '16.0', '185', '2', '2022', '27', '2022-185', '27', '2022-27']))\n",
      "('CB1101', ('CB1101', ['2256770', '2022-07-04', '1', 'CB1101', '0.0', '-1.0', '185', '2', '2022', '27', '2022-185', '27', '2022-27']))\n",
      "('CB1142', ('CB1142', ['2256771', '2022-07-04', '1', 'CB1142', '3.0', '12.0', '185', '2', '2022', '27', '2022-185', '27', '2022-27']))\n",
      "('CB1143', ('CB1143', ['2256772', '2022-07-04', '1', 'CB1143', '2.0', '18.0', '185', '2', '2022', '27', '2022-185', '27', '2022-27']))\n",
      "('CB1599', ('CB1599', ['2256773', '2022-07-04', '1', 'CB1599', '1.0', '18.0', '185', '2', '2022', '27', '2022-185', '27', '2022-27']))\n",
      "('CB1699', ('CB1699', ['2256774', '2022-07-04', '1', 'CB1699', '2.0', '18.0', '185', '2', '2022', '27', '2022-185', '27', '2022-27']))\n",
      "('CB2105', ('CB2105', ['2256775', '2022-07-04', '1', 'CB2105', '5.0', '17.0', '185', '2', '2022', '27', '2022-185', '27', '2022-27']))\n",
      "('CEE016', ('CEE016', ['2256776', '2022-07-04', '1', 'CEE016', '0.0', '-1.0', '185', '2', '2022', '27', '2022-185', '27', '2022-27']))\n",
      "('CEK049', ('CEK049', ['2256777', '2022-07-04', '1', 'CEK049', '2.0', '21.0', '185', '2', '2022', '27', '2022-185', '27', '2022-27']))\n",
      "...\n",
      "\n"
     ]
    },
    {
     "name": "stderr",
     "output_type": "stream",
     "text": [
      "                                                                                \r"
     ]
    },
    {
     "name": "stdout",
     "output_type": "stream",
     "text": [
      "-------------------------------------------\n",
      "Time: 2023-05-14 13:51:36\n",
      "-------------------------------------------\n",
      "('CAT17', ('CAT17', ['2268864', '2022-07-11', '1', 'CAT17', '0.0', '-1.0', '192', '2', '2022', '28', '2022-192', '28', '2022-28']))\n",
      "('CB02411', ('CB02411', ['2268865', '2022-07-11', '1', 'CB02411', '1.0', '25.0', '192', '2', '2022', '28', '2022-192', '28', '2022-28']))\n",
      "('CB1101', ('CB1101', ['2268866', '2022-07-11', '1', 'CB1101', '0.0', '-1.0', '192', '2', '2022', '28', '2022-192', '28', '2022-28']))\n",
      "('CB1142', ('CB1142', ['2268867', '2022-07-11', '1', 'CB1142', '1.0', '13.0', '192', '2', '2022', '28', '2022-192', '28', '2022-28']))\n",
      "('CB1143', ('CB1143', ['2268868', '2022-07-11', '1', 'CB1143', '3.0', '18.0', '192', '2', '2022', '28', '2022-192', '28', '2022-28']))\n",
      "('CB1599', ('CB1599', ['2268869', '2022-07-11', '1', 'CB1599', '1.0', '19.0', '192', '2', '2022', '28', '2022-192', '28', '2022-28']))\n",
      "('CB1699', ('CB1699', ['2268870', '2022-07-11', '1', 'CB1699', '2.0', '17.0', '192', '2', '2022', '28', '2022-192', '28', '2022-28']))\n",
      "('CB2105', ('CB2105', ['2268871', '2022-07-11', '1', 'CB2105', '3.0', '17.0', '192', '2', '2022', '28', '2022-192', '28', '2022-28']))\n",
      "('CEE016', ('CEE016', ['2268872', '2022-07-11', '1', 'CEE016', '1.0', '19.0', '192', '2', '2022', '28', '2022-192', '28', '2022-28']))\n",
      "('CEK049', ('CEK049', ['2268873', '2022-07-11', '1', 'CEK049', '4.0', '17.0', '192', '2', '2022', '28', '2022-192', '28', '2022-28']))\n",
      "...\n",
      "\n"
     ]
    },
    {
     "name": "stderr",
     "output_type": "stream",
     "text": [
      "                                                                                \r"
     ]
    },
    {
     "name": "stdout",
     "output_type": "stream",
     "text": [
      "-------------------------------------------\n",
      "Time: 2023-05-14 13:51:38\n",
      "-------------------------------------------\n",
      "('CB1599', ('CB1599', ['2271047', '2022-07-12', '26', 'CB1599', '33.0', '27.0', '193', '3', '2022', '28', '2022-193', '28', '2022-28']))\n",
      "('CB1699', ('CB1699', ['2271048', '2022-07-12', '26', 'CB1699', '20.0', '15.0', '193', '3', '2022', '28', '2022-193', '28', '2022-28']))\n",
      "('CB2105', ('CB2105', ['2271049', '2022-07-12', '26', 'CB2105', '31.0', '21.0', '193', '3', '2022', '28', '2022-193', '28', '2022-28']))\n",
      "('CEE016', ('CEE016', ['2271050', '2022-07-12', '26', 'CEE016', '35.0', '21.0', '193', '3', '2022', '28', '2022-193', '28', '2022-28']))\n",
      "('CEK049', ('CEK049', ['2271051', '2022-07-12', '26', 'CEK049', '65.0', '21.0', '193', '3', '2022', '28', '2022-193', '28', '2022-28']))\n",
      "('CEK18', ('CEK18', ['2271052', '2022-07-12', '26', 'CEK18', '130.0', '18.0', '193', '3', '2022', '28', '2022-193', '28', '2022-28']))\n",
      "('CEK31', ('CEK31', ['2271053', '2022-07-12', '26', 'CEK31', '95.0', '20.0', '193', '3', '2022', '28', '2022-193', '28', '2022-28']))\n",
      "('CEV011', ('CEV011', ['2271054', '2022-07-12', '26', 'CEV011', '33.0', '17.0', '193', '3', '2022', '28', '2022-193', '28', '2022-28']))\n",
      "('CJE181', ('CJE181', ['2271055', '2022-07-12', '26', 'CJE181', '9.0', '25.0', '193', '3', '2022', '28', '2022-193', '28', '2022-28']))\n",
      "('CJM90', ('CJM90', ['2271056', '2022-07-12', '26', 'CJM90', '132.0', '21.0', '193', '3', '2022', '28', '2022-193', '28', '2022-28']))\n",
      "...\n",
      "\n"
     ]
    },
    {
     "name": "stderr",
     "output_type": "stream",
     "text": [
      "                                                                                \r"
     ]
    },
    {
     "name": "stdout",
     "output_type": "stream",
     "text": [
      "-------------------------------------------\n",
      "Time: 2023-05-14 13:51:40\n",
      "-------------------------------------------\n",
      "('CAT17', ('CAT17', ['2280960', '2022-07-18', '1', 'CAT17', '0.0', '-1.0', '199', '2', '2022', '29', '2022-199', '29', '2022-29']))\n",
      "('CB02411', ('CB02411', ['2280961', '2022-07-18', '1', 'CB02411', '2.0', '22.0', '199', '2', '2022', '29', '2022-199', '29', '2022-29']))\n",
      "('CB1101', ('CB1101', ['2280962', '2022-07-18', '1', 'CB1101', '0.0', '-1.0', '199', '2', '2022', '29', '2022-199', '29', '2022-29']))\n",
      "('CB1142', ('CB1142', ['2280963', '2022-07-18', '1', 'CB1142', '1.0', '15.0', '199', '2', '2022', '29', '2022-199', '29', '2022-29']))\n",
      "('CB1143', ('CB1143', ['2280964', '2022-07-18', '1', 'CB1143', '6.0', '17.0', '199', '2', '2022', '29', '2022-199', '29', '2022-29']))\n",
      "('CB1599', ('CB1599', ['2280965', '2022-07-18', '1', 'CB1599', '1.0', '26.0', '199', '2', '2022', '29', '2022-199', '29', '2022-29']))\n",
      "('CB1699', ('CB1699', ['2280966', '2022-07-18', '1', 'CB1699', '2.0', '16.0', '199', '2', '2022', '29', '2022-199', '29', '2022-29']))\n",
      "('CB2105', ('CB2105', ['2280967', '2022-07-18', '1', 'CB2105', '2.0', '16.0', '199', '2', '2022', '29', '2022-199', '29', '2022-29']))\n",
      "('CEE016', ('CEE016', ['2280968', '2022-07-18', '1', 'CEE016', '0.0', '-1.0', '199', '2', '2022', '29', '2022-199', '29', '2022-29']))\n",
      "('CEK049', ('CEK049', ['2280969', '2022-07-18', '1', 'CEK049', '8.0', '18.0', '199', '2', '2022', '29', '2022-199', '29', '2022-29']))\n",
      "...\n",
      "\n"
     ]
    },
    {
     "name": "stderr",
     "output_type": "stream",
     "text": [
      "                                                                                \r"
     ]
    },
    {
     "name": "stdout",
     "output_type": "stream",
     "text": [
      "-------------------------------------------\n",
      "Time: 2023-05-14 13:51:42\n",
      "-------------------------------------------\n",
      "('CAT17', ('CAT17', ['2293056', '2022-07-25', '1', 'CAT17', '0.0', '-1.0', '206', '2', '2022', '30', '2022-206', '30', '2022-30']))\n",
      "('CB02411', ('CB02411', ['2293057', '2022-07-25', '1', 'CB02411', '1.0', '31.0', '206', '2', '2022', '30', '2022-206', '30', '2022-30']))\n",
      "('CB1101', ('CB1101', ['2293058', '2022-07-25', '1', 'CB1101', '0.0', '-1.0', '206', '2', '2022', '30', '2022-206', '30', '2022-30']))\n",
      "('CB1142', ('CB1142', ['2293059', '2022-07-25', '1', 'CB1142', '7.0', '18.0', '206', '2', '2022', '30', '2022-206', '30', '2022-30']))\n",
      "('CB1143', ('CB1143', ['2293060', '2022-07-25', '1', 'CB1143', '6.0', '20.0', '206', '2', '2022', '30', '2022-206', '30', '2022-30']))\n",
      "('CB1599', ('CB1599', ['2293061', '2022-07-25', '1', 'CB1599', '0.0', '-1.0', '206', '2', '2022', '30', '2022-206', '30', '2022-30']))\n",
      "('CB1699', ('CB1699', ['2293062', '2022-07-25', '1', 'CB1699', '1.0', '13.0', '206', '2', '2022', '30', '2022-206', '30', '2022-30']))\n",
      "('CB2105', ('CB2105', ['2293063', '2022-07-25', '1', 'CB2105', '9.0', '18.0', '206', '2', '2022', '30', '2022-206', '30', '2022-30']))\n",
      "('CEE016', ('CEE016', ['2293064', '2022-07-25', '1', 'CEE016', '1.0', '19.0', '206', '2', '2022', '30', '2022-206', '30', '2022-30']))\n",
      "('CEK049', ('CEK049', ['2293065', '2022-07-25', '1', 'CEK049', '4.0', '19.0', '206', '2', '2022', '30', '2022-206', '30', '2022-30']))\n",
      "...\n",
      "\n"
     ]
    },
    {
     "name": "stderr",
     "output_type": "stream",
     "text": [
      "                                                                                \r"
     ]
    },
    {
     "name": "stdout",
     "output_type": "stream",
     "text": [
      "-------------------------------------------\n",
      "Time: 2023-05-14 13:51:44\n",
      "-------------------------------------------\n",
      "\n"
     ]
    },
    {
     "name": "stderr",
     "output_type": "stream",
     "text": [
      "                                                                                \r"
     ]
    },
    {
     "name": "stdout",
     "output_type": "stream",
     "text": [
      "-------------------------------------------\n",
      "Time: 2023-05-14 13:51:46\n",
      "-------------------------------------------\n",
      "('CAT17', ('CAT17', ['2305152', '2022-08-01', '1', 'CAT17', '0.0', '-1.0', '213', '2', '2022', '31', '2022-213', '31', '2022-31']))\n",
      "('CB02411', ('CB02411', ['2305153', '2022-08-01', '1', 'CB02411', '1.0', '17.0', '213', '2', '2022', '31', '2022-213', '31', '2022-31']))\n",
      "('CB1101', ('CB1101', ['2305154', '2022-08-01', '1', 'CB1101', '0.0', '-1.0', '213', '2', '2022', '31', '2022-213', '31', '2022-31']))\n",
      "('CB1142', ('CB1142', ['2305155', '2022-08-01', '1', 'CB1142', '2.0', '16.0', '213', '2', '2022', '31', '2022-213', '31', '2022-31']))\n",
      "('CB1143', ('CB1143', ['2305156', '2022-08-01', '1', 'CB1143', '4.0', '24.0', '213', '2', '2022', '31', '2022-213', '31', '2022-31']))\n",
      "('CB1599', ('CB1599', ['2305157', '2022-08-01', '1', 'CB1599', '1.0', '24.0', '213', '2', '2022', '31', '2022-213', '31', '2022-31']))\n",
      "('CB1699', ('CB1699', ['2305158', '2022-08-01', '1', 'CB1699', '1.0', '18.0', '213', '2', '2022', '31', '2022-213', '31', '2022-31']))\n",
      "('CB2105', ('CB2105', ['2305159', '2022-08-01', '1', 'CB2105', '6.0', '16.0', '213', '2', '2022', '31', '2022-213', '31', '2022-31']))\n",
      "('CEE016', ('CEE016', ['2305160', '2022-08-01', '1', 'CEE016', '6.0', '16.0', '213', '2', '2022', '31', '2022-213', '31', '2022-31']))\n",
      "('CEK049', ('CEK049', ['2305161', '2022-08-01', '1', 'CEK049', '0.0', '-1.0', '213', '2', '2022', '31', '2022-213', '31', '2022-31']))\n",
      "...\n",
      "\n"
     ]
    },
    {
     "name": "stderr",
     "output_type": "stream",
     "text": [
      "                                                                                \r"
     ]
    },
    {
     "name": "stdout",
     "output_type": "stream",
     "text": [
      "-------------------------------------------\n",
      "Time: 2023-05-14 13:51:48\n",
      "-------------------------------------------\n",
      "('CAT17', ('CAT17', ['2317248', '2022-08-08', '1', 'CAT17', '2.0', '20.0', '220', '2', '2022', '32', '2022-220', '32', '2022-32']))\n",
      "('CB02411', ('CB02411', ['2317249', '2022-08-08', '1', 'CB02411', '3.0', '18.0', '220', '2', '2022', '32', '2022-220', '32', '2022-32']))\n",
      "('CB1101', ('CB1101', ['2317250', '2022-08-08', '1', 'CB1101', '0.0', '-1.0', '220', '2', '2022', '32', '2022-220', '32', '2022-32']))\n",
      "('CB1142', ('CB1142', ['2317251', '2022-08-08', '1', 'CB1142', '1.0', '17.0', '220', '2', '2022', '32', '2022-220', '32', '2022-32']))\n",
      "('CB1143', ('CB1143', ['2317252', '2022-08-08', '1', 'CB1143', '5.0', '18.0', '220', '2', '2022', '32', '2022-220', '32', '2022-32']))\n",
      "('CB1599', ('CB1599', ['2317253', '2022-08-08', '1', 'CB1599', '0.0', '-1.0', '220', '2', '2022', '32', '2022-220', '32', '2022-32']))\n",
      "('CB1699', ('CB1699', ['2317254', '2022-08-08', '1', 'CB1699', '0.0', '-1.0', '220', '2', '2022', '32', '2022-220', '32', '2022-32']))\n",
      "('CB2105', ('CB2105', ['2317255', '2022-08-08', '1', 'CB2105', '5.0', '20.0', '220', '2', '2022', '32', '2022-220', '32', '2022-32']))\n",
      "('CEE016', ('CEE016', ['2317256', '2022-08-08', '1', 'CEE016', '2.0', '20.0', '220', '2', '2022', '32', '2022-220', '32', '2022-32']))\n",
      "('CEK049', ('CEK049', ['2317257', '2022-08-08', '1', 'CEK049', '4.0', '20.0', '220', '2', '2022', '32', '2022-220', '32', '2022-32']))\n",
      "...\n",
      "\n"
     ]
    },
    {
     "name": "stderr",
     "output_type": "stream",
     "text": [
      "                                                                                \r"
     ]
    },
    {
     "name": "stdout",
     "output_type": "stream",
     "text": [
      "-------------------------------------------\n",
      "Time: 2023-05-14 13:51:50\n",
      "-------------------------------------------\n",
      "('CAT17', ('CAT17', ['2329344', '2022-08-15', '1', 'CAT17', '0.0', '-1.0', '227', '2', '2022', '33', '2022-227', '33', '2022-33']))\n",
      "('CB02411', ('CB02411', ['2329345', '2022-08-15', '1', 'CB02411', '3.0', '18.0', '227', '2', '2022', '33', '2022-227', '33', '2022-33']))\n",
      "('CB1101', ('CB1101', ['2329346', '2022-08-15', '1', 'CB1101', '0.0', '-1.0', '227', '2', '2022', '33', '2022-227', '33', '2022-33']))\n",
      "('CB1142', ('CB1142', ['2329347', '2022-08-15', '1', 'CB1142', '4.0', '15.0', '227', '2', '2022', '33', '2022-227', '33', '2022-33']))\n",
      "('CB1143', ('CB1143', ['2329348', '2022-08-15', '1', 'CB1143', '14.0', '20.0', '227', '2', '2022', '33', '2022-227', '33', '2022-33']))\n",
      "('CB1599', ('CB1599', ['2329349', '2022-08-15', '1', 'CB1599', '1.0', '19.0', '227', '2', '2022', '33', '2022-227', '33', '2022-33']))\n",
      "('CB1699', ('CB1699', ['2329350', '2022-08-15', '1', 'CB1699', '2.0', '18.0', '227', '2', '2022', '33', '2022-227', '33', '2022-33']))\n",
      "('CB2105', ('CB2105', ['2329351', '2022-08-15', '1', 'CB2105', '6.0', '15.0', '227', '2', '2022', '33', '2022-227', '33', '2022-33']))\n",
      "('CEE016', ('CEE016', ['2329352', '2022-08-15', '1', 'CEE016', '1.0', '10.0', '227', '2', '2022', '33', '2022-227', '33', '2022-33']))\n",
      "('CEK049', ('CEK049', ['2329353', '2022-08-15', '1', 'CEK049', '8.0', '21.0', '227', '2', '2022', '33', '2022-227', '33', '2022-33']))\n",
      "...\n",
      "\n"
     ]
    },
    {
     "name": "stderr",
     "output_type": "stream",
     "text": [
      "                                                                                \r"
     ]
    },
    {
     "name": "stdout",
     "output_type": "stream",
     "text": [
      "-------------------------------------------\n",
      "Time: 2023-05-14 13:51:52\n",
      "-------------------------------------------\n",
      "('CEK31', ('CEK31', ['2331317', '2022-08-16', '14', 'CEK31', '3.0', '22.0', '228', '3', '2022', '33', '2022-228', '33', '2022-33']))\n",
      "('CEV011', ('CEV011', ['2331318', '2022-08-16', '14', 'CEV011', '1.0', '15.0', '228', '3', '2022', '33', '2022-228', '33', '2022-33']))\n",
      "('CJE181', ('CJE181', ['2331319', '2022-08-16', '14', 'CJE181', '3.0', '16.0', '228', '3', '2022', '33', '2022-228', '33', '2022-33']))\n",
      "('CJM90', ('CJM90', ['2331320', '2022-08-16', '14', 'CJM90', '17.0', '21.0', '228', '3', '2022', '33', '2022-228', '33', '2022-33']))\n",
      "('CLW239', ('CLW239', ['2331321', '2022-08-16', '14', 'CLW239', '0.0', '-1.0', '228', '3', '2022', '33', '2022-228', '33', '2022-33']))\n",
      "('COM205', ('COM205', ['2331322', '2022-08-16', '14', 'COM205', '2.0', '20.0', '228', '3', '2022', '33', '2022-228', '33', '2022-33']))\n",
      "('CVT387', ('CVT387', ['2331323', '2022-08-16', '14', 'CVT387', '0.0', '-1.0', '228', '3', '2022', '33', '2022-228', '33', '2022-33']))\n",
      "('CAT17', ('CAT17', ['2331324', '2022-08-16', '15', 'CAT17', '6.0', '20.0', '228', '3', '2022', '33', '2022-228', '33', '2022-33']))\n",
      "('CB02411', ('CB02411', ['2331325', '2022-08-16', '15', 'CB02411', '12.0', '22.0', '228', '3', '2022', '33', '2022-228', '33', '2022-33']))\n",
      "('CB1101', ('CB1101', ['2331326', '2022-08-16', '15', 'CB1101', '0.0', '-1.0', '228', '3', '2022', '33', '2022-228', '33', '2022-33']))\n",
      "...\n",
      "\n"
     ]
    },
    {
     "name": "stderr",
     "output_type": "stream",
     "text": [
      "                                                                                \r"
     ]
    },
    {
     "name": "stdout",
     "output_type": "stream",
     "text": [
      "-------------------------------------------\n",
      "Time: 2023-05-14 13:51:54\n",
      "-------------------------------------------\n",
      "('CAT17', ('CAT17', ['2341440', '2022-08-22', '1', 'CAT17', '4.0', '17.0', '234', '2', '2022', '34', '2022-234', '34', '2022-34']))\n",
      "('CB02411', ('CB02411', ['2341441', '2022-08-22', '1', 'CB02411', '1.0', '18.0', '234', '2', '2022', '34', '2022-234', '34', '2022-34']))\n",
      "('CB1101', ('CB1101', ['2341442', '2022-08-22', '1', 'CB1101', '0.0', '-1.0', '234', '2', '2022', '34', '2022-234', '34', '2022-34']))\n",
      "('CB1142', ('CB1142', ['2341443', '2022-08-22', '1', 'CB1142', '2.0', '17.0', '234', '2', '2022', '34', '2022-234', '34', '2022-34']))\n",
      "('CB1143', ('CB1143', ['2341444', '2022-08-22', '1', 'CB1143', '2.0', '20.0', '234', '2', '2022', '34', '2022-234', '34', '2022-34']))\n",
      "('CB1599', ('CB1599', ['2341445', '2022-08-22', '1', 'CB1599', '0.0', '-1.0', '234', '2', '2022', '34', '2022-234', '34', '2022-34']))\n",
      "('CB1699', ('CB1699', ['2341446', '2022-08-22', '1', 'CB1699', '1.0', '16.0', '234', '2', '2022', '34', '2022-234', '34', '2022-34']))\n",
      "('CB2105', ('CB2105', ['2341447', '2022-08-22', '1', 'CB2105', '8.0', '23.0', '234', '2', '2022', '34', '2022-234', '34', '2022-34']))\n",
      "('CEE016', ('CEE016', ['2341448', '2022-08-22', '1', 'CEE016', '1.0', '21.0', '234', '2', '2022', '34', '2022-234', '34', '2022-34']))\n",
      "('CEK049', ('CEK049', ['2341449', '2022-08-22', '1', 'CEK049', '3.0', '19.0', '234', '2', '2022', '34', '2022-234', '34', '2022-34']))\n",
      "...\n",
      "\n"
     ]
    },
    {
     "name": "stderr",
     "output_type": "stream",
     "text": [
      "                                                                                \r"
     ]
    },
    {
     "name": "stdout",
     "output_type": "stream",
     "text": [
      "-------------------------------------------\n",
      "Time: 2023-05-14 13:51:56\n",
      "-------------------------------------------\n",
      "('CAT17', ('CAT17', ['2353536', '2022-08-29', '1', 'CAT17', '0.0', '-1.0', '241', '2', '2022', '35', '2022-241', '35', '2022-35']))\n",
      "('CB02411', ('CB02411', ['2353537', '2022-08-29', '1', 'CB02411', '1.0', '15.0', '241', '2', '2022', '35', '2022-241', '35', '2022-35']))\n",
      "('CB1101', ('CB1101', ['2353538', '2022-08-29', '1', 'CB1101', '0.0', '-1.0', '241', '2', '2022', '35', '2022-241', '35', '2022-35']))\n",
      "('CB1142', ('CB1142', ['2353539', '2022-08-29', '1', 'CB1142', '3.0', '17.0', '241', '2', '2022', '35', '2022-241', '35', '2022-35']))\n",
      "('CB1143', ('CB1143', ['2353540', '2022-08-29', '1', 'CB1143', '7.0', '18.0', '241', '2', '2022', '35', '2022-241', '35', '2022-35']))\n",
      "('CB1599', ('CB1599', ['2353541', '2022-08-29', '1', 'CB1599', '2.0', '20.0', '241', '2', '2022', '35', '2022-241', '35', '2022-35']))\n",
      "('CB1699', ('CB1699', ['2353542', '2022-08-29', '1', 'CB1699', '0.0', '-1.0', '241', '2', '2022', '35', '2022-241', '35', '2022-35']))\n",
      "('CB2105', ('CB2105', ['2353543', '2022-08-29', '1', 'CB2105', '7.0', '20.0', '241', '2', '2022', '35', '2022-241', '35', '2022-35']))\n",
      "('CEE016', ('CEE016', ['2353544', '2022-08-29', '1', 'CEE016', '3.0', '18.0', '241', '2', '2022', '35', '2022-241', '35', '2022-35']))\n",
      "('CEK049', ('CEK049', ['2353545', '2022-08-29', '1', 'CEK049', '3.0', '12.0', '241', '2', '2022', '35', '2022-241', '35', '2022-35']))\n",
      "...\n",
      "\n"
     ]
    },
    {
     "name": "stderr",
     "output_type": "stream",
     "text": [
      "                                                                                \r"
     ]
    },
    {
     "name": "stdout",
     "output_type": "stream",
     "text": [
      "-------------------------------------------\n",
      "Time: 2023-05-14 13:51:58\n",
      "-------------------------------------------\n",
      "\n"
     ]
    },
    {
     "name": "stderr",
     "output_type": "stream",
     "text": [
      "                                                                                \r"
     ]
    },
    {
     "name": "stdout",
     "output_type": "stream",
     "text": [
      "-------------------------------------------\n",
      "Time: 2023-05-14 13:52:00\n",
      "-------------------------------------------\n",
      "('CAT17', ('CAT17', ['2365632', '2022-09-05', '1', 'CAT17', '1.0', '26.0', '248', '2', '2022', '36', '2022-248', '36', '2022-36']))\n",
      "('CB02411', ('CB02411', ['2365633', '2022-09-05', '1', 'CB02411', '7.0', '20.0', '248', '2', '2022', '36', '2022-248', '36', '2022-36']))\n",
      "('CB1101', ('CB1101', ['2365634', '2022-09-05', '1', 'CB1101', '0.0', '-1.0', '248', '2', '2022', '36', '2022-248', '36', '2022-36']))\n",
      "('CB1142', ('CB1142', ['2365635', '2022-09-05', '1', 'CB1142', '2.0', '28.0', '248', '2', '2022', '36', '2022-248', '36', '2022-36']))\n",
      "('CB1143', ('CB1143', ['2365636', '2022-09-05', '1', 'CB1143', '3.0', '14.0', '248', '2', '2022', '36', '2022-248', '36', '2022-36']))\n",
      "('CB1599', ('CB1599', ['2365637', '2022-09-05', '1', 'CB1599', '0.0', '-1.0', '248', '2', '2022', '36', '2022-248', '36', '2022-36']))\n",
      "('CB1699', ('CB1699', ['2365638', '2022-09-05', '1', 'CB1699', '1.0', '15.0', '248', '2', '2022', '36', '2022-248', '36', '2022-36']))\n",
      "('CB2105', ('CB2105', ['2365639', '2022-09-05', '1', 'CB2105', '5.0', '18.0', '248', '2', '2022', '36', '2022-248', '36', '2022-36']))\n",
      "('CEE016', ('CEE016', ['2365640', '2022-09-05', '1', 'CEE016', '0.0', '-1.0', '248', '2', '2022', '36', '2022-248', '36', '2022-36']))\n",
      "('CEK049', ('CEK049', ['2365641', '2022-09-05', '1', 'CEK049', '4.0', '18.0', '248', '2', '2022', '36', '2022-248', '36', '2022-36']))\n",
      "...\n",
      "\n"
     ]
    },
    {
     "name": "stderr",
     "output_type": "stream",
     "text": [
      "                                                                                \r"
     ]
    },
    {
     "name": "stdout",
     "output_type": "stream",
     "text": [
      "-------------------------------------------\n",
      "Time: 2023-05-14 13:52:02\n",
      "-------------------------------------------\n",
      "('CAT17', ('CAT17', ['2377728', '2022-09-12', '1', 'CAT17', '0.0', '-1.0', '255', '2', '2022', '37', '2022-255', '37', '2022-37']))\n",
      "('CB02411', ('CB02411', ['2377729', '2022-09-12', '1', 'CB02411', '0.0', '-1.0', '255', '2', '2022', '37', '2022-255', '37', '2022-37']))\n",
      "('CB1101', ('CB1101', ['2377730', '2022-09-12', '1', 'CB1101', '0.0', '-1.0', '255', '2', '2022', '37', '2022-255', '37', '2022-37']))\n",
      "('CB1142', ('CB1142', ['2377731', '2022-09-12', '1', 'CB1142', '1.0', '16.0', '255', '2', '2022', '37', '2022-255', '37', '2022-37']))\n",
      "('CB1143', ('CB1143', ['2377732', '2022-09-12', '1', 'CB1143', '3.0', '18.0', '255', '2', '2022', '37', '2022-255', '37', '2022-37']))\n",
      "('CB1599', ('CB1599', ['2377733', '2022-09-12', '1', 'CB1599', '0.0', '-1.0', '255', '2', '2022', '37', '2022-255', '37', '2022-37']))\n",
      "('CB1699', ('CB1699', ['2377734', '2022-09-12', '1', 'CB1699', '0.0', '-1.0', '255', '2', '2022', '37', '2022-255', '37', '2022-37']))\n",
      "('CB2105', ('CB2105', ['2377735', '2022-09-12', '1', 'CB2105', '10.0', '20.0', '255', '2', '2022', '37', '2022-255', '37', '2022-37']))\n",
      "('CEE016', ('CEE016', ['2377736', '2022-09-12', '1', 'CEE016', '0.0', '-1.0', '255', '2', '2022', '37', '2022-255', '37', '2022-37']))\n",
      "('CEK049', ('CEK049', ['2377737', '2022-09-12', '1', 'CEK049', '2.0', '21.0', '255', '2', '2022', '37', '2022-255', '37', '2022-37']))\n",
      "...\n",
      "\n"
     ]
    },
    {
     "name": "stderr",
     "output_type": "stream",
     "text": [
      "                                                                                \r"
     ]
    },
    {
     "name": "stdout",
     "output_type": "stream",
     "text": [
      "-------------------------------------------\n",
      "Time: 2023-05-14 13:52:04\n",
      "-------------------------------------------\n",
      "('CAT17', ('CAT17', ['2389824', '2022-09-19', '1', 'CAT17', '2.0', '23.0', '262', '2', '2022', '38', '2022-262', '38', '2022-38']))\n",
      "('CB02411', ('CB02411', ['2389825', '2022-09-19', '1', 'CB02411', '2.0', '19.0', '262', '2', '2022', '38', '2022-262', '38', '2022-38']))\n",
      "('CB1101', ('CB1101', ['2389826', '2022-09-19', '1', 'CB1101', '0.0', '-1.0', '262', '2', '2022', '38', '2022-262', '38', '2022-38']))\n",
      "('CB1142', ('CB1142', ['2389827', '2022-09-19', '1', 'CB1142', '4.0', '18.0', '262', '2', '2022', '38', '2022-262', '38', '2022-38']))\n",
      "('CB1143', ('CB1143', ['2389828', '2022-09-19', '1', 'CB1143', '1.0', '21.0', '262', '2', '2022', '38', '2022-262', '38', '2022-38']))\n",
      "('CB1599', ('CB1599', ['2389829', '2022-09-19', '1', 'CB1599', '0.0', '-1.0', '262', '2', '2022', '38', '2022-262', '38', '2022-38']))\n",
      "('CB1699', ('CB1699', ['2389830', '2022-09-19', '1', 'CB1699', '0.0', '-1.0', '262', '2', '2022', '38', '2022-262', '38', '2022-38']))\n",
      "('CB2105', ('CB2105', ['2389831', '2022-09-19', '1', 'CB2105', '6.0', '21.0', '262', '2', '2022', '38', '2022-262', '38', '2022-38']))\n",
      "('CEE016', ('CEE016', ['2389832', '2022-09-19', '1', 'CEE016', '0.0', '-1.0', '262', '2', '2022', '38', '2022-262', '38', '2022-38']))\n",
      "('CEK049', ('CEK049', ['2389833', '2022-09-19', '1', 'CEK049', '0.0', '-1.0', '262', '2', '2022', '38', '2022-262', '38', '2022-38']))\n",
      "...\n",
      "\n"
     ]
    },
    {
     "name": "stderr",
     "output_type": "stream",
     "text": [
      "                                                                                \r"
     ]
    },
    {
     "name": "stdout",
     "output_type": "stream",
     "text": [
      "-------------------------------------------\n",
      "Time: 2023-05-14 13:52:06\n",
      "-------------------------------------------\n",
      "('CLW239', ('CLW239', ['2391297', '2022-09-19', '82', 'CLW239', '3.0', '25.0', '262', '2', '2022', '38', '2022-262', '38', '2022-38']))\n",
      "('COM205', ('COM205', ['2391298', '2022-09-19', '82', 'COM205', '11.0', '21.0', '262', '2', '2022', '38', '2022-262', '38', '2022-38']))\n",
      "('CVT387', ('CVT387', ['2391299', '2022-09-19', '82', 'CVT387', '10.0', '21.0', '262', '2', '2022', '38', '2022-262', '38', '2022-38']))\n",
      "('CAT17', ('CAT17', ['2391300', '2022-09-19', '83', 'CAT17', '7.0', '22.0', '262', '2', '2022', '38', '2022-262', '38', '2022-38']))\n",
      "('CB02411', ('CB02411', ['2391301', '2022-09-19', '83', 'CB02411', '8.0', '18.0', '262', '2', '2022', '38', '2022-262', '38', '2022-38']))\n",
      "('CB1101', ('CB1101', ['2391302', '2022-09-19', '83', 'CB1101', '0.0', '-1.0', '262', '2', '2022', '38', '2022-262', '38', '2022-38']))\n",
      "('CB1142', ('CB1142', ['2391303', '2022-09-19', '83', 'CB1142', '14.0', '21.0', '262', '2', '2022', '38', '2022-262', '38', '2022-38']))\n",
      "('CB1143', ('CB1143', ['2391304', '2022-09-19', '83', 'CB1143', '27.0', '21.0', '262', '2', '2022', '38', '2022-262', '38', '2022-38']))\n",
      "('CB1599', ('CB1599', ['2391305', '2022-09-19', '83', 'CB1599', '5.0', '19.0', '262', '2', '2022', '38', '2022-262', '38', '2022-38']))\n",
      "('CB1699', ('CB1699', ['2391306', '2022-09-19', '83', 'CB1699', '2.0', '15.0', '262', '2', '2022', '38', '2022-262', '38', '2022-38']))\n",
      "...\n",
      "\n"
     ]
    },
    {
     "name": "stderr",
     "output_type": "stream",
     "text": [
      "                                                                                \r"
     ]
    },
    {
     "name": "stdout",
     "output_type": "stream",
     "text": [
      "-------------------------------------------\n",
      "Time: 2023-05-14 13:52:08\n",
      "-------------------------------------------\n",
      "('CAT17', ('CAT17', ['2401920', '2022-09-26', '1', 'CAT17', '0.0', '-1.0', '269', '2', '2022', '39', '2022-269', '39', '2022-39']))\n",
      "('CB02411', ('CB02411', ['2401921', '2022-09-26', '1', 'CB02411', '2.0', '19.0', '269', '2', '2022', '39', '2022-269', '39', '2022-39']))\n",
      "('CB1101', ('CB1101', ['2401922', '2022-09-26', '1', 'CB1101', '0.0', '-1.0', '269', '2', '2022', '39', '2022-269', '39', '2022-39']))\n",
      "('CB1142', ('CB1142', ['2401923', '2022-09-26', '1', 'CB1142', '7.0', '18.0', '269', '2', '2022', '39', '2022-269', '39', '2022-39']))\n",
      "('CB1143', ('CB1143', ['2401924', '2022-09-26', '1', 'CB1143', '3.0', '20.0', '269', '2', '2022', '39', '2022-269', '39', '2022-39']))\n",
      "('CB1599', ('CB1599', ['2401925', '2022-09-26', '1', 'CB1599', '0.0', '-1.0', '269', '2', '2022', '39', '2022-269', '39', '2022-39']))\n",
      "('CB1699', ('CB1699', ['2401926', '2022-09-26', '1', 'CB1699', '0.0', '-1.0', '269', '2', '2022', '39', '2022-269', '39', '2022-39']))\n",
      "('CB2105', ('CB2105', ['2401927', '2022-09-26', '1', 'CB2105', '0.0', '-1.0', '269', '2', '2022', '39', '2022-269', '39', '2022-39']))\n",
      "('CEE016', ('CEE016', ['2401928', '2022-09-26', '1', 'CEE016', '3.0', '19.0', '269', '2', '2022', '39', '2022-269', '39', '2022-39']))\n",
      "('CEK049', ('CEK049', ['2401929', '2022-09-26', '1', 'CEK049', '0.0', '-1.0', '269', '2', '2022', '39', '2022-269', '39', '2022-39']))\n",
      "...\n",
      "\n"
     ]
    },
    {
     "name": "stderr",
     "output_type": "stream",
     "text": [
      "                                                                                \r"
     ]
    },
    {
     "name": "stdout",
     "output_type": "stream",
     "text": [
      "-------------------------------------------\n",
      "Time: 2023-05-14 13:52:10\n",
      "-------------------------------------------\n",
      "('CAT17', ('CAT17', ['2414016', '2022-10-03', '1', 'CAT17', '3.0', '21.0', '276', '2', '2022', '40', '2022-276', '40', '2022-40']))\n",
      "('CB02411', ('CB02411', ['2414017', '2022-10-03', '1', 'CB02411', '1.0', '19.0', '276', '2', '2022', '40', '2022-276', '40', '2022-40']))\n",
      "('CB1101', ('CB1101', ['2414018', '2022-10-03', '1', 'CB1101', '0.0', '-1.0', '276', '2', '2022', '40', '2022-276', '40', '2022-40']))\n",
      "('CB1142', ('CB1142', ['2414019', '2022-10-03', '1', 'CB1142', '1.0', '25.0', '276', '2', '2022', '40', '2022-276', '40', '2022-40']))\n",
      "('CB1143', ('CB1143', ['2414020', '2022-10-03', '1', 'CB1143', '4.0', '17.0', '276', '2', '2022', '40', '2022-276', '40', '2022-40']))\n",
      "('CB1599', ('CB1599', ['2414021', '2022-10-03', '1', 'CB1599', '1.0', '25.0', '276', '2', '2022', '40', '2022-276', '40', '2022-40']))\n",
      "('CB1699', ('CB1699', ['2414022', '2022-10-03', '1', 'CB1699', '0.0', '-1.0', '276', '2', '2022', '40', '2022-276', '40', '2022-40']))\n",
      "('CB2105', ('CB2105', ['2414023', '2022-10-03', '1', 'CB2105', '1.0', '27.0', '276', '2', '2022', '40', '2022-276', '40', '2022-40']))\n",
      "('CEE016', ('CEE016', ['2414024', '2022-10-03', '1', 'CEE016', '3.0', '17.0', '276', '2', '2022', '40', '2022-276', '40', '2022-40']))\n",
      "('CEK049', ('CEK049', ['2414025', '2022-10-03', '1', 'CEK049', '1.0', '10.0', '276', '2', '2022', '40', '2022-276', '40', '2022-40']))\n",
      "...\n",
      "\n"
     ]
    },
    {
     "name": "stderr",
     "output_type": "stream",
     "text": [
      "                                                                                \r"
     ]
    },
    {
     "name": "stdout",
     "output_type": "stream",
     "text": [
      "-------------------------------------------\n",
      "Time: 2023-05-14 13:52:12\n",
      "-------------------------------------------\n",
      "\n"
     ]
    },
    {
     "name": "stderr",
     "output_type": "stream",
     "text": [
      "                                                                                \r"
     ]
    },
    {
     "name": "stdout",
     "output_type": "stream",
     "text": [
      "-------------------------------------------\n",
      "Time: 2023-05-14 13:52:14\n",
      "-------------------------------------------\n",
      "('CAT17', ('CAT17', ['2426112', '2022-10-10', '1', 'CAT17', '1.0', '27.0', '283', '2', '2022', '41', '2022-283', '41', '2022-41']))\n",
      "('CB02411', ('CB02411', ['2426113', '2022-10-10', '1', 'CB02411', '0.0', '-1.0', '283', '2', '2022', '41', '2022-283', '41', '2022-41']))\n",
      "('CB1101', ('CB1101', ['2426114', '2022-10-10', '1', 'CB1101', '0.0', '-1.0', '283', '2', '2022', '41', '2022-283', '41', '2022-41']))\n",
      "('CB1142', ('CB1142', ['2426115', '2022-10-10', '1', 'CB1142', '0.0', '-1.0', '283', '2', '2022', '41', '2022-283', '41', '2022-41']))\n",
      "('CB1143', ('CB1143', ['2426116', '2022-10-10', '1', 'CB1143', '2.0', '22.0', '283', '2', '2022', '41', '2022-283', '41', '2022-41']))\n",
      "('CB1599', ('CB1599', ['2426117', '2022-10-10', '1', 'CB1599', '0.0', '-1.0', '283', '2', '2022', '41', '2022-283', '41', '2022-41']))\n",
      "('CB1699', ('CB1699', ['2426118', '2022-10-10', '1', 'CB1699', '0.0', '-1.0', '283', '2', '2022', '41', '2022-283', '41', '2022-41']))\n",
      "('CB2105', ('CB2105', ['2426119', '2022-10-10', '1', 'CB2105', '5.0', '22.0', '283', '2', '2022', '41', '2022-283', '41', '2022-41']))\n",
      "('CEE016', ('CEE016', ['2426120', '2022-10-10', '1', 'CEE016', '1.0', '8.0', '283', '2', '2022', '41', '2022-283', '41', '2022-41']))\n",
      "('CEK049', ('CEK049', ['2426121', '2022-10-10', '1', 'CEK049', '0.0', '-1.0', '283', '2', '2022', '41', '2022-283', '41', '2022-41']))\n",
      "...\n",
      "\n"
     ]
    },
    {
     "name": "stderr",
     "output_type": "stream",
     "text": [
      "                                                                                \r"
     ]
    },
    {
     "name": "stdout",
     "output_type": "stream",
     "text": [
      "-------------------------------------------\n",
      "Time: 2023-05-14 13:52:16\n",
      "-------------------------------------------\n",
      "('CAT17', ('CAT17', ['2438208', '2022-10-17', '1', 'CAT17', '0.0', '-1.0', '290', '2', '2022', '42', '2022-290', '42', '2022-42']))\n",
      "('CB02411', ('CB02411', ['2438209', '2022-10-17', '1', 'CB02411', '0.0', '-1.0', '290', '2', '2022', '42', '2022-290', '42', '2022-42']))\n",
      "('CB1101', ('CB1101', ['2438210', '2022-10-17', '1', 'CB1101', '0.0', '-1.0', '290', '2', '2022', '42', '2022-290', '42', '2022-42']))\n",
      "('CB1142', ('CB1142', ['2438211', '2022-10-17', '1', 'CB1142', '1.0', '25.0', '290', '2', '2022', '42', '2022-290', '42', '2022-42']))\n",
      "('CB1143', ('CB1143', ['2438212', '2022-10-17', '1', 'CB1143', '7.0', '20.0', '290', '2', '2022', '42', '2022-290', '42', '2022-42']))\n",
      "('CB1599', ('CB1599', ['2438213', '2022-10-17', '1', 'CB1599', '0.0', '-1.0', '290', '2', '2022', '42', '2022-290', '42', '2022-42']))\n",
      "('CB1699', ('CB1699', ['2438214', '2022-10-17', '1', 'CB1699', '1.0', '15.0', '290', '2', '2022', '42', '2022-290', '42', '2022-42']))\n",
      "('CB2105', ('CB2105', ['2438215', '2022-10-17', '1', 'CB2105', '5.0', '18.0', '290', '2', '2022', '42', '2022-290', '42', '2022-42']))\n",
      "('CEE016', ('CEE016', ['2438216', '2022-10-17', '1', 'CEE016', '0.0', '-1.0', '290', '2', '2022', '42', '2022-290', '42', '2022-42']))\n",
      "('CEK049', ('CEK049', ['2438217', '2022-10-17', '1', 'CEK049', '5.0', '15.0', '290', '2', '2022', '42', '2022-290', '42', '2022-42']))\n",
      "...\n",
      "\n"
     ]
    },
    {
     "name": "stderr",
     "output_type": "stream",
     "text": [
      "                                                                                \r"
     ]
    },
    {
     "name": "stdout",
     "output_type": "stream",
     "text": [
      "-------------------------------------------\n",
      "Time: 2023-05-14 13:52:18\n",
      "-------------------------------------------\n",
      "('CAT17', ('CAT17', ['2450304', '2022-10-24', '1', 'CAT17', '1.0', '22.0', '297', '2', '2022', '43', '2022-297', '43', '2022-43']))\n",
      "('CB02411', ('CB02411', ['2450305', '2022-10-24', '1', 'CB02411', '0.0', '-1.0', '297', '2', '2022', '43', '2022-297', '43', '2022-43']))\n",
      "('CB1101', ('CB1101', ['2450306', '2022-10-24', '1', 'CB1101', '0.0', '-1.0', '297', '2', '2022', '43', '2022-297', '43', '2022-43']))\n",
      "('CB1142', ('CB1142', ['2450307', '2022-10-24', '1', 'CB1142', '3.0', '14.0', '297', '2', '2022', '43', '2022-297', '43', '2022-43']))\n",
      "('CB1143', ('CB1143', ['2450308', '2022-10-24', '1', 'CB1143', '6.0', '21.0', '297', '2', '2022', '43', '2022-297', '43', '2022-43']))\n",
      "('CB1599', ('CB1599', ['2450309', '2022-10-24', '1', 'CB1599', '0.0', '-1.0', '297', '2', '2022', '43', '2022-297', '43', '2022-43']))\n",
      "('CB1699', ('CB1699', ['2450310', '2022-10-24', '1', 'CB1699', '0.0', '-1.0', '297', '2', '2022', '43', '2022-297', '43', '2022-43']))\n",
      "('CB2105', ('CB2105', ['2450311', '2022-10-24', '1', 'CB2105', '5.0', '22.0', '297', '2', '2022', '43', '2022-297', '43', '2022-43']))\n",
      "('CEE016', ('CEE016', ['2450312', '2022-10-24', '1', 'CEE016', '0.0', '-1.0', '297', '2', '2022', '43', '2022-297', '43', '2022-43']))\n",
      "('CEK049', ('CEK049', ['2450313', '2022-10-24', '1', 'CEK049', '3.0', '21.0', '297', '2', '2022', '43', '2022-297', '43', '2022-43']))\n",
      "...\n",
      "\n"
     ]
    },
    {
     "name": "stderr",
     "output_type": "stream",
     "text": [
      "                                                                                \r"
     ]
    },
    {
     "name": "stdout",
     "output_type": "stream",
     "text": [
      "-------------------------------------------\n",
      "Time: 2023-05-14 13:52:20\n",
      "-------------------------------------------\n",
      "('CB1699', ('CB1699', ['2453856', '2022-10-26', '6', 'CB1699', '0.0', '-1.0', '299', '4', '2022', '43', '2022-299', '43', '2022-43']))\n",
      "('CB2105', ('CB2105', ['2453857', '2022-10-26', '6', 'CB2105', '4.0', '17.0', '299', '4', '2022', '43', '2022-299', '43', '2022-43']))\n",
      "('CEE016', ('CEE016', ['2453858', '2022-10-26', '6', 'CEE016', '2.0', '19.0', '299', '4', '2022', '43', '2022-299', '43', '2022-43']))\n",
      "('CEK049', ('CEK049', ['2453859', '2022-10-26', '6', 'CEK049', '3.0', '18.0', '299', '4', '2022', '43', '2022-299', '43', '2022-43']))\n",
      "('CEK18', ('CEK18', ['2453860', '2022-10-26', '6', 'CEK18', '0.0', '-1.0', '299', '4', '2022', '43', '2022-299', '43', '2022-43']))\n",
      "('CEK31', ('CEK31', ['2453861', '2022-10-26', '6', 'CEK31', '0.0', '-1.0', '299', '4', '2022', '43', '2022-299', '43', '2022-43']))\n",
      "('CEV011', ('CEV011', ['2453862', '2022-10-26', '6', 'CEV011', '0.0', '-1.0', '299', '4', '2022', '43', '2022-299', '43', '2022-43']))\n",
      "('CJE181', ('CJE181', ['2453863', '2022-10-26', '6', 'CJE181', '1.0', '16.0', '299', '4', '2022', '43', '2022-299', '43', '2022-43']))\n",
      "('CJM90', ('CJM90', ['2453864', '2022-10-26', '6', 'CJM90', '6.0', '18.0', '299', '4', '2022', '43', '2022-299', '43', '2022-43']))\n",
      "('CLW239', ('CLW239', ['2453865', '2022-10-26', '6', 'CLW239', '1.0', '18.0', '299', '4', '2022', '43', '2022-299', '43', '2022-43']))\n",
      "...\n",
      "\n"
     ]
    },
    {
     "name": "stderr",
     "output_type": "stream",
     "text": [
      "                                                                                \r"
     ]
    },
    {
     "name": "stdout",
     "output_type": "stream",
     "text": [
      "-------------------------------------------\n",
      "Time: 2023-05-14 13:52:22\n",
      "-------------------------------------------\n",
      "('CAT17', ('CAT17', ['2462400', '2022-10-31', '1', 'CAT17', '0.0', '-1.0', '304', '2', '2022', '44', '2022-304', '44', '2022-44']))\n",
      "('CB02411', ('CB02411', ['2462401', '2022-10-31', '1', 'CB02411', '5.0', '19.0', '304', '2', '2022', '44', '2022-304', '44', '2022-44']))\n",
      "('CB1101', ('CB1101', ['2462402', '2022-10-31', '1', 'CB1101', '0.0', '-1.0', '304', '2', '2022', '44', '2022-304', '44', '2022-44']))\n",
      "('CB1142', ('CB1142', ['2462403', '2022-10-31', '1', 'CB1142', '0.0', '-1.0', '304', '2', '2022', '44', '2022-304', '44', '2022-44']))\n",
      "('CB1143', ('CB1143', ['2462404', '2022-10-31', '1', 'CB1143', '16.0', '19.0', '304', '2', '2022', '44', '2022-304', '44', '2022-44']))\n",
      "('CB1599', ('CB1599', ['2462405', '2022-10-31', '1', 'CB1599', '3.0', '16.0', '304', '2', '2022', '44', '2022-304', '44', '2022-44']))\n",
      "('CB1699', ('CB1699', ['2462406', '2022-10-31', '1', 'CB1699', '1.0', '11.0', '304', '2', '2022', '44', '2022-304', '44', '2022-44']))\n",
      "('CB2105', ('CB2105', ['2462407', '2022-10-31', '1', 'CB2105', '14.0', '18.0', '304', '2', '2022', '44', '2022-304', '44', '2022-44']))\n",
      "('CEE016', ('CEE016', ['2462408', '2022-10-31', '1', 'CEE016', '1.0', '26.0', '304', '2', '2022', '44', '2022-304', '44', '2022-44']))\n",
      "('CEK049', ('CEK049', ['2462409', '2022-10-31', '1', 'CEK049', '9.0', '19.0', '304', '2', '2022', '44', '2022-304', '44', '2022-44']))\n",
      "...\n",
      "\n"
     ]
    },
    {
     "name": "stderr",
     "output_type": "stream",
     "text": [
      "                                                                                \r"
     ]
    },
    {
     "name": "stdout",
     "output_type": "stream",
     "text": [
      "-------------------------------------------\n",
      "Time: 2023-05-14 13:52:24\n",
      "-------------------------------------------\n",
      "('CAT17', ('CAT17', ['2474496', '2022-11-07', '1', 'CAT17', '0.0', '-1.0', '311', '2', '2022', '45', '2022-311', '45', '2022-45']))\n",
      "('CB02411', ('CB02411', ['2474497', '2022-11-07', '1', 'CB02411', '2.0', '17.0', '311', '2', '2022', '45', '2022-311', '45', '2022-45']))\n",
      "('CB1101', ('CB1101', ['2474498', '2022-11-07', '1', 'CB1101', '0.0', '-1.0', '311', '2', '2022', '45', '2022-311', '45', '2022-45']))\n",
      "('CB1142', ('CB1142', ['2474499', '2022-11-07', '1', 'CB1142', '1.0', '17.0', '311', '2', '2022', '45', '2022-311', '45', '2022-45']))\n",
      "('CB1143', ('CB1143', ['2474500', '2022-11-07', '1', 'CB1143', '6.0', '22.0', '311', '2', '2022', '45', '2022-311', '45', '2022-45']))\n",
      "('CB1599', ('CB1599', ['2474501', '2022-11-07', '1', 'CB1599', '0.0', '-1.0', '311', '2', '2022', '45', '2022-311', '45', '2022-45']))\n",
      "('CB1699', ('CB1699', ['2474502', '2022-11-07', '1', 'CB1699', '1.0', '17.0', '311', '2', '2022', '45', '2022-311', '45', '2022-45']))\n",
      "('CB2105', ('CB2105', ['2474503', '2022-11-07', '1', 'CB2105', '3.0', '19.0', '311', '2', '2022', '45', '2022-311', '45', '2022-45']))\n",
      "('CEE016', ('CEE016', ['2474504', '2022-11-07', '1', 'CEE016', '2.0', '19.0', '311', '2', '2022', '45', '2022-311', '45', '2022-45']))\n",
      "('CEK049', ('CEK049', ['2474505', '2022-11-07', '1', 'CEK049', '5.0', '19.0', '311', '2', '2022', '45', '2022-311', '45', '2022-45']))\n",
      "...\n",
      "\n"
     ]
    },
    {
     "name": "stderr",
     "output_type": "stream",
     "text": [
      "                                                                                \r"
     ]
    },
    {
     "name": "stdout",
     "output_type": "stream",
     "text": [
      "-------------------------------------------\n",
      "Time: 2023-05-14 13:52:26\n",
      "-------------------------------------------\n",
      "\n"
     ]
    },
    {
     "name": "stderr",
     "output_type": "stream",
     "text": [
      "                                                                                \r"
     ]
    },
    {
     "name": "stdout",
     "output_type": "stream",
     "text": [
      "-------------------------------------------\n",
      "Time: 2023-05-14 13:52:28\n",
      "-------------------------------------------\n",
      "('CAT17', ('CAT17', ['2486592', '2022-11-14', '1', 'CAT17', '1.0', '11.0', '318', '2', '2022', '46', '2022-318', '46', '2022-46']))\n",
      "('CB02411', ('CB02411', ['2486593', '2022-11-14', '1', 'CB02411', '3.0', '17.0', '318', '2', '2022', '46', '2022-318', '46', '2022-46']))\n",
      "('CB1101', ('CB1101', ['2486594', '2022-11-14', '1', 'CB1101', '0.0', '-1.0', '318', '2', '2022', '46', '2022-318', '46', '2022-46']))\n",
      "('CB1142', ('CB1142', ['2486595', '2022-11-14', '1', 'CB1142', '3.0', '29.0', '318', '2', '2022', '46', '2022-318', '46', '2022-46']))\n",
      "('CB1143', ('CB1143', ['2486596', '2022-11-14', '1', 'CB1143', '4.0', '26.0', '318', '2', '2022', '46', '2022-318', '46', '2022-46']))\n",
      "('CB1599', ('CB1599', ['2486597', '2022-11-14', '1', 'CB1599', '1.0', '19.0', '318', '2', '2022', '46', '2022-318', '46', '2022-46']))\n",
      "('CB1699', ('CB1699', ['2486598', '2022-11-14', '1', 'CB1699', '2.0', '17.0', '318', '2', '2022', '46', '2022-318', '46', '2022-46']))\n",
      "('CB2105', ('CB2105', ['2486599', '2022-11-14', '1', 'CB2105', '4.0', '20.0', '318', '2', '2022', '46', '2022-318', '46', '2022-46']))\n",
      "('CEE016', ('CEE016', ['2486600', '2022-11-14', '1', 'CEE016', '1.0', '14.0', '318', '2', '2022', '46', '2022-318', '46', '2022-46']))\n",
      "('CEK049', ('CEK049', ['2486601', '2022-11-14', '1', 'CEK049', '9.0', '21.0', '318', '2', '2022', '46', '2022-318', '46', '2022-46']))\n",
      "...\n",
      "\n"
     ]
    },
    {
     "name": "stderr",
     "output_type": "stream",
     "text": [
      "                                                                                \r"
     ]
    },
    {
     "name": "stdout",
     "output_type": "stream",
     "text": [
      "-------------------------------------------\n",
      "Time: 2023-05-14 13:52:30\n",
      "-------------------------------------------\n",
      "('CAT17', ('CAT17', ['2498688', '2022-11-21', '1', 'CAT17', '2.0', '17.0', '325', '2', '2022', '47', '2022-325', '47', '2022-47']))\n",
      "('CB02411', ('CB02411', ['2498689', '2022-11-21', '1', 'CB02411', '2.0', '17.0', '325', '2', '2022', '47', '2022-325', '47', '2022-47']))\n",
      "('CB1101', ('CB1101', ['2498690', '2022-11-21', '1', 'CB1101', '0.0', '-1.0', '325', '2', '2022', '47', '2022-325', '47', '2022-47']))\n",
      "('CB1142', ('CB1142', ['2498691', '2022-11-21', '1', 'CB1142', '0.0', '-1.0', '325', '2', '2022', '47', '2022-325', '47', '2022-47']))\n",
      "('CB1143', ('CB1143', ['2498692', '2022-11-21', '1', 'CB1143', '1.0', '21.0', '325', '2', '2022', '47', '2022-325', '47', '2022-47']))\n",
      "('CB1599', ('CB1599', ['2498693', '2022-11-21', '1', 'CB1599', '0.0', '-1.0', '325', '2', '2022', '47', '2022-325', '47', '2022-47']))\n",
      "('CB1699', ('CB1699', ['2498694', '2022-11-21', '1', 'CB1699', '0.0', '-1.0', '325', '2', '2022', '47', '2022-325', '47', '2022-47']))\n",
      "('CB2105', ('CB2105', ['2498695', '2022-11-21', '1', 'CB2105', '4.0', '16.0', '325', '2', '2022', '47', '2022-325', '47', '2022-47']))\n",
      "('CEE016', ('CEE016', ['2498696', '2022-11-21', '1', 'CEE016', '1.0', '17.0', '325', '2', '2022', '47', '2022-325', '47', '2022-47']))\n",
      "('CEK049', ('CEK049', ['2498697', '2022-11-21', '1', 'CEK049', '2.0', '19.0', '325', '2', '2022', '47', '2022-325', '47', '2022-47']))\n",
      "...\n",
      "\n"
     ]
    },
    {
     "name": "stderr",
     "output_type": "stream",
     "text": [
      "                                                                                \r"
     ]
    },
    {
     "name": "stdout",
     "output_type": "stream",
     "text": [
      "-------------------------------------------\n",
      "Time: 2023-05-14 13:52:32\n",
      "-------------------------------------------\n",
      "('CAT17', ('CAT17', ['2510784', '2022-11-28', '1', 'CAT17', '1.0', '16.0', '332', '2', '2022', '48', '2022-332', '48', '2022-48']))\n",
      "('CB02411', ('CB02411', ['2510785', '2022-11-28', '1', 'CB02411', '1.0', '21.0', '332', '2', '2022', '48', '2022-332', '48', '2022-48']))\n",
      "('CB1101', ('CB1101', ['2510786', '2022-11-28', '1', 'CB1101', '0.0', '-1.0', '332', '2', '2022', '48', '2022-332', '48', '2022-48']))\n",
      "('CB1142', ('CB1142', ['2510787', '2022-11-28', '1', 'CB1142', '1.0', '22.0', '332', '2', '2022', '48', '2022-332', '48', '2022-48']))\n",
      "('CB1143', ('CB1143', ['2510788', '2022-11-28', '1', 'CB1143', '4.0', '29.0', '332', '2', '2022', '48', '2022-332', '48', '2022-48']))\n",
      "('CB1599', ('CB1599', ['2510789', '2022-11-28', '1', 'CB1599', '0.0', '-1.0', '332', '2', '2022', '48', '2022-332', '48', '2022-48']))\n",
      "('CB1699', ('CB1699', ['2510790', '2022-11-28', '1', 'CB1699', '0.0', '-1.0', '332', '2', '2022', '48', '2022-332', '48', '2022-48']))\n",
      "('CB2105', ('CB2105', ['2510791', '2022-11-28', '1', 'CB2105', '6.0', '19.0', '332', '2', '2022', '48', '2022-332', '48', '2022-48']))\n",
      "('CEE016', ('CEE016', ['2510792', '2022-11-28', '1', 'CEE016', '0.0', '-1.0', '332', '2', '2022', '48', '2022-332', '48', '2022-48']))\n",
      "('CEK049', ('CEK049', ['2510793', '2022-11-28', '1', 'CEK049', '2.0', '21.0', '332', '2', '2022', '48', '2022-332', '48', '2022-48']))\n",
      "...\n",
      "\n"
     ]
    },
    {
     "name": "stderr",
     "output_type": "stream",
     "text": [
      "                                                                                \r"
     ]
    },
    {
     "name": "stdout",
     "output_type": "stream",
     "text": [
      "-------------------------------------------\n",
      "Time: 2023-05-14 13:52:34\n",
      "-------------------------------------------\n",
      "('CEK18', ('CEK18', ['2513692', '2022-11-29', '66', 'CEK18', '22.0', '14.0', '333', '3', '2022', '48', '2022-333', '48', '2022-48']))\n",
      "('CEK31', ('CEK31', ['2513693', '2022-11-29', '66', 'CEK31', '84.0', '18.0', '333', '3', '2022', '48', '2022-333', '48', '2022-48']))\n",
      "('CEV011', ('CEV011', ['2513694', '2022-11-29', '66', 'CEV011', '18.0', '16.0', '333', '3', '2022', '48', '2022-333', '48', '2022-48']))\n",
      "('CJE181', ('CJE181', ['2513695', '2022-11-29', '66', 'CJE181', '7.0', '28.0', '333', '3', '2022', '48', '2022-333', '48', '2022-48']))\n",
      "('CJM90', ('CJM90', ['2513696', '2022-11-29', '66', 'CJM90', '169.0', '19.0', '333', '3', '2022', '48', '2022-333', '48', '2022-48']))\n",
      "('CLW239', ('CLW239', ['2513697', '2022-11-29', '66', 'CLW239', '13.0', '21.0', '333', '3', '2022', '48', '2022-333', '48', '2022-48']))\n",
      "('COM205', ('COM205', ['2513698', '2022-11-29', '66', 'COM205', '18.0', '22.0', '333', '3', '2022', '48', '2022-333', '48', '2022-48']))\n",
      "('CVT387', ('CVT387', ['2513699', '2022-11-29', '66', 'CVT387', '29.0', '16.0', '333', '3', '2022', '48', '2022-333', '48', '2022-48']))\n",
      "('CAT17', ('CAT17', ['2513700', '2022-11-29', '67', 'CAT17', '48.0', '21.0', '333', '3', '2022', '48', '2022-333', '48', '2022-48']))\n",
      "('CB02411', ('CB02411', ['2513701', '2022-11-29', '67', 'CB02411', '108.0', '20.0', '333', '3', '2022', '48', '2022-333', '48', '2022-48']))\n",
      "...\n",
      "\n"
     ]
    },
    {
     "name": "stderr",
     "output_type": "stream",
     "text": [
      "                                                                                \r"
     ]
    },
    {
     "name": "stdout",
     "output_type": "stream",
     "text": [
      "-------------------------------------------\n",
      "Time: 2023-05-14 13:52:36\n",
      "-------------------------------------------\n",
      "('CAT17', ('CAT17', ['2522880', '2022-12-05', '1', 'CAT17', '0.0', '-1.0', '339', '2', '2022', '49', '2022-339', '49', '2022-49']))\n",
      "('CB02411', ('CB02411', ['2522881', '2022-12-05', '1', 'CB02411', '1.0', '15.0', '339', '2', '2022', '49', '2022-339', '49', '2022-49']))\n",
      "('CB1101', ('CB1101', ['2522882', '2022-12-05', '1', 'CB1101', '0.0', '-1.0', '339', '2', '2022', '49', '2022-339', '49', '2022-49']))\n",
      "('CB1142', ('CB1142', ['2522883', '2022-12-05', '1', 'CB1142', '3.0', '20.0', '339', '2', '2022', '49', '2022-339', '49', '2022-49']))\n",
      "('CB1143', ('CB1143', ['2522884', '2022-12-05', '1', 'CB1143', '3.0', '22.0', '339', '2', '2022', '49', '2022-339', '49', '2022-49']))\n",
      "('CB1599', ('CB1599', ['2522885', '2022-12-05', '1', 'CB1599', '0.0', '-1.0', '339', '2', '2022', '49', '2022-339', '49', '2022-49']))\n",
      "('CB1699', ('CB1699', ['2522886', '2022-12-05', '1', 'CB1699', '1.0', '29.0', '339', '2', '2022', '49', '2022-339', '49', '2022-49']))\n",
      "('CB2105', ('CB2105', ['2522887', '2022-12-05', '1', 'CB2105', '3.0', '22.0', '339', '2', '2022', '49', '2022-339', '49', '2022-49']))\n",
      "('CEE016', ('CEE016', ['2522888', '2022-12-05', '1', 'CEE016', '1.0', '18.0', '339', '2', '2022', '49', '2022-339', '49', '2022-49']))\n",
      "('CEK049', ('CEK049', ['2522889', '2022-12-05', '1', 'CEK049', '0.0', '-1.0', '339', '2', '2022', '49', '2022-339', '49', '2022-49']))\n",
      "...\n",
      "\n"
     ]
    },
    {
     "name": "stderr",
     "output_type": "stream",
     "text": [
      "                                                                                \r"
     ]
    },
    {
     "name": "stdout",
     "output_type": "stream",
     "text": [
      "-------------------------------------------\n",
      "Time: 2023-05-14 13:52:38\n",
      "-------------------------------------------\n",
      "('CAT17', ('CAT17', ['2534976', '2022-12-12', '1', 'CAT17', '0.0', '-1.0', '346', '2', '2022', '50', '2022-346', '50', '2022-50']))\n",
      "('CB02411', ('CB02411', ['2534977', '2022-12-12', '1', 'CB02411', '0.0', '-1.0', '346', '2', '2022', '50', '2022-346', '50', '2022-50']))\n",
      "('CB1101', ('CB1101', ['2534978', '2022-12-12', '1', 'CB1101', '0.0', '-1.0', '346', '2', '2022', '50', '2022-346', '50', '2022-50']))\n",
      "('CB1142', ('CB1142', ['2534979', '2022-12-12', '1', 'CB1142', '2.0', '17.0', '346', '2', '2022', '50', '2022-346', '50', '2022-50']))\n",
      "('CB1143', ('CB1143', ['2534980', '2022-12-12', '1', 'CB1143', '1.0', '26.0', '346', '2', '2022', '50', '2022-346', '50', '2022-50']))\n",
      "('CB1599', ('CB1599', ['2534981', '2022-12-12', '1', 'CB1599', '0.0', '-1.0', '346', '2', '2022', '50', '2022-346', '50', '2022-50']))\n",
      "('CB1699', ('CB1699', ['2534982', '2022-12-12', '1', 'CB1699', '0.0', '-1.0', '346', '2', '2022', '50', '2022-346', '50', '2022-50']))\n",
      "('CB2105', ('CB2105', ['2534983', '2022-12-12', '1', 'CB2105', '2.0', '10.0', '346', '2', '2022', '50', '2022-346', '50', '2022-50']))\n",
      "('CEE016', ('CEE016', ['2534984', '2022-12-12', '1', 'CEE016', '0.0', '-1.0', '346', '2', '2022', '50', '2022-346', '50', '2022-50']))\n",
      "('CEK049', ('CEK049', ['2534985', '2022-12-12', '1', 'CEK049', '4.0', '19.0', '346', '2', '2022', '50', '2022-346', '50', '2022-50']))\n",
      "...\n",
      "\n"
     ]
    },
    {
     "name": "stderr",
     "output_type": "stream",
     "text": [
      "                                                                                \r"
     ]
    },
    {
     "name": "stdout",
     "output_type": "stream",
     "text": [
      "-------------------------------------------\n",
      "Time: 2023-05-14 13:52:40\n",
      "-------------------------------------------\n",
      "\n"
     ]
    },
    {
     "name": "stderr",
     "output_type": "stream",
     "text": [
      "                                                                                \r"
     ]
    },
    {
     "name": "stdout",
     "output_type": "stream",
     "text": [
      "-------------------------------------------\n",
      "Time: 2023-05-14 13:52:42\n",
      "-------------------------------------------\n",
      "('CAT17', ('CAT17', ['2547072', '2022-12-19', '1', 'CAT17', '0.0', '-1.0', '353', '2', '2022', '51', '2022-353', '51', '2022-51']))\n",
      "('CB02411', ('CB02411', ['2547073', '2022-12-19', '1', 'CB02411', '3.0', '21.0', '353', '2', '2022', '51', '2022-353', '51', '2022-51']))\n",
      "('CB1101', ('CB1101', ['2547074', '2022-12-19', '1', 'CB1101', '0.0', '-1.0', '353', '2', '2022', '51', '2022-353', '51', '2022-51']))\n",
      "('CB1142', ('CB1142', ['2547075', '2022-12-19', '1', 'CB1142', '1.0', '8.0', '353', '2', '2022', '51', '2022-353', '51', '2022-51']))\n",
      "('CB1143', ('CB1143', ['2547076', '2022-12-19', '1', 'CB1143', '1.0', '20.0', '353', '2', '2022', '51', '2022-353', '51', '2022-51']))\n",
      "('CB1599', ('CB1599', ['2547077', '2022-12-19', '1', 'CB1599', '0.0', '-1.0', '353', '2', '2022', '51', '2022-353', '51', '2022-51']))\n",
      "('CB1699', ('CB1699', ['2547078', '2022-12-19', '1', 'CB1699', '1.0', '22.0', '353', '2', '2022', '51', '2022-353', '51', '2022-51']))\n",
      "('CB2105', ('CB2105', ['2547079', '2022-12-19', '1', 'CB2105', '3.0', '17.0', '353', '2', '2022', '51', '2022-353', '51', '2022-51']))\n",
      "('CEE016', ('CEE016', ['2547080', '2022-12-19', '1', 'CEE016', '0.0', '-1.0', '353', '2', '2022', '51', '2022-353', '51', '2022-51']))\n",
      "('CEK049', ('CEK049', ['2547081', '2022-12-19', '1', 'CEK049', '2.0', '19.0', '353', '2', '2022', '51', '2022-353', '51', '2022-51']))\n",
      "...\n",
      "\n"
     ]
    },
    {
     "name": "stderr",
     "output_type": "stream",
     "text": [
      "                                                                                \r"
     ]
    },
    {
     "name": "stdout",
     "output_type": "stream",
     "text": [
      "-------------------------------------------\n",
      "Time: 2023-05-14 13:52:44\n",
      "-------------------------------------------\n",
      "('CAT17', ('CAT17', ['2559168', '2022-12-26', '1', 'CAT17', '0.0', '-1.0', '360', '2', '2022', '52', '2022-360', '52', '2022-52']))\n",
      "('CB02411', ('CB02411', ['2559169', '2022-12-26', '1', 'CB02411', '1.0', '19.0', '360', '2', '2022', '52', '2022-360', '52', '2022-52']))\n",
      "('CB1101', ('CB1101', ['2559170', '2022-12-26', '1', 'CB1101', '3.0', '19.0', '360', '2', '2022', '52', '2022-360', '52', '2022-52']))\n",
      "('CB1142', ('CB1142', ['2559171', '2022-12-26', '1', 'CB1142', '0.0', '-1.0', '360', '2', '2022', '52', '2022-360', '52', '2022-52']))\n",
      "('CB1143', ('CB1143', ['2559172', '2022-12-26', '1', 'CB1143', '2.0', '19.0', '360', '2', '2022', '52', '2022-360', '52', '2022-52']))\n",
      "('CB1599', ('CB1599', ['2559173', '2022-12-26', '1', 'CB1599', '0.0', '-1.0', '360', '2', '2022', '52', '2022-360', '52', '2022-52']))\n",
      "('CB1699', ('CB1699', ['2559174', '2022-12-26', '1', 'CB1699', '0.0', '-1.0', '360', '2', '2022', '52', '2022-360', '52', '2022-52']))\n",
      "('CB2105', ('CB2105', ['2559175', '2022-12-26', '1', 'CB2105', '4.0', '21.0', '360', '2', '2022', '52', '2022-360', '52', '2022-52']))\n",
      "('CEE016', ('CEE016', ['2559176', '2022-12-26', '1', 'CEE016', '0.0', '-1.0', '360', '2', '2022', '52', '2022-360', '52', '2022-52']))\n",
      "('CEK049', ('CEK049', ['2559177', '2022-12-26', '1', 'CEK049', '0.0', '-1.0', '360', '2', '2022', '52', '2022-360', '52', '2022-52']))\n",
      "...\n",
      "\n"
     ]
    },
    {
     "name": "stderr",
     "output_type": "stream",
     "text": [
      "                                                                                \r"
     ]
    },
    {
     "name": "stdout",
     "output_type": "stream",
     "text": [
      "-------------------------------------------\n",
      "Time: 2023-05-14 13:52:46\n",
      "-------------------------------------------\n",
      "('CAT17', ('CAT17', ['2571264', '2023-01-02', '1', 'CAT17', '0.0', '-1.0', '2', '2', '2023', '1', '2023-2', '01', '2023-01']))\n",
      "('CB02411', ('CB02411', ['2571265', '2023-01-02', '1', 'CB02411', '0.0', '-1.0', '2', '2', '2023', '1', '2023-2', '01', '2023-01']))\n",
      "('CB1101', ('CB1101', ['2571266', '2023-01-02', '1', 'CB1101', '4.0', '19.0', '2', '2', '2023', '1', '2023-2', '01', '2023-01']))\n",
      "('CB1142', ('CB1142', ['2571267', '2023-01-02', '1', 'CB1142', '2.0', '17.0', '2', '2', '2023', '1', '2023-2', '01', '2023-01']))\n",
      "('CB1143', ('CB1143', ['2571268', '2023-01-02', '1', 'CB1143', '3.0', '23.0', '2', '2', '2023', '1', '2023-2', '01', '2023-01']))\n",
      "('CB1599', ('CB1599', ['2571269', '2023-01-02', '1', 'CB1599', '0.0', '-1.0', '2', '2', '2023', '1', '2023-2', '01', '2023-01']))\n",
      "('CB1699', ('CB1699', ['2571270', '2023-01-02', '1', 'CB1699', '0.0', '-1.0', '2', '2', '2023', '1', '2023-2', '01', '2023-01']))\n",
      "('CB2105', ('CB2105', ['2571271', '2023-01-02', '1', 'CB2105', '3.0', '19.0', '2', '2', '2023', '1', '2023-2', '01', '2023-01']))\n",
      "('CEE016', ('CEE016', ['2571272', '2023-01-02', '1', 'CEE016', '0.0', '-1.0', '2', '2', '2023', '1', '2023-2', '01', '2023-01']))\n",
      "('CEK049', ('CEK049', ['2571273', '2023-01-02', '1', 'CEK049', '0.0', '-1.0', '2', '2', '2023', '1', '2023-2', '01', '2023-01']))\n",
      "...\n",
      "\n"
     ]
    },
    {
     "name": "stderr",
     "output_type": "stream",
     "text": [
      "                                                                                \r"
     ]
    },
    {
     "name": "stdout",
     "output_type": "stream",
     "text": [
      "-------------------------------------------\n",
      "Time: 2023-05-14 13:52:48\n",
      "-------------------------------------------\n",
      "('CEV011', ('CEV011', ['2576424', '2023-01-04', '95', 'CEV011', '0.0', '-1.0', '4', '4', '2023', '1', '2023-4', '01', '2023-01']))\n",
      "('CJE181', ('CJE181', ['2576425', '2023-01-04', '95', 'CJE181', '1.0', '23.0', '4', '4', '2023', '1', '2023-4', '01', '2023-01']))\n",
      "('CJM90', ('CJM90', ['2576426', '2023-01-04', '95', 'CJM90', '3.0', '18.0', '4', '4', '2023', '1', '2023-4', '01', '2023-01']))\n",
      "('CLW239', ('CLW239', ['2576427', '2023-01-04', '95', 'CLW239', '0.0', '-1.0', '4', '4', '2023', '1', '2023-4', '01', '2023-01']))\n",
      "('COM205', ('COM205', ['2576428', '2023-01-04', '95', 'COM205', '1.0', '21.0', '4', '4', '2023', '1', '2023-4', '01', '2023-01']))\n",
      "('CVT387', ('CVT387', ['2576429', '2023-01-04', '95', 'CVT387', '2.0', '15.0', '4', '4', '2023', '1', '2023-4', '01', '2023-01']))\n",
      "('CAT17', ('CAT17', ['2576430', '2023-01-04', '96', 'CAT17', '1.0', '12.0', '4', '4', '2023', '1', '2023-4', '01', '2023-01']))\n",
      "('CB02411', ('CB02411', ['2576431', '2023-01-04', '96', 'CB02411', '3.0', '20.0', '4', '4', '2023', '1', '2023-4', '01', '2023-01']))\n",
      "('CB1101', ('CB1101', ['2576432', '2023-01-04', '96', 'CB1101', '8.0', '19.0', '4', '4', '2023', '1', '2023-4', '01', '2023-01']))\n",
      "('CB1142', ('CB1142', ['2576433', '2023-01-04', '96', 'CB1142', '2.0', '15.0', '4', '4', '2023', '1', '2023-4', '01', '2023-01']))\n",
      "...\n",
      "\n"
     ]
    },
    {
     "name": "stderr",
     "output_type": "stream",
     "text": [
      "                                                                                \r"
     ]
    },
    {
     "name": "stdout",
     "output_type": "stream",
     "text": [
      "-------------------------------------------\n",
      "Time: 2023-05-14 13:52:50\n",
      "-------------------------------------------\n",
      "('CAT17', ('CAT17', ['2583360', '2023-01-09', '1', 'CAT17', '0.0', '-1.0', '9', '2', '2023', '2', '2023-9', '02', '2023-02']))\n",
      "('CB02411', ('CB02411', ['2583361', '2023-01-09', '1', 'CB02411', '2.0', '20.0', '9', '2', '2023', '2', '2023-9', '02', '2023-02']))\n",
      "('CB1101', ('CB1101', ['2583362', '2023-01-09', '1', 'CB1101', '5.0', '18.0', '9', '2', '2023', '2', '2023-9', '02', '2023-02']))\n",
      "('CB1142', ('CB1142', ['2583363', '2023-01-09', '1', 'CB1142', '1.0', '18.0', '9', '2', '2023', '2', '2023-9', '02', '2023-02']))\n",
      "('CB1143', ('CB1143', ['2583364', '2023-01-09', '1', 'CB1143', '5.0', '22.0', '9', '2', '2023', '2', '2023-9', '02', '2023-02']))\n",
      "('CB1599', ('CB1599', ['2583365', '2023-01-09', '1', 'CB1599', '0.0', '-1.0', '9', '2', '2023', '2', '2023-9', '02', '2023-02']))\n",
      "('CB1699', ('CB1699', ['2583366', '2023-01-09', '1', 'CB1699', '0.0', '-1.0', '9', '2', '2023', '2', '2023-9', '02', '2023-02']))\n",
      "('CB2105', ('CB2105', ['2583367', '2023-01-09', '1', 'CB2105', '4.0', '21.0', '9', '2', '2023', '2', '2023-9', '02', '2023-02']))\n",
      "('CEE016', ('CEE016', ['2583368', '2023-01-09', '1', 'CEE016', '2.0', '16.0', '9', '2', '2023', '2', '2023-9', '02', '2023-02']))\n",
      "('CEK049', ('CEK049', ['2583369', '2023-01-09', '1', 'CEK049', '3.0', '22.0', '9', '2', '2023', '2', '2023-9', '02', '2023-02']))\n",
      "...\n",
      "\n"
     ]
    },
    {
     "name": "stderr",
     "output_type": "stream",
     "text": [
      "                                                                                \r"
     ]
    },
    {
     "name": "stdout",
     "output_type": "stream",
     "text": [
      "-------------------------------------------\n",
      "Time: 2023-05-14 13:52:52\n",
      "-------------------------------------------\n",
      "('CAT17', ('CAT17', ['2595456', '2023-01-16', '1', 'CAT17', '1.0', '15.0', '16', '2', '2023', '3', '2023-16', '03', '2023-03']))\n",
      "('CB02411', ('CB02411', ['2595457', '2023-01-16', '1', 'CB02411', '0.0', '-1.0', '16', '2', '2023', '3', '2023-16', '03', '2023-03']))\n",
      "('CB1101', ('CB1101', ['2595458', '2023-01-16', '1', 'CB1101', '6.0', '14.0', '16', '2', '2023', '3', '2023-16', '03', '2023-03']))\n",
      "('CB1142', ('CB1142', ['2595459', '2023-01-16', '1', 'CB1142', '1.0', '24.0', '16', '2', '2023', '3', '2023-16', '03', '2023-03']))\n",
      "('CB1143', ('CB1143', ['2595460', '2023-01-16', '1', 'CB1143', '2.0', '21.0', '16', '2', '2023', '3', '2023-16', '03', '2023-03']))\n",
      "('CB1599', ('CB1599', ['2595461', '2023-01-16', '1', 'CB1599', '0.0', '-1.0', '16', '2', '2023', '3', '2023-16', '03', '2023-03']))\n",
      "('CB1699', ('CB1699', ['2595462', '2023-01-16', '1', 'CB1699', '0.0', '-1.0', '16', '2', '2023', '3', '2023-16', '03', '2023-03']))\n",
      "('CB2105', ('CB2105', ['2595463', '2023-01-16', '1', 'CB2105', '6.0', '20.0', '16', '2', '2023', '3', '2023-16', '03', '2023-03']))\n",
      "('CEE016', ('CEE016', ['2595464', '2023-01-16', '1', 'CEE016', '0.0', '-1.0', '16', '2', '2023', '3', '2023-16', '03', '2023-03']))\n",
      "('CEK049', ('CEK049', ['2595465', '2023-01-16', '1', 'CEK049', '0.0', '-1.0', '16', '2', '2023', '3', '2023-16', '03', '2023-03']))\n",
      "...\n",
      "\n"
     ]
    },
    {
     "name": "stderr",
     "output_type": "stream",
     "text": [
      "                                                                                \r"
     ]
    },
    {
     "name": "stdout",
     "output_type": "stream",
     "text": [
      "-------------------------------------------\n",
      "Time: 2023-05-14 13:52:54\n",
      "-------------------------------------------\n",
      "\n"
     ]
    },
    {
     "name": "stderr",
     "output_type": "stream",
     "text": [
      "                                                                                \r"
     ]
    },
    {
     "name": "stdout",
     "output_type": "stream",
     "text": [
      "-------------------------------------------\n",
      "Time: 2023-05-14 13:52:56\n",
      "-------------------------------------------\n",
      "('CAT17', ('CAT17', ['2607552', '2023-01-23', '1', 'CAT17', '0.0', '-1.0', '23', '2', '2023', '4', '2023-23', '04', '2023-04']))\n",
      "('CB02411', ('CB02411', ['2607553', '2023-01-23', '1', 'CB02411', '1.0', '18.0', '23', '2', '2023', '4', '2023-23', '04', '2023-04']))\n",
      "('CB1101', ('CB1101', ['2607554', '2023-01-23', '1', 'CB1101', '7.0', '15.0', '23', '2', '2023', '4', '2023-23', '04', '2023-04']))\n",
      "('CB1142', ('CB1142', ['2607555', '2023-01-23', '1', 'CB1142', '1.0', '16.0', '23', '2', '2023', '4', '2023-23', '04', '2023-04']))\n",
      "('CB1143', ('CB1143', ['2607556', '2023-01-23', '1', 'CB1143', '1.0', '23.0', '23', '2', '2023', '4', '2023-23', '04', '2023-04']))\n",
      "('CB1599', ('CB1599', ['2607557', '2023-01-23', '1', 'CB1599', '0.0', '-1.0', '23', '2', '2023', '4', '2023-23', '04', '2023-04']))\n",
      "('CB1699', ('CB1699', ['2607558', '2023-01-23', '1', 'CB1699', '0.0', '-1.0', '23', '2', '2023', '4', '2023-23', '04', '2023-04']))\n",
      "('CB2105', ('CB2105', ['2607559', '2023-01-23', '1', 'CB2105', '4.0', '15.0', '23', '2', '2023', '4', '2023-23', '04', '2023-04']))\n",
      "('CEE016', ('CEE016', ['2607560', '2023-01-23', '1', 'CEE016', '2.0', '19.0', '23', '2', '2023', '4', '2023-23', '04', '2023-04']))\n",
      "('CEK049', ('CEK049', ['2607561', '2023-01-23', '1', 'CEK049', '0.0', '-1.0', '23', '2', '2023', '4', '2023-23', '04', '2023-04']))\n",
      "...\n",
      "\n"
     ]
    },
    {
     "name": "stderr",
     "output_type": "stream",
     "text": [
      "                                                                                \r"
     ]
    },
    {
     "name": "stdout",
     "output_type": "stream",
     "text": [
      "-------------------------------------------\n",
      "Time: 2023-05-14 13:52:58\n",
      "-------------------------------------------\n",
      "('CAT17', ('CAT17', ['2619648', '2023-01-30', '1', 'CAT17', '0.0', '-1.0', '30', '2', '2023', '5', '2023-30', '05', '2023-05']))\n",
      "('CB02411', ('CB02411', ['2619649', '2023-01-30', '1', 'CB02411', '1.0', '18.0', '30', '2', '2023', '5', '2023-30', '05', '2023-05']))\n",
      "('CB1101', ('CB1101', ['2619650', '2023-01-30', '1', 'CB1101', '5.0', '14.0', '30', '2', '2023', '5', '2023-30', '05', '2023-05']))\n",
      "('CB1142', ('CB1142', ['2619651', '2023-01-30', '1', 'CB1142', '1.0', '11.0', '30', '2', '2023', '5', '2023-30', '05', '2023-05']))\n",
      "('CB1143', ('CB1143', ['2619652', '2023-01-30', '1', 'CB1143', '4.0', '19.0', '30', '2', '2023', '5', '2023-30', '05', '2023-05']))\n",
      "('CB1599', ('CB1599', ['2619653', '2023-01-30', '1', 'CB1599', '0.0', '-1.0', '30', '2', '2023', '5', '2023-30', '05', '2023-05']))\n",
      "('CB1699', ('CB1699', ['2619654', '2023-01-30', '1', 'CB1699', '0.0', '-1.0', '30', '2', '2023', '5', '2023-30', '05', '2023-05']))\n",
      "('CB2105', ('CB2105', ['2619655', '2023-01-30', '1', 'CB2105', '5.0', '18.0', '30', '2', '2023', '5', '2023-30', '05', '2023-05']))\n",
      "('CEE016', ('CEE016', ['2619656', '2023-01-30', '1', 'CEE016', '0.0', '-1.0', '30', '2', '2023', '5', '2023-30', '05', '2023-05']))\n",
      "('CEK049', ('CEK049', ['2619657', '2023-01-30', '1', 'CEK049', '1.0', '19.0', '30', '2', '2023', '5', '2023-30', '05', '2023-05']))\n",
      "...\n",
      "\n"
     ]
    },
    {
     "name": "stderr",
     "output_type": "stream",
     "text": [
      "                                                                                \r"
     ]
    },
    {
     "name": "stdout",
     "output_type": "stream",
     "text": [
      "-------------------------------------------\n",
      "Time: 2023-05-14 13:53:00\n",
      "-------------------------------------------\n",
      "('CAT17', ('CAT17', ['2631744', '2023-02-06', '1', 'CAT17', '0.0', '-1.0', '37', '2', '2023', '6', '2023-37', '06', '2023-06']))\n",
      "('CB02411', ('CB02411', ['2631745', '2023-02-06', '1', 'CB02411', '2.0', '18.0', '37', '2', '2023', '6', '2023-37', '06', '2023-06']))\n",
      "('CB1101', ('CB1101', ['2631746', '2023-02-06', '1', 'CB1101', '7.0', '17.0', '37', '2', '2023', '6', '2023-37', '06', '2023-06']))\n",
      "('CB1142', ('CB1142', ['2631747', '2023-02-06', '1', 'CB1142', '2.0', '20.0', '37', '2', '2023', '6', '2023-37', '06', '2023-06']))\n",
      "('CB1143', ('CB1143', ['2631748', '2023-02-06', '1', 'CB1143', '2.0', '19.0', '37', '2', '2023', '6', '2023-37', '06', '2023-06']))\n",
      "('CB1599', ('CB1599', ['2631749', '2023-02-06', '1', 'CB1599', '0.0', '-1.0', '37', '2', '2023', '6', '2023-37', '06', '2023-06']))\n",
      "('CB1699', ('CB1699', ['2631750', '2023-02-06', '1', 'CB1699', '2.0', '12.0', '37', '2', '2023', '6', '2023-37', '06', '2023-06']))\n",
      "('CB2105', ('CB2105', ['2631751', '2023-02-06', '1', 'CB2105', '5.0', '19.0', '37', '2', '2023', '6', '2023-37', '06', '2023-06']))\n",
      "('CEE016', ('CEE016', ['2631752', '2023-02-06', '1', 'CEE016', '2.0', '17.0', '37', '2', '2023', '6', '2023-37', '06', '2023-06']))\n",
      "('CEK049', ('CEK049', ['2631753', '2023-02-06', '1', 'CEK049', '0.0', '-1.0', '37', '2', '2023', '6', '2023-37', '06', '2023-06']))\n",
      "...\n",
      "\n"
     ]
    },
    {
     "name": "stderr",
     "output_type": "stream",
     "text": [
      "                                                                                \r"
     ]
    },
    {
     "name": "stdout",
     "output_type": "stream",
     "text": [
      "-------------------------------------------\n",
      "Time: 2023-05-14 13:53:02\n",
      "-------------------------------------------\n",
      "('CB1101', ('CB1101', ['2637470', '2023-02-09', '31', 'CB1101', '185.0', '14.0', '40', '5', '2023', '6', '2023-40', '06', '2023-06']))\n",
      "('CB1142', ('CB1142', ['2637471', '2023-02-09', '31', 'CB1142', '246.0', '15.0', '40', '5', '2023', '6', '2023-40', '06', '2023-06']))\n",
      "('CB1143', ('CB1143', ['2637472', '2023-02-09', '31', 'CB1143', '0.0', '-1.0', '40', '5', '2023', '6', '2023-40', '06', '2023-06']))\n",
      "('CB1599', ('CB1599', ['2637473', '2023-02-09', '31', 'CB1599', '39.0', '23.0', '40', '5', '2023', '6', '2023-40', '06', '2023-06']))\n",
      "('CB1699', ('CB1699', ['2637474', '2023-02-09', '31', 'CB1699', '26.0', '17.0', '40', '5', '2023', '6', '2023-40', '06', '2023-06']))\n",
      "('CB2105', ('CB2105', ['2637475', '2023-02-09', '31', 'CB2105', '42.0', '20.0', '40', '5', '2023', '6', '2023-40', '06', '2023-06']))\n",
      "('CEE016', ('CEE016', ['2637476', '2023-02-09', '31', 'CEE016', '44.0', '21.0', '40', '5', '2023', '6', '2023-40', '06', '2023-06']))\n",
      "('CEK049', ('CEK049', ['2637477', '2023-02-09', '31', 'CEK049', '70.0', '21.0', '40', '5', '2023', '6', '2023-40', '06', '2023-06']))\n",
      "('CEK18', ('CEK18', ['2637478', '2023-02-09', '31', 'CEK18', '132.0', '17.0', '40', '5', '2023', '6', '2023-40', '06', '2023-06']))\n",
      "('CEK31', ('CEK31', ['2637479', '2023-02-09', '31', 'CEK31', '115.0', '20.0', '40', '5', '2023', '6', '2023-40', '06', '2023-06']))\n",
      "...\n",
      "\n"
     ]
    },
    {
     "name": "stderr",
     "output_type": "stream",
     "text": [
      "                                                                                \r"
     ]
    },
    {
     "name": "stdout",
     "output_type": "stream",
     "text": [
      "-------------------------------------------\n",
      "Time: 2023-05-14 13:53:04\n",
      "-------------------------------------------\n",
      "('CAT17', ('CAT17', ['2643840', '2023-02-13', '1', 'CAT17', '0.0', '-1.0', '44', '2', '2023', '7', '2023-44', '07', '2023-07']))\n",
      "('CB02411', ('CB02411', ['2643841', '2023-02-13', '1', 'CB02411', '3.0', '18.0', '44', '2', '2023', '7', '2023-44', '07', '2023-07']))\n",
      "('CB1101', ('CB1101', ['2643842', '2023-02-13', '1', 'CB1101', '6.0', '19.0', '44', '2', '2023', '7', '2023-44', '07', '2023-07']))\n",
      "('CB1142', ('CB1142', ['2643843', '2023-02-13', '1', 'CB1142', '2.0', '20.0', '44', '2', '2023', '7', '2023-44', '07', '2023-07']))\n",
      "('CB1143', ('CB1143', ['2643844', '2023-02-13', '1', 'CB1143', '0.0', '-1.0', '44', '2', '2023', '7', '2023-44', '07', '2023-07']))\n",
      "('CB1599', ('CB1599', ['2643845', '2023-02-13', '1', 'CB1599', '0.0', '-1.0', '44', '2', '2023', '7', '2023-44', '07', '2023-07']))\n",
      "('CB1699', ('CB1699', ['2643846', '2023-02-13', '1', 'CB1699', '2.0', '20.0', '44', '2', '2023', '7', '2023-44', '07', '2023-07']))\n",
      "('CB2105', ('CB2105', ['2643847', '2023-02-13', '1', 'CB2105', '7.0', '21.0', '44', '2', '2023', '7', '2023-44', '07', '2023-07']))\n",
      "('CEE016', ('CEE016', ['2643848', '2023-02-13', '1', 'CEE016', '2.0', '21.0', '44', '2', '2023', '7', '2023-44', '07', '2023-07']))\n",
      "('CEK049', ('CEK049', ['2643849', '2023-02-13', '1', 'CEK049', '2.0', '16.0', '44', '2', '2023', '7', '2023-44', '07', '2023-07']))\n",
      "...\n",
      "\n"
     ]
    },
    {
     "name": "stderr",
     "output_type": "stream",
     "text": [
      "                                                                                \r"
     ]
    },
    {
     "name": "stdout",
     "output_type": "stream",
     "text": [
      "-------------------------------------------\n",
      "Time: 2023-05-14 13:53:06\n",
      "-------------------------------------------\n",
      "('CAT17', ('CAT17', ['2655936', '2023-02-20', '1', 'CAT17', '0.0', '-1.0', '51', '2', '2023', '8', '2023-51', '08', '2023-08']))\n",
      "('CB02411', ('CB02411', ['2655937', '2023-02-20', '1', 'CB02411', '0.0', '-1.0', '51', '2', '2023', '8', '2023-51', '08', '2023-08']))\n",
      "('CB1101', ('CB1101', ['2655938', '2023-02-20', '1', 'CB1101', '6.0', '20.0', '51', '2', '2023', '8', '2023-51', '08', '2023-08']))\n",
      "('CB1142', ('CB1142', ['2655939', '2023-02-20', '1', 'CB1142', '4.0', '22.0', '51', '2', '2023', '8', '2023-51', '08', '2023-08']))\n",
      "('CB1143', ('CB1143', ['2655940', '2023-02-20', '1', 'CB1143', '2.0', '18.0', '51', '2', '2023', '8', '2023-51', '08', '2023-08']))\n",
      "('CB1599', ('CB1599', ['2655941', '2023-02-20', '1', 'CB1599', '0.0', '-1.0', '51', '2', '2023', '8', '2023-51', '08', '2023-08']))\n",
      "('CB1699', ('CB1699', ['2655942', '2023-02-20', '1', 'CB1699', '0.0', '-1.0', '51', '2', '2023', '8', '2023-51', '08', '2023-08']))\n",
      "('CB2105', ('CB2105', ['2655943', '2023-02-20', '1', 'CB2105', '5.0', '19.0', '51', '2', '2023', '8', '2023-51', '08', '2023-08']))\n",
      "('CEE016', ('CEE016', ['2655944', '2023-02-20', '1', 'CEE016', '0.0', '-1.0', '51', '2', '2023', '8', '2023-51', '08', '2023-08']))\n",
      "('CEK049', ('CEK049', ['2655945', '2023-02-20', '1', 'CEK049', '3.0', '16.0', '51', '2', '2023', '8', '2023-51', '08', '2023-08']))\n",
      "...\n",
      "\n"
     ]
    },
    {
     "name": "stderr",
     "output_type": "stream",
     "text": [
      "                                                                                \r"
     ]
    },
    {
     "name": "stdout",
     "output_type": "stream",
     "text": [
      "-------------------------------------------\n",
      "Time: 2023-05-14 13:53:08\n",
      "-------------------------------------------\n",
      "\n"
     ]
    },
    {
     "name": "stderr",
     "output_type": "stream",
     "text": [
      "                                                                                \r"
     ]
    },
    {
     "name": "stdout",
     "output_type": "stream",
     "text": [
      "-------------------------------------------\n",
      "Time: 2023-05-14 13:53:10\n",
      "-------------------------------------------\n",
      "('CAT17', ('CAT17', ['2668032', '2023-02-27', '1', 'CAT17', '0.0', '-1.0', '58', '2', '2023', '9', '2023-58', '09', '2023-09']))\n",
      "('CB02411', ('CB02411', ['2668033', '2023-02-27', '1', 'CB02411', '2.0', '22.0', '58', '2', '2023', '9', '2023-58', '09', '2023-09']))\n",
      "('CB1101', ('CB1101', ['2668034', '2023-02-27', '1', 'CB1101', '4.0', '16.0', '58', '2', '2023', '9', '2023-58', '09', '2023-09']))\n",
      "('CB1142', ('CB1142', ['2668035', '2023-02-27', '1', 'CB1142', '1.0', '15.0', '58', '2', '2023', '9', '2023-58', '09', '2023-09']))\n",
      "('CB1143', ('CB1143', ['2668036', '2023-02-27', '1', 'CB1143', '2.0', '18.0', '58', '2', '2023', '9', '2023-58', '09', '2023-09']))\n",
      "('CB1599', ('CB1599', ['2668037', '2023-02-27', '1', 'CB1599', '0.0', '-1.0', '58', '2', '2023', '9', '2023-58', '09', '2023-09']))\n",
      "('CB1699', ('CB1699', ['2668038', '2023-02-27', '1', 'CB1699', '0.0', '-1.0', '58', '2', '2023', '9', '2023-58', '09', '2023-09']))\n",
      "('CB2105', ('CB2105', ['2668039', '2023-02-27', '1', 'CB2105', '3.0', '20.0', '58', '2', '2023', '9', '2023-58', '09', '2023-09']))\n",
      "('CEE016', ('CEE016', ['2668040', '2023-02-27', '1', 'CEE016', '0.0', '-1.0', '58', '2', '2023', '9', '2023-58', '09', '2023-09']))\n",
      "('CEK049', ('CEK049', ['2668041', '2023-02-27', '1', 'CEK049', '2.0', '21.0', '58', '2', '2023', '9', '2023-58', '09', '2023-09']))\n",
      "...\n",
      "\n"
     ]
    },
    {
     "name": "stderr",
     "output_type": "stream",
     "text": [
      "                                                                                \r"
     ]
    },
    {
     "name": "stdout",
     "output_type": "stream",
     "text": [
      "-------------------------------------------\n",
      "Time: 2023-05-14 13:53:12\n",
      "-------------------------------------------\n",
      "('CAT17', ('CAT17', ['2680128', '2023-03-06', '1', 'CAT17', '0.0', '-1.0', '65', '2', '2023', '10', '2023-65', '10', '2023-10']))\n",
      "('CB02411', ('CB02411', ['2680129', '2023-03-06', '1', 'CB02411', '1.0', '17.0', '65', '2', '2023', '10', '2023-65', '10', '2023-10']))\n",
      "('CB1101', ('CB1101', ['2680130', '2023-03-06', '1', 'CB1101', '6.0', '22.0', '65', '2', '2023', '10', '2023-65', '10', '2023-10']))\n",
      "('CB1142', ('CB1142', ['2680131', '2023-03-06', '1', 'CB1142', '0.0', '-1.0', '65', '2', '2023', '10', '2023-65', '10', '2023-10']))\n",
      "('CB1143', ('CB1143', ['2680132', '2023-03-06', '1', 'CB1143', '2.0', '17.0', '65', '2', '2023', '10', '2023-65', '10', '2023-10']))\n",
      "('CB1599', ('CB1599', ['2680133', '2023-03-06', '1', 'CB1599', '0.0', '-1.0', '65', '2', '2023', '10', '2023-65', '10', '2023-10']))\n",
      "('CB1699', ('CB1699', ['2680134', '2023-03-06', '1', 'CB1699', '1.0', '19.0', '65', '2', '2023', '10', '2023-65', '10', '2023-10']))\n",
      "('CB2105', ('CB2105', ['2680135', '2023-03-06', '1', 'CB2105', '2.0', '20.0', '65', '2', '2023', '10', '2023-65', '10', '2023-10']))\n",
      "('CEE016', ('CEE016', ['2680136', '2023-03-06', '1', 'CEE016', '0.0', '-1.0', '65', '2', '2023', '10', '2023-65', '10', '2023-10']))\n",
      "('CEK049', ('CEK049', ['2680137', '2023-03-06', '1', 'CEK049', '2.0', '26.0', '65', '2', '2023', '10', '2023-65', '10', '2023-10']))\n",
      "...\n",
      "\n"
     ]
    },
    {
     "name": "stderr",
     "output_type": "stream",
     "text": [
      "                                                                                \r"
     ]
    },
    {
     "name": "stdout",
     "output_type": "stream",
     "text": [
      "-------------------------------------------\n",
      "Time: 2023-05-14 13:53:14\n",
      "-------------------------------------------\n",
      "('CAT17', ('CAT17', ['2692224', '2023-03-13', '1', 'CAT17', '0.0', '-1.0', '72', '2', '2023', '11', '2023-72', '11', '2023-11']))\n",
      "('CB02411', ('CB02411', ['2692225', '2023-03-13', '1', 'CB02411', '0.0', '-1.0', '72', '2', '2023', '11', '2023-72', '11', '2023-11']))\n",
      "('CB1101', ('CB1101', ['2692226', '2023-03-13', '1', 'CB1101', '5.0', '20.0', '72', '2', '2023', '11', '2023-72', '11', '2023-11']))\n",
      "('CB1142', ('CB1142', ['2692227', '2023-03-13', '1', 'CB1142', '1.0', '11.0', '72', '2', '2023', '11', '2023-72', '11', '2023-11']))\n",
      "('CB1143', ('CB1143', ['2692228', '2023-03-13', '1', 'CB1143', '0.0', '-1.0', '72', '2', '2023', '11', '2023-72', '11', '2023-11']))\n",
      "('CB1599', ('CB1599', ['2692229', '2023-03-13', '1', 'CB1599', '0.0', '-1.0', '72', '2', '2023', '11', '2023-72', '11', '2023-11']))\n",
      "('CB1699', ('CB1699', ['2692230', '2023-03-13', '1', 'CB1699', '1.0', '16.0', '72', '2', '2023', '11', '2023-72', '11', '2023-11']))\n",
      "('CB2105', ('CB2105', ['2692231', '2023-03-13', '1', 'CB2105', '2.0', '15.0', '72', '2', '2023', '11', '2023-72', '11', '2023-11']))\n",
      "('CEE016', ('CEE016', ['2692232', '2023-03-13', '1', 'CEE016', '0.0', '-1.0', '72', '2', '2023', '11', '2023-72', '11', '2023-11']))\n",
      "('CEK049', ('CEK049', ['2692233', '2023-03-13', '1', 'CEK049', '3.0', '23.0', '72', '2', '2023', '11', '2023-72', '11', '2023-11']))\n",
      "...\n",
      "\n"
     ]
    },
    {
     "name": "stderr",
     "output_type": "stream",
     "text": [
      "                                                                                \r"
     ]
    },
    {
     "name": "stdout",
     "output_type": "stream",
     "text": [
      "-------------------------------------------\n",
      "Time: 2023-05-14 13:53:16\n",
      "-------------------------------------------\n",
      "('CAT17', ('CAT17', ['2697282', '2023-03-15', '90', 'CAT17', '1.0', '19.0', '74', '4', '2023', '11', '2023-74', '11', '2023-11']))\n",
      "('CB02411', ('CB02411', ['2697283', '2023-03-15', '90', 'CB02411', '13.0', '20.0', '74', '4', '2023', '11', '2023-74', '11', '2023-11']))\n",
      "('CB1101', ('CB1101', ['2697284', '2023-03-15', '90', 'CB1101', '25.0', '17.0', '74', '4', '2023', '11', '2023-74', '11', '2023-11']))\n",
      "('CB1142', ('CB1142', ['2697285', '2023-03-15', '90', 'CB1142', '11.0', '19.0', '74', '4', '2023', '11', '2023-74', '11', '2023-11']))\n",
      "('CB1143', ('CB1143', ['2697286', '2023-03-15', '90', 'CB1143', '10.0', '19.0', '74', '4', '2023', '11', '2023-74', '11', '2023-11']))\n",
      "('CB1599', ('CB1599', ['2697287', '2023-03-15', '90', 'CB1599', '1.0', '18.0', '74', '4', '2023', '11', '2023-74', '11', '2023-11']))\n",
      "('CB1699', ('CB1699', ['2697288', '2023-03-15', '90', 'CB1699', '3.0', '20.0', '74', '4', '2023', '11', '2023-74', '11', '2023-11']))\n",
      "('CB2105', ('CB2105', ['2697289', '2023-03-15', '90', 'CB2105', '15.0', '20.0', '74', '4', '2023', '11', '2023-74', '11', '2023-11']))\n",
      "('CEE016', ('CEE016', ['2697290', '2023-03-15', '90', 'CEE016', '9.0', '20.0', '74', '4', '2023', '11', '2023-74', '11', '2023-11']))\n",
      "('CEK049', ('CEK049', ['2697291', '2023-03-15', '90', 'CEK049', '22.0', '20.0', '74', '4', '2023', '11', '2023-74', '11', '2023-11']))\n",
      "...\n",
      "\n"
     ]
    },
    {
     "name": "stderr",
     "output_type": "stream",
     "text": [
      "                                                                                \r"
     ]
    },
    {
     "name": "stdout",
     "output_type": "stream",
     "text": [
      "-------------------------------------------\n",
      "Time: 2023-05-14 13:53:18\n",
      "-------------------------------------------\n",
      "('CAT17', ('CAT17', ['2704320', '2023-03-20', '1', 'CAT17', '0.0', '-1.0', '79', '2', '2023', '12', '2023-79', '12', '2023-12']))\n",
      "('CB02411', ('CB02411', ['2704321', '2023-03-20', '1', 'CB02411', '3.0', '16.0', '79', '2', '2023', '12', '2023-79', '12', '2023-12']))\n",
      "('CB1101', ('CB1101', ['2704322', '2023-03-20', '1', 'CB1101', '5.0', '17.0', '79', '2', '2023', '12', '2023-79', '12', '2023-12']))\n",
      "('CB1142', ('CB1142', ['2704323', '2023-03-20', '1', 'CB1142', '0.0', '-1.0', '79', '2', '2023', '12', '2023-79', '12', '2023-12']))\n",
      "('CB1143', ('CB1143', ['2704324', '2023-03-20', '1', 'CB1143', '2.0', '18.0', '79', '2', '2023', '12', '2023-79', '12', '2023-12']))\n",
      "('CB1599', ('CB1599', ['2704325', '2023-03-20', '1', 'CB1599', '0.0', '-1.0', '79', '2', '2023', '12', '2023-79', '12', '2023-12']))\n",
      "('CB1699', ('CB1699', ['2704326', '2023-03-20', '1', 'CB1699', '1.0', '19.0', '79', '2', '2023', '12', '2023-79', '12', '2023-12']))\n",
      "('CB2105', ('CB2105', ['2704327', '2023-03-20', '1', 'CB2105', '3.0', '15.0', '79', '2', '2023', '12', '2023-79', '12', '2023-12']))\n",
      "('CEE016', ('CEE016', ['2704328', '2023-03-20', '1', 'CEE016', '4.0', '22.0', '79', '2', '2023', '12', '2023-79', '12', '2023-12']))\n",
      "('CEK049', ('CEK049', ['2704329', '2023-03-20', '1', 'CEK049', '1.0', '20.0', '79', '2', '2023', '12', '2023-79', '12', '2023-12']))\n",
      "...\n",
      "\n"
     ]
    },
    {
     "name": "stderr",
     "output_type": "stream",
     "text": [
      "                                                                                \r"
     ]
    },
    {
     "name": "stdout",
     "output_type": "stream",
     "text": [
      "-------------------------------------------\n",
      "Time: 2023-05-14 13:53:20\n",
      "-------------------------------------------\n",
      "('CAT17', ('CAT17', ['2716416', '2023-03-27', '1', 'CAT17', '0.0', '-1.0', '86', '2', '2023', '13', '2023-86', '13', '2023-13']))\n",
      "('CB02411', ('CB02411', ['2716417', '2023-03-27', '1', 'CB02411', '1.0', '19.0', '86', '2', '2023', '13', '2023-86', '13', '2023-13']))\n",
      "('CB1101', ('CB1101', ['2716418', '2023-03-27', '1', 'CB1101', '3.0', '13.0', '86', '2', '2023', '13', '2023-86', '13', '2023-13']))\n",
      "('CB1142', ('CB1142', ['2716419', '2023-03-27', '1', 'CB1142', '1.0', '22.0', '86', '2', '2023', '13', '2023-86', '13', '2023-13']))\n",
      "('CB1143', ('CB1143', ['2716420', '2023-03-27', '1', 'CB1143', '2.0', '17.0', '86', '2', '2023', '13', '2023-86', '13', '2023-13']))\n",
      "('CB1599', ('CB1599', ['2716421', '2023-03-27', '1', 'CB1599', '0.0', '-1.0', '86', '2', '2023', '13', '2023-86', '13', '2023-13']))\n",
      "('CB1699', ('CB1699', ['2716422', '2023-03-27', '1', 'CB1699', '0.0', '-1.0', '86', '2', '2023', '13', '2023-86', '13', '2023-13']))\n",
      "('CB2105', ('CB2105', ['2716423', '2023-03-27', '1', 'CB2105', '2.0', '17.0', '86', '2', '2023', '13', '2023-86', '13', '2023-13']))\n",
      "('CEE016', ('CEE016', ['2716424', '2023-03-27', '1', 'CEE016', '0.0', '-1.0', '86', '2', '2023', '13', '2023-86', '13', '2023-13']))\n",
      "('CEK049', ('CEK049', ['2716425', '2023-03-27', '1', 'CEK049', '1.0', '26.0', '86', '2', '2023', '13', '2023-86', '13', '2023-13']))\n",
      "...\n",
      "\n"
     ]
    },
    {
     "name": "stderr",
     "output_type": "stream",
     "text": [
      "                                                                                \r"
     ]
    },
    {
     "name": "stdout",
     "output_type": "stream",
     "text": [
      "-------------------------------------------\n",
      "Time: 2023-05-14 13:53:22\n",
      "-------------------------------------------\n",
      "('CAT17', ('CAT17', ['2569536', '2023-01-01', '1', 'CAT17', '1.0', '9.0', '1', '1', '2023', '52', '2023-1', '52', '2023-52']))\n",
      "('CB02411', ('CB02411', ['2569537', '2023-01-01', '1', 'CB02411', '8.0', '17.0', '1', '1', '2023', '52', '2023-1', '52', '2023-52']))\n",
      "('CB1101', ('CB1101', ['2569538', '2023-01-01', '1', 'CB1101', '17.0', '15.0', '1', '1', '2023', '52', '2023-1', '52', '2023-52']))\n",
      "('CB1142', ('CB1142', ['2569539', '2023-01-01', '1', 'CB1142', '12.0', '18.0', '1', '1', '2023', '52', '2023-1', '52', '2023-52']))\n",
      "('CB1143', ('CB1143', ['2569540', '2023-01-01', '1', 'CB1143', '16.0', '18.0', '1', '1', '2023', '52', '2023-1', '52', '2023-52']))\n",
      "('CB1599', ('CB1599', ['2569541', '2023-01-01', '1', 'CB1599', '3.0', '19.0', '1', '1', '2023', '52', '2023-1', '52', '2023-52']))\n",
      "('CB1699', ('CB1699', ['2569542', '2023-01-01', '1', 'CB1699', '2.0', '16.0', '1', '1', '2023', '52', '2023-1', '52', '2023-52']))\n",
      "('CB2105', ('CB2105', ['2569543', '2023-01-01', '1', 'CB2105', '12.0', '18.0', '1', '1', '2023', '52', '2023-1', '52', '2023-52']))\n",
      "('CEE016', ('CEE016', ['2569544', '2023-01-01', '1', 'CEE016', '2.0', '11.0', '1', '1', '2023', '52', '2023-1', '52', '2023-52']))\n",
      "('CEK049', ('CEK049', ['2569545', '2023-01-01', '1', 'CEK049', '6.0', '22.0', '1', '1', '2023', '52', '2023-1', '52', '2023-52']))\n",
      "...\n",
      "\n"
     ]
    },
    {
     "name": "stderr",
     "output_type": "stream",
     "text": [
      "                                                                                \r"
     ]
    },
    {
     "name": "stdout",
     "output_type": "stream",
     "text": [
      "-------------------------------------------\n",
      "Time: 2023-05-14 13:53:24\n",
      "-------------------------------------------\n",
      "('CB2105', ('CB2105', ['2570371', '2023-01-01', '47', 'CB2105', '6.0', '25.0', '1', '1', '2023', '52', '2023-1', '52', '2023-52']))\n",
      "('CEE016', ('CEE016', ['2570372', '2023-01-01', '47', 'CEE016', '8.0', '17.0', '1', '1', '2023', '52', '2023-1', '52', '2023-52']))\n",
      "('CEK049', ('CEK049', ['2570373', '2023-01-01', '47', 'CEK049', '7.0', '18.0', '1', '1', '2023', '52', '2023-1', '52', '2023-52']))\n",
      "('CEK18', ('CEK18', ['2570374', '2023-01-01', '47', 'CEK18', '4.0', '15.0', '1', '1', '2023', '52', '2023-1', '52', '2023-52']))\n",
      "('CEK31', ('CEK31', ['2570375', '2023-01-01', '47', 'CEK31', '5.0', '20.0', '1', '1', '2023', '52', '2023-1', '52', '2023-52']))\n",
      "('CEV011', ('CEV011', ['2570376', '2023-01-01', '47', 'CEV011', '2.0', '21.0', '1', '1', '2023', '52', '2023-1', '52', '2023-52']))\n",
      "('CJE181', ('CJE181', ['2570377', '2023-01-01', '47', 'CJE181', '2.0', '17.0', '1', '1', '2023', '52', '2023-1', '52', '2023-52']))\n",
      "('CJM90', ('CJM90', ['2570378', '2023-01-01', '47', 'CJM90', '21.0', '18.0', '1', '1', '2023', '52', '2023-1', '52', '2023-52']))\n",
      "('CLW239', ('CLW239', ['2570379', '2023-01-01', '47', 'CLW239', '2.0', '16.0', '1', '1', '2023', '52', '2023-1', '52', '2023-52']))\n",
      "('COM205', ('COM205', ['2570380', '2023-01-01', '47', 'COM205', '5.0', '21.0', '1', '1', '2023', '52', '2023-1', '52', '2023-52']))\n",
      "...\n",
      "\n"
     ]
    },
    {
     "name": "stderr",
     "output_type": "stream",
     "text": [
      "                                                                                \r"
     ]
    },
    {
     "name": "stdout",
     "output_type": "stream",
     "text": [
      "-------------------------------------------\n",
      "Time: 2023-05-14 13:53:26\n",
      "-------------------------------------------\n",
      "\n"
     ]
    },
    {
     "name": "stderr",
     "output_type": "stream",
     "text": [
      "                                                                                \r"
     ]
    },
    {
     "name": "stdout",
     "output_type": "stream",
     "text": [
      "-------------------------------------------\n",
      "Time: 2023-05-14 13:53:28\n",
      "-------------------------------------------\n",
      "\n"
     ]
    },
    {
     "name": "stderr",
     "output_type": "stream",
     "text": [
      "                                                                                \r"
     ]
    },
    {
     "name": "stdout",
     "output_type": "stream",
     "text": [
      "-------------------------------------------\n",
      "Time: 2023-05-14 13:53:30\n",
      "-------------------------------------------\n",
      "\n"
     ]
    },
    {
     "name": "stderr",
     "output_type": "stream",
     "text": [
      "                                                                                \r"
     ]
    },
    {
     "name": "stdout",
     "output_type": "stream",
     "text": [
      "-------------------------------------------\n",
      "Time: 2023-05-14 13:53:32\n",
      "-------------------------------------------\n",
      "\n"
     ]
    }
   ],
   "source": [
    "ssc.start()"
   ]
  },
  {
   "cell_type": "code",
   "execution_count": 16,
   "id": "a43e6306",
   "metadata": {},
   "outputs": [
    {
     "name": "stdout",
     "output_type": "stream",
     "text": [
      "23/05/14 13:54:27 ERROR ReceiverTracker: Deregistered receiver for stream 0: Stopped by driver\n"
     ]
    },
    {
     "name": "stderr",
     "output_type": "stream",
     "text": [
      "Exception in thread \"receiver-supervisor-future-0\" java.lang.InterruptedException: sleep interrupted\n",
      "\tat java.base/java.lang.Thread.sleep(Native Method)\n",
      "\tat org.apache.spark.streaming.receiver.ReceiverSupervisor.$anonfun$restartReceiver$1(ReceiverSupervisor.scala:196)\n",
      "\tat scala.runtime.java8.JFunction0$mcV$sp.apply(JFunction0$mcV$sp.java:23)\n",
      "\tat scala.concurrent.Future$.$anonfun$apply$1(Future.scala:659)\n",
      "\tat scala.util.Success.$anonfun$map$1(Try.scala:255)\n",
      "\tat scala.util.Success.map(Try.scala:213)\n",
      "\tat scala.concurrent.Future.$anonfun$map$1(Future.scala:292)\n",
      "\tat scala.concurrent.impl.Promise.liftedTree1$1(Promise.scala:33)\n",
      "\tat scala.concurrent.impl.Promise.$anonfun$transform$1(Promise.scala:33)\n",
      "\tat scala.concurrent.impl.CallbackRunnable.run(Promise.scala:64)\n",
      "\tat java.base/java.util.concurrent.ThreadPoolExecutor.runWorker(ThreadPoolExecutor.java:1128)\n",
      "\tat java.base/java.util.concurrent.ThreadPoolExecutor$Worker.run(ThreadPoolExecutor.java:628)\n",
      "\tat java.base/java.lang.Thread.run(Thread.java:829)\n",
      "                                                                                \r"
     ]
    },
    {
     "name": "stdout",
     "output_type": "stream",
     "text": [
      "-------------------------------------------\n",
      "Time: 2023-05-14 13:53:34\n",
      "-------------------------------------------\n",
      "\n"
     ]
    },
    {
     "name": "stderr",
     "output_type": "stream",
     "text": [
      "\r",
      "[Stage 1574:>                                                       (0 + 1) / 1]\r"
     ]
    }
   ],
   "source": [
    "ssc.stop(stopSparkContext=False, stopGraceFully=False)"
   ]
  },
  {
   "cell_type": "markdown",
   "id": "65dfd44e",
   "metadata": {},
   "source": [
    "### N = 3"
   ]
  },
  {
   "cell_type": "code",
   "execution_count": 17,
   "id": "270d93e7",
   "metadata": {},
   "outputs": [],
   "source": [
    "batch_interval = 2\n",
    "[sc,ssc,dstream] = getDStream(spark, batch_interval)\n",
    "initialStateRDD = sc.parallelize([(x[0], set_state_from_x(x, 3, average_model)) for x in different_sensors]) \n",
    "dataS=dstream.map(ast.literal_eval)\n",
    "dataS=dataS.flatMap(lambda x: [(x[3],(x[3],x))]) #x[3] contains the key (sensor)\n",
    "dataS.pprint()\n",
    "updatedState = dataS.updateStateByKey(updateFunction, initialRDD=initialStateRDD)\n",
    "def save_to_file(rdd):\n",
    "    \"\"\"\n",
    "    Update the state on a file to retrieve data after the stream completed\n",
    "    \"\"\"\n",
    "    # coalesce the RDD into a single partition\n",
    "    merged_rdd = rdd.coalesce(1)\n",
    "    # save the merged RDD to a text file\n",
    "    if not merged_rdd.isEmpty():\n",
    "        merged_rdd.map(lambda x: f\"{x[0]},{(x[1][4]/(x[1][3] if x[1][3] != 0 else 1)):.2f},{x[1][4]},{x[1][3]}\") \\\n",
    "            .saveAsTextFile(\"streaming/Task1/avg_3\")\n",
    "\n",
    "\n",
    "updatedState.foreachRDD(lambda x : save_to_file(x))"
   ]
  },
  {
   "cell_type": "markdown",
   "id": "9c8c6b5f",
   "metadata": {},
   "source": [
    "Then, we start the data consumption. At each `batch_interval`, the data sent by the producer is collected."
   ]
  },
  {
   "cell_type": "code",
   "execution_count": 18,
   "id": "86cdcff0",
   "metadata": {},
   "outputs": [
    {
     "name": "stderr",
     "output_type": "stream",
     "text": [
      "\r",
      "[Stage 1575:>                                                       (0 + 1) / 1]\r",
      "\r",
      "                                                                                \r"
     ]
    },
    {
     "name": "stdout",
     "output_type": "stream",
     "text": [
      "-------------------------------------------\n",
      "Time: 2023-05-14 13:54:46\n",
      "-------------------------------------------\n",
      "('CB1101', ('CB1101', ['2120258', '2022-04-16', '1', 'CB1101', '0.0', '-1.0', '106', '7', '2022', '15', '2022-106', '15', '2022-15']))\n",
      "('CB1142', ('CB1142', ['2120259', '2022-04-16', '1', 'CB1142', '3.0', '21.0', '106', '7', '2022', '15', '2022-106', '15', '2022-15']))\n",
      "('CB1143', ('CB1143', ['2120260', '2022-04-16', '1', 'CB1143', '1.0', '27.0', '106', '7', '2022', '15', '2022-106', '15', '2022-15']))\n",
      "('CB1599', ('CB1599', ['2120261', '2022-04-16', '1', 'CB1599', '1.0', '19.0', '106', '7', '2022', '15', '2022-106', '15', '2022-15']))\n",
      "('CB1699', ('CB1699', ['2120262', '2022-04-16', '1', 'CB1699', '0.0', '-1.0', '106', '7', '2022', '15', '2022-106', '15', '2022-15']))\n",
      "('CB2105', ('CB2105', ['2120263', '2022-04-16', '1', 'CB2105', '7.0', '19.0', '106', '7', '2022', '15', '2022-106', '15', '2022-15']))\n",
      "('CEE016', ('CEE016', ['2120264', '2022-04-16', '1', 'CEE016', '1.0', '19.0', '106', '7', '2022', '15', '2022-106', '15', '2022-15']))\n",
      "('CEK049', ('CEK049', ['2120265', '2022-04-16', '1', 'CEK049', '8.0', '20.0', '106', '7', '2022', '15', '2022-106', '15', '2022-15']))\n",
      "('CEK18', ('CEK18', ['2120266', '2022-04-16', '1', 'CEK18', '1.0', '18.0', '106', '7', '2022', '15', '2022-106', '15', '2022-15']))\n",
      "('CEK31', ('CEK31', ['2120267', '2022-04-16', '1', 'CEK31', '5.0', '17.0', '106', '7', '2022', '15', '2022-106', '15', '2022-15']))\n",
      "...\n",
      "\n"
     ]
    },
    {
     "name": "stderr",
     "output_type": "stream",
     "text": [
      "                                                                                \r"
     ]
    },
    {
     "name": "stdout",
     "output_type": "stream",
     "text": [
      "-------------------------------------------\n",
      "Time: 2023-05-14 13:54:48\n",
      "-------------------------------------------\n",
      "\n"
     ]
    },
    {
     "name": "stderr",
     "output_type": "stream",
     "text": [
      "                                                                                \r"
     ]
    },
    {
     "name": "stdout",
     "output_type": "stream",
     "text": [
      "-------------------------------------------\n",
      "Time: 2023-05-14 13:54:50\n",
      "-------------------------------------------\n",
      "('CAT17', ('CAT17', ['2123712', '2022-04-18', '1', 'CAT17', '2.0', '17.0', '108', '2', '2022', '16', '2022-108', '16', '2022-16']))\n",
      "('CB02411', ('CB02411', ['2123713', '2022-04-18', '1', 'CB02411', '2.0', '28.0', '108', '2', '2022', '16', '2022-108', '16', '2022-16']))\n",
      "('CB1101', ('CB1101', ['2123714', '2022-04-18', '1', 'CB1101', '0.0', '-1.0', '108', '2', '2022', '16', '2022-108', '16', '2022-16']))\n",
      "('CB1142', ('CB1142', ['2123715', '2022-04-18', '1', 'CB1142', '0.0', '-1.0', '108', '2', '2022', '16', '2022-108', '16', '2022-16']))\n",
      "('CB1143', ('CB1143', ['2123716', '2022-04-18', '1', 'CB1143', '0.0', '-1.0', '108', '2', '2022', '16', '2022-108', '16', '2022-16']))\n",
      "('CB1599', ('CB1599', ['2123717', '2022-04-18', '1', 'CB1599', '0.0', '-1.0', '108', '2', '2022', '16', '2022-108', '16', '2022-16']))\n",
      "('CB1699', ('CB1699', ['2123718', '2022-04-18', '1', 'CB1699', '1.0', '17.0', '108', '2', '2022', '16', '2022-108', '16', '2022-16']))\n",
      "('CB2105', ('CB2105', ['2123719', '2022-04-18', '1', 'CB2105', '8.0', '19.0', '108', '2', '2022', '16', '2022-108', '16', '2022-16']))\n",
      "('CEE016', ('CEE016', ['2123720', '2022-04-18', '1', 'CEE016', '0.0', '-1.0', '108', '2', '2022', '16', '2022-108', '16', '2022-16']))\n",
      "('CEK049', ('CEK049', ['2123721', '2022-04-18', '1', 'CEK049', '4.0', '21.0', '108', '2', '2022', '16', '2022-108', '16', '2022-16']))\n",
      "...\n",
      "\n"
     ]
    },
    {
     "name": "stderr",
     "output_type": "stream",
     "text": [
      "                                                                                \r"
     ]
    },
    {
     "name": "stdout",
     "output_type": "stream",
     "text": [
      "-------------------------------------------\n",
      "Time: 2023-05-14 13:54:52\n",
      "-------------------------------------------\n",
      "('CAT17', ('CAT17', ['2135808', '2022-04-25', '1', 'CAT17', '0.0', '-1.0', '115', '2', '2022', '17', '2022-115', '17', '2022-17']))\n",
      "('CB02411', ('CB02411', ['2135809', '2022-04-25', '1', 'CB02411', '3.0', '22.0', '115', '2', '2022', '17', '2022-115', '17', '2022-17']))\n",
      "('CB1101', ('CB1101', ['2135810', '2022-04-25', '1', 'CB1101', '0.0', '-1.0', '115', '2', '2022', '17', '2022-115', '17', '2022-17']))\n",
      "('CB1142', ('CB1142', ['2135811', '2022-04-25', '1', 'CB1142', '2.0', '17.0', '115', '2', '2022', '17', '2022-115', '17', '2022-17']))\n",
      "('CB1143', ('CB1143', ['2135812', '2022-04-25', '1', 'CB1143', '0.0', '-1.0', '115', '2', '2022', '17', '2022-115', '17', '2022-17']))\n",
      "('CB1599', ('CB1599', ['2135813', '2022-04-25', '1', 'CB1599', '0.0', '-1.0', '115', '2', '2022', '17', '2022-115', '17', '2022-17']))\n",
      "('CB1699', ('CB1699', ['2135814', '2022-04-25', '1', 'CB1699', '1.0', '20.0', '115', '2', '2022', '17', '2022-115', '17', '2022-17']))\n",
      "('CB2105', ('CB2105', ['2135815', '2022-04-25', '1', 'CB2105', '5.0', '16.0', '115', '2', '2022', '17', '2022-115', '17', '2022-17']))\n",
      "('CEE016', ('CEE016', ['2135816', '2022-04-25', '1', 'CEE016', '1.0', '10.0', '115', '2', '2022', '17', '2022-115', '17', '2022-17']))\n",
      "('CEK049', ('CEK049', ['2135817', '2022-04-25', '1', 'CEK049', '1.0', '22.0', '115', '2', '2022', '17', '2022-115', '17', '2022-17']))\n",
      "...\n",
      "\n"
     ]
    },
    {
     "name": "stderr",
     "output_type": "stream",
     "text": [
      "                                                                                \r"
     ]
    },
    {
     "name": "stdout",
     "output_type": "stream",
     "text": [
      "-------------------------------------------\n",
      "Time: 2023-05-14 13:54:54\n",
      "-------------------------------------------\n",
      "('CAT17', ('CAT17', ['2147904', '2022-05-02', '1', 'CAT17', '0.0', '-1.0', '122', '2', '2022', '18', '2022-122', '18', '2022-18']))\n",
      "('CB02411', ('CB02411', ['2147905', '2022-05-02', '1', 'CB02411', '49.0', '17.0', '122', '2', '2022', '18', '2022-122', '18', '2022-18']))\n",
      "('CB1101', ('CB1101', ['2147906', '2022-05-02', '1', 'CB1101', '0.0', '-1.0', '122', '2', '2022', '18', '2022-122', '18', '2022-18']))\n",
      "('CB1142', ('CB1142', ['2147907', '2022-05-02', '1', 'CB1142', '5.0', '20.0', '122', '2', '2022', '18', '2022-122', '18', '2022-18']))\n",
      "('CB1143', ('CB1143', ['2147908', '2022-05-02', '1', 'CB1143', '5.0', '23.0', '122', '2', '2022', '18', '2022-122', '18', '2022-18']))\n",
      "('CB1599', ('CB1599', ['2147909', '2022-05-02', '1', 'CB1599', '0.0', '-1.0', '122', '2', '2022', '18', '2022-122', '18', '2022-18']))\n",
      "('CB1699', ('CB1699', ['2147910', '2022-05-02', '1', 'CB1699', '0.0', '-1.0', '122', '2', '2022', '18', '2022-122', '18', '2022-18']))\n",
      "('CB2105', ('CB2105', ['2147911', '2022-05-02', '1', 'CB2105', '6.0', '20.0', '122', '2', '2022', '18', '2022-122', '18', '2022-18']))\n",
      "('CEE016', ('CEE016', ['2147912', '2022-05-02', '1', 'CEE016', '0.0', '-1.0', '122', '2', '2022', '18', '2022-122', '18', '2022-18']))\n",
      "('CEK049', ('CEK049', ['2147913', '2022-05-02', '1', 'CEK049', '1.0', '23.0', '122', '2', '2022', '18', '2022-122', '18', '2022-18']))\n",
      "...\n",
      "\n"
     ]
    },
    {
     "name": "stderr",
     "output_type": "stream",
     "text": [
      "                                                                                \r"
     ]
    },
    {
     "name": "stdout",
     "output_type": "stream",
     "text": [
      "-------------------------------------------\n",
      "Time: 2023-05-14 13:54:56\n",
      "-------------------------------------------\n",
      "('CB2105', ('CB2105', ['2155759', '2022-05-06', '53', 'CB2105', '33.0', '21.0', '126', '6', '2022', '18', '2022-126', '18', '2022-18']))\n",
      "('CEE016', ('CEE016', ['2155760', '2022-05-06', '53', 'CEE016', '21.0', '18.0', '126', '6', '2022', '18', '2022-126', '18', '2022-18']))\n",
      "('CEK049', ('CEK049', ['2155761', '2022-05-06', '53', 'CEK049', '37.0', '22.0', '126', '6', '2022', '18', '2022-126', '18', '2022-18']))\n",
      "('CEK18', ('CEK18', ['2155762', '2022-05-06', '53', 'CEK18', '4.0', '16.0', '126', '6', '2022', '18', '2022-126', '18', '2022-18']))\n",
      "('CEK31', ('CEK31', ['2155763', '2022-05-06', '53', 'CEK31', '31.0', '18.0', '126', '6', '2022', '18', '2022-126', '18', '2022-18']))\n",
      "('CEV011', ('CEV011', ['2155764', '2022-05-06', '53', 'CEV011', '9.0', '16.0', '126', '6', '2022', '18', '2022-126', '18', '2022-18']))\n",
      "('CJE181', ('CJE181', ['2155765', '2022-05-06', '53', 'CJE181', '4.0', '30.0', '126', '6', '2022', '18', '2022-126', '18', '2022-18']))\n",
      "('CJM90', ('CJM90', ['2155766', '2022-05-06', '53', 'CJM90', '92.0', '19.0', '126', '6', '2022', '18', '2022-126', '18', '2022-18']))\n",
      "('CLW239', ('CLW239', ['2155767', '2022-05-06', '53', 'CLW239', '19.0', '20.0', '126', '6', '2022', '18', '2022-126', '18', '2022-18']))\n",
      "('COM205', ('COM205', ['2155768', '2022-05-06', '53', 'COM205', '22.0', '22.0', '126', '6', '2022', '18', '2022-126', '18', '2022-18']))\n",
      "...\n",
      "\n"
     ]
    },
    {
     "name": "stderr",
     "output_type": "stream",
     "text": [
      "                                                                                \r"
     ]
    },
    {
     "name": "stdout",
     "output_type": "stream",
     "text": [
      "-------------------------------------------\n",
      "Time: 2023-05-14 13:54:58\n",
      "-------------------------------------------\n",
      "('CAT17', ('CAT17', ['2160000', '2022-05-09', '1', 'CAT17', '1.0', '22.0', '129', '2', '2022', '19', '2022-129', '19', '2022-19']))\n",
      "('CB02411', ('CB02411', ['2160001', '2022-05-09', '1', 'CB02411', '1.0', '22.0', '129', '2', '2022', '19', '2022-129', '19', '2022-19']))\n",
      "('CB1101', ('CB1101', ['2160002', '2022-05-09', '1', 'CB1101', '0.0', '-1.0', '129', '2', '2022', '19', '2022-129', '19', '2022-19']))\n",
      "('CB1142', ('CB1142', ['2160003', '2022-05-09', '1', 'CB1142', '1.0', '22.0', '129', '2', '2022', '19', '2022-129', '19', '2022-19']))\n",
      "('CB1143', ('CB1143', ['2160004', '2022-05-09', '1', 'CB1143', '1.0', '25.0', '129', '2', '2022', '19', '2022-129', '19', '2022-19']))\n",
      "('CB1599', ('CB1599', ['2160005', '2022-05-09', '1', 'CB1599', '0.0', '-1.0', '129', '2', '2022', '19', '2022-129', '19', '2022-19']))\n",
      "('CB1699', ('CB1699', ['2160006', '2022-05-09', '1', 'CB1699', '0.0', '-1.0', '129', '2', '2022', '19', '2022-129', '19', '2022-19']))\n",
      "('CB2105', ('CB2105', ['2160007', '2022-05-09', '1', 'CB2105', '5.0', '23.0', '129', '2', '2022', '19', '2022-129', '19', '2022-19']))\n",
      "('CEE016', ('CEE016', ['2160008', '2022-05-09', '1', 'CEE016', '1.0', '23.0', '129', '2', '2022', '19', '2022-129', '19', '2022-19']))\n",
      "('CEK049', ('CEK049', ['2160009', '2022-05-09', '1', 'CEK049', '3.0', '21.0', '129', '2', '2022', '19', '2022-129', '19', '2022-19']))\n",
      "...\n",
      "\n"
     ]
    },
    {
     "name": "stderr",
     "output_type": "stream",
     "text": [
      "                                                                                \r"
     ]
    },
    {
     "name": "stdout",
     "output_type": "stream",
     "text": [
      "-------------------------------------------\n",
      "Time: 2023-05-14 13:55:00\n",
      "-------------------------------------------\n",
      "('CAT17', ('CAT17', ['2172096', '2022-05-16', '1', 'CAT17', '1.0', '18.0', '136', '2', '2022', '20', '2022-136', '20', '2022-20']))\n",
      "('CB02411', ('CB02411', ['2172097', '2022-05-16', '1', 'CB02411', '4.0', '21.0', '136', '2', '2022', '20', '2022-136', '20', '2022-20']))\n",
      "('CB1101', ('CB1101', ['2172098', '2022-05-16', '1', 'CB1101', '0.0', '-1.0', '136', '2', '2022', '20', '2022-136', '20', '2022-20']))\n",
      "('CB1142', ('CB1142', ['2172099', '2022-05-16', '1', 'CB1142', '0.0', '-1.0', '136', '2', '2022', '20', '2022-136', '20', '2022-20']))\n",
      "('CB1143', ('CB1143', ['2172100', '2022-05-16', '1', 'CB1143', '5.0', '14.0', '136', '2', '2022', '20', '2022-136', '20', '2022-20']))\n",
      "('CB1599', ('CB1599', ['2172101', '2022-05-16', '1', 'CB1599', '1.0', '12.0', '136', '2', '2022', '20', '2022-136', '20', '2022-20']))\n",
      "('CB1699', ('CB1699', ['2172102', '2022-05-16', '1', 'CB1699', '0.0', '-1.0', '136', '2', '2022', '20', '2022-136', '20', '2022-20']))\n",
      "('CB2105', ('CB2105', ['2172103', '2022-05-16', '1', 'CB2105', '1.0', '24.0', '136', '2', '2022', '20', '2022-136', '20', '2022-20']))\n",
      "('CEE016', ('CEE016', ['2172104', '2022-05-16', '1', 'CEE016', '2.0', '21.0', '136', '2', '2022', '20', '2022-136', '20', '2022-20']))\n",
      "('CEK049', ('CEK049', ['2172105', '2022-05-16', '1', 'CEK049', '1.0', '24.0', '136', '2', '2022', '20', '2022-136', '20', '2022-20']))\n",
      "...\n",
      "\n"
     ]
    },
    {
     "name": "stderr",
     "output_type": "stream",
     "text": [
      "                                                                                \r"
     ]
    },
    {
     "name": "stdout",
     "output_type": "stream",
     "text": [
      "-------------------------------------------\n",
      "Time: 2023-05-14 13:55:02\n",
      "-------------------------------------------\n",
      "\n"
     ]
    },
    {
     "name": "stderr",
     "output_type": "stream",
     "text": [
      "                                                                                \r"
     ]
    },
    {
     "name": "stdout",
     "output_type": "stream",
     "text": [
      "-------------------------------------------\n",
      "Time: 2023-05-14 13:55:04\n",
      "-------------------------------------------\n",
      "('CAT17', ('CAT17', ['2184192', '2022-05-23', '1', 'CAT17', '0.0', '-1.0', '143', '2', '2022', '21', '2022-143', '21', '2022-21']))\n",
      "('CB02411', ('CB02411', ['2184193', '2022-05-23', '1', 'CB02411', '2.0', '23.0', '143', '2', '2022', '21', '2022-143', '21', '2022-21']))\n",
      "('CB1101', ('CB1101', ['2184194', '2022-05-23', '1', 'CB1101', '0.0', '-1.0', '143', '2', '2022', '21', '2022-143', '21', '2022-21']))\n",
      "('CB1142', ('CB1142', ['2184195', '2022-05-23', '1', 'CB1142', '1.0', '29.0', '143', '2', '2022', '21', '2022-143', '21', '2022-21']))\n",
      "('CB1143', ('CB1143', ['2184196', '2022-05-23', '1', 'CB1143', '3.0', '23.0', '143', '2', '2022', '21', '2022-143', '21', '2022-21']))\n",
      "('CB1599', ('CB1599', ['2184197', '2022-05-23', '1', 'CB1599', '0.0', '-1.0', '143', '2', '2022', '21', '2022-143', '21', '2022-21']))\n",
      "('CB1699', ('CB1699', ['2184198', '2022-05-23', '1', 'CB1699', '1.0', '22.0', '143', '2', '2022', '21', '2022-143', '21', '2022-21']))\n",
      "('CB2105', ('CB2105', ['2184199', '2022-05-23', '1', 'CB2105', '2.0', '23.0', '143', '2', '2022', '21', '2022-143', '21', '2022-21']))\n",
      "('CEE016', ('CEE016', ['2184200', '2022-05-23', '1', 'CEE016', '1.0', '18.0', '143', '2', '2022', '21', '2022-143', '21', '2022-21']))\n",
      "('CEK049', ('CEK049', ['2184201', '2022-05-23', '1', 'CEK049', '1.0', '23.0', '143', '2', '2022', '21', '2022-143', '21', '2022-21']))\n",
      "...\n",
      "\n"
     ]
    },
    {
     "name": "stderr",
     "output_type": "stream",
     "text": [
      "                                                                                \r"
     ]
    },
    {
     "name": "stdout",
     "output_type": "stream",
     "text": [
      "-------------------------------------------\n",
      "Time: 2023-05-14 13:55:06\n",
      "-------------------------------------------\n",
      "('CAT17', ('CAT17', ['2196288', '2022-05-30', '1', 'CAT17', '0.0', '-1.0', '150', '2', '2022', '22', '2022-150', '22', '2022-22']))\n",
      "('CB02411', ('CB02411', ['2196289', '2022-05-30', '1', 'CB02411', '3.0', '20.0', '150', '2', '2022', '22', '2022-150', '22', '2022-22']))\n",
      "('CB1101', ('CB1101', ['2196290', '2022-05-30', '1', 'CB1101', '0.0', '-1.0', '150', '2', '2022', '22', '2022-150', '22', '2022-22']))\n",
      "('CB1142', ('CB1142', ['2196291', '2022-05-30', '1', 'CB1142', '3.0', '20.0', '150', '2', '2022', '22', '2022-150', '22', '2022-22']))\n",
      "('CB1143', ('CB1143', ['2196292', '2022-05-30', '1', 'CB1143', '1.0', '25.0', '150', '2', '2022', '22', '2022-150', '22', '2022-22']))\n",
      "('CB1599', ('CB1599', ['2196293', '2022-05-30', '1', 'CB1599', '1.0', '20.0', '150', '2', '2022', '22', '2022-150', '22', '2022-22']))\n",
      "('CB1699', ('CB1699', ['2196294', '2022-05-30', '1', 'CB1699', '0.0', '-1.0', '150', '2', '2022', '22', '2022-150', '22', '2022-22']))\n",
      "('CB2105', ('CB2105', ['2196295', '2022-05-30', '1', 'CB2105', '2.0', '21.0', '150', '2', '2022', '22', '2022-150', '22', '2022-22']))\n",
      "('CEE016', ('CEE016', ['2196296', '2022-05-30', '1', 'CEE016', '1.0', '16.0', '150', '2', '2022', '22', '2022-150', '22', '2022-22']))\n",
      "('CEK049', ('CEK049', ['2196297', '2022-05-30', '1', 'CEK049', '0.0', '-1.0', '150', '2', '2022', '22', '2022-150', '22', '2022-22']))\n",
      "...\n",
      "\n"
     ]
    },
    {
     "name": "stderr",
     "output_type": "stream",
     "text": [
      "                                                                                \r"
     ]
    },
    {
     "name": "stdout",
     "output_type": "stream",
     "text": [
      "-------------------------------------------\n",
      "Time: 2023-05-14 13:55:08\n",
      "-------------------------------------------\n",
      "('CAT17', ('CAT17', ['2208384', '2022-06-06', '1', 'CAT17', '0.0', '-1.0', '157', '2', '2022', '23', '2022-157', '23', '2022-23']))\n",
      "('CB02411', ('CB02411', ['2208385', '2022-06-06', '1', 'CB02411', '4.0', '20.0', '157', '2', '2022', '23', '2022-157', '23', '2022-23']))\n",
      "('CB1101', ('CB1101', ['2208386', '2022-06-06', '1', 'CB1101', '0.0', '-1.0', '157', '2', '2022', '23', '2022-157', '23', '2022-23']))\n",
      "('CB1142', ('CB1142', ['2208387', '2022-06-06', '1', 'CB1142', '2.0', '17.0', '157', '2', '2022', '23', '2022-157', '23', '2022-23']))\n",
      "('CB1143', ('CB1143', ['2208388', '2022-06-06', '1', 'CB1143', '2.0', '21.0', '157', '2', '2022', '23', '2022-157', '23', '2022-23']))\n",
      "('CB1599', ('CB1599', ['2208389', '2022-06-06', '1', 'CB1599', '1.0', '25.0', '157', '2', '2022', '23', '2022-157', '23', '2022-23']))\n",
      "('CB1699', ('CB1699', ['2208390', '2022-06-06', '1', 'CB1699', '1.0', '20.0', '157', '2', '2022', '23', '2022-157', '23', '2022-23']))\n",
      "('CB2105', ('CB2105', ['2208391', '2022-06-06', '1', 'CB2105', '10.0', '19.0', '157', '2', '2022', '23', '2022-157', '23', '2022-23']))\n",
      "('CEE016', ('CEE016', ['2208392', '2022-06-06', '1', 'CEE016', '4.0', '21.0', '157', '2', '2022', '23', '2022-157', '23', '2022-23']))\n",
      "('CEK049', ('CEK049', ['2208393', '2022-06-06', '1', 'CEK049', '4.0', '23.0', '157', '2', '2022', '23', '2022-157', '23', '2022-23']))\n",
      "...\n",
      "\n"
     ]
    },
    {
     "name": "stderr",
     "output_type": "stream",
     "text": [
      "                                                                                \r"
     ]
    },
    {
     "name": "stdout",
     "output_type": "stream",
     "text": [
      "-------------------------------------------\n",
      "Time: 2023-05-14 13:55:10\n",
      "-------------------------------------------\n",
      "('CEE016', ('CEE016', ['2214260', '2022-06-09', '39', 'CEE016', '8.0', '18.0', '160', '5', '2022', '23', '2022-160', '23', '2022-23']))\n",
      "('CEK049', ('CEK049', ['2214261', '2022-06-09', '39', 'CEK049', '14.0', '21.0', '160', '5', '2022', '23', '2022-160', '23', '2022-23']))\n",
      "('CEK18', ('CEK18', ['2214262', '2022-06-09', '39', 'CEK18', '18.0', '15.0', '160', '5', '2022', '23', '2022-160', '23', '2022-23']))\n",
      "('CEK31', ('CEK31', ['2214263', '2022-06-09', '39', 'CEK31', '12.0', '19.0', '160', '5', '2022', '23', '2022-160', '23', '2022-23']))\n",
      "('CEV011', ('CEV011', ['2214264', '2022-06-09', '39', 'CEV011', '8.0', '19.0', '160', '5', '2022', '23', '2022-160', '23', '2022-23']))\n",
      "('CJE181', ('CJE181', ['2214265', '2022-06-09', '39', 'CJE181', '3.0', '25.0', '160', '5', '2022', '23', '2022-160', '23', '2022-23']))\n",
      "('CJM90', ('CJM90', ['2214266', '2022-06-09', '39', 'CJM90', '42.0', '18.0', '160', '5', '2022', '23', '2022-160', '23', '2022-23']))\n",
      "('CLW239', ('CLW239', ['2214267', '2022-06-09', '39', 'CLW239', '6.0', '22.0', '160', '5', '2022', '23', '2022-160', '23', '2022-23']))\n",
      "('COM205', ('COM205', ['2214268', '2022-06-09', '39', 'COM205', '15.0', '21.0', '160', '5', '2022', '23', '2022-160', '23', '2022-23']))\n",
      "('CVT387', ('CVT387', ['2214269', '2022-06-09', '39', 'CVT387', '1.0', '19.0', '160', '5', '2022', '23', '2022-160', '23', '2022-23']))\n",
      "...\n",
      "\n"
     ]
    },
    {
     "name": "stderr",
     "output_type": "stream",
     "text": [
      "                                                                                \r"
     ]
    },
    {
     "name": "stdout",
     "output_type": "stream",
     "text": [
      "-------------------------------------------\n",
      "Time: 2023-05-14 13:55:12\n",
      "-------------------------------------------\n",
      "('CAT17', ('CAT17', ['2220480', '2022-06-13', '1', 'CAT17', '2.0', '18.0', '164', '2', '2022', '24', '2022-164', '24', '2022-24']))\n",
      "('CB02411', ('CB02411', ['2220481', '2022-06-13', '1', 'CB02411', '2.0', '26.0', '164', '2', '2022', '24', '2022-164', '24', '2022-24']))\n",
      "('CB1101', ('CB1101', ['2220482', '2022-06-13', '1', 'CB1101', '0.0', '-1.0', '164', '2', '2022', '24', '2022-164', '24', '2022-24']))\n",
      "('CB1142', ('CB1142', ['2220483', '2022-06-13', '1', 'CB1142', '0.0', '-1.0', '164', '2', '2022', '24', '2022-164', '24', '2022-24']))\n",
      "('CB1143', ('CB1143', ['2220484', '2022-06-13', '1', 'CB1143', '1.0', '21.0', '164', '2', '2022', '24', '2022-164', '24', '2022-24']))\n",
      "('CB1599', ('CB1599', ['2220485', '2022-06-13', '1', 'CB1599', '0.0', '-1.0', '164', '2', '2022', '24', '2022-164', '24', '2022-24']))\n",
      "('CB1699', ('CB1699', ['2220486', '2022-06-13', '1', 'CB1699', '1.0', '21.0', '164', '2', '2022', '24', '2022-164', '24', '2022-24']))\n",
      "('CB2105', ('CB2105', ['2220487', '2022-06-13', '1', 'CB2105', '6.0', '23.0', '164', '2', '2022', '24', '2022-164', '24', '2022-24']))\n",
      "('CEE016', ('CEE016', ['2220488', '2022-06-13', '1', 'CEE016', '0.0', '-1.0', '164', '2', '2022', '24', '2022-164', '24', '2022-24']))\n",
      "('CEK049', ('CEK049', ['2220489', '2022-06-13', '1', 'CEK049', '0.0', '-1.0', '164', '2', '2022', '24', '2022-164', '24', '2022-24']))\n",
      "...\n",
      "\n"
     ]
    },
    {
     "name": "stderr",
     "output_type": "stream",
     "text": [
      "                                                                                \r"
     ]
    },
    {
     "name": "stdout",
     "output_type": "stream",
     "text": [
      "-------------------------------------------\n",
      "Time: 2023-05-14 13:55:14\n",
      "-------------------------------------------\n",
      "('CAT17', ('CAT17', ['2232576', '2022-06-20', '1', 'CAT17', '1.0', '18.0', '171', '2', '2022', '25', '2022-171', '25', '2022-25']))\n",
      "('CB02411', ('CB02411', ['2232577', '2022-06-20', '1', 'CB02411', '1.0', '22.0', '171', '2', '2022', '25', '2022-171', '25', '2022-25']))\n",
      "('CB1101', ('CB1101', ['2232578', '2022-06-20', '1', 'CB1101', '0.0', '-1.0', '171', '2', '2022', '25', '2022-171', '25', '2022-25']))\n",
      "('CB1142', ('CB1142', ['2232579', '2022-06-20', '1', 'CB1142', '2.0', '26.0', '171', '2', '2022', '25', '2022-171', '25', '2022-25']))\n",
      "('CB1143', ('CB1143', ['2232580', '2022-06-20', '1', 'CB1143', '1.0', '14.0', '171', '2', '2022', '25', '2022-171', '25', '2022-25']))\n",
      "('CB1599', ('CB1599', ['2232581', '2022-06-20', '1', 'CB1599', '1.0', '19.0', '171', '2', '2022', '25', '2022-171', '25', '2022-25']))\n",
      "('CB1699', ('CB1699', ['2232582', '2022-06-20', '1', 'CB1699', '1.0', '21.0', '171', '2', '2022', '25', '2022-171', '25', '2022-25']))\n",
      "('CB2105', ('CB2105', ['2232583', '2022-06-20', '1', 'CB2105', '7.0', '22.0', '171', '2', '2022', '25', '2022-171', '25', '2022-25']))\n",
      "('CEE016', ('CEE016', ['2232584', '2022-06-20', '1', 'CEE016', '0.0', '-1.0', '171', '2', '2022', '25', '2022-171', '25', '2022-25']))\n",
      "('CEK049', ('CEK049', ['2232585', '2022-06-20', '1', 'CEK049', '1.0', '14.0', '171', '2', '2022', '25', '2022-171', '25', '2022-25']))\n",
      "...\n",
      "\n"
     ]
    },
    {
     "name": "stderr",
     "output_type": "stream",
     "text": [
      "                                                                                \r"
     ]
    },
    {
     "name": "stdout",
     "output_type": "stream",
     "text": [
      "-------------------------------------------\n",
      "Time: 2023-05-14 13:55:16\n",
      "-------------------------------------------\n",
      "\n"
     ]
    },
    {
     "name": "stderr",
     "output_type": "stream",
     "text": [
      "                                                                                \r"
     ]
    },
    {
     "name": "stdout",
     "output_type": "stream",
     "text": [
      "-------------------------------------------\n",
      "Time: 2023-05-14 13:55:18\n",
      "-------------------------------------------\n",
      "('CAT17', ('CAT17', ['2244672', '2022-06-27', '1', 'CAT17', '1.0', '26.0', '178', '2', '2022', '26', '2022-178', '26', '2022-26']))\n",
      "('CB02411', ('CB02411', ['2244673', '2022-06-27', '1', 'CB02411', '18.0', '18.0', '178', '2', '2022', '26', '2022-178', '26', '2022-26']))\n",
      "('CB1101', ('CB1101', ['2244674', '2022-06-27', '1', 'CB1101', '0.0', '-1.0', '178', '2', '2022', '26', '2022-178', '26', '2022-26']))\n",
      "('CB1142', ('CB1142', ['2244675', '2022-06-27', '1', 'CB1142', '4.0', '25.0', '178', '2', '2022', '26', '2022-178', '26', '2022-26']))\n",
      "('CB1143', ('CB1143', ['2244676', '2022-06-27', '1', 'CB1143', '6.0', '25.0', '178', '2', '2022', '26', '2022-178', '26', '2022-26']))\n",
      "('CB1599', ('CB1599', ['2244677', '2022-06-27', '1', 'CB1599', '1.0', '17.0', '178', '2', '2022', '26', '2022-178', '26', '2022-26']))\n",
      "('CB1699', ('CB1699', ['2244678', '2022-06-27', '1', 'CB1699', '1.0', '21.0', '178', '2', '2022', '26', '2022-178', '26', '2022-26']))\n",
      "('CB2105', ('CB2105', ['2244679', '2022-06-27', '1', 'CB2105', '6.0', '22.0', '178', '2', '2022', '26', '2022-178', '26', '2022-26']))\n",
      "('CEE016', ('CEE016', ['2244680', '2022-06-27', '1', 'CEE016', '1.0', '22.0', '178', '2', '2022', '26', '2022-178', '26', '2022-26']))\n",
      "('CEK049', ('CEK049', ['2244681', '2022-06-27', '1', 'CEK049', '2.0', '16.0', '178', '2', '2022', '26', '2022-178', '26', '2022-26']))\n",
      "...\n",
      "\n"
     ]
    },
    {
     "name": "stderr",
     "output_type": "stream",
     "text": [
      "                                                                                \r"
     ]
    },
    {
     "name": "stdout",
     "output_type": "stream",
     "text": [
      "-------------------------------------------\n",
      "Time: 2023-05-14 13:55:20\n",
      "-------------------------------------------\n",
      "('CAT17', ('CAT17', ['2256768', '2022-07-04', '1', 'CAT17', '0.0', '-1.0', '185', '2', '2022', '27', '2022-185', '27', '2022-27']))\n",
      "('CB02411', ('CB02411', ['2256769', '2022-07-04', '1', 'CB02411', '2.0', '16.0', '185', '2', '2022', '27', '2022-185', '27', '2022-27']))\n",
      "('CB1101', ('CB1101', ['2256770', '2022-07-04', '1', 'CB1101', '0.0', '-1.0', '185', '2', '2022', '27', '2022-185', '27', '2022-27']))\n",
      "('CB1142', ('CB1142', ['2256771', '2022-07-04', '1', 'CB1142', '3.0', '12.0', '185', '2', '2022', '27', '2022-185', '27', '2022-27']))\n",
      "('CB1143', ('CB1143', ['2256772', '2022-07-04', '1', 'CB1143', '2.0', '18.0', '185', '2', '2022', '27', '2022-185', '27', '2022-27']))\n",
      "('CB1599', ('CB1599', ['2256773', '2022-07-04', '1', 'CB1599', '1.0', '18.0', '185', '2', '2022', '27', '2022-185', '27', '2022-27']))\n",
      "('CB1699', ('CB1699', ['2256774', '2022-07-04', '1', 'CB1699', '2.0', '18.0', '185', '2', '2022', '27', '2022-185', '27', '2022-27']))\n",
      "('CB2105', ('CB2105', ['2256775', '2022-07-04', '1', 'CB2105', '5.0', '17.0', '185', '2', '2022', '27', '2022-185', '27', '2022-27']))\n",
      "('CEE016', ('CEE016', ['2256776', '2022-07-04', '1', 'CEE016', '0.0', '-1.0', '185', '2', '2022', '27', '2022-185', '27', '2022-27']))\n",
      "('CEK049', ('CEK049', ['2256777', '2022-07-04', '1', 'CEK049', '2.0', '21.0', '185', '2', '2022', '27', '2022-185', '27', '2022-27']))\n",
      "...\n",
      "\n"
     ]
    },
    {
     "name": "stderr",
     "output_type": "stream",
     "text": [
      "                                                                                \r"
     ]
    },
    {
     "name": "stdout",
     "output_type": "stream",
     "text": [
      "-------------------------------------------\n",
      "Time: 2023-05-14 13:55:22\n",
      "-------------------------------------------\n",
      "('CAT17', ('CAT17', ['2268864', '2022-07-11', '1', 'CAT17', '0.0', '-1.0', '192', '2', '2022', '28', '2022-192', '28', '2022-28']))\n",
      "('CB02411', ('CB02411', ['2268865', '2022-07-11', '1', 'CB02411', '1.0', '25.0', '192', '2', '2022', '28', '2022-192', '28', '2022-28']))\n",
      "('CB1101', ('CB1101', ['2268866', '2022-07-11', '1', 'CB1101', '0.0', '-1.0', '192', '2', '2022', '28', '2022-192', '28', '2022-28']))\n",
      "('CB1142', ('CB1142', ['2268867', '2022-07-11', '1', 'CB1142', '1.0', '13.0', '192', '2', '2022', '28', '2022-192', '28', '2022-28']))\n",
      "('CB1143', ('CB1143', ['2268868', '2022-07-11', '1', 'CB1143', '3.0', '18.0', '192', '2', '2022', '28', '2022-192', '28', '2022-28']))\n",
      "('CB1599', ('CB1599', ['2268869', '2022-07-11', '1', 'CB1599', '1.0', '19.0', '192', '2', '2022', '28', '2022-192', '28', '2022-28']))\n",
      "('CB1699', ('CB1699', ['2268870', '2022-07-11', '1', 'CB1699', '2.0', '17.0', '192', '2', '2022', '28', '2022-192', '28', '2022-28']))\n",
      "('CB2105', ('CB2105', ['2268871', '2022-07-11', '1', 'CB2105', '3.0', '17.0', '192', '2', '2022', '28', '2022-192', '28', '2022-28']))\n",
      "('CEE016', ('CEE016', ['2268872', '2022-07-11', '1', 'CEE016', '1.0', '19.0', '192', '2', '2022', '28', '2022-192', '28', '2022-28']))\n",
      "('CEK049', ('CEK049', ['2268873', '2022-07-11', '1', 'CEK049', '4.0', '17.0', '192', '2', '2022', '28', '2022-192', '28', '2022-28']))\n",
      "...\n",
      "\n"
     ]
    },
    {
     "name": "stderr",
     "output_type": "stream",
     "text": [
      "                                                                                \r"
     ]
    },
    {
     "name": "stdout",
     "output_type": "stream",
     "text": [
      "-------------------------------------------\n",
      "Time: 2023-05-14 13:55:24\n",
      "-------------------------------------------\n",
      "('CEK049', ('CEK049', ['2276937', '2022-07-15', '65', 'CEK049', '55.0', '21.0', '196', '6', '2022', '28', '2022-196', '28', '2022-28']))\n",
      "('CEK18', ('CEK18', ['2276938', '2022-07-15', '65', 'CEK18', '27.0', '15.0', '196', '6', '2022', '28', '2022-196', '28', '2022-28']))\n",
      "('CEK31', ('CEK31', ['2276939', '2022-07-15', '65', 'CEK31', '52.0', '19.0', '196', '6', '2022', '28', '2022-196', '28', '2022-28']))\n",
      "('CEV011', ('CEV011', ['2276940', '2022-07-15', '65', 'CEV011', '11.0', '15.0', '196', '6', '2022', '28', '2022-196', '28', '2022-28']))\n",
      "('CJE181', ('CJE181', ['2276941', '2022-07-15', '65', 'CJE181', '10.0', '27.0', '196', '6', '2022', '28', '2022-196', '28', '2022-28']))\n",
      "('CJM90', ('CJM90', ['2276942', '2022-07-15', '65', 'CJM90', '99.0', '20.0', '196', '6', '2022', '28', '2022-196', '28', '2022-28']))\n",
      "('CLW239', ('CLW239', ['2276943', '2022-07-15', '65', 'CLW239', '19.0', '22.0', '196', '6', '2022', '28', '2022-196', '28', '2022-28']))\n",
      "('COM205', ('COM205', ['2276944', '2022-07-15', '65', 'COM205', '25.0', '22.0', '196', '6', '2022', '28', '2022-196', '28', '2022-28']))\n",
      "('CVT387', ('CVT387', ['2276945', '2022-07-15', '65', 'CVT387', '17.0', '14.0', '196', '6', '2022', '28', '2022-196', '28', '2022-28']))\n",
      "('CAT17', ('CAT17', ['2276946', '2022-07-15', '66', 'CAT17', '31.0', '20.0', '196', '6', '2022', '28', '2022-196', '28', '2022-28']))\n",
      "...\n",
      "\n"
     ]
    },
    {
     "name": "stderr",
     "output_type": "stream",
     "text": [
      "                                                                                \r"
     ]
    },
    {
     "name": "stdout",
     "output_type": "stream",
     "text": [
      "-------------------------------------------\n",
      "Time: 2023-05-14 13:55:26\n",
      "-------------------------------------------\n",
      "('CAT17', ('CAT17', ['2280960', '2022-07-18', '1', 'CAT17', '0.0', '-1.0', '199', '2', '2022', '29', '2022-199', '29', '2022-29']))\n",
      "('CB02411', ('CB02411', ['2280961', '2022-07-18', '1', 'CB02411', '2.0', '22.0', '199', '2', '2022', '29', '2022-199', '29', '2022-29']))\n",
      "('CB1101', ('CB1101', ['2280962', '2022-07-18', '1', 'CB1101', '0.0', '-1.0', '199', '2', '2022', '29', '2022-199', '29', '2022-29']))\n",
      "('CB1142', ('CB1142', ['2280963', '2022-07-18', '1', 'CB1142', '1.0', '15.0', '199', '2', '2022', '29', '2022-199', '29', '2022-29']))\n",
      "('CB1143', ('CB1143', ['2280964', '2022-07-18', '1', 'CB1143', '6.0', '17.0', '199', '2', '2022', '29', '2022-199', '29', '2022-29']))\n",
      "('CB1599', ('CB1599', ['2280965', '2022-07-18', '1', 'CB1599', '1.0', '26.0', '199', '2', '2022', '29', '2022-199', '29', '2022-29']))\n",
      "('CB1699', ('CB1699', ['2280966', '2022-07-18', '1', 'CB1699', '2.0', '16.0', '199', '2', '2022', '29', '2022-199', '29', '2022-29']))\n",
      "('CB2105', ('CB2105', ['2280967', '2022-07-18', '1', 'CB2105', '2.0', '16.0', '199', '2', '2022', '29', '2022-199', '29', '2022-29']))\n",
      "('CEE016', ('CEE016', ['2280968', '2022-07-18', '1', 'CEE016', '0.0', '-1.0', '199', '2', '2022', '29', '2022-199', '29', '2022-29']))\n",
      "('CEK049', ('CEK049', ['2280969', '2022-07-18', '1', 'CEK049', '8.0', '18.0', '199', '2', '2022', '29', '2022-199', '29', '2022-29']))\n",
      "...\n",
      "\n"
     ]
    },
    {
     "name": "stderr",
     "output_type": "stream",
     "text": [
      "                                                                                \r"
     ]
    },
    {
     "name": "stdout",
     "output_type": "stream",
     "text": [
      "-------------------------------------------\n",
      "Time: 2023-05-14 13:55:28\n",
      "-------------------------------------------\n",
      "('CAT17', ('CAT17', ['2293056', '2022-07-25', '1', 'CAT17', '0.0', '-1.0', '206', '2', '2022', '30', '2022-206', '30', '2022-30']))\n",
      "('CB02411', ('CB02411', ['2293057', '2022-07-25', '1', 'CB02411', '1.0', '31.0', '206', '2', '2022', '30', '2022-206', '30', '2022-30']))\n",
      "('CB1101', ('CB1101', ['2293058', '2022-07-25', '1', 'CB1101', '0.0', '-1.0', '206', '2', '2022', '30', '2022-206', '30', '2022-30']))\n",
      "('CB1142', ('CB1142', ['2293059', '2022-07-25', '1', 'CB1142', '7.0', '18.0', '206', '2', '2022', '30', '2022-206', '30', '2022-30']))\n",
      "('CB1143', ('CB1143', ['2293060', '2022-07-25', '1', 'CB1143', '6.0', '20.0', '206', '2', '2022', '30', '2022-206', '30', '2022-30']))\n",
      "('CB1599', ('CB1599', ['2293061', '2022-07-25', '1', 'CB1599', '0.0', '-1.0', '206', '2', '2022', '30', '2022-206', '30', '2022-30']))\n",
      "('CB1699', ('CB1699', ['2293062', '2022-07-25', '1', 'CB1699', '1.0', '13.0', '206', '2', '2022', '30', '2022-206', '30', '2022-30']))\n",
      "('CB2105', ('CB2105', ['2293063', '2022-07-25', '1', 'CB2105', '9.0', '18.0', '206', '2', '2022', '30', '2022-206', '30', '2022-30']))\n",
      "('CEE016', ('CEE016', ['2293064', '2022-07-25', '1', 'CEE016', '1.0', '19.0', '206', '2', '2022', '30', '2022-206', '30', '2022-30']))\n",
      "('CEK049', ('CEK049', ['2293065', '2022-07-25', '1', 'CEK049', '4.0', '19.0', '206', '2', '2022', '30', '2022-206', '30', '2022-30']))\n",
      "...\n",
      "\n"
     ]
    },
    {
     "name": "stderr",
     "output_type": "stream",
     "text": [
      "                                                                                \r"
     ]
    },
    {
     "name": "stdout",
     "output_type": "stream",
     "text": [
      "-------------------------------------------\n",
      "Time: 2023-05-14 13:55:30\n",
      "-------------------------------------------\n",
      "\n"
     ]
    },
    {
     "name": "stderr",
     "output_type": "stream",
     "text": [
      "                                                                                \r"
     ]
    },
    {
     "name": "stdout",
     "output_type": "stream",
     "text": [
      "-------------------------------------------\n",
      "Time: 2023-05-14 13:55:32\n",
      "-------------------------------------------\n",
      "('CAT17', ('CAT17', ['2305152', '2022-08-01', '1', 'CAT17', '0.0', '-1.0', '213', '2', '2022', '31', '2022-213', '31', '2022-31']))\n",
      "('CB02411', ('CB02411', ['2305153', '2022-08-01', '1', 'CB02411', '1.0', '17.0', '213', '2', '2022', '31', '2022-213', '31', '2022-31']))\n",
      "('CB1101', ('CB1101', ['2305154', '2022-08-01', '1', 'CB1101', '0.0', '-1.0', '213', '2', '2022', '31', '2022-213', '31', '2022-31']))\n",
      "('CB1142', ('CB1142', ['2305155', '2022-08-01', '1', 'CB1142', '2.0', '16.0', '213', '2', '2022', '31', '2022-213', '31', '2022-31']))\n",
      "('CB1143', ('CB1143', ['2305156', '2022-08-01', '1', 'CB1143', '4.0', '24.0', '213', '2', '2022', '31', '2022-213', '31', '2022-31']))\n",
      "('CB1599', ('CB1599', ['2305157', '2022-08-01', '1', 'CB1599', '1.0', '24.0', '213', '2', '2022', '31', '2022-213', '31', '2022-31']))\n",
      "('CB1699', ('CB1699', ['2305158', '2022-08-01', '1', 'CB1699', '1.0', '18.0', '213', '2', '2022', '31', '2022-213', '31', '2022-31']))\n",
      "('CB2105', ('CB2105', ['2305159', '2022-08-01', '1', 'CB2105', '6.0', '16.0', '213', '2', '2022', '31', '2022-213', '31', '2022-31']))\n",
      "('CEE016', ('CEE016', ['2305160', '2022-08-01', '1', 'CEE016', '6.0', '16.0', '213', '2', '2022', '31', '2022-213', '31', '2022-31']))\n",
      "('CEK049', ('CEK049', ['2305161', '2022-08-01', '1', 'CEK049', '0.0', '-1.0', '213', '2', '2022', '31', '2022-213', '31', '2022-31']))\n",
      "...\n",
      "\n"
     ]
    },
    {
     "name": "stderr",
     "output_type": "stream",
     "text": [
      "                                                                                \r"
     ]
    },
    {
     "name": "stdout",
     "output_type": "stream",
     "text": [
      "-------------------------------------------\n",
      "Time: 2023-05-14 13:55:34\n",
      "-------------------------------------------\n",
      "('CAT17', ('CAT17', ['2317248', '2022-08-08', '1', 'CAT17', '2.0', '20.0', '220', '2', '2022', '32', '2022-220', '32', '2022-32']))\n",
      "('CB02411', ('CB02411', ['2317249', '2022-08-08', '1', 'CB02411', '3.0', '18.0', '220', '2', '2022', '32', '2022-220', '32', '2022-32']))\n",
      "('CB1101', ('CB1101', ['2317250', '2022-08-08', '1', 'CB1101', '0.0', '-1.0', '220', '2', '2022', '32', '2022-220', '32', '2022-32']))\n",
      "('CB1142', ('CB1142', ['2317251', '2022-08-08', '1', 'CB1142', '1.0', '17.0', '220', '2', '2022', '32', '2022-220', '32', '2022-32']))\n",
      "('CB1143', ('CB1143', ['2317252', '2022-08-08', '1', 'CB1143', '5.0', '18.0', '220', '2', '2022', '32', '2022-220', '32', '2022-32']))\n",
      "('CB1599', ('CB1599', ['2317253', '2022-08-08', '1', 'CB1599', '0.0', '-1.0', '220', '2', '2022', '32', '2022-220', '32', '2022-32']))\n",
      "('CB1699', ('CB1699', ['2317254', '2022-08-08', '1', 'CB1699', '0.0', '-1.0', '220', '2', '2022', '32', '2022-220', '32', '2022-32']))\n",
      "('CB2105', ('CB2105', ['2317255', '2022-08-08', '1', 'CB2105', '5.0', '20.0', '220', '2', '2022', '32', '2022-220', '32', '2022-32']))\n",
      "('CEE016', ('CEE016', ['2317256', '2022-08-08', '1', 'CEE016', '2.0', '20.0', '220', '2', '2022', '32', '2022-220', '32', '2022-32']))\n",
      "('CEK049', ('CEK049', ['2317257', '2022-08-08', '1', 'CEK049', '4.0', '20.0', '220', '2', '2022', '32', '2022-220', '32', '2022-32']))\n",
      "...\n",
      "\n"
     ]
    },
    {
     "name": "stderr",
     "output_type": "stream",
     "text": [
      "                                                                                \r"
     ]
    },
    {
     "name": "stdout",
     "output_type": "stream",
     "text": [
      "-------------------------------------------\n",
      "Time: 2023-05-14 13:55:36\n",
      "-------------------------------------------\n",
      "('CAT17', ('CAT17', ['2329344', '2022-08-15', '1', 'CAT17', '0.0', '-1.0', '227', '2', '2022', '33', '2022-227', '33', '2022-33']))\n",
      "('CB02411', ('CB02411', ['2329345', '2022-08-15', '1', 'CB02411', '3.0', '18.0', '227', '2', '2022', '33', '2022-227', '33', '2022-33']))\n",
      "('CB1101', ('CB1101', ['2329346', '2022-08-15', '1', 'CB1101', '0.0', '-1.0', '227', '2', '2022', '33', '2022-227', '33', '2022-33']))\n",
      "('CB1142', ('CB1142', ['2329347', '2022-08-15', '1', 'CB1142', '4.0', '15.0', '227', '2', '2022', '33', '2022-227', '33', '2022-33']))\n",
      "('CB1143', ('CB1143', ['2329348', '2022-08-15', '1', 'CB1143', '14.0', '20.0', '227', '2', '2022', '33', '2022-227', '33', '2022-33']))\n",
      "('CB1599', ('CB1599', ['2329349', '2022-08-15', '1', 'CB1599', '1.0', '19.0', '227', '2', '2022', '33', '2022-227', '33', '2022-33']))\n",
      "('CB1699', ('CB1699', ['2329350', '2022-08-15', '1', 'CB1699', '2.0', '18.0', '227', '2', '2022', '33', '2022-227', '33', '2022-33']))\n",
      "('CB2105', ('CB2105', ['2329351', '2022-08-15', '1', 'CB2105', '6.0', '15.0', '227', '2', '2022', '33', '2022-227', '33', '2022-33']))\n",
      "('CEE016', ('CEE016', ['2329352', '2022-08-15', '1', 'CEE016', '1.0', '10.0', '227', '2', '2022', '33', '2022-227', '33', '2022-33']))\n",
      "('CEK049', ('CEK049', ['2329353', '2022-08-15', '1', 'CEK049', '8.0', '21.0', '227', '2', '2022', '33', '2022-227', '33', '2022-33']))\n",
      "...\n",
      "\n"
     ]
    },
    {
     "name": "stderr",
     "output_type": "stream",
     "text": [
      "                                                                                \r"
     ]
    },
    {
     "name": "stdout",
     "output_type": "stream",
     "text": [
      "-------------------------------------------\n",
      "Time: 2023-05-14 13:55:38\n",
      "-------------------------------------------\n",
      "('CEK18', ('CEK18', ['2335150', '2022-08-18', '35', 'CEK18', '16.0', '15.0', '230', '5', '2022', '33', '2022-230', '33', '2022-33']))\n",
      "('CEK31', ('CEK31', ['2335151', '2022-08-18', '35', 'CEK31', '21.0', '19.0', '230', '5', '2022', '33', '2022-230', '33', '2022-33']))\n",
      "('CEV011', ('CEV011', ['2335152', '2022-08-18', '35', 'CEV011', '15.0', '16.0', '230', '5', '2022', '33', '2022-230', '33', '2022-33']))\n",
      "('CJE181', ('CJE181', ['2335153', '2022-08-18', '35', 'CJE181', '3.0', '16.0', '230', '5', '2022', '33', '2022-230', '33', '2022-33']))\n",
      "('CJM90', ('CJM90', ['2335154', '2022-08-18', '35', 'CJM90', '57.0', '20.0', '230', '5', '2022', '33', '2022-230', '33', '2022-33']))\n",
      "('CLW239', ('CLW239', ['2335155', '2022-08-18', '35', 'CLW239', '7.0', '21.0', '230', '5', '2022', '33', '2022-230', '33', '2022-33']))\n",
      "('COM205', ('COM205', ['2335156', '2022-08-18', '35', 'COM205', '12.0', '23.0', '230', '5', '2022', '33', '2022-230', '33', '2022-33']))\n",
      "('CVT387', ('CVT387', ['2335157', '2022-08-18', '35', 'CVT387', '9.0', '17.0', '230', '5', '2022', '33', '2022-230', '33', '2022-33']))\n",
      "('CAT17', ('CAT17', ['2335158', '2022-08-18', '36', 'CAT17', '9.0', '16.0', '230', '5', '2022', '33', '2022-230', '33', '2022-33']))\n",
      "('CB02411', ('CB02411', ['2335159', '2022-08-18', '36', 'CB02411', '29.0', '18.0', '230', '5', '2022', '33', '2022-230', '33', '2022-33']))\n",
      "...\n",
      "\n"
     ]
    },
    {
     "name": "stderr",
     "output_type": "stream",
     "text": [
      "                                                                                \r"
     ]
    },
    {
     "name": "stdout",
     "output_type": "stream",
     "text": [
      "-------------------------------------------\n",
      "Time: 2023-05-14 13:55:40\n",
      "-------------------------------------------\n",
      "('CAT17', ('CAT17', ['2341440', '2022-08-22', '1', 'CAT17', '4.0', '17.0', '234', '2', '2022', '34', '2022-234', '34', '2022-34']))\n",
      "('CB02411', ('CB02411', ['2341441', '2022-08-22', '1', 'CB02411', '1.0', '18.0', '234', '2', '2022', '34', '2022-234', '34', '2022-34']))\n",
      "('CB1101', ('CB1101', ['2341442', '2022-08-22', '1', 'CB1101', '0.0', '-1.0', '234', '2', '2022', '34', '2022-234', '34', '2022-34']))\n",
      "('CB1142', ('CB1142', ['2341443', '2022-08-22', '1', 'CB1142', '2.0', '17.0', '234', '2', '2022', '34', '2022-234', '34', '2022-34']))\n",
      "('CB1143', ('CB1143', ['2341444', '2022-08-22', '1', 'CB1143', '2.0', '20.0', '234', '2', '2022', '34', '2022-234', '34', '2022-34']))\n",
      "('CB1599', ('CB1599', ['2341445', '2022-08-22', '1', 'CB1599', '0.0', '-1.0', '234', '2', '2022', '34', '2022-234', '34', '2022-34']))\n",
      "('CB1699', ('CB1699', ['2341446', '2022-08-22', '1', 'CB1699', '1.0', '16.0', '234', '2', '2022', '34', '2022-234', '34', '2022-34']))\n",
      "('CB2105', ('CB2105', ['2341447', '2022-08-22', '1', 'CB2105', '8.0', '23.0', '234', '2', '2022', '34', '2022-234', '34', '2022-34']))\n",
      "('CEE016', ('CEE016', ['2341448', '2022-08-22', '1', 'CEE016', '1.0', '21.0', '234', '2', '2022', '34', '2022-234', '34', '2022-34']))\n",
      "('CEK049', ('CEK049', ['2341449', '2022-08-22', '1', 'CEK049', '3.0', '19.0', '234', '2', '2022', '34', '2022-234', '34', '2022-34']))\n",
      "...\n",
      "\n"
     ]
    },
    {
     "name": "stderr",
     "output_type": "stream",
     "text": [
      "                                                                                \r"
     ]
    },
    {
     "name": "stdout",
     "output_type": "stream",
     "text": [
      "-------------------------------------------\n",
      "Time: 2023-05-14 13:55:42\n",
      "-------------------------------------------\n",
      "('CAT17', ('CAT17', ['2353536', '2022-08-29', '1', 'CAT17', '0.0', '-1.0', '241', '2', '2022', '35', '2022-241', '35', '2022-35']))\n",
      "('CB02411', ('CB02411', ['2353537', '2022-08-29', '1', 'CB02411', '1.0', '15.0', '241', '2', '2022', '35', '2022-241', '35', '2022-35']))\n",
      "('CB1101', ('CB1101', ['2353538', '2022-08-29', '1', 'CB1101', '0.0', '-1.0', '241', '2', '2022', '35', '2022-241', '35', '2022-35']))\n",
      "('CB1142', ('CB1142', ['2353539', '2022-08-29', '1', 'CB1142', '3.0', '17.0', '241', '2', '2022', '35', '2022-241', '35', '2022-35']))\n",
      "('CB1143', ('CB1143', ['2353540', '2022-08-29', '1', 'CB1143', '7.0', '18.0', '241', '2', '2022', '35', '2022-241', '35', '2022-35']))\n",
      "('CB1599', ('CB1599', ['2353541', '2022-08-29', '1', 'CB1599', '2.0', '20.0', '241', '2', '2022', '35', '2022-241', '35', '2022-35']))\n",
      "('CB1699', ('CB1699', ['2353542', '2022-08-29', '1', 'CB1699', '0.0', '-1.0', '241', '2', '2022', '35', '2022-241', '35', '2022-35']))\n",
      "('CB2105', ('CB2105', ['2353543', '2022-08-29', '1', 'CB2105', '7.0', '20.0', '241', '2', '2022', '35', '2022-241', '35', '2022-35']))\n",
      "('CEE016', ('CEE016', ['2353544', '2022-08-29', '1', 'CEE016', '3.0', '18.0', '241', '2', '2022', '35', '2022-241', '35', '2022-35']))\n",
      "('CEK049', ('CEK049', ['2353545', '2022-08-29', '1', 'CEK049', '3.0', '12.0', '241', '2', '2022', '35', '2022-241', '35', '2022-35']))\n",
      "...\n",
      "\n"
     ]
    },
    {
     "name": "stderr",
     "output_type": "stream",
     "text": [
      "                                                                                \r"
     ]
    },
    {
     "name": "stdout",
     "output_type": "stream",
     "text": [
      "-------------------------------------------\n",
      "Time: 2023-05-14 13:55:44\n",
      "-------------------------------------------\n",
      "\n"
     ]
    },
    {
     "name": "stderr",
     "output_type": "stream",
     "text": [
      "                                                                                \r"
     ]
    },
    {
     "name": "stdout",
     "output_type": "stream",
     "text": [
      "-------------------------------------------\n",
      "Time: 2023-05-14 13:55:46\n",
      "-------------------------------------------\n",
      "('CAT17', ('CAT17', ['2365632', '2022-09-05', '1', 'CAT17', '1.0', '26.0', '248', '2', '2022', '36', '2022-248', '36', '2022-36']))\n",
      "('CB02411', ('CB02411', ['2365633', '2022-09-05', '1', 'CB02411', '7.0', '20.0', '248', '2', '2022', '36', '2022-248', '36', '2022-36']))\n",
      "('CB1101', ('CB1101', ['2365634', '2022-09-05', '1', 'CB1101', '0.0', '-1.0', '248', '2', '2022', '36', '2022-248', '36', '2022-36']))\n",
      "('CB1142', ('CB1142', ['2365635', '2022-09-05', '1', 'CB1142', '2.0', '28.0', '248', '2', '2022', '36', '2022-248', '36', '2022-36']))\n",
      "('CB1143', ('CB1143', ['2365636', '2022-09-05', '1', 'CB1143', '3.0', '14.0', '248', '2', '2022', '36', '2022-248', '36', '2022-36']))\n",
      "('CB1599', ('CB1599', ['2365637', '2022-09-05', '1', 'CB1599', '0.0', '-1.0', '248', '2', '2022', '36', '2022-248', '36', '2022-36']))\n",
      "('CB1699', ('CB1699', ['2365638', '2022-09-05', '1', 'CB1699', '1.0', '15.0', '248', '2', '2022', '36', '2022-248', '36', '2022-36']))\n",
      "('CB2105', ('CB2105', ['2365639', '2022-09-05', '1', 'CB2105', '5.0', '18.0', '248', '2', '2022', '36', '2022-248', '36', '2022-36']))\n",
      "('CEE016', ('CEE016', ['2365640', '2022-09-05', '1', 'CEE016', '0.0', '-1.0', '248', '2', '2022', '36', '2022-248', '36', '2022-36']))\n",
      "('CEK049', ('CEK049', ['2365641', '2022-09-05', '1', 'CEK049', '4.0', '18.0', '248', '2', '2022', '36', '2022-248', '36', '2022-36']))\n",
      "...\n",
      "\n"
     ]
    },
    {
     "name": "stderr",
     "output_type": "stream",
     "text": [
      "                                                                                \r"
     ]
    },
    {
     "name": "stdout",
     "output_type": "stream",
     "text": [
      "-------------------------------------------\n",
      "Time: 2023-05-14 13:55:48\n",
      "-------------------------------------------\n",
      "('CAT17', ('CAT17', ['2377728', '2022-09-12', '1', 'CAT17', '0.0', '-1.0', '255', '2', '2022', '37', '2022-255', '37', '2022-37']))\n",
      "('CB02411', ('CB02411', ['2377729', '2022-09-12', '1', 'CB02411', '0.0', '-1.0', '255', '2', '2022', '37', '2022-255', '37', '2022-37']))\n",
      "('CB1101', ('CB1101', ['2377730', '2022-09-12', '1', 'CB1101', '0.0', '-1.0', '255', '2', '2022', '37', '2022-255', '37', '2022-37']))\n",
      "('CB1142', ('CB1142', ['2377731', '2022-09-12', '1', 'CB1142', '1.0', '16.0', '255', '2', '2022', '37', '2022-255', '37', '2022-37']))\n",
      "('CB1143', ('CB1143', ['2377732', '2022-09-12', '1', 'CB1143', '3.0', '18.0', '255', '2', '2022', '37', '2022-255', '37', '2022-37']))\n",
      "('CB1599', ('CB1599', ['2377733', '2022-09-12', '1', 'CB1599', '0.0', '-1.0', '255', '2', '2022', '37', '2022-255', '37', '2022-37']))\n",
      "('CB1699', ('CB1699', ['2377734', '2022-09-12', '1', 'CB1699', '0.0', '-1.0', '255', '2', '2022', '37', '2022-255', '37', '2022-37']))\n",
      "('CB2105', ('CB2105', ['2377735', '2022-09-12', '1', 'CB2105', '10.0', '20.0', '255', '2', '2022', '37', '2022-255', '37', '2022-37']))\n",
      "('CEE016', ('CEE016', ['2377736', '2022-09-12', '1', 'CEE016', '0.0', '-1.0', '255', '2', '2022', '37', '2022-255', '37', '2022-37']))\n",
      "('CEK049', ('CEK049', ['2377737', '2022-09-12', '1', 'CEK049', '2.0', '21.0', '255', '2', '2022', '37', '2022-255', '37', '2022-37']))\n",
      "...\n",
      "\n"
     ]
    },
    {
     "name": "stderr",
     "output_type": "stream",
     "text": [
      "                                                                                \r"
     ]
    },
    {
     "name": "stdout",
     "output_type": "stream",
     "text": [
      "-------------------------------------------\n",
      "Time: 2023-05-14 13:55:50\n",
      "-------------------------------------------\n",
      "('CAT17', ('CAT17', ['2389824', '2022-09-19', '1', 'CAT17', '2.0', '23.0', '262', '2', '2022', '38', '2022-262', '38', '2022-38']))\n",
      "('CB02411', ('CB02411', ['2389825', '2022-09-19', '1', 'CB02411', '2.0', '19.0', '262', '2', '2022', '38', '2022-262', '38', '2022-38']))\n",
      "('CB1101', ('CB1101', ['2389826', '2022-09-19', '1', 'CB1101', '0.0', '-1.0', '262', '2', '2022', '38', '2022-262', '38', '2022-38']))\n",
      "('CB1142', ('CB1142', ['2389827', '2022-09-19', '1', 'CB1142', '4.0', '18.0', '262', '2', '2022', '38', '2022-262', '38', '2022-38']))\n",
      "('CB1143', ('CB1143', ['2389828', '2022-09-19', '1', 'CB1143', '1.0', '21.0', '262', '2', '2022', '38', '2022-262', '38', '2022-38']))\n",
      "('CB1599', ('CB1599', ['2389829', '2022-09-19', '1', 'CB1599', '0.0', '-1.0', '262', '2', '2022', '38', '2022-262', '38', '2022-38']))\n",
      "('CB1699', ('CB1699', ['2389830', '2022-09-19', '1', 'CB1699', '0.0', '-1.0', '262', '2', '2022', '38', '2022-262', '38', '2022-38']))\n",
      "('CB2105', ('CB2105', ['2389831', '2022-09-19', '1', 'CB2105', '6.0', '21.0', '262', '2', '2022', '38', '2022-262', '38', '2022-38']))\n",
      "('CEE016', ('CEE016', ['2389832', '2022-09-19', '1', 'CEE016', '0.0', '-1.0', '262', '2', '2022', '38', '2022-262', '38', '2022-38']))\n",
      "('CEK049', ('CEK049', ['2389833', '2022-09-19', '1', 'CEK049', '0.0', '-1.0', '262', '2', '2022', '38', '2022-262', '38', '2022-38']))\n",
      "...\n",
      "\n"
     ]
    },
    {
     "name": "stderr",
     "output_type": "stream",
     "text": [
      "                                                                                \r"
     ]
    },
    {
     "name": "stdout",
     "output_type": "stream",
     "text": [
      "-------------------------------------------\n",
      "Time: 2023-05-14 13:55:52\n",
      "-------------------------------------------\n",
      "('CEK18', ('CEK18', ['2397898', '2022-09-23', '65', 'CEK18', '26.0', '15.0', '266', '6', '2022', '38', '2022-266', '38', '2022-38']))\n",
      "('CEK31', ('CEK31', ['2397899', '2022-09-23', '65', 'CEK31', '66.0', '17.0', '266', '6', '2022', '38', '2022-266', '38', '2022-38']))\n",
      "('CEV011', ('CEV011', ['2397900', '2022-09-23', '65', 'CEV011', '21.0', '16.0', '266', '6', '2022', '38', '2022-266', '38', '2022-38']))\n",
      "('CJE181', ('CJE181', ['2397901', '2022-09-23', '65', 'CJE181', '8.0', '22.0', '266', '6', '2022', '38', '2022-266', '38', '2022-38']))\n",
      "('CJM90', ('CJM90', ['2397902', '2022-09-23', '65', 'CJM90', '132.0', '19.0', '266', '6', '2022', '38', '2022-266', '38', '2022-38']))\n",
      "('CLW239', ('CLW239', ['2397903', '2022-09-23', '65', 'CLW239', '20.0', '18.0', '266', '6', '2022', '38', '2022-266', '38', '2022-38']))\n",
      "('COM205', ('COM205', ['2397904', '2022-09-23', '65', 'COM205', '37.0', '21.0', '266', '6', '2022', '38', '2022-266', '38', '2022-38']))\n",
      "('CVT387', ('CVT387', ['2397905', '2022-09-23', '65', 'CVT387', '17.0', '16.0', '266', '6', '2022', '38', '2022-266', '38', '2022-38']))\n",
      "('CAT17', ('CAT17', ['2397906', '2022-09-23', '66', 'CAT17', '37.0', '18.0', '266', '6', '2022', '38', '2022-266', '38', '2022-38']))\n",
      "('CB02411', ('CB02411', ['2397907', '2022-09-23', '66', 'CB02411', '58.0', '21.0', '266', '6', '2022', '38', '2022-266', '38', '2022-38']))\n",
      "...\n",
      "\n"
     ]
    },
    {
     "name": "stderr",
     "output_type": "stream",
     "text": [
      "                                                                                \r"
     ]
    },
    {
     "name": "stdout",
     "output_type": "stream",
     "text": [
      "-------------------------------------------\n",
      "Time: 2023-05-14 13:55:54\n",
      "-------------------------------------------\n",
      "('CAT17', ('CAT17', ['2401920', '2022-09-26', '1', 'CAT17', '0.0', '-1.0', '269', '2', '2022', '39', '2022-269', '39', '2022-39']))\n",
      "('CB02411', ('CB02411', ['2401921', '2022-09-26', '1', 'CB02411', '2.0', '19.0', '269', '2', '2022', '39', '2022-269', '39', '2022-39']))\n",
      "('CB1101', ('CB1101', ['2401922', '2022-09-26', '1', 'CB1101', '0.0', '-1.0', '269', '2', '2022', '39', '2022-269', '39', '2022-39']))\n",
      "('CB1142', ('CB1142', ['2401923', '2022-09-26', '1', 'CB1142', '7.0', '18.0', '269', '2', '2022', '39', '2022-269', '39', '2022-39']))\n",
      "('CB1143', ('CB1143', ['2401924', '2022-09-26', '1', 'CB1143', '3.0', '20.0', '269', '2', '2022', '39', '2022-269', '39', '2022-39']))\n",
      "('CB1599', ('CB1599', ['2401925', '2022-09-26', '1', 'CB1599', '0.0', '-1.0', '269', '2', '2022', '39', '2022-269', '39', '2022-39']))\n",
      "('CB1699', ('CB1699', ['2401926', '2022-09-26', '1', 'CB1699', '0.0', '-1.0', '269', '2', '2022', '39', '2022-269', '39', '2022-39']))\n",
      "('CB2105', ('CB2105', ['2401927', '2022-09-26', '1', 'CB2105', '0.0', '-1.0', '269', '2', '2022', '39', '2022-269', '39', '2022-39']))\n",
      "('CEE016', ('CEE016', ['2401928', '2022-09-26', '1', 'CEE016', '3.0', '19.0', '269', '2', '2022', '39', '2022-269', '39', '2022-39']))\n",
      "('CEK049', ('CEK049', ['2401929', '2022-09-26', '1', 'CEK049', '0.0', '-1.0', '269', '2', '2022', '39', '2022-269', '39', '2022-39']))\n",
      "...\n",
      "\n"
     ]
    },
    {
     "name": "stderr",
     "output_type": "stream",
     "text": [
      "                                                                                \r"
     ]
    },
    {
     "name": "stdout",
     "output_type": "stream",
     "text": [
      "-------------------------------------------\n",
      "Time: 2023-05-14 13:55:56\n",
      "-------------------------------------------\n",
      "('CAT17', ('CAT17', ['2414016', '2022-10-03', '1', 'CAT17', '3.0', '21.0', '276', '2', '2022', '40', '2022-276', '40', '2022-40']))\n",
      "('CB02411', ('CB02411', ['2414017', '2022-10-03', '1', 'CB02411', '1.0', '19.0', '276', '2', '2022', '40', '2022-276', '40', '2022-40']))\n",
      "('CB1101', ('CB1101', ['2414018', '2022-10-03', '1', 'CB1101', '0.0', '-1.0', '276', '2', '2022', '40', '2022-276', '40', '2022-40']))\n",
      "('CB1142', ('CB1142', ['2414019', '2022-10-03', '1', 'CB1142', '1.0', '25.0', '276', '2', '2022', '40', '2022-276', '40', '2022-40']))\n",
      "('CB1143', ('CB1143', ['2414020', '2022-10-03', '1', 'CB1143', '4.0', '17.0', '276', '2', '2022', '40', '2022-276', '40', '2022-40']))\n",
      "('CB1599', ('CB1599', ['2414021', '2022-10-03', '1', 'CB1599', '1.0', '25.0', '276', '2', '2022', '40', '2022-276', '40', '2022-40']))\n",
      "('CB1699', ('CB1699', ['2414022', '2022-10-03', '1', 'CB1699', '0.0', '-1.0', '276', '2', '2022', '40', '2022-276', '40', '2022-40']))\n",
      "('CB2105', ('CB2105', ['2414023', '2022-10-03', '1', 'CB2105', '1.0', '27.0', '276', '2', '2022', '40', '2022-276', '40', '2022-40']))\n",
      "('CEE016', ('CEE016', ['2414024', '2022-10-03', '1', 'CEE016', '3.0', '17.0', '276', '2', '2022', '40', '2022-276', '40', '2022-40']))\n",
      "('CEK049', ('CEK049', ['2414025', '2022-10-03', '1', 'CEK049', '1.0', '10.0', '276', '2', '2022', '40', '2022-276', '40', '2022-40']))\n",
      "...\n",
      "\n"
     ]
    },
    {
     "name": "stderr",
     "output_type": "stream",
     "text": [
      "                                                                                \r"
     ]
    },
    {
     "name": "stdout",
     "output_type": "stream",
     "text": [
      "-------------------------------------------\n",
      "Time: 2023-05-14 13:55:58\n",
      "-------------------------------------------\n",
      "\n"
     ]
    },
    {
     "name": "stderr",
     "output_type": "stream",
     "text": [
      "                                                                                \r"
     ]
    },
    {
     "name": "stdout",
     "output_type": "stream",
     "text": [
      "-------------------------------------------\n",
      "Time: 2023-05-14 13:56:00\n",
      "-------------------------------------------\n",
      "('CAT17', ('CAT17', ['2426112', '2022-10-10', '1', 'CAT17', '1.0', '27.0', '283', '2', '2022', '41', '2022-283', '41', '2022-41']))\n",
      "('CB02411', ('CB02411', ['2426113', '2022-10-10', '1', 'CB02411', '0.0', '-1.0', '283', '2', '2022', '41', '2022-283', '41', '2022-41']))\n",
      "('CB1101', ('CB1101', ['2426114', '2022-10-10', '1', 'CB1101', '0.0', '-1.0', '283', '2', '2022', '41', '2022-283', '41', '2022-41']))\n",
      "('CB1142', ('CB1142', ['2426115', '2022-10-10', '1', 'CB1142', '0.0', '-1.0', '283', '2', '2022', '41', '2022-283', '41', '2022-41']))\n",
      "('CB1143', ('CB1143', ['2426116', '2022-10-10', '1', 'CB1143', '2.0', '22.0', '283', '2', '2022', '41', '2022-283', '41', '2022-41']))\n",
      "('CB1599', ('CB1599', ['2426117', '2022-10-10', '1', 'CB1599', '0.0', '-1.0', '283', '2', '2022', '41', '2022-283', '41', '2022-41']))\n",
      "('CB1699', ('CB1699', ['2426118', '2022-10-10', '1', 'CB1699', '0.0', '-1.0', '283', '2', '2022', '41', '2022-283', '41', '2022-41']))\n",
      "('CB2105', ('CB2105', ['2426119', '2022-10-10', '1', 'CB2105', '5.0', '22.0', '283', '2', '2022', '41', '2022-283', '41', '2022-41']))\n",
      "('CEE016', ('CEE016', ['2426120', '2022-10-10', '1', 'CEE016', '1.0', '8.0', '283', '2', '2022', '41', '2022-283', '41', '2022-41']))\n",
      "('CEK049', ('CEK049', ['2426121', '2022-10-10', '1', 'CEK049', '0.0', '-1.0', '283', '2', '2022', '41', '2022-283', '41', '2022-41']))\n",
      "...\n",
      "\n"
     ]
    },
    {
     "name": "stderr",
     "output_type": "stream",
     "text": [
      "                                                                                \r"
     ]
    },
    {
     "name": "stdout",
     "output_type": "stream",
     "text": [
      "-------------------------------------------\n",
      "Time: 2023-05-14 13:56:02\n",
      "-------------------------------------------\n",
      "('CAT17', ('CAT17', ['2438208', '2022-10-17', '1', 'CAT17', '0.0', '-1.0', '290', '2', '2022', '42', '2022-290', '42', '2022-42']))\n",
      "('CB02411', ('CB02411', ['2438209', '2022-10-17', '1', 'CB02411', '0.0', '-1.0', '290', '2', '2022', '42', '2022-290', '42', '2022-42']))\n",
      "('CB1101', ('CB1101', ['2438210', '2022-10-17', '1', 'CB1101', '0.0', '-1.0', '290', '2', '2022', '42', '2022-290', '42', '2022-42']))\n",
      "('CB1142', ('CB1142', ['2438211', '2022-10-17', '1', 'CB1142', '1.0', '25.0', '290', '2', '2022', '42', '2022-290', '42', '2022-42']))\n",
      "('CB1143', ('CB1143', ['2438212', '2022-10-17', '1', 'CB1143', '7.0', '20.0', '290', '2', '2022', '42', '2022-290', '42', '2022-42']))\n",
      "('CB1599', ('CB1599', ['2438213', '2022-10-17', '1', 'CB1599', '0.0', '-1.0', '290', '2', '2022', '42', '2022-290', '42', '2022-42']))\n",
      "('CB1699', ('CB1699', ['2438214', '2022-10-17', '1', 'CB1699', '1.0', '15.0', '290', '2', '2022', '42', '2022-290', '42', '2022-42']))\n",
      "('CB2105', ('CB2105', ['2438215', '2022-10-17', '1', 'CB2105', '5.0', '18.0', '290', '2', '2022', '42', '2022-290', '42', '2022-42']))\n",
      "('CEE016', ('CEE016', ['2438216', '2022-10-17', '1', 'CEE016', '0.0', '-1.0', '290', '2', '2022', '42', '2022-290', '42', '2022-42']))\n",
      "('CEK049', ('CEK049', ['2438217', '2022-10-17', '1', 'CEK049', '5.0', '15.0', '290', '2', '2022', '42', '2022-290', '42', '2022-42']))\n",
      "...\n",
      "\n"
     ]
    },
    {
     "name": "stderr",
     "output_type": "stream",
     "text": [
      "                                                                                \r"
     ]
    },
    {
     "name": "stdout",
     "output_type": "stream",
     "text": [
      "-------------------------------------------\n",
      "Time: 2023-05-14 13:56:04\n",
      "-------------------------------------------\n",
      "('CAT17', ('CAT17', ['2450304', '2022-10-24', '1', 'CAT17', '1.0', '22.0', '297', '2', '2022', '43', '2022-297', '43', '2022-43']))\n",
      "('CB02411', ('CB02411', ['2450305', '2022-10-24', '1', 'CB02411', '0.0', '-1.0', '297', '2', '2022', '43', '2022-297', '43', '2022-43']))\n",
      "('CB1101', ('CB1101', ['2450306', '2022-10-24', '1', 'CB1101', '0.0', '-1.0', '297', '2', '2022', '43', '2022-297', '43', '2022-43']))\n",
      "('CB1142', ('CB1142', ['2450307', '2022-10-24', '1', 'CB1142', '3.0', '14.0', '297', '2', '2022', '43', '2022-297', '43', '2022-43']))\n",
      "('CB1143', ('CB1143', ['2450308', '2022-10-24', '1', 'CB1143', '6.0', '21.0', '297', '2', '2022', '43', '2022-297', '43', '2022-43']))\n",
      "('CB1599', ('CB1599', ['2450309', '2022-10-24', '1', 'CB1599', '0.0', '-1.0', '297', '2', '2022', '43', '2022-297', '43', '2022-43']))\n",
      "('CB1699', ('CB1699', ['2450310', '2022-10-24', '1', 'CB1699', '0.0', '-1.0', '297', '2', '2022', '43', '2022-297', '43', '2022-43']))\n",
      "('CB2105', ('CB2105', ['2450311', '2022-10-24', '1', 'CB2105', '5.0', '22.0', '297', '2', '2022', '43', '2022-297', '43', '2022-43']))\n",
      "('CEE016', ('CEE016', ['2450312', '2022-10-24', '1', 'CEE016', '0.0', '-1.0', '297', '2', '2022', '43', '2022-297', '43', '2022-43']))\n",
      "('CEK049', ('CEK049', ['2450313', '2022-10-24', '1', 'CEK049', '3.0', '21.0', '297', '2', '2022', '43', '2022-297', '43', '2022-43']))\n",
      "...\n",
      "\n"
     ]
    },
    {
     "name": "stderr",
     "output_type": "stream",
     "text": [
      "                                                                                \r"
     ]
    },
    {
     "name": "stdout",
     "output_type": "stream",
     "text": [
      "-------------------------------------------\n",
      "Time: 2023-05-14 13:56:06\n",
      "-------------------------------------------\n",
      "('CEK049', ('CEK049', ['2459205', '2022-10-29', '15', 'CEK049', '10.0', '19.0', '302', '7', '2022', '43', '2022-302', '43', '2022-43']))\n",
      "('CEK18', ('CEK18', ['2459206', '2022-10-29', '15', 'CEK18', '2.0', '11.0', '302', '7', '2022', '43', '2022-302', '43', '2022-43']))\n",
      "('CEK31', ('CEK31', ['2459207', '2022-10-29', '15', 'CEK31', '5.0', '19.0', '302', '7', '2022', '43', '2022-302', '43', '2022-43']))\n",
      "('CEV011', ('CEV011', ['2459208', '2022-10-29', '15', 'CEV011', '1.0', '11.0', '302', '7', '2022', '43', '2022-302', '43', '2022-43']))\n",
      "('CJE181', ('CJE181', ['2459209', '2022-10-29', '15', 'CJE181', '2.0', '24.0', '302', '7', '2022', '43', '2022-302', '43', '2022-43']))\n",
      "('CJM90', ('CJM90', ['2459210', '2022-10-29', '15', 'CJM90', '14.0', '19.0', '302', '7', '2022', '43', '2022-302', '43', '2022-43']))\n",
      "('CLW239', ('CLW239', ['2459211', '2022-10-29', '15', 'CLW239', '1.0', '25.0', '302', '7', '2022', '43', '2022-302', '43', '2022-43']))\n",
      "('COM205', ('COM205', ['2459212', '2022-10-29', '15', 'COM205', '0.0', '-1.0', '302', '7', '2022', '43', '2022-302', '43', '2022-43']))\n",
      "('CVT387', ('CVT387', ['2459213', '2022-10-29', '15', 'CVT387', '0.0', '-1.0', '302', '7', '2022', '43', '2022-302', '43', '2022-43']))\n",
      "('CAT17', ('CAT17', ['2459214', '2022-10-29', '16', 'CAT17', '1.0', '17.0', '302', '7', '2022', '43', '2022-302', '43', '2022-43']))\n",
      "...\n",
      "\n"
     ]
    },
    {
     "name": "stderr",
     "output_type": "stream",
     "text": [
      "                                                                                \r"
     ]
    },
    {
     "name": "stdout",
     "output_type": "stream",
     "text": [
      "-------------------------------------------\n",
      "Time: 2023-05-14 13:56:08\n",
      "-------------------------------------------\n",
      "('CAT17', ('CAT17', ['2462400', '2022-10-31', '1', 'CAT17', '0.0', '-1.0', '304', '2', '2022', '44', '2022-304', '44', '2022-44']))\n",
      "('CB02411', ('CB02411', ['2462401', '2022-10-31', '1', 'CB02411', '5.0', '19.0', '304', '2', '2022', '44', '2022-304', '44', '2022-44']))\n",
      "('CB1101', ('CB1101', ['2462402', '2022-10-31', '1', 'CB1101', '0.0', '-1.0', '304', '2', '2022', '44', '2022-304', '44', '2022-44']))\n",
      "('CB1142', ('CB1142', ['2462403', '2022-10-31', '1', 'CB1142', '0.0', '-1.0', '304', '2', '2022', '44', '2022-304', '44', '2022-44']))\n",
      "('CB1143', ('CB1143', ['2462404', '2022-10-31', '1', 'CB1143', '16.0', '19.0', '304', '2', '2022', '44', '2022-304', '44', '2022-44']))\n",
      "('CB1599', ('CB1599', ['2462405', '2022-10-31', '1', 'CB1599', '3.0', '16.0', '304', '2', '2022', '44', '2022-304', '44', '2022-44']))\n",
      "('CB1699', ('CB1699', ['2462406', '2022-10-31', '1', 'CB1699', '1.0', '11.0', '304', '2', '2022', '44', '2022-304', '44', '2022-44']))\n",
      "('CB2105', ('CB2105', ['2462407', '2022-10-31', '1', 'CB2105', '14.0', '18.0', '304', '2', '2022', '44', '2022-304', '44', '2022-44']))\n",
      "('CEE016', ('CEE016', ['2462408', '2022-10-31', '1', 'CEE016', '1.0', '26.0', '304', '2', '2022', '44', '2022-304', '44', '2022-44']))\n",
      "('CEK049', ('CEK049', ['2462409', '2022-10-31', '1', 'CEK049', '9.0', '19.0', '304', '2', '2022', '44', '2022-304', '44', '2022-44']))\n",
      "...\n",
      "\n"
     ]
    },
    {
     "name": "stderr",
     "output_type": "stream",
     "text": [
      "                                                                                \r"
     ]
    },
    {
     "name": "stdout",
     "output_type": "stream",
     "text": [
      "-------------------------------------------\n",
      "Time: 2023-05-14 13:56:10\n",
      "-------------------------------------------\n",
      "('CAT17', ('CAT17', ['2474496', '2022-11-07', '1', 'CAT17', '0.0', '-1.0', '311', '2', '2022', '45', '2022-311', '45', '2022-45']))\n",
      "('CB02411', ('CB02411', ['2474497', '2022-11-07', '1', 'CB02411', '2.0', '17.0', '311', '2', '2022', '45', '2022-311', '45', '2022-45']))\n",
      "('CB1101', ('CB1101', ['2474498', '2022-11-07', '1', 'CB1101', '0.0', '-1.0', '311', '2', '2022', '45', '2022-311', '45', '2022-45']))\n",
      "('CB1142', ('CB1142', ['2474499', '2022-11-07', '1', 'CB1142', '1.0', '17.0', '311', '2', '2022', '45', '2022-311', '45', '2022-45']))\n",
      "('CB1143', ('CB1143', ['2474500', '2022-11-07', '1', 'CB1143', '6.0', '22.0', '311', '2', '2022', '45', '2022-311', '45', '2022-45']))\n",
      "('CB1599', ('CB1599', ['2474501', '2022-11-07', '1', 'CB1599', '0.0', '-1.0', '311', '2', '2022', '45', '2022-311', '45', '2022-45']))\n",
      "('CB1699', ('CB1699', ['2474502', '2022-11-07', '1', 'CB1699', '1.0', '17.0', '311', '2', '2022', '45', '2022-311', '45', '2022-45']))\n",
      "('CB2105', ('CB2105', ['2474503', '2022-11-07', '1', 'CB2105', '3.0', '19.0', '311', '2', '2022', '45', '2022-311', '45', '2022-45']))\n",
      "('CEE016', ('CEE016', ['2474504', '2022-11-07', '1', 'CEE016', '2.0', '19.0', '311', '2', '2022', '45', '2022-311', '45', '2022-45']))\n",
      "('CEK049', ('CEK049', ['2474505', '2022-11-07', '1', 'CEK049', '5.0', '19.0', '311', '2', '2022', '45', '2022-311', '45', '2022-45']))\n",
      "...\n",
      "\n"
     ]
    },
    {
     "name": "stderr",
     "output_type": "stream",
     "text": [
      "                                                                                \r"
     ]
    },
    {
     "name": "stdout",
     "output_type": "stream",
     "text": [
      "-------------------------------------------\n",
      "Time: 2023-05-14 13:56:12\n",
      "-------------------------------------------\n",
      "\n"
     ]
    },
    {
     "name": "stderr",
     "output_type": "stream",
     "text": [
      "                                                                                \r"
     ]
    },
    {
     "name": "stdout",
     "output_type": "stream",
     "text": [
      "-------------------------------------------\n",
      "Time: 2023-05-14 13:56:14\n",
      "-------------------------------------------\n",
      "('CAT17', ('CAT17', ['2486592', '2022-11-14', '1', 'CAT17', '1.0', '11.0', '318', '2', '2022', '46', '2022-318', '46', '2022-46']))\n",
      "('CB02411', ('CB02411', ['2486593', '2022-11-14', '1', 'CB02411', '3.0', '17.0', '318', '2', '2022', '46', '2022-318', '46', '2022-46']))\n",
      "('CB1101', ('CB1101', ['2486594', '2022-11-14', '1', 'CB1101', '0.0', '-1.0', '318', '2', '2022', '46', '2022-318', '46', '2022-46']))\n",
      "('CB1142', ('CB1142', ['2486595', '2022-11-14', '1', 'CB1142', '3.0', '29.0', '318', '2', '2022', '46', '2022-318', '46', '2022-46']))\n",
      "('CB1143', ('CB1143', ['2486596', '2022-11-14', '1', 'CB1143', '4.0', '26.0', '318', '2', '2022', '46', '2022-318', '46', '2022-46']))\n",
      "('CB1599', ('CB1599', ['2486597', '2022-11-14', '1', 'CB1599', '1.0', '19.0', '318', '2', '2022', '46', '2022-318', '46', '2022-46']))\n",
      "('CB1699', ('CB1699', ['2486598', '2022-11-14', '1', 'CB1699', '2.0', '17.0', '318', '2', '2022', '46', '2022-318', '46', '2022-46']))\n",
      "('CB2105', ('CB2105', ['2486599', '2022-11-14', '1', 'CB2105', '4.0', '20.0', '318', '2', '2022', '46', '2022-318', '46', '2022-46']))\n",
      "('CEE016', ('CEE016', ['2486600', '2022-11-14', '1', 'CEE016', '1.0', '14.0', '318', '2', '2022', '46', '2022-318', '46', '2022-46']))\n",
      "('CEK049', ('CEK049', ['2486601', '2022-11-14', '1', 'CEK049', '9.0', '21.0', '318', '2', '2022', '46', '2022-318', '46', '2022-46']))\n",
      "...\n",
      "\n"
     ]
    },
    {
     "name": "stderr",
     "output_type": "stream",
     "text": [
      "                                                                                \r"
     ]
    },
    {
     "name": "stdout",
     "output_type": "stream",
     "text": [
      "-------------------------------------------\n",
      "Time: 2023-05-14 13:56:16\n",
      "-------------------------------------------\n",
      "('CAT17', ('CAT17', ['2498688', '2022-11-21', '1', 'CAT17', '2.0', '17.0', '325', '2', '2022', '47', '2022-325', '47', '2022-47']))\n",
      "('CB02411', ('CB02411', ['2498689', '2022-11-21', '1', 'CB02411', '2.0', '17.0', '325', '2', '2022', '47', '2022-325', '47', '2022-47']))\n",
      "('CB1101', ('CB1101', ['2498690', '2022-11-21', '1', 'CB1101', '0.0', '-1.0', '325', '2', '2022', '47', '2022-325', '47', '2022-47']))\n",
      "('CB1142', ('CB1142', ['2498691', '2022-11-21', '1', 'CB1142', '0.0', '-1.0', '325', '2', '2022', '47', '2022-325', '47', '2022-47']))\n",
      "('CB1143', ('CB1143', ['2498692', '2022-11-21', '1', 'CB1143', '1.0', '21.0', '325', '2', '2022', '47', '2022-325', '47', '2022-47']))\n",
      "('CB1599', ('CB1599', ['2498693', '2022-11-21', '1', 'CB1599', '0.0', '-1.0', '325', '2', '2022', '47', '2022-325', '47', '2022-47']))\n",
      "('CB1699', ('CB1699', ['2498694', '2022-11-21', '1', 'CB1699', '0.0', '-1.0', '325', '2', '2022', '47', '2022-325', '47', '2022-47']))\n",
      "('CB2105', ('CB2105', ['2498695', '2022-11-21', '1', 'CB2105', '4.0', '16.0', '325', '2', '2022', '47', '2022-325', '47', '2022-47']))\n",
      "('CEE016', ('CEE016', ['2498696', '2022-11-21', '1', 'CEE016', '1.0', '17.0', '325', '2', '2022', '47', '2022-325', '47', '2022-47']))\n",
      "('CEK049', ('CEK049', ['2498697', '2022-11-21', '1', 'CEK049', '2.0', '19.0', '325', '2', '2022', '47', '2022-325', '47', '2022-47']))\n",
      "...\n",
      "\n"
     ]
    },
    {
     "name": "stderr",
     "output_type": "stream",
     "text": [
      "                                                                                \r"
     ]
    },
    {
     "name": "stdout",
     "output_type": "stream",
     "text": [
      "-------------------------------------------\n",
      "Time: 2023-05-14 13:56:18\n",
      "-------------------------------------------\n",
      "('CAT17', ('CAT17', ['2510784', '2022-11-28', '1', 'CAT17', '1.0', '16.0', '332', '2', '2022', '48', '2022-332', '48', '2022-48']))\n",
      "('CB02411', ('CB02411', ['2510785', '2022-11-28', '1', 'CB02411', '1.0', '21.0', '332', '2', '2022', '48', '2022-332', '48', '2022-48']))\n",
      "('CB1101', ('CB1101', ['2510786', '2022-11-28', '1', 'CB1101', '0.0', '-1.0', '332', '2', '2022', '48', '2022-332', '48', '2022-48']))\n",
      "('CB1142', ('CB1142', ['2510787', '2022-11-28', '1', 'CB1142', '1.0', '22.0', '332', '2', '2022', '48', '2022-332', '48', '2022-48']))\n",
      "('CB1143', ('CB1143', ['2510788', '2022-11-28', '1', 'CB1143', '4.0', '29.0', '332', '2', '2022', '48', '2022-332', '48', '2022-48']))\n",
      "('CB1599', ('CB1599', ['2510789', '2022-11-28', '1', 'CB1599', '0.0', '-1.0', '332', '2', '2022', '48', '2022-332', '48', '2022-48']))\n",
      "('CB1699', ('CB1699', ['2510790', '2022-11-28', '1', 'CB1699', '0.0', '-1.0', '332', '2', '2022', '48', '2022-332', '48', '2022-48']))\n",
      "('CB2105', ('CB2105', ['2510791', '2022-11-28', '1', 'CB2105', '6.0', '19.0', '332', '2', '2022', '48', '2022-332', '48', '2022-48']))\n",
      "('CEE016', ('CEE016', ['2510792', '2022-11-28', '1', 'CEE016', '0.0', '-1.0', '332', '2', '2022', '48', '2022-332', '48', '2022-48']))\n",
      "('CEK049', ('CEK049', ['2510793', '2022-11-28', '1', 'CEK049', '2.0', '21.0', '332', '2', '2022', '48', '2022-332', '48', '2022-48']))\n",
      "...\n",
      "\n"
     ]
    },
    {
     "name": "stderr",
     "output_type": "stream",
     "text": [
      "                                                                                \r"
     ]
    },
    {
     "name": "stdout",
     "output_type": "stream",
     "text": [
      "-------------------------------------------\n",
      "Time: 2023-05-14 13:56:20\n",
      "-------------------------------------------\n",
      "('CEE016', ('CEE016', ['2516570', '2022-12-01', '34', 'CEE016', '30.0', '20.0', '335', '5', '2022', '48', '2022-335', '48', '2022-48']))\n",
      "('CEK049', ('CEK049', ['2516571', '2022-12-01', '34', 'CEK049', '40.0', '22.0', '335', '5', '2022', '48', '2022-335', '48', '2022-48']))\n",
      "('CEK18', ('CEK18', ['2516572', '2022-12-01', '34', 'CEK18', '80.0', '17.0', '335', '5', '2022', '48', '2022-335', '48', '2022-48']))\n",
      "('CEK31', ('CEK31', ['2516573', '2022-12-01', '34', 'CEK31', '78.0', '20.0', '335', '5', '2022', '48', '2022-335', '48', '2022-48']))\n",
      "('CEV011', ('CEV011', ['2516574', '2022-12-01', '34', 'CEV011', '12.0', '16.0', '335', '5', '2022', '48', '2022-335', '48', '2022-48']))\n",
      "('CJE181', ('CJE181', ['2516575', '2022-12-01', '34', 'CJE181', '7.0', '30.0', '335', '5', '2022', '48', '2022-335', '48', '2022-48']))\n",
      "('CJM90', ('CJM90', ['2516576', '2022-12-01', '34', 'CJM90', '131.0', '20.0', '335', '5', '2022', '48', '2022-335', '48', '2022-48']))\n",
      "('CLW239', ('CLW239', ['2516577', '2022-12-01', '34', 'CLW239', '15.0', '22.0', '335', '5', '2022', '48', '2022-335', '48', '2022-48']))\n",
      "('COM205', ('COM205', ['2516578', '2022-12-01', '34', 'COM205', '15.0', '23.0', '335', '5', '2022', '48', '2022-335', '48', '2022-48']))\n",
      "('CVT387', ('CVT387', ['2516579', '2022-12-01', '34', 'CVT387', '13.0', '16.0', '335', '5', '2022', '48', '2022-335', '48', '2022-48']))\n",
      "...\n",
      "\n"
     ]
    },
    {
     "name": "stderr",
     "output_type": "stream",
     "text": [
      "                                                                                \r"
     ]
    },
    {
     "name": "stdout",
     "output_type": "stream",
     "text": [
      "-------------------------------------------\n",
      "Time: 2023-05-14 13:56:22\n",
      "-------------------------------------------\n",
      "('CAT17', ('CAT17', ['2522880', '2022-12-05', '1', 'CAT17', '0.0', '-1.0', '339', '2', '2022', '49', '2022-339', '49', '2022-49']))\n",
      "('CB02411', ('CB02411', ['2522881', '2022-12-05', '1', 'CB02411', '1.0', '15.0', '339', '2', '2022', '49', '2022-339', '49', '2022-49']))\n",
      "('CB1101', ('CB1101', ['2522882', '2022-12-05', '1', 'CB1101', '0.0', '-1.0', '339', '2', '2022', '49', '2022-339', '49', '2022-49']))\n",
      "('CB1142', ('CB1142', ['2522883', '2022-12-05', '1', 'CB1142', '3.0', '20.0', '339', '2', '2022', '49', '2022-339', '49', '2022-49']))\n",
      "('CB1143', ('CB1143', ['2522884', '2022-12-05', '1', 'CB1143', '3.0', '22.0', '339', '2', '2022', '49', '2022-339', '49', '2022-49']))\n",
      "('CB1599', ('CB1599', ['2522885', '2022-12-05', '1', 'CB1599', '0.0', '-1.0', '339', '2', '2022', '49', '2022-339', '49', '2022-49']))\n",
      "('CB1699', ('CB1699', ['2522886', '2022-12-05', '1', 'CB1699', '1.0', '29.0', '339', '2', '2022', '49', '2022-339', '49', '2022-49']))\n",
      "('CB2105', ('CB2105', ['2522887', '2022-12-05', '1', 'CB2105', '3.0', '22.0', '339', '2', '2022', '49', '2022-339', '49', '2022-49']))\n",
      "('CEE016', ('CEE016', ['2522888', '2022-12-05', '1', 'CEE016', '1.0', '18.0', '339', '2', '2022', '49', '2022-339', '49', '2022-49']))\n",
      "('CEK049', ('CEK049', ['2522889', '2022-12-05', '1', 'CEK049', '0.0', '-1.0', '339', '2', '2022', '49', '2022-339', '49', '2022-49']))\n",
      "...\n",
      "\n"
     ]
    },
    {
     "name": "stderr",
     "output_type": "stream",
     "text": [
      "                                                                                \r"
     ]
    },
    {
     "name": "stdout",
     "output_type": "stream",
     "text": [
      "-------------------------------------------\n",
      "Time: 2023-05-14 13:56:24\n",
      "-------------------------------------------\n",
      "('CAT17', ('CAT17', ['2534976', '2022-12-12', '1', 'CAT17', '0.0', '-1.0', '346', '2', '2022', '50', '2022-346', '50', '2022-50']))\n",
      "('CB02411', ('CB02411', ['2534977', '2022-12-12', '1', 'CB02411', '0.0', '-1.0', '346', '2', '2022', '50', '2022-346', '50', '2022-50']))\n",
      "('CB1101', ('CB1101', ['2534978', '2022-12-12', '1', 'CB1101', '0.0', '-1.0', '346', '2', '2022', '50', '2022-346', '50', '2022-50']))\n",
      "('CB1142', ('CB1142', ['2534979', '2022-12-12', '1', 'CB1142', '2.0', '17.0', '346', '2', '2022', '50', '2022-346', '50', '2022-50']))\n",
      "('CB1143', ('CB1143', ['2534980', '2022-12-12', '1', 'CB1143', '1.0', '26.0', '346', '2', '2022', '50', '2022-346', '50', '2022-50']))\n",
      "('CB1599', ('CB1599', ['2534981', '2022-12-12', '1', 'CB1599', '0.0', '-1.0', '346', '2', '2022', '50', '2022-346', '50', '2022-50']))\n",
      "('CB1699', ('CB1699', ['2534982', '2022-12-12', '1', 'CB1699', '0.0', '-1.0', '346', '2', '2022', '50', '2022-346', '50', '2022-50']))\n",
      "('CB2105', ('CB2105', ['2534983', '2022-12-12', '1', 'CB2105', '2.0', '10.0', '346', '2', '2022', '50', '2022-346', '50', '2022-50']))\n",
      "('CEE016', ('CEE016', ['2534984', '2022-12-12', '1', 'CEE016', '0.0', '-1.0', '346', '2', '2022', '50', '2022-346', '50', '2022-50']))\n",
      "('CEK049', ('CEK049', ['2534985', '2022-12-12', '1', 'CEK049', '4.0', '19.0', '346', '2', '2022', '50', '2022-346', '50', '2022-50']))\n",
      "...\n",
      "\n"
     ]
    },
    {
     "name": "stderr",
     "output_type": "stream",
     "text": [
      "                                                                                \r"
     ]
    },
    {
     "name": "stdout",
     "output_type": "stream",
     "text": [
      "-------------------------------------------\n",
      "Time: 2023-05-14 13:56:26\n",
      "-------------------------------------------\n",
      "\n"
     ]
    },
    {
     "name": "stderr",
     "output_type": "stream",
     "text": [
      "                                                                                \r"
     ]
    },
    {
     "name": "stdout",
     "output_type": "stream",
     "text": [
      "-------------------------------------------\n",
      "Time: 2023-05-14 13:56:28\n",
      "-------------------------------------------\n",
      "('CAT17', ('CAT17', ['2547072', '2022-12-19', '1', 'CAT17', '0.0', '-1.0', '353', '2', '2022', '51', '2022-353', '51', '2022-51']))\n",
      "('CB02411', ('CB02411', ['2547073', '2022-12-19', '1', 'CB02411', '3.0', '21.0', '353', '2', '2022', '51', '2022-353', '51', '2022-51']))\n",
      "('CB1101', ('CB1101', ['2547074', '2022-12-19', '1', 'CB1101', '0.0', '-1.0', '353', '2', '2022', '51', '2022-353', '51', '2022-51']))\n",
      "('CB1142', ('CB1142', ['2547075', '2022-12-19', '1', 'CB1142', '1.0', '8.0', '353', '2', '2022', '51', '2022-353', '51', '2022-51']))\n",
      "('CB1143', ('CB1143', ['2547076', '2022-12-19', '1', 'CB1143', '1.0', '20.0', '353', '2', '2022', '51', '2022-353', '51', '2022-51']))\n",
      "('CB1599', ('CB1599', ['2547077', '2022-12-19', '1', 'CB1599', '0.0', '-1.0', '353', '2', '2022', '51', '2022-353', '51', '2022-51']))\n",
      "('CB1699', ('CB1699', ['2547078', '2022-12-19', '1', 'CB1699', '1.0', '22.0', '353', '2', '2022', '51', '2022-353', '51', '2022-51']))\n",
      "('CB2105', ('CB2105', ['2547079', '2022-12-19', '1', 'CB2105', '3.0', '17.0', '353', '2', '2022', '51', '2022-353', '51', '2022-51']))\n",
      "('CEE016', ('CEE016', ['2547080', '2022-12-19', '1', 'CEE016', '0.0', '-1.0', '353', '2', '2022', '51', '2022-353', '51', '2022-51']))\n",
      "('CEK049', ('CEK049', ['2547081', '2022-12-19', '1', 'CEK049', '2.0', '19.0', '353', '2', '2022', '51', '2022-353', '51', '2022-51']))\n",
      "...\n",
      "\n"
     ]
    },
    {
     "name": "stderr",
     "output_type": "stream",
     "text": [
      "                                                                                \r"
     ]
    },
    {
     "name": "stdout",
     "output_type": "stream",
     "text": [
      "-------------------------------------------\n",
      "Time: 2023-05-14 13:56:30\n",
      "-------------------------------------------\n",
      "('CAT17', ('CAT17', ['2559168', '2022-12-26', '1', 'CAT17', '0.0', '-1.0', '360', '2', '2022', '52', '2022-360', '52', '2022-52']))\n",
      "('CB02411', ('CB02411', ['2559169', '2022-12-26', '1', 'CB02411', '1.0', '19.0', '360', '2', '2022', '52', '2022-360', '52', '2022-52']))\n",
      "('CB1101', ('CB1101', ['2559170', '2022-12-26', '1', 'CB1101', '3.0', '19.0', '360', '2', '2022', '52', '2022-360', '52', '2022-52']))\n",
      "('CB1142', ('CB1142', ['2559171', '2022-12-26', '1', 'CB1142', '0.0', '-1.0', '360', '2', '2022', '52', '2022-360', '52', '2022-52']))\n",
      "('CB1143', ('CB1143', ['2559172', '2022-12-26', '1', 'CB1143', '2.0', '19.0', '360', '2', '2022', '52', '2022-360', '52', '2022-52']))\n",
      "('CB1599', ('CB1599', ['2559173', '2022-12-26', '1', 'CB1599', '0.0', '-1.0', '360', '2', '2022', '52', '2022-360', '52', '2022-52']))\n",
      "('CB1699', ('CB1699', ['2559174', '2022-12-26', '1', 'CB1699', '0.0', '-1.0', '360', '2', '2022', '52', '2022-360', '52', '2022-52']))\n",
      "('CB2105', ('CB2105', ['2559175', '2022-12-26', '1', 'CB2105', '4.0', '21.0', '360', '2', '2022', '52', '2022-360', '52', '2022-52']))\n",
      "('CEE016', ('CEE016', ['2559176', '2022-12-26', '1', 'CEE016', '0.0', '-1.0', '360', '2', '2022', '52', '2022-360', '52', '2022-52']))\n",
      "('CEK049', ('CEK049', ['2559177', '2022-12-26', '1', 'CEK049', '0.0', '-1.0', '360', '2', '2022', '52', '2022-360', '52', '2022-52']))\n",
      "...\n",
      "\n"
     ]
    },
    {
     "name": "stderr",
     "output_type": "stream",
     "text": [
      "                                                                                \r"
     ]
    },
    {
     "name": "stdout",
     "output_type": "stream",
     "text": [
      "-------------------------------------------\n",
      "Time: 2023-05-14 13:56:32\n",
      "-------------------------------------------\n",
      "('CAT17', ('CAT17', ['2571264', '2023-01-02', '1', 'CAT17', '0.0', '-1.0', '2', '2', '2023', '1', '2023-2', '01', '2023-01']))\n",
      "('CB02411', ('CB02411', ['2571265', '2023-01-02', '1', 'CB02411', '0.0', '-1.0', '2', '2', '2023', '1', '2023-2', '01', '2023-01']))\n",
      "('CB1101', ('CB1101', ['2571266', '2023-01-02', '1', 'CB1101', '4.0', '19.0', '2', '2', '2023', '1', '2023-2', '01', '2023-01']))\n",
      "('CB1142', ('CB1142', ['2571267', '2023-01-02', '1', 'CB1142', '2.0', '17.0', '2', '2', '2023', '1', '2023-2', '01', '2023-01']))\n",
      "('CB1143', ('CB1143', ['2571268', '2023-01-02', '1', 'CB1143', '3.0', '23.0', '2', '2', '2023', '1', '2023-2', '01', '2023-01']))\n",
      "('CB1599', ('CB1599', ['2571269', '2023-01-02', '1', 'CB1599', '0.0', '-1.0', '2', '2', '2023', '1', '2023-2', '01', '2023-01']))\n",
      "('CB1699', ('CB1699', ['2571270', '2023-01-02', '1', 'CB1699', '0.0', '-1.0', '2', '2', '2023', '1', '2023-2', '01', '2023-01']))\n",
      "('CB2105', ('CB2105', ['2571271', '2023-01-02', '1', 'CB2105', '3.0', '19.0', '2', '2', '2023', '1', '2023-2', '01', '2023-01']))\n",
      "('CEE016', ('CEE016', ['2571272', '2023-01-02', '1', 'CEE016', '0.0', '-1.0', '2', '2', '2023', '1', '2023-2', '01', '2023-01']))\n",
      "('CEK049', ('CEK049', ['2571273', '2023-01-02', '1', 'CEK049', '0.0', '-1.0', '2', '2', '2023', '1', '2023-2', '01', '2023-01']))\n",
      "...\n",
      "\n"
     ]
    },
    {
     "name": "stderr",
     "output_type": "stream",
     "text": [
      "                                                                                \r"
     ]
    },
    {
     "name": "stdout",
     "output_type": "stream",
     "text": [
      "-------------------------------------------\n",
      "Time: 2023-05-14 13:56:34\n",
      "-------------------------------------------\n",
      "('CJE181', ('CJE181', ['2578477', '2023-01-06', '17', 'CJE181', '1.0', '22.0', '6', '6', '2023', '1', '2023-6', '01', '2023-01']))\n",
      "('CJM90', ('CJM90', ['2578478', '2023-01-06', '17', 'CJM90', '7.0', '13.0', '6', '6', '2023', '1', '2023-6', '01', '2023-01']))\n",
      "('CLW239', ('CLW239', ['2578479', '2023-01-06', '17', 'CLW239', '0.0', '-1.0', '6', '6', '2023', '1', '2023-6', '01', '2023-01']))\n",
      "('COM205', ('COM205', ['2578480', '2023-01-06', '17', 'COM205', '2.0', '18.0', '6', '6', '2023', '1', '2023-6', '01', '2023-01']))\n",
      "('CVT387', ('CVT387', ['2578481', '2023-01-06', '17', 'CVT387', '1.0', '21.0', '6', '6', '2023', '1', '2023-6', '01', '2023-01']))\n",
      "('CAT17', ('CAT17', ['2578482', '2023-01-06', '18', 'CAT17', '3.0', '16.0', '6', '6', '2023', '1', '2023-6', '01', '2023-01']))\n",
      "('CB02411', ('CB02411', ['2578483', '2023-01-06', '18', 'CB02411', '7.0', '19.0', '6', '6', '2023', '1', '2023-6', '01', '2023-01']))\n",
      "('CB1101', ('CB1101', ['2578484', '2023-01-06', '18', 'CB1101', '3.0', '16.0', '6', '6', '2023', '1', '2023-6', '01', '2023-01']))\n",
      "('CB1142', ('CB1142', ['2578485', '2023-01-06', '18', 'CB1142', '4.0', '24.0', '6', '6', '2023', '1', '2023-6', '01', '2023-01']))\n",
      "('CB1143', ('CB1143', ['2578486', '2023-01-06', '18', 'CB1143', '1.0', '18.0', '6', '6', '2023', '1', '2023-6', '01', '2023-01']))\n",
      "...\n",
      "\n"
     ]
    },
    {
     "name": "stderr",
     "output_type": "stream",
     "text": [
      "                                                                                \r"
     ]
    },
    {
     "name": "stdout",
     "output_type": "stream",
     "text": [
      "-------------------------------------------\n",
      "Time: 2023-05-14 13:56:36\n",
      "-------------------------------------------\n",
      "('CAT17', ('CAT17', ['2583360', '2023-01-09', '1', 'CAT17', '0.0', '-1.0', '9', '2', '2023', '2', '2023-9', '02', '2023-02']))\n",
      "('CB02411', ('CB02411', ['2583361', '2023-01-09', '1', 'CB02411', '2.0', '20.0', '9', '2', '2023', '2', '2023-9', '02', '2023-02']))\n",
      "('CB1101', ('CB1101', ['2583362', '2023-01-09', '1', 'CB1101', '5.0', '18.0', '9', '2', '2023', '2', '2023-9', '02', '2023-02']))\n",
      "('CB1142', ('CB1142', ['2583363', '2023-01-09', '1', 'CB1142', '1.0', '18.0', '9', '2', '2023', '2', '2023-9', '02', '2023-02']))\n",
      "('CB1143', ('CB1143', ['2583364', '2023-01-09', '1', 'CB1143', '5.0', '22.0', '9', '2', '2023', '2', '2023-9', '02', '2023-02']))\n",
      "('CB1599', ('CB1599', ['2583365', '2023-01-09', '1', 'CB1599', '0.0', '-1.0', '9', '2', '2023', '2', '2023-9', '02', '2023-02']))\n",
      "('CB1699', ('CB1699', ['2583366', '2023-01-09', '1', 'CB1699', '0.0', '-1.0', '9', '2', '2023', '2', '2023-9', '02', '2023-02']))\n",
      "('CB2105', ('CB2105', ['2583367', '2023-01-09', '1', 'CB2105', '4.0', '21.0', '9', '2', '2023', '2', '2023-9', '02', '2023-02']))\n",
      "('CEE016', ('CEE016', ['2583368', '2023-01-09', '1', 'CEE016', '2.0', '16.0', '9', '2', '2023', '2', '2023-9', '02', '2023-02']))\n",
      "('CEK049', ('CEK049', ['2583369', '2023-01-09', '1', 'CEK049', '3.0', '22.0', '9', '2', '2023', '2', '2023-9', '02', '2023-02']))\n",
      "...\n",
      "\n"
     ]
    },
    {
     "name": "stderr",
     "output_type": "stream",
     "text": [
      "                                                                                \r"
     ]
    },
    {
     "name": "stdout",
     "output_type": "stream",
     "text": [
      "-------------------------------------------\n",
      "Time: 2023-05-14 13:56:38\n",
      "-------------------------------------------\n",
      "('CAT17', ('CAT17', ['2595456', '2023-01-16', '1', 'CAT17', '1.0', '15.0', '16', '2', '2023', '3', '2023-16', '03', '2023-03']))\n",
      "('CB02411', ('CB02411', ['2595457', '2023-01-16', '1', 'CB02411', '0.0', '-1.0', '16', '2', '2023', '3', '2023-16', '03', '2023-03']))\n",
      "('CB1101', ('CB1101', ['2595458', '2023-01-16', '1', 'CB1101', '6.0', '14.0', '16', '2', '2023', '3', '2023-16', '03', '2023-03']))\n",
      "('CB1142', ('CB1142', ['2595459', '2023-01-16', '1', 'CB1142', '1.0', '24.0', '16', '2', '2023', '3', '2023-16', '03', '2023-03']))\n",
      "('CB1143', ('CB1143', ['2595460', '2023-01-16', '1', 'CB1143', '2.0', '21.0', '16', '2', '2023', '3', '2023-16', '03', '2023-03']))\n",
      "('CB1599', ('CB1599', ['2595461', '2023-01-16', '1', 'CB1599', '0.0', '-1.0', '16', '2', '2023', '3', '2023-16', '03', '2023-03']))\n",
      "('CB1699', ('CB1699', ['2595462', '2023-01-16', '1', 'CB1699', '0.0', '-1.0', '16', '2', '2023', '3', '2023-16', '03', '2023-03']))\n",
      "('CB2105', ('CB2105', ['2595463', '2023-01-16', '1', 'CB2105', '6.0', '20.0', '16', '2', '2023', '3', '2023-16', '03', '2023-03']))\n",
      "('CEE016', ('CEE016', ['2595464', '2023-01-16', '1', 'CEE016', '0.0', '-1.0', '16', '2', '2023', '3', '2023-16', '03', '2023-03']))\n",
      "('CEK049', ('CEK049', ['2595465', '2023-01-16', '1', 'CEK049', '0.0', '-1.0', '16', '2', '2023', '3', '2023-16', '03', '2023-03']))\n",
      "...\n",
      "\n"
     ]
    },
    {
     "name": "stderr",
     "output_type": "stream",
     "text": [
      "                                                                                \r"
     ]
    },
    {
     "name": "stdout",
     "output_type": "stream",
     "text": [
      "-------------------------------------------\n",
      "Time: 2023-05-14 13:56:40\n",
      "-------------------------------------------\n",
      "\n"
     ]
    },
    {
     "name": "stderr",
     "output_type": "stream",
     "text": [
      "                                                                                \r"
     ]
    },
    {
     "name": "stdout",
     "output_type": "stream",
     "text": [
      "-------------------------------------------\n",
      "Time: 2023-05-14 13:56:42\n",
      "-------------------------------------------\n",
      "('CAT17', ('CAT17', ['2607552', '2023-01-23', '1', 'CAT17', '0.0', '-1.0', '23', '2', '2023', '4', '2023-23', '04', '2023-04']))\n",
      "('CB02411', ('CB02411', ['2607553', '2023-01-23', '1', 'CB02411', '1.0', '18.0', '23', '2', '2023', '4', '2023-23', '04', '2023-04']))\n",
      "('CB1101', ('CB1101', ['2607554', '2023-01-23', '1', 'CB1101', '7.0', '15.0', '23', '2', '2023', '4', '2023-23', '04', '2023-04']))\n",
      "('CB1142', ('CB1142', ['2607555', '2023-01-23', '1', 'CB1142', '1.0', '16.0', '23', '2', '2023', '4', '2023-23', '04', '2023-04']))\n",
      "('CB1143', ('CB1143', ['2607556', '2023-01-23', '1', 'CB1143', '1.0', '23.0', '23', '2', '2023', '4', '2023-23', '04', '2023-04']))\n",
      "('CB1599', ('CB1599', ['2607557', '2023-01-23', '1', 'CB1599', '0.0', '-1.0', '23', '2', '2023', '4', '2023-23', '04', '2023-04']))\n",
      "('CB1699', ('CB1699', ['2607558', '2023-01-23', '1', 'CB1699', '0.0', '-1.0', '23', '2', '2023', '4', '2023-23', '04', '2023-04']))\n",
      "('CB2105', ('CB2105', ['2607559', '2023-01-23', '1', 'CB2105', '4.0', '15.0', '23', '2', '2023', '4', '2023-23', '04', '2023-04']))\n",
      "('CEE016', ('CEE016', ['2607560', '2023-01-23', '1', 'CEE016', '2.0', '19.0', '23', '2', '2023', '4', '2023-23', '04', '2023-04']))\n",
      "('CEK049', ('CEK049', ['2607561', '2023-01-23', '1', 'CEK049', '0.0', '-1.0', '23', '2', '2023', '4', '2023-23', '04', '2023-04']))\n",
      "...\n",
      "\n"
     ]
    },
    {
     "name": "stderr",
     "output_type": "stream",
     "text": [
      "                                                                                \r"
     ]
    },
    {
     "name": "stdout",
     "output_type": "stream",
     "text": [
      "-------------------------------------------\n",
      "Time: 2023-05-14 13:56:44\n",
      "-------------------------------------------\n",
      "('CAT17', ('CAT17', ['2619648', '2023-01-30', '1', 'CAT17', '0.0', '-1.0', '30', '2', '2023', '5', '2023-30', '05', '2023-05']))\n",
      "('CB02411', ('CB02411', ['2619649', '2023-01-30', '1', 'CB02411', '1.0', '18.0', '30', '2', '2023', '5', '2023-30', '05', '2023-05']))\n",
      "('CB1101', ('CB1101', ['2619650', '2023-01-30', '1', 'CB1101', '5.0', '14.0', '30', '2', '2023', '5', '2023-30', '05', '2023-05']))\n",
      "('CB1142', ('CB1142', ['2619651', '2023-01-30', '1', 'CB1142', '1.0', '11.0', '30', '2', '2023', '5', '2023-30', '05', '2023-05']))\n",
      "('CB1143', ('CB1143', ['2619652', '2023-01-30', '1', 'CB1143', '4.0', '19.0', '30', '2', '2023', '5', '2023-30', '05', '2023-05']))\n",
      "('CB1599', ('CB1599', ['2619653', '2023-01-30', '1', 'CB1599', '0.0', '-1.0', '30', '2', '2023', '5', '2023-30', '05', '2023-05']))\n",
      "('CB1699', ('CB1699', ['2619654', '2023-01-30', '1', 'CB1699', '0.0', '-1.0', '30', '2', '2023', '5', '2023-30', '05', '2023-05']))\n",
      "('CB2105', ('CB2105', ['2619655', '2023-01-30', '1', 'CB2105', '5.0', '18.0', '30', '2', '2023', '5', '2023-30', '05', '2023-05']))\n",
      "('CEE016', ('CEE016', ['2619656', '2023-01-30', '1', 'CEE016', '0.0', '-1.0', '30', '2', '2023', '5', '2023-30', '05', '2023-05']))\n",
      "('CEK049', ('CEK049', ['2619657', '2023-01-30', '1', 'CEK049', '1.0', '19.0', '30', '2', '2023', '5', '2023-30', '05', '2023-05']))\n",
      "...\n",
      "\n"
     ]
    },
    {
     "name": "stderr",
     "output_type": "stream",
     "text": [
      "                                                                                \r"
     ]
    },
    {
     "name": "stdout",
     "output_type": "stream",
     "text": [
      "-------------------------------------------\n",
      "Time: 2023-05-14 13:56:46\n",
      "-------------------------------------------\n",
      "('CAT17', ('CAT17', ['2631744', '2023-02-06', '1', 'CAT17', '0.0', '-1.0', '37', '2', '2023', '6', '2023-37', '06', '2023-06']))\n",
      "('CB02411', ('CB02411', ['2631745', '2023-02-06', '1', 'CB02411', '2.0', '18.0', '37', '2', '2023', '6', '2023-37', '06', '2023-06']))\n",
      "('CB1101', ('CB1101', ['2631746', '2023-02-06', '1', 'CB1101', '7.0', '17.0', '37', '2', '2023', '6', '2023-37', '06', '2023-06']))\n",
      "('CB1142', ('CB1142', ['2631747', '2023-02-06', '1', 'CB1142', '2.0', '20.0', '37', '2', '2023', '6', '2023-37', '06', '2023-06']))\n",
      "('CB1143', ('CB1143', ['2631748', '2023-02-06', '1', 'CB1143', '2.0', '19.0', '37', '2', '2023', '6', '2023-37', '06', '2023-06']))\n",
      "('CB1599', ('CB1599', ['2631749', '2023-02-06', '1', 'CB1599', '0.0', '-1.0', '37', '2', '2023', '6', '2023-37', '06', '2023-06']))\n",
      "('CB1699', ('CB1699', ['2631750', '2023-02-06', '1', 'CB1699', '2.0', '12.0', '37', '2', '2023', '6', '2023-37', '06', '2023-06']))\n",
      "('CB2105', ('CB2105', ['2631751', '2023-02-06', '1', 'CB2105', '5.0', '19.0', '37', '2', '2023', '6', '2023-37', '06', '2023-06']))\n",
      "('CEE016', ('CEE016', ['2631752', '2023-02-06', '1', 'CEE016', '2.0', '17.0', '37', '2', '2023', '6', '2023-37', '06', '2023-06']))\n",
      "('CEK049', ('CEK049', ['2631753', '2023-02-06', '1', 'CEK049', '0.0', '-1.0', '37', '2', '2023', '6', '2023-37', '06', '2023-06']))\n",
      "...\n",
      "\n"
     ]
    },
    {
     "name": "stderr",
     "output_type": "stream",
     "text": [
      "                                                                                \r"
     ]
    },
    {
     "name": "stdout",
     "output_type": "stream",
     "text": [
      "-------------------------------------------\n",
      "Time: 2023-05-14 13:56:48\n",
      "-------------------------------------------\n",
      "('CEV011', ('CEV011', ['2638326', '2023-02-09', '78', 'CEV011', '9.0', '14.0', '40', '5', '2023', '6', '2023-40', '06', '2023-06']))\n",
      "('CJE181', ('CJE181', ['2638327', '2023-02-09', '78', 'CJE181', '4.0', '18.0', '40', '5', '2023', '6', '2023-40', '06', '2023-06']))\n",
      "('CJM90', ('CJM90', ['2638328', '2023-02-09', '78', 'CJM90', '44.0', '19.0', '40', '5', '2023', '6', '2023-40', '06', '2023-06']))\n",
      "('CLW239', ('CLW239', ['2638329', '2023-02-09', '78', 'CLW239', '8.0', '21.0', '40', '5', '2023', '6', '2023-40', '06', '2023-06']))\n",
      "('COM205', ('COM205', ['2638330', '2023-02-09', '78', 'COM205', '7.0', '21.0', '40', '5', '2023', '6', '2023-40', '06', '2023-06']))\n",
      "('CVT387', ('CVT387', ['2638331', '2023-02-09', '78', 'CVT387', '6.0', '12.0', '40', '5', '2023', '6', '2023-40', '06', '2023-06']))\n",
      "('CAT17', ('CAT17', ['2638332', '2023-02-09', '79', 'CAT17', '11.0', '17.0', '40', '5', '2023', '6', '2023-40', '06', '2023-06']))\n",
      "('CB02411', ('CB02411', ['2638333', '2023-02-09', '79', 'CB02411', '19.0', '23.0', '40', '5', '2023', '6', '2023-40', '06', '2023-06']))\n",
      "('CB1101', ('CB1101', ['2638334', '2023-02-09', '79', 'CB1101', '45.0', '18.0', '40', '5', '2023', '6', '2023-40', '06', '2023-06']))\n",
      "('CB1142', ('CB1142', ['2638335', '2023-02-09', '79', 'CB1142', '39.0', '14.0', '40', '5', '2023', '6', '2023-40', '06', '2023-06']))\n",
      "...\n",
      "\n"
     ]
    },
    {
     "name": "stderr",
     "output_type": "stream",
     "text": [
      "                                                                                \r"
     ]
    },
    {
     "name": "stdout",
     "output_type": "stream",
     "text": [
      "-------------------------------------------\n",
      "Time: 2023-05-14 13:56:50\n",
      "-------------------------------------------\n",
      "('CAT17', ('CAT17', ['2643840', '2023-02-13', '1', 'CAT17', '0.0', '-1.0', '44', '2', '2023', '7', '2023-44', '07', '2023-07']))\n",
      "('CB02411', ('CB02411', ['2643841', '2023-02-13', '1', 'CB02411', '3.0', '18.0', '44', '2', '2023', '7', '2023-44', '07', '2023-07']))\n",
      "('CB1101', ('CB1101', ['2643842', '2023-02-13', '1', 'CB1101', '6.0', '19.0', '44', '2', '2023', '7', '2023-44', '07', '2023-07']))\n",
      "('CB1142', ('CB1142', ['2643843', '2023-02-13', '1', 'CB1142', '2.0', '20.0', '44', '2', '2023', '7', '2023-44', '07', '2023-07']))\n",
      "('CB1143', ('CB1143', ['2643844', '2023-02-13', '1', 'CB1143', '0.0', '-1.0', '44', '2', '2023', '7', '2023-44', '07', '2023-07']))\n",
      "('CB1599', ('CB1599', ['2643845', '2023-02-13', '1', 'CB1599', '0.0', '-1.0', '44', '2', '2023', '7', '2023-44', '07', '2023-07']))\n",
      "('CB1699', ('CB1699', ['2643846', '2023-02-13', '1', 'CB1699', '2.0', '20.0', '44', '2', '2023', '7', '2023-44', '07', '2023-07']))\n",
      "('CB2105', ('CB2105', ['2643847', '2023-02-13', '1', 'CB2105', '7.0', '21.0', '44', '2', '2023', '7', '2023-44', '07', '2023-07']))\n",
      "('CEE016', ('CEE016', ['2643848', '2023-02-13', '1', 'CEE016', '2.0', '21.0', '44', '2', '2023', '7', '2023-44', '07', '2023-07']))\n",
      "('CEK049', ('CEK049', ['2643849', '2023-02-13', '1', 'CEK049', '2.0', '16.0', '44', '2', '2023', '7', '2023-44', '07', '2023-07']))\n",
      "...\n",
      "\n"
     ]
    },
    {
     "name": "stderr",
     "output_type": "stream",
     "text": [
      "                                                                                \r"
     ]
    },
    {
     "name": "stdout",
     "output_type": "stream",
     "text": [
      "-------------------------------------------\n",
      "Time: 2023-05-14 13:56:52\n",
      "-------------------------------------------\n",
      "('CAT17', ('CAT17', ['2655936', '2023-02-20', '1', 'CAT17', '0.0', '-1.0', '51', '2', '2023', '8', '2023-51', '08', '2023-08']))\n",
      "('CB02411', ('CB02411', ['2655937', '2023-02-20', '1', 'CB02411', '0.0', '-1.0', '51', '2', '2023', '8', '2023-51', '08', '2023-08']))\n",
      "('CB1101', ('CB1101', ['2655938', '2023-02-20', '1', 'CB1101', '6.0', '20.0', '51', '2', '2023', '8', '2023-51', '08', '2023-08']))\n",
      "('CB1142', ('CB1142', ['2655939', '2023-02-20', '1', 'CB1142', '4.0', '22.0', '51', '2', '2023', '8', '2023-51', '08', '2023-08']))\n",
      "('CB1143', ('CB1143', ['2655940', '2023-02-20', '1', 'CB1143', '2.0', '18.0', '51', '2', '2023', '8', '2023-51', '08', '2023-08']))\n",
      "('CB1599', ('CB1599', ['2655941', '2023-02-20', '1', 'CB1599', '0.0', '-1.0', '51', '2', '2023', '8', '2023-51', '08', '2023-08']))\n",
      "('CB1699', ('CB1699', ['2655942', '2023-02-20', '1', 'CB1699', '0.0', '-1.0', '51', '2', '2023', '8', '2023-51', '08', '2023-08']))\n",
      "('CB2105', ('CB2105', ['2655943', '2023-02-20', '1', 'CB2105', '5.0', '19.0', '51', '2', '2023', '8', '2023-51', '08', '2023-08']))\n",
      "('CEE016', ('CEE016', ['2655944', '2023-02-20', '1', 'CEE016', '0.0', '-1.0', '51', '2', '2023', '8', '2023-51', '08', '2023-08']))\n",
      "('CEK049', ('CEK049', ['2655945', '2023-02-20', '1', 'CEK049', '3.0', '16.0', '51', '2', '2023', '8', '2023-51', '08', '2023-08']))\n",
      "...\n",
      "\n"
     ]
    },
    {
     "name": "stderr",
     "output_type": "stream",
     "text": [
      "                                                                                \r"
     ]
    },
    {
     "name": "stdout",
     "output_type": "stream",
     "text": [
      "-------------------------------------------\n",
      "Time: 2023-05-14 13:56:54\n",
      "-------------------------------------------\n",
      "\n"
     ]
    },
    {
     "name": "stderr",
     "output_type": "stream",
     "text": [
      "                                                                                \r"
     ]
    },
    {
     "name": "stdout",
     "output_type": "stream",
     "text": [
      "-------------------------------------------\n",
      "Time: 2023-05-14 13:56:56\n",
      "-------------------------------------------\n",
      "('CAT17', ('CAT17', ['2668032', '2023-02-27', '1', 'CAT17', '0.0', '-1.0', '58', '2', '2023', '9', '2023-58', '09', '2023-09']))\n",
      "('CB02411', ('CB02411', ['2668033', '2023-02-27', '1', 'CB02411', '2.0', '22.0', '58', '2', '2023', '9', '2023-58', '09', '2023-09']))\n",
      "('CB1101', ('CB1101', ['2668034', '2023-02-27', '1', 'CB1101', '4.0', '16.0', '58', '2', '2023', '9', '2023-58', '09', '2023-09']))\n",
      "('CB1142', ('CB1142', ['2668035', '2023-02-27', '1', 'CB1142', '1.0', '15.0', '58', '2', '2023', '9', '2023-58', '09', '2023-09']))\n",
      "('CB1143', ('CB1143', ['2668036', '2023-02-27', '1', 'CB1143', '2.0', '18.0', '58', '2', '2023', '9', '2023-58', '09', '2023-09']))\n",
      "('CB1599', ('CB1599', ['2668037', '2023-02-27', '1', 'CB1599', '0.0', '-1.0', '58', '2', '2023', '9', '2023-58', '09', '2023-09']))\n",
      "('CB1699', ('CB1699', ['2668038', '2023-02-27', '1', 'CB1699', '0.0', '-1.0', '58', '2', '2023', '9', '2023-58', '09', '2023-09']))\n",
      "('CB2105', ('CB2105', ['2668039', '2023-02-27', '1', 'CB2105', '3.0', '20.0', '58', '2', '2023', '9', '2023-58', '09', '2023-09']))\n",
      "('CEE016', ('CEE016', ['2668040', '2023-02-27', '1', 'CEE016', '0.0', '-1.0', '58', '2', '2023', '9', '2023-58', '09', '2023-09']))\n",
      "('CEK049', ('CEK049', ['2668041', '2023-02-27', '1', 'CEK049', '2.0', '21.0', '58', '2', '2023', '9', '2023-58', '09', '2023-09']))\n",
      "...\n",
      "\n"
     ]
    },
    {
     "name": "stderr",
     "output_type": "stream",
     "text": [
      "                                                                                \r"
     ]
    },
    {
     "name": "stdout",
     "output_type": "stream",
     "text": [
      "-------------------------------------------\n",
      "Time: 2023-05-14 13:56:58\n",
      "-------------------------------------------\n",
      "('CAT17', ('CAT17', ['2680128', '2023-03-06', '1', 'CAT17', '0.0', '-1.0', '65', '2', '2023', '10', '2023-65', '10', '2023-10']))\n",
      "('CB02411', ('CB02411', ['2680129', '2023-03-06', '1', 'CB02411', '1.0', '17.0', '65', '2', '2023', '10', '2023-65', '10', '2023-10']))\n",
      "('CB1101', ('CB1101', ['2680130', '2023-03-06', '1', 'CB1101', '6.0', '22.0', '65', '2', '2023', '10', '2023-65', '10', '2023-10']))\n",
      "('CB1142', ('CB1142', ['2680131', '2023-03-06', '1', 'CB1142', '0.0', '-1.0', '65', '2', '2023', '10', '2023-65', '10', '2023-10']))\n",
      "('CB1143', ('CB1143', ['2680132', '2023-03-06', '1', 'CB1143', '2.0', '17.0', '65', '2', '2023', '10', '2023-65', '10', '2023-10']))\n",
      "('CB1599', ('CB1599', ['2680133', '2023-03-06', '1', 'CB1599', '0.0', '-1.0', '65', '2', '2023', '10', '2023-65', '10', '2023-10']))\n",
      "('CB1699', ('CB1699', ['2680134', '2023-03-06', '1', 'CB1699', '1.0', '19.0', '65', '2', '2023', '10', '2023-65', '10', '2023-10']))\n",
      "('CB2105', ('CB2105', ['2680135', '2023-03-06', '1', 'CB2105', '2.0', '20.0', '65', '2', '2023', '10', '2023-65', '10', '2023-10']))\n",
      "('CEE016', ('CEE016', ['2680136', '2023-03-06', '1', 'CEE016', '0.0', '-1.0', '65', '2', '2023', '10', '2023-65', '10', '2023-10']))\n",
      "('CEK049', ('CEK049', ['2680137', '2023-03-06', '1', 'CEK049', '2.0', '26.0', '65', '2', '2023', '10', '2023-65', '10', '2023-10']))\n",
      "...\n",
      "\n"
     ]
    },
    {
     "name": "stderr",
     "output_type": "stream",
     "text": [
      "                                                                                \r"
     ]
    },
    {
     "name": "stdout",
     "output_type": "stream",
     "text": [
      "-------------------------------------------\n",
      "Time: 2023-05-14 13:57:00\n",
      "-------------------------------------------\n",
      "('CAT17', ('CAT17', ['2692224', '2023-03-13', '1', 'CAT17', '0.0', '-1.0', '72', '2', '2023', '11', '2023-72', '11', '2023-11']))\n",
      "('CB02411', ('CB02411', ['2692225', '2023-03-13', '1', 'CB02411', '0.0', '-1.0', '72', '2', '2023', '11', '2023-72', '11', '2023-11']))\n",
      "('CB1101', ('CB1101', ['2692226', '2023-03-13', '1', 'CB1101', '5.0', '20.0', '72', '2', '2023', '11', '2023-72', '11', '2023-11']))\n",
      "('CB1142', ('CB1142', ['2692227', '2023-03-13', '1', 'CB1142', '1.0', '11.0', '72', '2', '2023', '11', '2023-72', '11', '2023-11']))\n",
      "('CB1143', ('CB1143', ['2692228', '2023-03-13', '1', 'CB1143', '0.0', '-1.0', '72', '2', '2023', '11', '2023-72', '11', '2023-11']))\n",
      "('CB1599', ('CB1599', ['2692229', '2023-03-13', '1', 'CB1599', '0.0', '-1.0', '72', '2', '2023', '11', '2023-72', '11', '2023-11']))\n",
      "('CB1699', ('CB1699', ['2692230', '2023-03-13', '1', 'CB1699', '1.0', '16.0', '72', '2', '2023', '11', '2023-72', '11', '2023-11']))\n",
      "('CB2105', ('CB2105', ['2692231', '2023-03-13', '1', 'CB2105', '2.0', '15.0', '72', '2', '2023', '11', '2023-72', '11', '2023-11']))\n",
      "('CEE016', ('CEE016', ['2692232', '2023-03-13', '1', 'CEE016', '0.0', '-1.0', '72', '2', '2023', '11', '2023-72', '11', '2023-11']))\n",
      "('CEK049', ('CEK049', ['2692233', '2023-03-13', '1', 'CEK049', '3.0', '23.0', '72', '2', '2023', '11', '2023-72', '11', '2023-11']))\n",
      "...\n",
      "\n"
     ]
    },
    {
     "name": "stderr",
     "output_type": "stream",
     "text": [
      "                                                                                \r"
     ]
    },
    {
     "name": "stdout",
     "output_type": "stream",
     "text": [
      "-------------------------------------------\n",
      "Time: 2023-05-14 13:57:02\n",
      "-------------------------------------------\n",
      "('COM205', ('COM205', ['2699368', '2023-03-17', '13', 'COM205', '1.0', '22.0', '76', '6', '2023', '11', '2023-76', '11', '2023-11']))\n",
      "('CVT387', ('CVT387', ['2699369', '2023-03-17', '13', 'CVT387', '0.0', '-1.0', '76', '6', '2023', '11', '2023-76', '11', '2023-11']))\n",
      "('CAT17', ('CAT17', ['2699370', '2023-03-17', '14', 'CAT17', '0.0', '-1.0', '76', '6', '2023', '11', '2023-76', '11', '2023-11']))\n",
      "('CB02411', ('CB02411', ['2699371', '2023-03-17', '14', 'CB02411', '6.0', '21.0', '76', '6', '2023', '11', '2023-76', '11', '2023-11']))\n",
      "('CB1101', ('CB1101', ['2699372', '2023-03-17', '14', 'CB1101', '4.0', '20.0', '76', '6', '2023', '11', '2023-76', '11', '2023-11']))\n",
      "('CB1142', ('CB1142', ['2699373', '2023-03-17', '14', 'CB1142', '1.0', '15.0', '76', '6', '2023', '11', '2023-76', '11', '2023-11']))\n",
      "('CB1143', ('CB1143', ['2699374', '2023-03-17', '14', 'CB1143', '1.0', '19.0', '76', '6', '2023', '11', '2023-76', '11', '2023-11']))\n",
      "('CB1599', ('CB1599', ['2699375', '2023-03-17', '14', 'CB1599', '0.0', '-1.0', '76', '6', '2023', '11', '2023-76', '11', '2023-11']))\n",
      "('CB1699', ('CB1699', ['2699376', '2023-03-17', '14', 'CB1699', '0.0', '-1.0', '76', '6', '2023', '11', '2023-76', '11', '2023-11']))\n",
      "('CB2105', ('CB2105', ['2699377', '2023-03-17', '14', 'CB2105', '7.0', '21.0', '76', '6', '2023', '11', '2023-76', '11', '2023-11']))\n",
      "...\n",
      "\n"
     ]
    },
    {
     "name": "stderr",
     "output_type": "stream",
     "text": [
      "                                                                                \r"
     ]
    },
    {
     "name": "stdout",
     "output_type": "stream",
     "text": [
      "-------------------------------------------\n",
      "Time: 2023-05-14 13:57:04\n",
      "-------------------------------------------\n",
      "('CAT17', ('CAT17', ['2704320', '2023-03-20', '1', 'CAT17', '0.0', '-1.0', '79', '2', '2023', '12', '2023-79', '12', '2023-12']))\n",
      "('CB02411', ('CB02411', ['2704321', '2023-03-20', '1', 'CB02411', '3.0', '16.0', '79', '2', '2023', '12', '2023-79', '12', '2023-12']))\n",
      "('CB1101', ('CB1101', ['2704322', '2023-03-20', '1', 'CB1101', '5.0', '17.0', '79', '2', '2023', '12', '2023-79', '12', '2023-12']))\n",
      "('CB1142', ('CB1142', ['2704323', '2023-03-20', '1', 'CB1142', '0.0', '-1.0', '79', '2', '2023', '12', '2023-79', '12', '2023-12']))\n",
      "('CB1143', ('CB1143', ['2704324', '2023-03-20', '1', 'CB1143', '2.0', '18.0', '79', '2', '2023', '12', '2023-79', '12', '2023-12']))\n",
      "('CB1599', ('CB1599', ['2704325', '2023-03-20', '1', 'CB1599', '0.0', '-1.0', '79', '2', '2023', '12', '2023-79', '12', '2023-12']))\n",
      "('CB1699', ('CB1699', ['2704326', '2023-03-20', '1', 'CB1699', '1.0', '19.0', '79', '2', '2023', '12', '2023-79', '12', '2023-12']))\n",
      "('CB2105', ('CB2105', ['2704327', '2023-03-20', '1', 'CB2105', '3.0', '15.0', '79', '2', '2023', '12', '2023-79', '12', '2023-12']))\n",
      "('CEE016', ('CEE016', ['2704328', '2023-03-20', '1', 'CEE016', '4.0', '22.0', '79', '2', '2023', '12', '2023-79', '12', '2023-12']))\n",
      "('CEK049', ('CEK049', ['2704329', '2023-03-20', '1', 'CEK049', '1.0', '20.0', '79', '2', '2023', '12', '2023-79', '12', '2023-12']))\n",
      "...\n",
      "\n"
     ]
    },
    {
     "name": "stderr",
     "output_type": "stream",
     "text": [
      "                                                                                \r"
     ]
    },
    {
     "name": "stdout",
     "output_type": "stream",
     "text": [
      "-------------------------------------------\n",
      "Time: 2023-05-14 13:57:06\n",
      "-------------------------------------------\n",
      "('CAT17', ('CAT17', ['2716416', '2023-03-27', '1', 'CAT17', '0.0', '-1.0', '86', '2', '2023', '13', '2023-86', '13', '2023-13']))\n",
      "('CB02411', ('CB02411', ['2716417', '2023-03-27', '1', 'CB02411', '1.0', '19.0', '86', '2', '2023', '13', '2023-86', '13', '2023-13']))\n",
      "('CB1101', ('CB1101', ['2716418', '2023-03-27', '1', 'CB1101', '3.0', '13.0', '86', '2', '2023', '13', '2023-86', '13', '2023-13']))\n",
      "('CB1142', ('CB1142', ['2716419', '2023-03-27', '1', 'CB1142', '1.0', '22.0', '86', '2', '2023', '13', '2023-86', '13', '2023-13']))\n",
      "('CB1143', ('CB1143', ['2716420', '2023-03-27', '1', 'CB1143', '2.0', '17.0', '86', '2', '2023', '13', '2023-86', '13', '2023-13']))\n",
      "('CB1599', ('CB1599', ['2716421', '2023-03-27', '1', 'CB1599', '0.0', '-1.0', '86', '2', '2023', '13', '2023-86', '13', '2023-13']))\n",
      "('CB1699', ('CB1699', ['2716422', '2023-03-27', '1', 'CB1699', '0.0', '-1.0', '86', '2', '2023', '13', '2023-86', '13', '2023-13']))\n",
      "('CB2105', ('CB2105', ['2716423', '2023-03-27', '1', 'CB2105', '2.0', '17.0', '86', '2', '2023', '13', '2023-86', '13', '2023-13']))\n",
      "('CEE016', ('CEE016', ['2716424', '2023-03-27', '1', 'CEE016', '0.0', '-1.0', '86', '2', '2023', '13', '2023-86', '13', '2023-13']))\n",
      "('CEK049', ('CEK049', ['2716425', '2023-03-27', '1', 'CEK049', '1.0', '26.0', '86', '2', '2023', '13', '2023-86', '13', '2023-13']))\n",
      "...\n",
      "\n"
     ]
    },
    {
     "name": "stderr",
     "output_type": "stream",
     "text": [
      "                                                                                \r"
     ]
    },
    {
     "name": "stdout",
     "output_type": "stream",
     "text": [
      "-------------------------------------------\n",
      "Time: 2023-05-14 13:57:08\n",
      "-------------------------------------------\n",
      "('CAT17', ('CAT17', ['2569536', '2023-01-01', '1', 'CAT17', '1.0', '9.0', '1', '1', '2023', '52', '2023-1', '52', '2023-52']))\n",
      "('CB02411', ('CB02411', ['2569537', '2023-01-01', '1', 'CB02411', '8.0', '17.0', '1', '1', '2023', '52', '2023-1', '52', '2023-52']))\n",
      "('CB1101', ('CB1101', ['2569538', '2023-01-01', '1', 'CB1101', '17.0', '15.0', '1', '1', '2023', '52', '2023-1', '52', '2023-52']))\n",
      "('CB1142', ('CB1142', ['2569539', '2023-01-01', '1', 'CB1142', '12.0', '18.0', '1', '1', '2023', '52', '2023-1', '52', '2023-52']))\n",
      "('CB1143', ('CB1143', ['2569540', '2023-01-01', '1', 'CB1143', '16.0', '18.0', '1', '1', '2023', '52', '2023-1', '52', '2023-52']))\n",
      "('CB1599', ('CB1599', ['2569541', '2023-01-01', '1', 'CB1599', '3.0', '19.0', '1', '1', '2023', '52', '2023-1', '52', '2023-52']))\n",
      "('CB1699', ('CB1699', ['2569542', '2023-01-01', '1', 'CB1699', '2.0', '16.0', '1', '1', '2023', '52', '2023-1', '52', '2023-52']))\n",
      "('CB2105', ('CB2105', ['2569543', '2023-01-01', '1', 'CB2105', '12.0', '18.0', '1', '1', '2023', '52', '2023-1', '52', '2023-52']))\n",
      "('CEE016', ('CEE016', ['2569544', '2023-01-01', '1', 'CEE016', '2.0', '11.0', '1', '1', '2023', '52', '2023-1', '52', '2023-52']))\n",
      "('CEK049', ('CEK049', ['2569545', '2023-01-01', '1', 'CEK049', '6.0', '22.0', '1', '1', '2023', '52', '2023-1', '52', '2023-52']))\n",
      "...\n",
      "\n"
     ]
    },
    {
     "name": "stderr",
     "output_type": "stream",
     "text": [
      "                                                                                \r"
     ]
    },
    {
     "name": "stdout",
     "output_type": "stream",
     "text": [
      "-------------------------------------------\n",
      "Time: 2023-05-14 13:57:10\n",
      "-------------------------------------------\n",
      "\n"
     ]
    },
    {
     "name": "stderr",
     "output_type": "stream",
     "text": [
      "                                                                                \r"
     ]
    },
    {
     "name": "stdout",
     "output_type": "stream",
     "text": [
      "-------------------------------------------\n",
      "Time: 2023-05-14 13:57:12\n",
      "-------------------------------------------\n",
      "\n"
     ]
    },
    {
     "name": "stderr",
     "output_type": "stream",
     "text": [
      "                                                                                \r"
     ]
    },
    {
     "name": "stdout",
     "output_type": "stream",
     "text": [
      "-------------------------------------------\n",
      "Time: 2023-05-14 13:57:14\n",
      "-------------------------------------------\n",
      "\n"
     ]
    }
   ],
   "source": [
    "ssc.start()\n"
   ]
  },
  {
   "cell_type": "markdown",
   "id": "7aef782c",
   "metadata": {},
   "source": [
    "To stop the data consumption, we stop the data stream object."
   ]
  },
  {
   "cell_type": "code",
   "execution_count": 19,
   "id": "478907ab",
   "metadata": {},
   "outputs": [
    {
     "name": "stdout",
     "output_type": "stream",
     "text": [
      "23/05/14 13:58:12 ERROR ReceiverTracker: Deregistered receiver for stream 0: Stopped by driver\n"
     ]
    },
    {
     "name": "stderr",
     "output_type": "stream",
     "text": [
      "Exception in thread \"receiver-supervisor-future-0\" java.lang.InterruptedException: sleep interrupted\n",
      "\tat java.base/java.lang.Thread.sleep(Native Method)\n",
      "\tat org.apache.spark.streaming.receiver.ReceiverSupervisor.$anonfun$restartReceiver$1(ReceiverSupervisor.scala:196)\n",
      "\tat scala.runtime.java8.JFunction0$mcV$sp.apply(JFunction0$mcV$sp.java:23)\n",
      "\tat scala.concurrent.Future$.$anonfun$apply$1(Future.scala:659)\n",
      "\tat scala.util.Success.$anonfun$map$1(Try.scala:255)\n",
      "\tat scala.util.Success.map(Try.scala:213)\n",
      "\tat scala.concurrent.Future.$anonfun$map$1(Future.scala:292)\n",
      "\tat scala.concurrent.impl.Promise.liftedTree1$1(Promise.scala:33)\n",
      "\tat scala.concurrent.impl.Promise.$anonfun$transform$1(Promise.scala:33)\n",
      "\tat scala.concurrent.impl.CallbackRunnable.run(Promise.scala:64)\n",
      "\tat java.base/java.util.concurrent.ThreadPoolExecutor.runWorker(ThreadPoolExecutor.java:1128)\n",
      "\tat java.base/java.util.concurrent.ThreadPoolExecutor$Worker.run(ThreadPoolExecutor.java:628)\n",
      "\tat java.base/java.lang.Thread.run(Thread.java:829)\n",
      "                                                                                \r"
     ]
    },
    {
     "name": "stdout",
     "output_type": "stream",
     "text": [
      "-------------------------------------------\n",
      "Time: 2023-05-14 13:57:16\n",
      "-------------------------------------------\n",
      "\n"
     ]
    },
    {
     "name": "stderr",
     "output_type": "stream",
     "text": [
      "\r",
      "[Stage 2264:>                                                       (0 + 1) / 1]\r"
     ]
    }
   ],
   "source": [
    "ssc.stop(stopSparkContext=False, stopGraceFully=False)"
   ]
  },
  {
   "cell_type": "markdown",
   "id": "36231c28",
   "metadata": {},
   "source": [
    "### N = 4"
   ]
  },
  {
   "cell_type": "code",
   "execution_count": 20,
   "id": "935ea531",
   "metadata": {},
   "outputs": [],
   "source": [
    "batch_interval = 2\n",
    "[sc,ssc,dstream] = getDStream(spark, batch_interval)\n",
    "initialStateRDD = sc.parallelize([(x[0], set_state_from_x(x, 4, average_model)) for x in different_sensors]) \n",
    "dataS=dstream.map(ast.literal_eval)\n",
    "dataS=dataS.flatMap(lambda x: [(x[3],(x[3],x))]) #x[3] contains the key (sensor)\n",
    "dataS.pprint()\n",
    "updatedState = dataS.updateStateByKey(updateFunction, initialRDD=initialStateRDD)\n",
    "def save_to_file(rdd):\n",
    "    \"\"\"\n",
    "    Update the state on a file to retrieve data after the stream completed\n",
    "    \"\"\"\n",
    "    # coalesce the RDD into a single partition\n",
    "    merged_rdd = rdd.coalesce(1)\n",
    "    # save the merged RDD to a text file\n",
    "    if not merged_rdd.isEmpty():\n",
    "        merged_rdd.map(lambda x: f\"{x[0]},{(x[1][4]/(x[1][3] if x[1][3] != 0 else 1)):.2f},{x[1][4]},{x[1][3]}\") \\\n",
    "            .saveAsTextFile(\"streaming/Task1/avg_4\")\n",
    "\n",
    "updatedState.foreachRDD(lambda x : save_to_file(x))"
   ]
  },
  {
   "cell_type": "code",
   "execution_count": 21,
   "id": "70638743",
   "metadata": {},
   "outputs": [
    {
     "name": "stderr",
     "output_type": "stream",
     "text": [
      "\r",
      "                                                                                \r"
     ]
    },
    {
     "name": "stdout",
     "output_type": "stream",
     "text": [
      "-------------------------------------------\n",
      "Time: 2023-05-14 13:58:52\n",
      "-------------------------------------------\n",
      "('CB1101', ('CB1101', ['2120258', '2022-04-16', '1', 'CB1101', '0.0', '-1.0', '106', '7', '2022', '15', '2022-106', '15', '2022-15']))\n",
      "('CB1142', ('CB1142', ['2120259', '2022-04-16', '1', 'CB1142', '3.0', '21.0', '106', '7', '2022', '15', '2022-106', '15', '2022-15']))\n",
      "('CB1143', ('CB1143', ['2120260', '2022-04-16', '1', 'CB1143', '1.0', '27.0', '106', '7', '2022', '15', '2022-106', '15', '2022-15']))\n",
      "('CB1599', ('CB1599', ['2120261', '2022-04-16', '1', 'CB1599', '1.0', '19.0', '106', '7', '2022', '15', '2022-106', '15', '2022-15']))\n",
      "('CB1699', ('CB1699', ['2120262', '2022-04-16', '1', 'CB1699', '0.0', '-1.0', '106', '7', '2022', '15', '2022-106', '15', '2022-15']))\n",
      "('CB2105', ('CB2105', ['2120263', '2022-04-16', '1', 'CB2105', '7.0', '19.0', '106', '7', '2022', '15', '2022-106', '15', '2022-15']))\n",
      "('CEE016', ('CEE016', ['2120264', '2022-04-16', '1', 'CEE016', '1.0', '19.0', '106', '7', '2022', '15', '2022-106', '15', '2022-15']))\n",
      "('CEK049', ('CEK049', ['2120265', '2022-04-16', '1', 'CEK049', '8.0', '20.0', '106', '7', '2022', '15', '2022-106', '15', '2022-15']))\n",
      "('CEK18', ('CEK18', ['2120266', '2022-04-16', '1', 'CEK18', '1.0', '18.0', '106', '7', '2022', '15', '2022-106', '15', '2022-15']))\n",
      "('CEK31', ('CEK31', ['2120267', '2022-04-16', '1', 'CEK31', '5.0', '17.0', '106', '7', '2022', '15', '2022-106', '15', '2022-15']))\n",
      "...\n",
      "\n"
     ]
    },
    {
     "name": "stderr",
     "output_type": "stream",
     "text": [
      "                                                                                \r"
     ]
    },
    {
     "name": "stdout",
     "output_type": "stream",
     "text": [
      "-------------------------------------------\n",
      "Time: 2023-05-14 13:58:54\n",
      "-------------------------------------------\n",
      "\n"
     ]
    },
    {
     "name": "stderr",
     "output_type": "stream",
     "text": [
      "                                                                                \r"
     ]
    },
    {
     "name": "stdout",
     "output_type": "stream",
     "text": [
      "-------------------------------------------\n",
      "Time: 2023-05-14 13:58:56\n",
      "-------------------------------------------\n",
      "('CAT17', ('CAT17', ['2123712', '2022-04-18', '1', 'CAT17', '2.0', '17.0', '108', '2', '2022', '16', '2022-108', '16', '2022-16']))\n",
      "('CB02411', ('CB02411', ['2123713', '2022-04-18', '1', 'CB02411', '2.0', '28.0', '108', '2', '2022', '16', '2022-108', '16', '2022-16']))\n",
      "('CB1101', ('CB1101', ['2123714', '2022-04-18', '1', 'CB1101', '0.0', '-1.0', '108', '2', '2022', '16', '2022-108', '16', '2022-16']))\n",
      "('CB1142', ('CB1142', ['2123715', '2022-04-18', '1', 'CB1142', '0.0', '-1.0', '108', '2', '2022', '16', '2022-108', '16', '2022-16']))\n",
      "('CB1143', ('CB1143', ['2123716', '2022-04-18', '1', 'CB1143', '0.0', '-1.0', '108', '2', '2022', '16', '2022-108', '16', '2022-16']))\n",
      "('CB1599', ('CB1599', ['2123717', '2022-04-18', '1', 'CB1599', '0.0', '-1.0', '108', '2', '2022', '16', '2022-108', '16', '2022-16']))\n",
      "('CB1699', ('CB1699', ['2123718', '2022-04-18', '1', 'CB1699', '1.0', '17.0', '108', '2', '2022', '16', '2022-108', '16', '2022-16']))\n",
      "('CB2105', ('CB2105', ['2123719', '2022-04-18', '1', 'CB2105', '8.0', '19.0', '108', '2', '2022', '16', '2022-108', '16', '2022-16']))\n",
      "('CEE016', ('CEE016', ['2123720', '2022-04-18', '1', 'CEE016', '0.0', '-1.0', '108', '2', '2022', '16', '2022-108', '16', '2022-16']))\n",
      "('CEK049', ('CEK049', ['2123721', '2022-04-18', '1', 'CEK049', '4.0', '21.0', '108', '2', '2022', '16', '2022-108', '16', '2022-16']))\n",
      "...\n",
      "\n"
     ]
    },
    {
     "name": "stderr",
     "output_type": "stream",
     "text": [
      "                                                                                \r"
     ]
    },
    {
     "name": "stdout",
     "output_type": "stream",
     "text": [
      "-------------------------------------------\n",
      "Time: 2023-05-14 13:58:58\n",
      "-------------------------------------------\n",
      "('CAT17', ('CAT17', ['2135808', '2022-04-25', '1', 'CAT17', '0.0', '-1.0', '115', '2', '2022', '17', '2022-115', '17', '2022-17']))\n",
      "('CB02411', ('CB02411', ['2135809', '2022-04-25', '1', 'CB02411', '3.0', '22.0', '115', '2', '2022', '17', '2022-115', '17', '2022-17']))\n",
      "('CB1101', ('CB1101', ['2135810', '2022-04-25', '1', 'CB1101', '0.0', '-1.0', '115', '2', '2022', '17', '2022-115', '17', '2022-17']))\n",
      "('CB1142', ('CB1142', ['2135811', '2022-04-25', '1', 'CB1142', '2.0', '17.0', '115', '2', '2022', '17', '2022-115', '17', '2022-17']))\n",
      "('CB1143', ('CB1143', ['2135812', '2022-04-25', '1', 'CB1143', '0.0', '-1.0', '115', '2', '2022', '17', '2022-115', '17', '2022-17']))\n",
      "('CB1599', ('CB1599', ['2135813', '2022-04-25', '1', 'CB1599', '0.0', '-1.0', '115', '2', '2022', '17', '2022-115', '17', '2022-17']))\n",
      "('CB1699', ('CB1699', ['2135814', '2022-04-25', '1', 'CB1699', '1.0', '20.0', '115', '2', '2022', '17', '2022-115', '17', '2022-17']))\n",
      "('CB2105', ('CB2105', ['2135815', '2022-04-25', '1', 'CB2105', '5.0', '16.0', '115', '2', '2022', '17', '2022-115', '17', '2022-17']))\n",
      "('CEE016', ('CEE016', ['2135816', '2022-04-25', '1', 'CEE016', '1.0', '10.0', '115', '2', '2022', '17', '2022-115', '17', '2022-17']))\n",
      "('CEK049', ('CEK049', ['2135817', '2022-04-25', '1', 'CEK049', '1.0', '22.0', '115', '2', '2022', '17', '2022-115', '17', '2022-17']))\n",
      "...\n",
      "\n"
     ]
    },
    {
     "name": "stderr",
     "output_type": "stream",
     "text": [
      "                                                                                \r"
     ]
    },
    {
     "name": "stdout",
     "output_type": "stream",
     "text": [
      "-------------------------------------------\n",
      "Time: 2023-05-14 13:59:00\n",
      "-------------------------------------------\n",
      "\n"
     ]
    },
    {
     "name": "stderr",
     "output_type": "stream",
     "text": [
      "                                                                                \r"
     ]
    },
    {
     "name": "stdout",
     "output_type": "stream",
     "text": [
      "-------------------------------------------\n",
      "Time: 2023-05-14 13:59:02\n",
      "-------------------------------------------\n",
      "('CAT17', ('CAT17', ['2147904', '2022-05-02', '1', 'CAT17', '0.0', '-1.0', '122', '2', '2022', '18', '2022-122', '18', '2022-18']))\n",
      "('CB02411', ('CB02411', ['2147905', '2022-05-02', '1', 'CB02411', '49.0', '17.0', '122', '2', '2022', '18', '2022-122', '18', '2022-18']))\n",
      "('CB1101', ('CB1101', ['2147906', '2022-05-02', '1', 'CB1101', '0.0', '-1.0', '122', '2', '2022', '18', '2022-122', '18', '2022-18']))\n",
      "('CB1142', ('CB1142', ['2147907', '2022-05-02', '1', 'CB1142', '5.0', '20.0', '122', '2', '2022', '18', '2022-122', '18', '2022-18']))\n",
      "('CB1143', ('CB1143', ['2147908', '2022-05-02', '1', 'CB1143', '5.0', '23.0', '122', '2', '2022', '18', '2022-122', '18', '2022-18']))\n",
      "('CB1599', ('CB1599', ['2147909', '2022-05-02', '1', 'CB1599', '0.0', '-1.0', '122', '2', '2022', '18', '2022-122', '18', '2022-18']))\n",
      "('CB1699', ('CB1699', ['2147910', '2022-05-02', '1', 'CB1699', '0.0', '-1.0', '122', '2', '2022', '18', '2022-122', '18', '2022-18']))\n",
      "('CB2105', ('CB2105', ['2147911', '2022-05-02', '1', 'CB2105', '6.0', '20.0', '122', '2', '2022', '18', '2022-122', '18', '2022-18']))\n",
      "('CEE016', ('CEE016', ['2147912', '2022-05-02', '1', 'CEE016', '0.0', '-1.0', '122', '2', '2022', '18', '2022-122', '18', '2022-18']))\n",
      "('CEK049', ('CEK049', ['2147913', '2022-05-02', '1', 'CEK049', '1.0', '23.0', '122', '2', '2022', '18', '2022-122', '18', '2022-18']))\n",
      "...\n",
      "\n"
     ]
    },
    {
     "name": "stderr",
     "output_type": "stream",
     "text": [
      "                                                                                \r"
     ]
    },
    {
     "name": "stdout",
     "output_type": "stream",
     "text": [
      "-------------------------------------------\n",
      "Time: 2023-05-14 13:59:04\n",
      "-------------------------------------------\n",
      "('CAT17', ('CAT17', ['2160000', '2022-05-09', '1', 'CAT17', '1.0', '22.0', '129', '2', '2022', '19', '2022-129', '19', '2022-19']))\n",
      "('CB02411', ('CB02411', ['2160001', '2022-05-09', '1', 'CB02411', '1.0', '22.0', '129', '2', '2022', '19', '2022-129', '19', '2022-19']))\n",
      "('CB1101', ('CB1101', ['2160002', '2022-05-09', '1', 'CB1101', '0.0', '-1.0', '129', '2', '2022', '19', '2022-129', '19', '2022-19']))\n",
      "('CB1142', ('CB1142', ['2160003', '2022-05-09', '1', 'CB1142', '1.0', '22.0', '129', '2', '2022', '19', '2022-129', '19', '2022-19']))\n",
      "('CB1143', ('CB1143', ['2160004', '2022-05-09', '1', 'CB1143', '1.0', '25.0', '129', '2', '2022', '19', '2022-129', '19', '2022-19']))\n",
      "('CB1599', ('CB1599', ['2160005', '2022-05-09', '1', 'CB1599', '0.0', '-1.0', '129', '2', '2022', '19', '2022-129', '19', '2022-19']))\n",
      "('CB1699', ('CB1699', ['2160006', '2022-05-09', '1', 'CB1699', '0.0', '-1.0', '129', '2', '2022', '19', '2022-129', '19', '2022-19']))\n",
      "('CB2105', ('CB2105', ['2160007', '2022-05-09', '1', 'CB2105', '5.0', '23.0', '129', '2', '2022', '19', '2022-129', '19', '2022-19']))\n",
      "('CEE016', ('CEE016', ['2160008', '2022-05-09', '1', 'CEE016', '1.0', '23.0', '129', '2', '2022', '19', '2022-129', '19', '2022-19']))\n",
      "('CEK049', ('CEK049', ['2160009', '2022-05-09', '1', 'CEK049', '3.0', '21.0', '129', '2', '2022', '19', '2022-129', '19', '2022-19']))\n",
      "...\n",
      "\n"
     ]
    },
    {
     "name": "stderr",
     "output_type": "stream",
     "text": [
      "                                                                                \r"
     ]
    },
    {
     "name": "stdout",
     "output_type": "stream",
     "text": [
      "-------------------------------------------\n",
      "Time: 2023-05-14 13:59:06\n",
      "-------------------------------------------\n",
      "('CAT17', ('CAT17', ['2172096', '2022-05-16', '1', 'CAT17', '1.0', '18.0', '136', '2', '2022', '20', '2022-136', '20', '2022-20']))\n",
      "('CB02411', ('CB02411', ['2172097', '2022-05-16', '1', 'CB02411', '4.0', '21.0', '136', '2', '2022', '20', '2022-136', '20', '2022-20']))\n",
      "('CB1101', ('CB1101', ['2172098', '2022-05-16', '1', 'CB1101', '0.0', '-1.0', '136', '2', '2022', '20', '2022-136', '20', '2022-20']))\n",
      "('CB1142', ('CB1142', ['2172099', '2022-05-16', '1', 'CB1142', '0.0', '-1.0', '136', '2', '2022', '20', '2022-136', '20', '2022-20']))\n",
      "('CB1143', ('CB1143', ['2172100', '2022-05-16', '1', 'CB1143', '5.0', '14.0', '136', '2', '2022', '20', '2022-136', '20', '2022-20']))\n",
      "('CB1599', ('CB1599', ['2172101', '2022-05-16', '1', 'CB1599', '1.0', '12.0', '136', '2', '2022', '20', '2022-136', '20', '2022-20']))\n",
      "('CB1699', ('CB1699', ['2172102', '2022-05-16', '1', 'CB1699', '0.0', '-1.0', '136', '2', '2022', '20', '2022-136', '20', '2022-20']))\n",
      "('CB2105', ('CB2105', ['2172103', '2022-05-16', '1', 'CB2105', '1.0', '24.0', '136', '2', '2022', '20', '2022-136', '20', '2022-20']))\n",
      "('CEE016', ('CEE016', ['2172104', '2022-05-16', '1', 'CEE016', '2.0', '21.0', '136', '2', '2022', '20', '2022-136', '20', '2022-20']))\n",
      "('CEK049', ('CEK049', ['2172105', '2022-05-16', '1', 'CEK049', '1.0', '24.0', '136', '2', '2022', '20', '2022-136', '20', '2022-20']))\n",
      "...\n",
      "\n"
     ]
    },
    {
     "name": "stderr",
     "output_type": "stream",
     "text": [
      "                                                                                \r"
     ]
    },
    {
     "name": "stdout",
     "output_type": "stream",
     "text": [
      "-------------------------------------------\n",
      "Time: 2023-05-14 13:59:08\n",
      "-------------------------------------------\n",
      "('CAT17', ('CAT17', ['2182086', '2022-05-21', '76', 'CAT17', '22.0', '16.0', '141', '7', '2022', '20', '2022-141', '20', '2022-20']))\n",
      "('CB02411', ('CB02411', ['2182087', '2022-05-21', '76', 'CB02411', '11.0', '18.0', '141', '7', '2022', '20', '2022-141', '20', '2022-20']))\n",
      "('CB1101', ('CB1101', ['2182088', '2022-05-21', '76', 'CB1101', '0.0', '-1.0', '141', '7', '2022', '20', '2022-141', '20', '2022-20']))\n",
      "('CB1142', ('CB1142', ['2182089', '2022-05-21', '76', 'CB1142', '25.0', '20.0', '141', '7', '2022', '20', '2022-141', '20', '2022-20']))\n",
      "('CB1143', ('CB1143', ['2182090', '2022-05-21', '76', 'CB1143', '23.0', '20.0', '141', '7', '2022', '20', '2022-141', '20', '2022-20']))\n",
      "('CB1599', ('CB1599', ['2182091', '2022-05-21', '76', 'CB1599', '13.0', '20.0', '141', '7', '2022', '20', '2022-141', '20', '2022-20']))\n",
      "('CB1699', ('CB1699', ['2182092', '2022-05-21', '76', 'CB1699', '7.0', '15.0', '141', '7', '2022', '20', '2022-141', '20', '2022-20']))\n",
      "('CB2105', ('CB2105', ['2182093', '2022-05-21', '76', 'CB2105', '29.0', '21.0', '141', '7', '2022', '20', '2022-141', '20', '2022-20']))\n",
      "('CEE016', ('CEE016', ['2182094', '2022-05-21', '76', 'CEE016', '16.0', '20.0', '141', '7', '2022', '20', '2022-141', '20', '2022-20']))\n",
      "('CEK049', ('CEK049', ['2182095', '2022-05-21', '76', 'CEK049', '20.0', '20.0', '141', '7', '2022', '20', '2022-141', '20', '2022-20']))\n",
      "...\n",
      "\n"
     ]
    },
    {
     "name": "stderr",
     "output_type": "stream",
     "text": [
      "                                                                                \r"
     ]
    },
    {
     "name": "stdout",
     "output_type": "stream",
     "text": [
      "-------------------------------------------\n",
      "Time: 2023-05-14 13:59:10\n",
      "-------------------------------------------\n",
      "('CAT17', ('CAT17', ['2184192', '2022-05-23', '1', 'CAT17', '0.0', '-1.0', '143', '2', '2022', '21', '2022-143', '21', '2022-21']))\n",
      "('CB02411', ('CB02411', ['2184193', '2022-05-23', '1', 'CB02411', '2.0', '23.0', '143', '2', '2022', '21', '2022-143', '21', '2022-21']))\n",
      "('CB1101', ('CB1101', ['2184194', '2022-05-23', '1', 'CB1101', '0.0', '-1.0', '143', '2', '2022', '21', '2022-143', '21', '2022-21']))\n",
      "('CB1142', ('CB1142', ['2184195', '2022-05-23', '1', 'CB1142', '1.0', '29.0', '143', '2', '2022', '21', '2022-143', '21', '2022-21']))\n",
      "('CB1143', ('CB1143', ['2184196', '2022-05-23', '1', 'CB1143', '3.0', '23.0', '143', '2', '2022', '21', '2022-143', '21', '2022-21']))\n",
      "('CB1599', ('CB1599', ['2184197', '2022-05-23', '1', 'CB1599', '0.0', '-1.0', '143', '2', '2022', '21', '2022-143', '21', '2022-21']))\n",
      "('CB1699', ('CB1699', ['2184198', '2022-05-23', '1', 'CB1699', '1.0', '22.0', '143', '2', '2022', '21', '2022-143', '21', '2022-21']))\n",
      "('CB2105', ('CB2105', ['2184199', '2022-05-23', '1', 'CB2105', '2.0', '23.0', '143', '2', '2022', '21', '2022-143', '21', '2022-21']))\n",
      "('CEE016', ('CEE016', ['2184200', '2022-05-23', '1', 'CEE016', '1.0', '18.0', '143', '2', '2022', '21', '2022-143', '21', '2022-21']))\n",
      "('CEK049', ('CEK049', ['2184201', '2022-05-23', '1', 'CEK049', '1.0', '23.0', '143', '2', '2022', '21', '2022-143', '21', '2022-21']))\n",
      "...\n",
      "\n"
     ]
    },
    {
     "name": "stderr",
     "output_type": "stream",
     "text": [
      "                                                                                \r"
     ]
    },
    {
     "name": "stdout",
     "output_type": "stream",
     "text": [
      "-------------------------------------------\n",
      "Time: 2023-05-14 13:59:12\n",
      "-------------------------------------------\n",
      "('CAT17', ('CAT17', ['2196288', '2022-05-30', '1', 'CAT17', '0.0', '-1.0', '150', '2', '2022', '22', '2022-150', '22', '2022-22']))\n",
      "('CB02411', ('CB02411', ['2196289', '2022-05-30', '1', 'CB02411', '3.0', '20.0', '150', '2', '2022', '22', '2022-150', '22', '2022-22']))\n",
      "('CB1101', ('CB1101', ['2196290', '2022-05-30', '1', 'CB1101', '0.0', '-1.0', '150', '2', '2022', '22', '2022-150', '22', '2022-22']))\n",
      "('CB1142', ('CB1142', ['2196291', '2022-05-30', '1', 'CB1142', '3.0', '20.0', '150', '2', '2022', '22', '2022-150', '22', '2022-22']))\n",
      "('CB1143', ('CB1143', ['2196292', '2022-05-30', '1', 'CB1143', '1.0', '25.0', '150', '2', '2022', '22', '2022-150', '22', '2022-22']))\n",
      "('CB1599', ('CB1599', ['2196293', '2022-05-30', '1', 'CB1599', '1.0', '20.0', '150', '2', '2022', '22', '2022-150', '22', '2022-22']))\n",
      "('CB1699', ('CB1699', ['2196294', '2022-05-30', '1', 'CB1699', '0.0', '-1.0', '150', '2', '2022', '22', '2022-150', '22', '2022-22']))\n",
      "('CB2105', ('CB2105', ['2196295', '2022-05-30', '1', 'CB2105', '2.0', '21.0', '150', '2', '2022', '22', '2022-150', '22', '2022-22']))\n",
      "('CEE016', ('CEE016', ['2196296', '2022-05-30', '1', 'CEE016', '1.0', '16.0', '150', '2', '2022', '22', '2022-150', '22', '2022-22']))\n",
      "('CEK049', ('CEK049', ['2196297', '2022-05-30', '1', 'CEK049', '0.0', '-1.0', '150', '2', '2022', '22', '2022-150', '22', '2022-22']))\n",
      "...\n",
      "\n"
     ]
    },
    {
     "name": "stderr",
     "output_type": "stream",
     "text": [
      "                                                                                \r"
     ]
    },
    {
     "name": "stdout",
     "output_type": "stream",
     "text": [
      "-------------------------------------------\n",
      "Time: 2023-05-14 13:59:14\n",
      "-------------------------------------------\n",
      "\n"
     ]
    },
    {
     "name": "stderr",
     "output_type": "stream",
     "text": [
      "                                                                                \r"
     ]
    },
    {
     "name": "stdout",
     "output_type": "stream",
     "text": [
      "-------------------------------------------\n",
      "Time: 2023-05-14 13:59:16\n",
      "-------------------------------------------\n",
      "('CAT17', ('CAT17', ['2208384', '2022-06-06', '1', 'CAT17', '0.0', '-1.0', '157', '2', '2022', '23', '2022-157', '23', '2022-23']))\n",
      "('CB02411', ('CB02411', ['2208385', '2022-06-06', '1', 'CB02411', '4.0', '20.0', '157', '2', '2022', '23', '2022-157', '23', '2022-23']))\n",
      "('CB1101', ('CB1101', ['2208386', '2022-06-06', '1', 'CB1101', '0.0', '-1.0', '157', '2', '2022', '23', '2022-157', '23', '2022-23']))\n",
      "('CB1142', ('CB1142', ['2208387', '2022-06-06', '1', 'CB1142', '2.0', '17.0', '157', '2', '2022', '23', '2022-157', '23', '2022-23']))\n",
      "('CB1143', ('CB1143', ['2208388', '2022-06-06', '1', 'CB1143', '2.0', '21.0', '157', '2', '2022', '23', '2022-157', '23', '2022-23']))\n",
      "('CB1599', ('CB1599', ['2208389', '2022-06-06', '1', 'CB1599', '1.0', '25.0', '157', '2', '2022', '23', '2022-157', '23', '2022-23']))\n",
      "('CB1699', ('CB1699', ['2208390', '2022-06-06', '1', 'CB1699', '1.0', '20.0', '157', '2', '2022', '23', '2022-157', '23', '2022-23']))\n",
      "('CB2105', ('CB2105', ['2208391', '2022-06-06', '1', 'CB2105', '10.0', '19.0', '157', '2', '2022', '23', '2022-157', '23', '2022-23']))\n",
      "('CEE016', ('CEE016', ['2208392', '2022-06-06', '1', 'CEE016', '4.0', '21.0', '157', '2', '2022', '23', '2022-157', '23', '2022-23']))\n",
      "('CEK049', ('CEK049', ['2208393', '2022-06-06', '1', 'CEK049', '4.0', '23.0', '157', '2', '2022', '23', '2022-157', '23', '2022-23']))\n",
      "...\n",
      "\n"
     ]
    },
    {
     "name": "stderr",
     "output_type": "stream",
     "text": [
      "                                                                                \r"
     ]
    },
    {
     "name": "stdout",
     "output_type": "stream",
     "text": [
      "-------------------------------------------\n",
      "Time: 2023-05-14 13:59:18\n",
      "-------------------------------------------\n",
      "('CAT17', ('CAT17', ['2220480', '2022-06-13', '1', 'CAT17', '2.0', '18.0', '164', '2', '2022', '24', '2022-164', '24', '2022-24']))\n",
      "('CB02411', ('CB02411', ['2220481', '2022-06-13', '1', 'CB02411', '2.0', '26.0', '164', '2', '2022', '24', '2022-164', '24', '2022-24']))\n",
      "('CB1101', ('CB1101', ['2220482', '2022-06-13', '1', 'CB1101', '0.0', '-1.0', '164', '2', '2022', '24', '2022-164', '24', '2022-24']))\n",
      "('CB1142', ('CB1142', ['2220483', '2022-06-13', '1', 'CB1142', '0.0', '-1.0', '164', '2', '2022', '24', '2022-164', '24', '2022-24']))\n",
      "('CB1143', ('CB1143', ['2220484', '2022-06-13', '1', 'CB1143', '1.0', '21.0', '164', '2', '2022', '24', '2022-164', '24', '2022-24']))\n",
      "('CB1599', ('CB1599', ['2220485', '2022-06-13', '1', 'CB1599', '0.0', '-1.0', '164', '2', '2022', '24', '2022-164', '24', '2022-24']))\n",
      "('CB1699', ('CB1699', ['2220486', '2022-06-13', '1', 'CB1699', '1.0', '21.0', '164', '2', '2022', '24', '2022-164', '24', '2022-24']))\n",
      "('CB2105', ('CB2105', ['2220487', '2022-06-13', '1', 'CB2105', '6.0', '23.0', '164', '2', '2022', '24', '2022-164', '24', '2022-24']))\n",
      "('CEE016', ('CEE016', ['2220488', '2022-06-13', '1', 'CEE016', '0.0', '-1.0', '164', '2', '2022', '24', '2022-164', '24', '2022-24']))\n",
      "('CEK049', ('CEK049', ['2220489', '2022-06-13', '1', 'CEK049', '0.0', '-1.0', '164', '2', '2022', '24', '2022-164', '24', '2022-24']))\n",
      "...\n",
      "\n"
     ]
    },
    {
     "name": "stderr",
     "output_type": "stream",
     "text": [
      "                                                                                \r"
     ]
    },
    {
     "name": "stdout",
     "output_type": "stream",
     "text": [
      "-------------------------------------------\n",
      "Time: 2023-05-14 13:59:20\n",
      "-------------------------------------------\n",
      "('CAT17', ('CAT17', ['2232576', '2022-06-20', '1', 'CAT17', '1.0', '18.0', '171', '2', '2022', '25', '2022-171', '25', '2022-25']))\n",
      "('CB02411', ('CB02411', ['2232577', '2022-06-20', '1', 'CB02411', '1.0', '22.0', '171', '2', '2022', '25', '2022-171', '25', '2022-25']))\n",
      "('CB1101', ('CB1101', ['2232578', '2022-06-20', '1', 'CB1101', '0.0', '-1.0', '171', '2', '2022', '25', '2022-171', '25', '2022-25']))\n",
      "('CB1142', ('CB1142', ['2232579', '2022-06-20', '1', 'CB1142', '2.0', '26.0', '171', '2', '2022', '25', '2022-171', '25', '2022-25']))\n",
      "('CB1143', ('CB1143', ['2232580', '2022-06-20', '1', 'CB1143', '1.0', '14.0', '171', '2', '2022', '25', '2022-171', '25', '2022-25']))\n",
      "('CB1599', ('CB1599', ['2232581', '2022-06-20', '1', 'CB1599', '1.0', '19.0', '171', '2', '2022', '25', '2022-171', '25', '2022-25']))\n",
      "('CB1699', ('CB1699', ['2232582', '2022-06-20', '1', 'CB1699', '1.0', '21.0', '171', '2', '2022', '25', '2022-171', '25', '2022-25']))\n",
      "('CB2105', ('CB2105', ['2232583', '2022-06-20', '1', 'CB2105', '7.0', '22.0', '171', '2', '2022', '25', '2022-171', '25', '2022-25']))\n",
      "('CEE016', ('CEE016', ['2232584', '2022-06-20', '1', 'CEE016', '0.0', '-1.0', '171', '2', '2022', '25', '2022-171', '25', '2022-25']))\n",
      "('CEK049', ('CEK049', ['2232585', '2022-06-20', '1', 'CEK049', '1.0', '14.0', '171', '2', '2022', '25', '2022-171', '25', '2022-25']))\n",
      "...\n",
      "\n"
     ]
    },
    {
     "name": "stderr",
     "output_type": "stream",
     "text": [
      "                                                                                \r"
     ]
    },
    {
     "name": "stdout",
     "output_type": "stream",
     "text": [
      "-------------------------------------------\n",
      "Time: 2023-05-14 13:59:22\n",
      "-------------------------------------------\n",
      "('CB1699', ('CB1699', ['2236776', '2022-06-22', '42', 'CB1699', '15.0', '18.0', '173', '4', '2022', '25', '2022-173', '25', '2022-25']))\n",
      "('CB2105', ('CB2105', ['2236777', '2022-06-22', '42', 'CB2105', '38.0', '21.0', '173', '4', '2022', '25', '2022-173', '25', '2022-25']))\n",
      "('CEE016', ('CEE016', ['2236778', '2022-06-22', '42', 'CEE016', '36.0', '21.0', '173', '4', '2022', '25', '2022-173', '25', '2022-25']))\n",
      "('CEK049', ('CEK049', ['2236779', '2022-06-22', '42', 'CEK049', '43.0', '20.0', '173', '4', '2022', '25', '2022-173', '25', '2022-25']))\n",
      "('CEK18', ('CEK18', ['2236780', '2022-06-22', '42', 'CEK18', '34.0', '14.0', '173', '4', '2022', '25', '2022-173', '25', '2022-25']))\n",
      "('CEK31', ('CEK31', ['2236781', '2022-06-22', '42', 'CEK31', '54.0', '19.0', '173', '4', '2022', '25', '2022-173', '25', '2022-25']))\n",
      "('CEV011', ('CEV011', ['2236782', '2022-06-22', '42', 'CEV011', '14.0', '18.0', '173', '4', '2022', '25', '2022-173', '25', '2022-25']))\n",
      "('CJE181', ('CJE181', ['2236783', '2022-06-22', '42', 'CJE181', '8.0', '26.0', '173', '4', '2022', '25', '2022-173', '25', '2022-25']))\n",
      "('CJM90', ('CJM90', ['2236784', '2022-06-22', '42', 'CJM90', '94.0', '19.0', '173', '4', '2022', '25', '2022-173', '25', '2022-25']))\n",
      "('CLW239', ('CLW239', ['2236785', '2022-06-22', '42', 'CLW239', '21.0', '19.0', '173', '4', '2022', '25', '2022-173', '25', '2022-25']))\n",
      "...\n",
      "\n"
     ]
    },
    {
     "name": "stderr",
     "output_type": "stream",
     "text": [
      "                                                                                \r"
     ]
    },
    {
     "name": "stdout",
     "output_type": "stream",
     "text": [
      "-------------------------------------------\n",
      "Time: 2023-05-14 13:59:24\n",
      "-------------------------------------------\n",
      "('CAT17', ('CAT17', ['2244672', '2022-06-27', '1', 'CAT17', '1.0', '26.0', '178', '2', '2022', '26', '2022-178', '26', '2022-26']))\n",
      "('CB02411', ('CB02411', ['2244673', '2022-06-27', '1', 'CB02411', '18.0', '18.0', '178', '2', '2022', '26', '2022-178', '26', '2022-26']))\n",
      "('CB1101', ('CB1101', ['2244674', '2022-06-27', '1', 'CB1101', '0.0', '-1.0', '178', '2', '2022', '26', '2022-178', '26', '2022-26']))\n",
      "('CB1142', ('CB1142', ['2244675', '2022-06-27', '1', 'CB1142', '4.0', '25.0', '178', '2', '2022', '26', '2022-178', '26', '2022-26']))\n",
      "('CB1143', ('CB1143', ['2244676', '2022-06-27', '1', 'CB1143', '6.0', '25.0', '178', '2', '2022', '26', '2022-178', '26', '2022-26']))\n",
      "('CB1599', ('CB1599', ['2244677', '2022-06-27', '1', 'CB1599', '1.0', '17.0', '178', '2', '2022', '26', '2022-178', '26', '2022-26']))\n",
      "('CB1699', ('CB1699', ['2244678', '2022-06-27', '1', 'CB1699', '1.0', '21.0', '178', '2', '2022', '26', '2022-178', '26', '2022-26']))\n",
      "('CB2105', ('CB2105', ['2244679', '2022-06-27', '1', 'CB2105', '6.0', '22.0', '178', '2', '2022', '26', '2022-178', '26', '2022-26']))\n",
      "('CEE016', ('CEE016', ['2244680', '2022-06-27', '1', 'CEE016', '1.0', '22.0', '178', '2', '2022', '26', '2022-178', '26', '2022-26']))\n",
      "('CEK049', ('CEK049', ['2244681', '2022-06-27', '1', 'CEK049', '2.0', '16.0', '178', '2', '2022', '26', '2022-178', '26', '2022-26']))\n",
      "...\n",
      "\n"
     ]
    },
    {
     "name": "stderr",
     "output_type": "stream",
     "text": [
      "                                                                                \r"
     ]
    },
    {
     "name": "stdout",
     "output_type": "stream",
     "text": [
      "-------------------------------------------\n",
      "Time: 2023-05-14 13:59:26\n",
      "-------------------------------------------\n",
      "('CAT17', ('CAT17', ['2256768', '2022-07-04', '1', 'CAT17', '0.0', '-1.0', '185', '2', '2022', '27', '2022-185', '27', '2022-27']))\n",
      "('CB02411', ('CB02411', ['2256769', '2022-07-04', '1', 'CB02411', '2.0', '16.0', '185', '2', '2022', '27', '2022-185', '27', '2022-27']))\n",
      "('CB1101', ('CB1101', ['2256770', '2022-07-04', '1', 'CB1101', '0.0', '-1.0', '185', '2', '2022', '27', '2022-185', '27', '2022-27']))\n",
      "('CB1142', ('CB1142', ['2256771', '2022-07-04', '1', 'CB1142', '3.0', '12.0', '185', '2', '2022', '27', '2022-185', '27', '2022-27']))\n",
      "('CB1143', ('CB1143', ['2256772', '2022-07-04', '1', 'CB1143', '2.0', '18.0', '185', '2', '2022', '27', '2022-185', '27', '2022-27']))\n",
      "('CB1599', ('CB1599', ['2256773', '2022-07-04', '1', 'CB1599', '1.0', '18.0', '185', '2', '2022', '27', '2022-185', '27', '2022-27']))\n",
      "('CB1699', ('CB1699', ['2256774', '2022-07-04', '1', 'CB1699', '2.0', '18.0', '185', '2', '2022', '27', '2022-185', '27', '2022-27']))\n",
      "('CB2105', ('CB2105', ['2256775', '2022-07-04', '1', 'CB2105', '5.0', '17.0', '185', '2', '2022', '27', '2022-185', '27', '2022-27']))\n",
      "('CEE016', ('CEE016', ['2256776', '2022-07-04', '1', 'CEE016', '0.0', '-1.0', '185', '2', '2022', '27', '2022-185', '27', '2022-27']))\n",
      "('CEK049', ('CEK049', ['2256777', '2022-07-04', '1', 'CEK049', '2.0', '21.0', '185', '2', '2022', '27', '2022-185', '27', '2022-27']))\n",
      "...\n",
      "\n"
     ]
    },
    {
     "name": "stderr",
     "output_type": "stream",
     "text": [
      "                                                                                \r"
     ]
    },
    {
     "name": "stdout",
     "output_type": "stream",
     "text": [
      "-------------------------------------------\n",
      "Time: 2023-05-14 13:59:28\n",
      "-------------------------------------------\n",
      "\n"
     ]
    },
    {
     "name": "stderr",
     "output_type": "stream",
     "text": [
      "                                                                                \r"
     ]
    },
    {
     "name": "stdout",
     "output_type": "stream",
     "text": [
      "-------------------------------------------\n",
      "Time: 2023-05-14 13:59:30\n",
      "-------------------------------------------\n",
      "('CAT17', ('CAT17', ['2268864', '2022-07-11', '1', 'CAT17', '0.0', '-1.0', '192', '2', '2022', '28', '2022-192', '28', '2022-28']))\n",
      "('CB02411', ('CB02411', ['2268865', '2022-07-11', '1', 'CB02411', '1.0', '25.0', '192', '2', '2022', '28', '2022-192', '28', '2022-28']))\n",
      "('CB1101', ('CB1101', ['2268866', '2022-07-11', '1', 'CB1101', '0.0', '-1.0', '192', '2', '2022', '28', '2022-192', '28', '2022-28']))\n",
      "('CB1142', ('CB1142', ['2268867', '2022-07-11', '1', 'CB1142', '1.0', '13.0', '192', '2', '2022', '28', '2022-192', '28', '2022-28']))\n",
      "('CB1143', ('CB1143', ['2268868', '2022-07-11', '1', 'CB1143', '3.0', '18.0', '192', '2', '2022', '28', '2022-192', '28', '2022-28']))\n",
      "('CB1599', ('CB1599', ['2268869', '2022-07-11', '1', 'CB1599', '1.0', '19.0', '192', '2', '2022', '28', '2022-192', '28', '2022-28']))\n",
      "('CB1699', ('CB1699', ['2268870', '2022-07-11', '1', 'CB1699', '2.0', '17.0', '192', '2', '2022', '28', '2022-192', '28', '2022-28']))\n",
      "('CB2105', ('CB2105', ['2268871', '2022-07-11', '1', 'CB2105', '3.0', '17.0', '192', '2', '2022', '28', '2022-192', '28', '2022-28']))\n",
      "('CEE016', ('CEE016', ['2268872', '2022-07-11', '1', 'CEE016', '1.0', '19.0', '192', '2', '2022', '28', '2022-192', '28', '2022-28']))\n",
      "('CEK049', ('CEK049', ['2268873', '2022-07-11', '1', 'CEK049', '4.0', '17.0', '192', '2', '2022', '28', '2022-192', '28', '2022-28']))\n",
      "...\n",
      "\n"
     ]
    },
    {
     "name": "stderr",
     "output_type": "stream",
     "text": [
      "                                                                                \r"
     ]
    },
    {
     "name": "stdout",
     "output_type": "stream",
     "text": [
      "-------------------------------------------\n",
      "Time: 2023-05-14 13:59:32\n",
      "-------------------------------------------\n",
      "('CAT17', ('CAT17', ['2280960', '2022-07-18', '1', 'CAT17', '0.0', '-1.0', '199', '2', '2022', '29', '2022-199', '29', '2022-29']))\n",
      "('CB02411', ('CB02411', ['2280961', '2022-07-18', '1', 'CB02411', '2.0', '22.0', '199', '2', '2022', '29', '2022-199', '29', '2022-29']))\n",
      "('CB1101', ('CB1101', ['2280962', '2022-07-18', '1', 'CB1101', '0.0', '-1.0', '199', '2', '2022', '29', '2022-199', '29', '2022-29']))\n",
      "('CB1142', ('CB1142', ['2280963', '2022-07-18', '1', 'CB1142', '1.0', '15.0', '199', '2', '2022', '29', '2022-199', '29', '2022-29']))\n",
      "('CB1143', ('CB1143', ['2280964', '2022-07-18', '1', 'CB1143', '6.0', '17.0', '199', '2', '2022', '29', '2022-199', '29', '2022-29']))\n",
      "('CB1599', ('CB1599', ['2280965', '2022-07-18', '1', 'CB1599', '1.0', '26.0', '199', '2', '2022', '29', '2022-199', '29', '2022-29']))\n",
      "('CB1699', ('CB1699', ['2280966', '2022-07-18', '1', 'CB1699', '2.0', '16.0', '199', '2', '2022', '29', '2022-199', '29', '2022-29']))\n",
      "('CB2105', ('CB2105', ['2280967', '2022-07-18', '1', 'CB2105', '2.0', '16.0', '199', '2', '2022', '29', '2022-199', '29', '2022-29']))\n",
      "('CEE016', ('CEE016', ['2280968', '2022-07-18', '1', 'CEE016', '0.0', '-1.0', '199', '2', '2022', '29', '2022-199', '29', '2022-29']))\n",
      "('CEK049', ('CEK049', ['2280969', '2022-07-18', '1', 'CEK049', '8.0', '18.0', '199', '2', '2022', '29', '2022-199', '29', '2022-29']))\n",
      "...\n",
      "\n"
     ]
    },
    {
     "name": "stderr",
     "output_type": "stream",
     "text": [
      "                                                                                \r"
     ]
    },
    {
     "name": "stdout",
     "output_type": "stream",
     "text": [
      "-------------------------------------------\n",
      "Time: 2023-05-14 13:59:34\n",
      "-------------------------------------------\n",
      "('CAT17', ('CAT17', ['2293056', '2022-07-25', '1', 'CAT17', '0.0', '-1.0', '206', '2', '2022', '30', '2022-206', '30', '2022-30']))\n",
      "('CB02411', ('CB02411', ['2293057', '2022-07-25', '1', 'CB02411', '1.0', '31.0', '206', '2', '2022', '30', '2022-206', '30', '2022-30']))\n",
      "('CB1101', ('CB1101', ['2293058', '2022-07-25', '1', 'CB1101', '0.0', '-1.0', '206', '2', '2022', '30', '2022-206', '30', '2022-30']))\n",
      "('CB1142', ('CB1142', ['2293059', '2022-07-25', '1', 'CB1142', '7.0', '18.0', '206', '2', '2022', '30', '2022-206', '30', '2022-30']))\n",
      "('CB1143', ('CB1143', ['2293060', '2022-07-25', '1', 'CB1143', '6.0', '20.0', '206', '2', '2022', '30', '2022-206', '30', '2022-30']))\n",
      "('CB1599', ('CB1599', ['2293061', '2022-07-25', '1', 'CB1599', '0.0', '-1.0', '206', '2', '2022', '30', '2022-206', '30', '2022-30']))\n",
      "('CB1699', ('CB1699', ['2293062', '2022-07-25', '1', 'CB1699', '1.0', '13.0', '206', '2', '2022', '30', '2022-206', '30', '2022-30']))\n",
      "('CB2105', ('CB2105', ['2293063', '2022-07-25', '1', 'CB2105', '9.0', '18.0', '206', '2', '2022', '30', '2022-206', '30', '2022-30']))\n",
      "('CEE016', ('CEE016', ['2293064', '2022-07-25', '1', 'CEE016', '1.0', '19.0', '206', '2', '2022', '30', '2022-206', '30', '2022-30']))\n",
      "('CEK049', ('CEK049', ['2293065', '2022-07-25', '1', 'CEK049', '4.0', '19.0', '206', '2', '2022', '30', '2022-206', '30', '2022-30']))\n",
      "...\n",
      "\n"
     ]
    },
    {
     "name": "stderr",
     "output_type": "stream",
     "text": [
      "                                                                                \r"
     ]
    },
    {
     "name": "stdout",
     "output_type": "stream",
     "text": [
      "-------------------------------------------\n",
      "Time: 2023-05-14 13:59:36\n",
      "-------------------------------------------\n",
      "('CAT17', ('CAT17', ['2296008', '2022-07-26', '69', 'CAT17', '23.0', '17.0', '207', '3', '2022', '30', '2022-207', '30', '2022-30']))\n",
      "('CB02411', ('CB02411', ['2296009', '2022-07-26', '69', 'CB02411', '51.0', '22.0', '207', '3', '2022', '30', '2022-207', '30', '2022-30']))\n",
      "('CB1101', ('CB1101', ['2296010', '2022-07-26', '69', 'CB1101', '0.0', '-1.0', '207', '3', '2022', '30', '2022-207', '30', '2022-30']))\n",
      "('CB1142', ('CB1142', ['2296011', '2022-07-26', '69', 'CB1142', '42.0', '19.0', '207', '3', '2022', '30', '2022-207', '30', '2022-30']))\n",
      "('CB1143', ('CB1143', ['2296012', '2022-07-26', '69', 'CB1143', '62.0', '21.0', '207', '3', '2022', '30', '2022-207', '30', '2022-30']))\n",
      "('CB1599', ('CB1599', ['2296013', '2022-07-26', '69', 'CB1599', '0.0', '-1.0', '207', '3', '2022', '30', '2022-207', '30', '2022-30']))\n",
      "('CB1699', ('CB1699', ['2296014', '2022-07-26', '69', 'CB1699', '22.0', '17.0', '207', '3', '2022', '30', '2022-207', '30', '2022-30']))\n",
      "('CB2105', ('CB2105', ['2296015', '2022-07-26', '69', 'CB2105', '28.0', '21.0', '207', '3', '2022', '30', '2022-207', '30', '2022-30']))\n",
      "('CEE016', ('CEE016', ['2296016', '2022-07-26', '69', 'CEE016', '35.0', '20.0', '207', '3', '2022', '30', '2022-207', '30', '2022-30']))\n",
      "('CEK049', ('CEK049', ['2296017', '2022-07-26', '69', 'CEK049', '44.0', '20.0', '207', '3', '2022', '30', '2022-207', '30', '2022-30']))\n",
      "...\n",
      "\n"
     ]
    },
    {
     "name": "stderr",
     "output_type": "stream",
     "text": [
      "                                                                                \r"
     ]
    },
    {
     "name": "stdout",
     "output_type": "stream",
     "text": [
      "-------------------------------------------\n",
      "Time: 2023-05-14 13:59:38\n",
      "-------------------------------------------\n",
      "('CAT17', ('CAT17', ['2305152', '2022-08-01', '1', 'CAT17', '0.0', '-1.0', '213', '2', '2022', '31', '2022-213', '31', '2022-31']))\n",
      "('CB02411', ('CB02411', ['2305153', '2022-08-01', '1', 'CB02411', '1.0', '17.0', '213', '2', '2022', '31', '2022-213', '31', '2022-31']))\n",
      "('CB1101', ('CB1101', ['2305154', '2022-08-01', '1', 'CB1101', '0.0', '-1.0', '213', '2', '2022', '31', '2022-213', '31', '2022-31']))\n",
      "('CB1142', ('CB1142', ['2305155', '2022-08-01', '1', 'CB1142', '2.0', '16.0', '213', '2', '2022', '31', '2022-213', '31', '2022-31']))\n",
      "('CB1143', ('CB1143', ['2305156', '2022-08-01', '1', 'CB1143', '4.0', '24.0', '213', '2', '2022', '31', '2022-213', '31', '2022-31']))\n",
      "('CB1599', ('CB1599', ['2305157', '2022-08-01', '1', 'CB1599', '1.0', '24.0', '213', '2', '2022', '31', '2022-213', '31', '2022-31']))\n",
      "('CB1699', ('CB1699', ['2305158', '2022-08-01', '1', 'CB1699', '1.0', '18.0', '213', '2', '2022', '31', '2022-213', '31', '2022-31']))\n",
      "('CB2105', ('CB2105', ['2305159', '2022-08-01', '1', 'CB2105', '6.0', '16.0', '213', '2', '2022', '31', '2022-213', '31', '2022-31']))\n",
      "('CEE016', ('CEE016', ['2305160', '2022-08-01', '1', 'CEE016', '6.0', '16.0', '213', '2', '2022', '31', '2022-213', '31', '2022-31']))\n",
      "('CEK049', ('CEK049', ['2305161', '2022-08-01', '1', 'CEK049', '0.0', '-1.0', '213', '2', '2022', '31', '2022-213', '31', '2022-31']))\n",
      "...\n",
      "\n"
     ]
    },
    {
     "name": "stderr",
     "output_type": "stream",
     "text": [
      "                                                                                \r"
     ]
    },
    {
     "name": "stdout",
     "output_type": "stream",
     "text": [
      "-------------------------------------------\n",
      "Time: 2023-05-14 13:59:40\n",
      "-------------------------------------------\n",
      "('CAT17', ('CAT17', ['2317248', '2022-08-08', '1', 'CAT17', '2.0', '20.0', '220', '2', '2022', '32', '2022-220', '32', '2022-32']))\n",
      "('CB02411', ('CB02411', ['2317249', '2022-08-08', '1', 'CB02411', '3.0', '18.0', '220', '2', '2022', '32', '2022-220', '32', '2022-32']))\n",
      "('CB1101', ('CB1101', ['2317250', '2022-08-08', '1', 'CB1101', '0.0', '-1.0', '220', '2', '2022', '32', '2022-220', '32', '2022-32']))\n",
      "('CB1142', ('CB1142', ['2317251', '2022-08-08', '1', 'CB1142', '1.0', '17.0', '220', '2', '2022', '32', '2022-220', '32', '2022-32']))\n",
      "('CB1143', ('CB1143', ['2317252', '2022-08-08', '1', 'CB1143', '5.0', '18.0', '220', '2', '2022', '32', '2022-220', '32', '2022-32']))\n",
      "('CB1599', ('CB1599', ['2317253', '2022-08-08', '1', 'CB1599', '0.0', '-1.0', '220', '2', '2022', '32', '2022-220', '32', '2022-32']))\n",
      "('CB1699', ('CB1699', ['2317254', '2022-08-08', '1', 'CB1699', '0.0', '-1.0', '220', '2', '2022', '32', '2022-220', '32', '2022-32']))\n",
      "('CB2105', ('CB2105', ['2317255', '2022-08-08', '1', 'CB2105', '5.0', '20.0', '220', '2', '2022', '32', '2022-220', '32', '2022-32']))\n",
      "('CEE016', ('CEE016', ['2317256', '2022-08-08', '1', 'CEE016', '2.0', '20.0', '220', '2', '2022', '32', '2022-220', '32', '2022-32']))\n",
      "('CEK049', ('CEK049', ['2317257', '2022-08-08', '1', 'CEK049', '4.0', '20.0', '220', '2', '2022', '32', '2022-220', '32', '2022-32']))\n",
      "...\n",
      "\n"
     ]
    },
    {
     "name": "stderr",
     "output_type": "stream",
     "text": [
      "                                                                                \r"
     ]
    },
    {
     "name": "stdout",
     "output_type": "stream",
     "text": [
      "-------------------------------------------\n",
      "Time: 2023-05-14 13:59:42\n",
      "-------------------------------------------\n",
      "\n"
     ]
    },
    {
     "name": "stderr",
     "output_type": "stream",
     "text": [
      "                                                                                \r"
     ]
    },
    {
     "name": "stdout",
     "output_type": "stream",
     "text": [
      "-------------------------------------------\n",
      "Time: 2023-05-14 13:59:44\n",
      "-------------------------------------------\n",
      "('CAT17', ('CAT17', ['2329344', '2022-08-15', '1', 'CAT17', '0.0', '-1.0', '227', '2', '2022', '33', '2022-227', '33', '2022-33']))\n",
      "('CB02411', ('CB02411', ['2329345', '2022-08-15', '1', 'CB02411', '3.0', '18.0', '227', '2', '2022', '33', '2022-227', '33', '2022-33']))\n",
      "('CB1101', ('CB1101', ['2329346', '2022-08-15', '1', 'CB1101', '0.0', '-1.0', '227', '2', '2022', '33', '2022-227', '33', '2022-33']))\n",
      "('CB1142', ('CB1142', ['2329347', '2022-08-15', '1', 'CB1142', '4.0', '15.0', '227', '2', '2022', '33', '2022-227', '33', '2022-33']))\n",
      "('CB1143', ('CB1143', ['2329348', '2022-08-15', '1', 'CB1143', '14.0', '20.0', '227', '2', '2022', '33', '2022-227', '33', '2022-33']))\n",
      "('CB1599', ('CB1599', ['2329349', '2022-08-15', '1', 'CB1599', '1.0', '19.0', '227', '2', '2022', '33', '2022-227', '33', '2022-33']))\n",
      "('CB1699', ('CB1699', ['2329350', '2022-08-15', '1', 'CB1699', '2.0', '18.0', '227', '2', '2022', '33', '2022-227', '33', '2022-33']))\n",
      "('CB2105', ('CB2105', ['2329351', '2022-08-15', '1', 'CB2105', '6.0', '15.0', '227', '2', '2022', '33', '2022-227', '33', '2022-33']))\n",
      "('CEE016', ('CEE016', ['2329352', '2022-08-15', '1', 'CEE016', '1.0', '10.0', '227', '2', '2022', '33', '2022-227', '33', '2022-33']))\n",
      "('CEK049', ('CEK049', ['2329353', '2022-08-15', '1', 'CEK049', '8.0', '21.0', '227', '2', '2022', '33', '2022-227', '33', '2022-33']))\n",
      "...\n",
      "\n"
     ]
    },
    {
     "name": "stderr",
     "output_type": "stream",
     "text": [
      "                                                                                \r"
     ]
    },
    {
     "name": "stdout",
     "output_type": "stream",
     "text": [
      "-------------------------------------------\n",
      "Time: 2023-05-14 13:59:46\n",
      "-------------------------------------------\n",
      "('CAT17', ('CAT17', ['2341440', '2022-08-22', '1', 'CAT17', '4.0', '17.0', '234', '2', '2022', '34', '2022-234', '34', '2022-34']))\n",
      "('CB02411', ('CB02411', ['2341441', '2022-08-22', '1', 'CB02411', '1.0', '18.0', '234', '2', '2022', '34', '2022-234', '34', '2022-34']))\n",
      "('CB1101', ('CB1101', ['2341442', '2022-08-22', '1', 'CB1101', '0.0', '-1.0', '234', '2', '2022', '34', '2022-234', '34', '2022-34']))\n",
      "('CB1142', ('CB1142', ['2341443', '2022-08-22', '1', 'CB1142', '2.0', '17.0', '234', '2', '2022', '34', '2022-234', '34', '2022-34']))\n",
      "('CB1143', ('CB1143', ['2341444', '2022-08-22', '1', 'CB1143', '2.0', '20.0', '234', '2', '2022', '34', '2022-234', '34', '2022-34']))\n",
      "('CB1599', ('CB1599', ['2341445', '2022-08-22', '1', 'CB1599', '0.0', '-1.0', '234', '2', '2022', '34', '2022-234', '34', '2022-34']))\n",
      "('CB1699', ('CB1699', ['2341446', '2022-08-22', '1', 'CB1699', '1.0', '16.0', '234', '2', '2022', '34', '2022-234', '34', '2022-34']))\n",
      "('CB2105', ('CB2105', ['2341447', '2022-08-22', '1', 'CB2105', '8.0', '23.0', '234', '2', '2022', '34', '2022-234', '34', '2022-34']))\n",
      "('CEE016', ('CEE016', ['2341448', '2022-08-22', '1', 'CEE016', '1.0', '21.0', '234', '2', '2022', '34', '2022-234', '34', '2022-34']))\n",
      "('CEK049', ('CEK049', ['2341449', '2022-08-22', '1', 'CEK049', '3.0', '19.0', '234', '2', '2022', '34', '2022-234', '34', '2022-34']))\n",
      "...\n",
      "\n"
     ]
    },
    {
     "name": "stderr",
     "output_type": "stream",
     "text": [
      "                                                                                \r"
     ]
    },
    {
     "name": "stdout",
     "output_type": "stream",
     "text": [
      "-------------------------------------------\n",
      "Time: 2023-05-14 13:59:48\n",
      "-------------------------------------------\n",
      "\n"
     ]
    },
    {
     "name": "stderr",
     "output_type": "stream",
     "text": [
      "                                                                                \r"
     ]
    },
    {
     "name": "stdout",
     "output_type": "stream",
     "text": [
      "-------------------------------------------\n",
      "Time: 2023-05-14 13:59:50\n",
      "-------------------------------------------\n",
      "('CAT17', ('CAT17', ['2353536', '2022-08-29', '1', 'CAT17', '0.0', '-1.0', '241', '2', '2022', '35', '2022-241', '35', '2022-35']))\n",
      "('CB02411', ('CB02411', ['2353537', '2022-08-29', '1', 'CB02411', '1.0', '15.0', '241', '2', '2022', '35', '2022-241', '35', '2022-35']))\n",
      "('CB1101', ('CB1101', ['2353538', '2022-08-29', '1', 'CB1101', '0.0', '-1.0', '241', '2', '2022', '35', '2022-241', '35', '2022-35']))\n",
      "('CB1142', ('CB1142', ['2353539', '2022-08-29', '1', 'CB1142', '3.0', '17.0', '241', '2', '2022', '35', '2022-241', '35', '2022-35']))\n",
      "('CB1143', ('CB1143', ['2353540', '2022-08-29', '1', 'CB1143', '7.0', '18.0', '241', '2', '2022', '35', '2022-241', '35', '2022-35']))\n",
      "('CB1599', ('CB1599', ['2353541', '2022-08-29', '1', 'CB1599', '2.0', '20.0', '241', '2', '2022', '35', '2022-241', '35', '2022-35']))\n",
      "('CB1699', ('CB1699', ['2353542', '2022-08-29', '1', 'CB1699', '0.0', '-1.0', '241', '2', '2022', '35', '2022-241', '35', '2022-35']))\n",
      "('CB2105', ('CB2105', ['2353543', '2022-08-29', '1', 'CB2105', '7.0', '20.0', '241', '2', '2022', '35', '2022-241', '35', '2022-35']))\n",
      "('CEE016', ('CEE016', ['2353544', '2022-08-29', '1', 'CEE016', '3.0', '18.0', '241', '2', '2022', '35', '2022-241', '35', '2022-35']))\n",
      "('CEK049', ('CEK049', ['2353545', '2022-08-29', '1', 'CEK049', '3.0', '12.0', '241', '2', '2022', '35', '2022-241', '35', '2022-35']))\n",
      "...\n",
      "\n"
     ]
    },
    {
     "name": "stderr",
     "output_type": "stream",
     "text": [
      "                                                                                \r"
     ]
    },
    {
     "name": "stdout",
     "output_type": "stream",
     "text": [
      "-------------------------------------------\n",
      "Time: 2023-05-14 13:59:52\n",
      "-------------------------------------------\n",
      "('CAT17', ('CAT17', ['2365632', '2022-09-05', '1', 'CAT17', '1.0', '26.0', '248', '2', '2022', '36', '2022-248', '36', '2022-36']))\n",
      "('CB02411', ('CB02411', ['2365633', '2022-09-05', '1', 'CB02411', '7.0', '20.0', '248', '2', '2022', '36', '2022-248', '36', '2022-36']))\n",
      "('CB1101', ('CB1101', ['2365634', '2022-09-05', '1', 'CB1101', '0.0', '-1.0', '248', '2', '2022', '36', '2022-248', '36', '2022-36']))\n",
      "('CB1142', ('CB1142', ['2365635', '2022-09-05', '1', 'CB1142', '2.0', '28.0', '248', '2', '2022', '36', '2022-248', '36', '2022-36']))\n",
      "('CB1143', ('CB1143', ['2365636', '2022-09-05', '1', 'CB1143', '3.0', '14.0', '248', '2', '2022', '36', '2022-248', '36', '2022-36']))\n",
      "('CB1599', ('CB1599', ['2365637', '2022-09-05', '1', 'CB1599', '0.0', '-1.0', '248', '2', '2022', '36', '2022-248', '36', '2022-36']))\n",
      "('CB1699', ('CB1699', ['2365638', '2022-09-05', '1', 'CB1699', '1.0', '15.0', '248', '2', '2022', '36', '2022-248', '36', '2022-36']))\n",
      "('CB2105', ('CB2105', ['2365639', '2022-09-05', '1', 'CB2105', '5.0', '18.0', '248', '2', '2022', '36', '2022-248', '36', '2022-36']))\n",
      "('CEE016', ('CEE016', ['2365640', '2022-09-05', '1', 'CEE016', '0.0', '-1.0', '248', '2', '2022', '36', '2022-248', '36', '2022-36']))\n",
      "('CEK049', ('CEK049', ['2365641', '2022-09-05', '1', 'CEK049', '4.0', '18.0', '248', '2', '2022', '36', '2022-248', '36', '2022-36']))\n",
      "...\n",
      "\n"
     ]
    },
    {
     "name": "stderr",
     "output_type": "stream",
     "text": [
      "                                                                                \r"
     ]
    },
    {
     "name": "stdout",
     "output_type": "stream",
     "text": [
      "-------------------------------------------\n",
      "Time: 2023-05-14 13:59:54\n",
      "-------------------------------------------\n",
      "('CAT17', ('CAT17', ['2377728', '2022-09-12', '1', 'CAT17', '0.0', '-1.0', '255', '2', '2022', '37', '2022-255', '37', '2022-37']))\n",
      "('CB02411', ('CB02411', ['2377729', '2022-09-12', '1', 'CB02411', '0.0', '-1.0', '255', '2', '2022', '37', '2022-255', '37', '2022-37']))\n",
      "('CB1101', ('CB1101', ['2377730', '2022-09-12', '1', 'CB1101', '0.0', '-1.0', '255', '2', '2022', '37', '2022-255', '37', '2022-37']))\n",
      "('CB1142', ('CB1142', ['2377731', '2022-09-12', '1', 'CB1142', '1.0', '16.0', '255', '2', '2022', '37', '2022-255', '37', '2022-37']))\n",
      "('CB1143', ('CB1143', ['2377732', '2022-09-12', '1', 'CB1143', '3.0', '18.0', '255', '2', '2022', '37', '2022-255', '37', '2022-37']))\n",
      "('CB1599', ('CB1599', ['2377733', '2022-09-12', '1', 'CB1599', '0.0', '-1.0', '255', '2', '2022', '37', '2022-255', '37', '2022-37']))\n",
      "('CB1699', ('CB1699', ['2377734', '2022-09-12', '1', 'CB1699', '0.0', '-1.0', '255', '2', '2022', '37', '2022-255', '37', '2022-37']))\n",
      "('CB2105', ('CB2105', ['2377735', '2022-09-12', '1', 'CB2105', '10.0', '20.0', '255', '2', '2022', '37', '2022-255', '37', '2022-37']))\n",
      "('CEE016', ('CEE016', ['2377736', '2022-09-12', '1', 'CEE016', '0.0', '-1.0', '255', '2', '2022', '37', '2022-255', '37', '2022-37']))\n",
      "('CEK049', ('CEK049', ['2377737', '2022-09-12', '1', 'CEK049', '2.0', '21.0', '255', '2', '2022', '37', '2022-255', '37', '2022-37']))\n",
      "...\n",
      "\n"
     ]
    },
    {
     "name": "stderr",
     "output_type": "stream",
     "text": [
      "                                                                                \r"
     ]
    },
    {
     "name": "stdout",
     "output_type": "stream",
     "text": [
      "-------------------------------------------\n",
      "Time: 2023-05-14 13:59:56\n",
      "-------------------------------------------\n",
      "('CJE181', ('CJE181', ['2389477', '2022-09-18', '77', 'CJE181', '0.0', '-1.0', '261', '1', '2022', '37', '2022-261', '37', '2022-37']))\n",
      "('CJM90', ('CJM90', ['2389478', '2022-09-18', '77', 'CJM90', '16.0', '18.0', '261', '1', '2022', '37', '2022-261', '37', '2022-37']))\n",
      "('CLW239', ('CLW239', ['2389479', '2022-09-18', '77', 'CLW239', '0.0', '-1.0', '261', '1', '2022', '37', '2022-261', '37', '2022-37']))\n",
      "('COM205', ('COM205', ['2389480', '2022-09-18', '77', 'COM205', '11.0', '19.0', '261', '1', '2022', '37', '2022-261', '37', '2022-37']))\n",
      "('CVT387', ('CVT387', ['2389481', '2022-09-18', '77', 'CVT387', '4.0', '11.0', '261', '1', '2022', '37', '2022-261', '37', '2022-37']))\n",
      "('CAT17', ('CAT17', ['2389482', '2022-09-18', '78', 'CAT17', '6.0', '21.0', '261', '1', '2022', '37', '2022-261', '37', '2022-37']))\n",
      "('CB02411', ('CB02411', ['2389483', '2022-09-18', '78', 'CB02411', '14.0', '21.0', '261', '1', '2022', '37', '2022-261', '37', '2022-37']))\n",
      "('CB1101', ('CB1101', ['2389484', '2022-09-18', '78', 'CB1101', '0.0', '-1.0', '261', '1', '2022', '37', '2022-261', '37', '2022-37']))\n",
      "('CB1142', ('CB1142', ['2389485', '2022-09-18', '78', 'CB1142', '15.0', '20.0', '261', '1', '2022', '37', '2022-261', '37', '2022-37']))\n",
      "('CB1143', ('CB1143', ['2389486', '2022-09-18', '78', 'CB1143', '19.0', '20.0', '261', '1', '2022', '37', '2022-261', '37', '2022-37']))\n",
      "...\n",
      "\n"
     ]
    },
    {
     "name": "stderr",
     "output_type": "stream",
     "text": [
      "                                                                                \r"
     ]
    },
    {
     "name": "stdout",
     "output_type": "stream",
     "text": [
      "-------------------------------------------\n",
      "Time: 2023-05-14 13:59:58\n",
      "-------------------------------------------\n",
      "('CAT17', ('CAT17', ['2389824', '2022-09-19', '1', 'CAT17', '2.0', '23.0', '262', '2', '2022', '38', '2022-262', '38', '2022-38']))\n",
      "('CB02411', ('CB02411', ['2389825', '2022-09-19', '1', 'CB02411', '2.0', '19.0', '262', '2', '2022', '38', '2022-262', '38', '2022-38']))\n",
      "('CB1101', ('CB1101', ['2389826', '2022-09-19', '1', 'CB1101', '0.0', '-1.0', '262', '2', '2022', '38', '2022-262', '38', '2022-38']))\n",
      "('CB1142', ('CB1142', ['2389827', '2022-09-19', '1', 'CB1142', '4.0', '18.0', '262', '2', '2022', '38', '2022-262', '38', '2022-38']))\n",
      "('CB1143', ('CB1143', ['2389828', '2022-09-19', '1', 'CB1143', '1.0', '21.0', '262', '2', '2022', '38', '2022-262', '38', '2022-38']))\n",
      "('CB1599', ('CB1599', ['2389829', '2022-09-19', '1', 'CB1599', '0.0', '-1.0', '262', '2', '2022', '38', '2022-262', '38', '2022-38']))\n",
      "('CB1699', ('CB1699', ['2389830', '2022-09-19', '1', 'CB1699', '0.0', '-1.0', '262', '2', '2022', '38', '2022-262', '38', '2022-38']))\n",
      "('CB2105', ('CB2105', ['2389831', '2022-09-19', '1', 'CB2105', '6.0', '21.0', '262', '2', '2022', '38', '2022-262', '38', '2022-38']))\n",
      "('CEE016', ('CEE016', ['2389832', '2022-09-19', '1', 'CEE016', '0.0', '-1.0', '262', '2', '2022', '38', '2022-262', '38', '2022-38']))\n",
      "('CEK049', ('CEK049', ['2389833', '2022-09-19', '1', 'CEK049', '0.0', '-1.0', '262', '2', '2022', '38', '2022-262', '38', '2022-38']))\n",
      "...\n",
      "\n"
     ]
    },
    {
     "name": "stderr",
     "output_type": "stream",
     "text": [
      "                                                                                \r"
     ]
    },
    {
     "name": "stdout",
     "output_type": "stream",
     "text": [
      "-------------------------------------------\n",
      "Time: 2023-05-14 14:00:00\n",
      "-------------------------------------------\n",
      "('CAT17', ('CAT17', ['2401920', '2022-09-26', '1', 'CAT17', '0.0', '-1.0', '269', '2', '2022', '39', '2022-269', '39', '2022-39']))\n",
      "('CB02411', ('CB02411', ['2401921', '2022-09-26', '1', 'CB02411', '2.0', '19.0', '269', '2', '2022', '39', '2022-269', '39', '2022-39']))\n",
      "('CB1101', ('CB1101', ['2401922', '2022-09-26', '1', 'CB1101', '0.0', '-1.0', '269', '2', '2022', '39', '2022-269', '39', '2022-39']))\n",
      "('CB1142', ('CB1142', ['2401923', '2022-09-26', '1', 'CB1142', '7.0', '18.0', '269', '2', '2022', '39', '2022-269', '39', '2022-39']))\n",
      "('CB1143', ('CB1143', ['2401924', '2022-09-26', '1', 'CB1143', '3.0', '20.0', '269', '2', '2022', '39', '2022-269', '39', '2022-39']))\n",
      "('CB1599', ('CB1599', ['2401925', '2022-09-26', '1', 'CB1599', '0.0', '-1.0', '269', '2', '2022', '39', '2022-269', '39', '2022-39']))\n",
      "('CB1699', ('CB1699', ['2401926', '2022-09-26', '1', 'CB1699', '0.0', '-1.0', '269', '2', '2022', '39', '2022-269', '39', '2022-39']))\n",
      "('CB2105', ('CB2105', ['2401927', '2022-09-26', '1', 'CB2105', '0.0', '-1.0', '269', '2', '2022', '39', '2022-269', '39', '2022-39']))\n",
      "('CEE016', ('CEE016', ['2401928', '2022-09-26', '1', 'CEE016', '3.0', '19.0', '269', '2', '2022', '39', '2022-269', '39', '2022-39']))\n",
      "('CEK049', ('CEK049', ['2401929', '2022-09-26', '1', 'CEK049', '0.0', '-1.0', '269', '2', '2022', '39', '2022-269', '39', '2022-39']))\n",
      "...\n",
      "\n"
     ]
    },
    {
     "name": "stderr",
     "output_type": "stream",
     "text": [
      "                                                                                \r"
     ]
    },
    {
     "name": "stdout",
     "output_type": "stream",
     "text": [
      "-------------------------------------------\n",
      "Time: 2023-05-14 14:00:02\n",
      "-------------------------------------------\n",
      "\n"
     ]
    },
    {
     "name": "stderr",
     "output_type": "stream",
     "text": [
      "                                                                                \r"
     ]
    },
    {
     "name": "stdout",
     "output_type": "stream",
     "text": [
      "-------------------------------------------\n",
      "Time: 2023-05-14 14:00:04\n",
      "-------------------------------------------\n",
      "('CAT17', ('CAT17', ['2414016', '2022-10-03', '1', 'CAT17', '3.0', '21.0', '276', '2', '2022', '40', '2022-276', '40', '2022-40']))\n",
      "('CB02411', ('CB02411', ['2414017', '2022-10-03', '1', 'CB02411', '1.0', '19.0', '276', '2', '2022', '40', '2022-276', '40', '2022-40']))\n",
      "('CB1101', ('CB1101', ['2414018', '2022-10-03', '1', 'CB1101', '0.0', '-1.0', '276', '2', '2022', '40', '2022-276', '40', '2022-40']))\n",
      "('CB1142', ('CB1142', ['2414019', '2022-10-03', '1', 'CB1142', '1.0', '25.0', '276', '2', '2022', '40', '2022-276', '40', '2022-40']))\n",
      "('CB1143', ('CB1143', ['2414020', '2022-10-03', '1', 'CB1143', '4.0', '17.0', '276', '2', '2022', '40', '2022-276', '40', '2022-40']))\n",
      "('CB1599', ('CB1599', ['2414021', '2022-10-03', '1', 'CB1599', '1.0', '25.0', '276', '2', '2022', '40', '2022-276', '40', '2022-40']))\n",
      "('CB1699', ('CB1699', ['2414022', '2022-10-03', '1', 'CB1699', '0.0', '-1.0', '276', '2', '2022', '40', '2022-276', '40', '2022-40']))\n",
      "('CB2105', ('CB2105', ['2414023', '2022-10-03', '1', 'CB2105', '1.0', '27.0', '276', '2', '2022', '40', '2022-276', '40', '2022-40']))\n",
      "('CEE016', ('CEE016', ['2414024', '2022-10-03', '1', 'CEE016', '3.0', '17.0', '276', '2', '2022', '40', '2022-276', '40', '2022-40']))\n",
      "('CEK049', ('CEK049', ['2414025', '2022-10-03', '1', 'CEK049', '1.0', '10.0', '276', '2', '2022', '40', '2022-276', '40', '2022-40']))\n",
      "...\n",
      "\n"
     ]
    },
    {
     "name": "stderr",
     "output_type": "stream",
     "text": [
      "                                                                                \r"
     ]
    },
    {
     "name": "stdout",
     "output_type": "stream",
     "text": [
      "-------------------------------------------\n",
      "Time: 2023-05-14 14:00:06\n",
      "-------------------------------------------\n",
      "('CAT17', ('CAT17', ['2426112', '2022-10-10', '1', 'CAT17', '1.0', '27.0', '283', '2', '2022', '41', '2022-283', '41', '2022-41']))\n",
      "('CB02411', ('CB02411', ['2426113', '2022-10-10', '1', 'CB02411', '0.0', '-1.0', '283', '2', '2022', '41', '2022-283', '41', '2022-41']))\n",
      "('CB1101', ('CB1101', ['2426114', '2022-10-10', '1', 'CB1101', '0.0', '-1.0', '283', '2', '2022', '41', '2022-283', '41', '2022-41']))\n",
      "('CB1142', ('CB1142', ['2426115', '2022-10-10', '1', 'CB1142', '0.0', '-1.0', '283', '2', '2022', '41', '2022-283', '41', '2022-41']))\n",
      "('CB1143', ('CB1143', ['2426116', '2022-10-10', '1', 'CB1143', '2.0', '22.0', '283', '2', '2022', '41', '2022-283', '41', '2022-41']))\n",
      "('CB1599', ('CB1599', ['2426117', '2022-10-10', '1', 'CB1599', '0.0', '-1.0', '283', '2', '2022', '41', '2022-283', '41', '2022-41']))\n",
      "('CB1699', ('CB1699', ['2426118', '2022-10-10', '1', 'CB1699', '0.0', '-1.0', '283', '2', '2022', '41', '2022-283', '41', '2022-41']))\n",
      "('CB2105', ('CB2105', ['2426119', '2022-10-10', '1', 'CB2105', '5.0', '22.0', '283', '2', '2022', '41', '2022-283', '41', '2022-41']))\n",
      "('CEE016', ('CEE016', ['2426120', '2022-10-10', '1', 'CEE016', '1.0', '8.0', '283', '2', '2022', '41', '2022-283', '41', '2022-41']))\n",
      "('CEK049', ('CEK049', ['2426121', '2022-10-10', '1', 'CEK049', '0.0', '-1.0', '283', '2', '2022', '41', '2022-283', '41', '2022-41']))\n",
      "...\n",
      "\n"
     ]
    },
    {
     "name": "stderr",
     "output_type": "stream",
     "text": [
      "                                                                                \r"
     ]
    },
    {
     "name": "stdout",
     "output_type": "stream",
     "text": [
      "-------------------------------------------\n",
      "Time: 2023-05-14 14:00:08\n",
      "-------------------------------------------\n",
      "('CAT17', ('CAT17', ['2438208', '2022-10-17', '1', 'CAT17', '0.0', '-1.0', '290', '2', '2022', '42', '2022-290', '42', '2022-42']))\n",
      "('CB02411', ('CB02411', ['2438209', '2022-10-17', '1', 'CB02411', '0.0', '-1.0', '290', '2', '2022', '42', '2022-290', '42', '2022-42']))\n",
      "('CB1101', ('CB1101', ['2438210', '2022-10-17', '1', 'CB1101', '0.0', '-1.0', '290', '2', '2022', '42', '2022-290', '42', '2022-42']))\n",
      "('CB1142', ('CB1142', ['2438211', '2022-10-17', '1', 'CB1142', '1.0', '25.0', '290', '2', '2022', '42', '2022-290', '42', '2022-42']))\n",
      "('CB1143', ('CB1143', ['2438212', '2022-10-17', '1', 'CB1143', '7.0', '20.0', '290', '2', '2022', '42', '2022-290', '42', '2022-42']))\n",
      "('CB1599', ('CB1599', ['2438213', '2022-10-17', '1', 'CB1599', '0.0', '-1.0', '290', '2', '2022', '42', '2022-290', '42', '2022-42']))\n",
      "('CB1699', ('CB1699', ['2438214', '2022-10-17', '1', 'CB1699', '1.0', '15.0', '290', '2', '2022', '42', '2022-290', '42', '2022-42']))\n",
      "('CB2105', ('CB2105', ['2438215', '2022-10-17', '1', 'CB2105', '5.0', '18.0', '290', '2', '2022', '42', '2022-290', '42', '2022-42']))\n",
      "('CEE016', ('CEE016', ['2438216', '2022-10-17', '1', 'CEE016', '0.0', '-1.0', '290', '2', '2022', '42', '2022-290', '42', '2022-42']))\n",
      "('CEK049', ('CEK049', ['2438217', '2022-10-17', '1', 'CEK049', '5.0', '15.0', '290', '2', '2022', '42', '2022-290', '42', '2022-42']))\n",
      "...\n",
      "\n"
     ]
    },
    {
     "name": "stderr",
     "output_type": "stream",
     "text": [
      "                                                                                \r"
     ]
    },
    {
     "name": "stdout",
     "output_type": "stream",
     "text": [
      "-------------------------------------------\n",
      "Time: 2023-05-14 14:00:10\n",
      "-------------------------------------------\n",
      "('CJM90', ('CJM90', ['2444792', '2022-10-20', '78', 'CJM90', '60.0', '17.0', '293', '5', '2022', '42', '2022-293', '42', '2022-42']))\n",
      "('CLW239', ('CLW239', ['2444793', '2022-10-20', '78', 'CLW239', '4.0', '18.0', '293', '5', '2022', '42', '2022-293', '42', '2022-42']))\n",
      "('COM205', ('COM205', ['2444794', '2022-10-20', '78', 'COM205', '10.0', '19.0', '293', '5', '2022', '42', '2022-293', '42', '2022-42']))\n",
      "('CVT387', ('CVT387', ['2444795', '2022-10-20', '78', 'CVT387', '0.0', '-1.0', '293', '5', '2022', '42', '2022-293', '42', '2022-42']))\n",
      "('CAT17', ('CAT17', ['2444796', '2022-10-20', '79', 'CAT17', '9.0', '17.0', '293', '5', '2022', '42', '2022-293', '42', '2022-42']))\n",
      "('CB02411', ('CB02411', ['2444797', '2022-10-20', '79', 'CB02411', '23.0', '21.0', '293', '5', '2022', '42', '2022-293', '42', '2022-42']))\n",
      "('CB1101', ('CB1101', ['2444798', '2022-10-20', '79', 'CB1101', '0.0', '-1.0', '293', '5', '2022', '42', '2022-293', '42', '2022-42']))\n",
      "('CB1142', ('CB1142', ['2444799', '2022-10-20', '79', 'CB1142', '46.0', '14.0', '293', '5', '2022', '42', '2022-293', '42', '2022-42']))\n",
      "('CB1143', ('CB1143', ['2444800', '2022-10-20', '79', 'CB1143', '0.0', '-1.0', '293', '5', '2022', '42', '2022-293', '42', '2022-42']))\n",
      "('CB1599', ('CB1599', ['2444801', '2022-10-20', '79', 'CB1599', '7.0', '21.0', '293', '5', '2022', '42', '2022-293', '42', '2022-42']))\n",
      "...\n",
      "\n"
     ]
    },
    {
     "name": "stderr",
     "output_type": "stream",
     "text": [
      "                                                                                \r"
     ]
    },
    {
     "name": "stdout",
     "output_type": "stream",
     "text": [
      "-------------------------------------------\n",
      "Time: 2023-05-14 14:00:12\n",
      "-------------------------------------------\n",
      "('CAT17', ('CAT17', ['2450304', '2022-10-24', '1', 'CAT17', '1.0', '22.0', '297', '2', '2022', '43', '2022-297', '43', '2022-43']))\n",
      "('CB02411', ('CB02411', ['2450305', '2022-10-24', '1', 'CB02411', '0.0', '-1.0', '297', '2', '2022', '43', '2022-297', '43', '2022-43']))\n",
      "('CB1101', ('CB1101', ['2450306', '2022-10-24', '1', 'CB1101', '0.0', '-1.0', '297', '2', '2022', '43', '2022-297', '43', '2022-43']))\n",
      "('CB1142', ('CB1142', ['2450307', '2022-10-24', '1', 'CB1142', '3.0', '14.0', '297', '2', '2022', '43', '2022-297', '43', '2022-43']))\n",
      "('CB1143', ('CB1143', ['2450308', '2022-10-24', '1', 'CB1143', '6.0', '21.0', '297', '2', '2022', '43', '2022-297', '43', '2022-43']))\n",
      "('CB1599', ('CB1599', ['2450309', '2022-10-24', '1', 'CB1599', '0.0', '-1.0', '297', '2', '2022', '43', '2022-297', '43', '2022-43']))\n",
      "('CB1699', ('CB1699', ['2450310', '2022-10-24', '1', 'CB1699', '0.0', '-1.0', '297', '2', '2022', '43', '2022-297', '43', '2022-43']))\n",
      "('CB2105', ('CB2105', ['2450311', '2022-10-24', '1', 'CB2105', '5.0', '22.0', '297', '2', '2022', '43', '2022-297', '43', '2022-43']))\n",
      "('CEE016', ('CEE016', ['2450312', '2022-10-24', '1', 'CEE016', '0.0', '-1.0', '297', '2', '2022', '43', '2022-297', '43', '2022-43']))\n",
      "('CEK049', ('CEK049', ['2450313', '2022-10-24', '1', 'CEK049', '3.0', '21.0', '297', '2', '2022', '43', '2022-297', '43', '2022-43']))\n",
      "...\n",
      "\n"
     ]
    },
    {
     "name": "stderr",
     "output_type": "stream",
     "text": [
      "                                                                                \r"
     ]
    },
    {
     "name": "stdout",
     "output_type": "stream",
     "text": [
      "-------------------------------------------\n",
      "Time: 2023-05-14 14:00:14\n",
      "-------------------------------------------\n",
      "('CAT17', ('CAT17', ['2462400', '2022-10-31', '1', 'CAT17', '0.0', '-1.0', '304', '2', '2022', '44', '2022-304', '44', '2022-44']))\n",
      "('CB02411', ('CB02411', ['2462401', '2022-10-31', '1', 'CB02411', '5.0', '19.0', '304', '2', '2022', '44', '2022-304', '44', '2022-44']))\n",
      "('CB1101', ('CB1101', ['2462402', '2022-10-31', '1', 'CB1101', '0.0', '-1.0', '304', '2', '2022', '44', '2022-304', '44', '2022-44']))\n",
      "('CB1142', ('CB1142', ['2462403', '2022-10-31', '1', 'CB1142', '0.0', '-1.0', '304', '2', '2022', '44', '2022-304', '44', '2022-44']))\n",
      "('CB1143', ('CB1143', ['2462404', '2022-10-31', '1', 'CB1143', '16.0', '19.0', '304', '2', '2022', '44', '2022-304', '44', '2022-44']))\n",
      "('CB1599', ('CB1599', ['2462405', '2022-10-31', '1', 'CB1599', '3.0', '16.0', '304', '2', '2022', '44', '2022-304', '44', '2022-44']))\n",
      "('CB1699', ('CB1699', ['2462406', '2022-10-31', '1', 'CB1699', '1.0', '11.0', '304', '2', '2022', '44', '2022-304', '44', '2022-44']))\n",
      "('CB2105', ('CB2105', ['2462407', '2022-10-31', '1', 'CB2105', '14.0', '18.0', '304', '2', '2022', '44', '2022-304', '44', '2022-44']))\n",
      "('CEE016', ('CEE016', ['2462408', '2022-10-31', '1', 'CEE016', '1.0', '26.0', '304', '2', '2022', '44', '2022-304', '44', '2022-44']))\n",
      "('CEK049', ('CEK049', ['2462409', '2022-10-31', '1', 'CEK049', '9.0', '19.0', '304', '2', '2022', '44', '2022-304', '44', '2022-44']))\n",
      "...\n",
      "\n"
     ]
    },
    {
     "name": "stderr",
     "output_type": "stream",
     "text": [
      "                                                                                \r"
     ]
    },
    {
     "name": "stdout",
     "output_type": "stream",
     "text": [
      "-------------------------------------------\n",
      "Time: 2023-05-14 14:00:16\n",
      "-------------------------------------------\n",
      "\n"
     ]
    },
    {
     "name": "stderr",
     "output_type": "stream",
     "text": [
      "                                                                                \r"
     ]
    },
    {
     "name": "stdout",
     "output_type": "stream",
     "text": [
      "-------------------------------------------\n",
      "Time: 2023-05-14 14:00:18\n",
      "-------------------------------------------\n",
      "('CAT17', ('CAT17', ['2474496', '2022-11-07', '1', 'CAT17', '0.0', '-1.0', '311', '2', '2022', '45', '2022-311', '45', '2022-45']))\n",
      "('CB02411', ('CB02411', ['2474497', '2022-11-07', '1', 'CB02411', '2.0', '17.0', '311', '2', '2022', '45', '2022-311', '45', '2022-45']))\n",
      "('CB1101', ('CB1101', ['2474498', '2022-11-07', '1', 'CB1101', '0.0', '-1.0', '311', '2', '2022', '45', '2022-311', '45', '2022-45']))\n",
      "('CB1142', ('CB1142', ['2474499', '2022-11-07', '1', 'CB1142', '1.0', '17.0', '311', '2', '2022', '45', '2022-311', '45', '2022-45']))\n",
      "('CB1143', ('CB1143', ['2474500', '2022-11-07', '1', 'CB1143', '6.0', '22.0', '311', '2', '2022', '45', '2022-311', '45', '2022-45']))\n",
      "('CB1599', ('CB1599', ['2474501', '2022-11-07', '1', 'CB1599', '0.0', '-1.0', '311', '2', '2022', '45', '2022-311', '45', '2022-45']))\n",
      "('CB1699', ('CB1699', ['2474502', '2022-11-07', '1', 'CB1699', '1.0', '17.0', '311', '2', '2022', '45', '2022-311', '45', '2022-45']))\n",
      "('CB2105', ('CB2105', ['2474503', '2022-11-07', '1', 'CB2105', '3.0', '19.0', '311', '2', '2022', '45', '2022-311', '45', '2022-45']))\n",
      "('CEE016', ('CEE016', ['2474504', '2022-11-07', '1', 'CEE016', '2.0', '19.0', '311', '2', '2022', '45', '2022-311', '45', '2022-45']))\n",
      "('CEK049', ('CEK049', ['2474505', '2022-11-07', '1', 'CEK049', '5.0', '19.0', '311', '2', '2022', '45', '2022-311', '45', '2022-45']))\n",
      "...\n",
      "\n"
     ]
    },
    {
     "name": "stderr",
     "output_type": "stream",
     "text": [
      "                                                                                \r"
     ]
    },
    {
     "name": "stdout",
     "output_type": "stream",
     "text": [
      "-------------------------------------------\n",
      "Time: 2023-05-14 14:00:20\n",
      "-------------------------------------------\n",
      "('CAT17', ('CAT17', ['2486592', '2022-11-14', '1', 'CAT17', '1.0', '11.0', '318', '2', '2022', '46', '2022-318', '46', '2022-46']))\n",
      "('CB02411', ('CB02411', ['2486593', '2022-11-14', '1', 'CB02411', '3.0', '17.0', '318', '2', '2022', '46', '2022-318', '46', '2022-46']))\n",
      "('CB1101', ('CB1101', ['2486594', '2022-11-14', '1', 'CB1101', '0.0', '-1.0', '318', '2', '2022', '46', '2022-318', '46', '2022-46']))\n",
      "('CB1142', ('CB1142', ['2486595', '2022-11-14', '1', 'CB1142', '3.0', '29.0', '318', '2', '2022', '46', '2022-318', '46', '2022-46']))\n",
      "('CB1143', ('CB1143', ['2486596', '2022-11-14', '1', 'CB1143', '4.0', '26.0', '318', '2', '2022', '46', '2022-318', '46', '2022-46']))\n",
      "('CB1599', ('CB1599', ['2486597', '2022-11-14', '1', 'CB1599', '1.0', '19.0', '318', '2', '2022', '46', '2022-318', '46', '2022-46']))\n",
      "('CB1699', ('CB1699', ['2486598', '2022-11-14', '1', 'CB1699', '2.0', '17.0', '318', '2', '2022', '46', '2022-318', '46', '2022-46']))\n",
      "('CB2105', ('CB2105', ['2486599', '2022-11-14', '1', 'CB2105', '4.0', '20.0', '318', '2', '2022', '46', '2022-318', '46', '2022-46']))\n",
      "('CEE016', ('CEE016', ['2486600', '2022-11-14', '1', 'CEE016', '1.0', '14.0', '318', '2', '2022', '46', '2022-318', '46', '2022-46']))\n",
      "('CEK049', ('CEK049', ['2486601', '2022-11-14', '1', 'CEK049', '9.0', '21.0', '318', '2', '2022', '46', '2022-318', '46', '2022-46']))\n",
      "...\n",
      "\n"
     ]
    },
    {
     "name": "stderr",
     "output_type": "stream",
     "text": [
      "                                                                                \r"
     ]
    },
    {
     "name": "stdout",
     "output_type": "stream",
     "text": [
      "-------------------------------------------\n",
      "Time: 2023-05-14 14:00:22\n",
      "-------------------------------------------\n",
      "('CAT17', ('CAT17', ['2498688', '2022-11-21', '1', 'CAT17', '2.0', '17.0', '325', '2', '2022', '47', '2022-325', '47', '2022-47']))\n",
      "('CB02411', ('CB02411', ['2498689', '2022-11-21', '1', 'CB02411', '2.0', '17.0', '325', '2', '2022', '47', '2022-325', '47', '2022-47']))\n",
      "('CB1101', ('CB1101', ['2498690', '2022-11-21', '1', 'CB1101', '0.0', '-1.0', '325', '2', '2022', '47', '2022-325', '47', '2022-47']))\n",
      "('CB1142', ('CB1142', ['2498691', '2022-11-21', '1', 'CB1142', '0.0', '-1.0', '325', '2', '2022', '47', '2022-325', '47', '2022-47']))\n",
      "('CB1143', ('CB1143', ['2498692', '2022-11-21', '1', 'CB1143', '1.0', '21.0', '325', '2', '2022', '47', '2022-325', '47', '2022-47']))\n",
      "('CB1599', ('CB1599', ['2498693', '2022-11-21', '1', 'CB1599', '0.0', '-1.0', '325', '2', '2022', '47', '2022-325', '47', '2022-47']))\n",
      "('CB1699', ('CB1699', ['2498694', '2022-11-21', '1', 'CB1699', '0.0', '-1.0', '325', '2', '2022', '47', '2022-325', '47', '2022-47']))\n",
      "('CB2105', ('CB2105', ['2498695', '2022-11-21', '1', 'CB2105', '4.0', '16.0', '325', '2', '2022', '47', '2022-325', '47', '2022-47']))\n",
      "('CEE016', ('CEE016', ['2498696', '2022-11-21', '1', 'CEE016', '1.0', '17.0', '325', '2', '2022', '47', '2022-325', '47', '2022-47']))\n",
      "('CEK049', ('CEK049', ['2498697', '2022-11-21', '1', 'CEK049', '2.0', '19.0', '325', '2', '2022', '47', '2022-325', '47', '2022-47']))\n",
      "...\n",
      "\n"
     ]
    },
    {
     "name": "stderr",
     "output_type": "stream",
     "text": [
      "                                                                                \r"
     ]
    },
    {
     "name": "stdout",
     "output_type": "stream",
     "text": [
      "-------------------------------------------\n",
      "Time: 2023-05-14 14:00:24\n",
      "-------------------------------------------\n",
      "('CB1699', ('CB1699', ['2500368', '2022-11-21', '94', 'CB1699', '1.0', '8.0', '325', '2', '2022', '47', '2022-325', '47', '2022-47']))\n",
      "('CB2105', ('CB2105', ['2500369', '2022-11-21', '94', 'CB2105', '9.0', '23.0', '325', '2', '2022', '47', '2022-325', '47', '2022-47']))\n",
      "('CEE016', ('CEE016', ['2500370', '2022-11-21', '94', 'CEE016', '1.0', '17.0', '325', '2', '2022', '47', '2022-325', '47', '2022-47']))\n",
      "('CEK049', ('CEK049', ['2500371', '2022-11-21', '94', 'CEK049', '11.0', '17.0', '325', '2', '2022', '47', '2022-325', '47', '2022-47']))\n",
      "('CEK18', ('CEK18', ['2500372', '2022-11-21', '94', 'CEK18', '2.0', '19.0', '325', '2', '2022', '47', '2022-325', '47', '2022-47']))\n",
      "('CEK31', ('CEK31', ['2500373', '2022-11-21', '94', 'CEK31', '2.0', '14.0', '325', '2', '2022', '47', '2022-325', '47', '2022-47']))\n",
      "('CEV011', ('CEV011', ['2500374', '2022-11-21', '94', 'CEV011', '0.0', '-1.0', '325', '2', '2022', '47', '2022-325', '47', '2022-47']))\n",
      "('CJE181', ('CJE181', ['2500375', '2022-11-21', '94', 'CJE181', '0.0', '-1.0', '325', '2', '2022', '47', '2022-325', '47', '2022-47']))\n",
      "('CJM90', ('CJM90', ['2500376', '2022-11-21', '94', 'CJM90', '13.0', '19.0', '325', '2', '2022', '47', '2022-325', '47', '2022-47']))\n",
      "('CLW239', ('CLW239', ['2500377', '2022-11-21', '94', 'CLW239', '1.0', '16.0', '325', '2', '2022', '47', '2022-325', '47', '2022-47']))\n",
      "...\n",
      "\n"
     ]
    },
    {
     "name": "stderr",
     "output_type": "stream",
     "text": [
      "                                                                                \r"
     ]
    },
    {
     "name": "stdout",
     "output_type": "stream",
     "text": [
      "-------------------------------------------\n",
      "Time: 2023-05-14 14:00:26\n",
      "-------------------------------------------\n",
      "('CAT17', ('CAT17', ['2510784', '2022-11-28', '1', 'CAT17', '1.0', '16.0', '332', '2', '2022', '48', '2022-332', '48', '2022-48']))\n",
      "('CB02411', ('CB02411', ['2510785', '2022-11-28', '1', 'CB02411', '1.0', '21.0', '332', '2', '2022', '48', '2022-332', '48', '2022-48']))\n",
      "('CB1101', ('CB1101', ['2510786', '2022-11-28', '1', 'CB1101', '0.0', '-1.0', '332', '2', '2022', '48', '2022-332', '48', '2022-48']))\n",
      "('CB1142', ('CB1142', ['2510787', '2022-11-28', '1', 'CB1142', '1.0', '22.0', '332', '2', '2022', '48', '2022-332', '48', '2022-48']))\n",
      "('CB1143', ('CB1143', ['2510788', '2022-11-28', '1', 'CB1143', '4.0', '29.0', '332', '2', '2022', '48', '2022-332', '48', '2022-48']))\n",
      "('CB1599', ('CB1599', ['2510789', '2022-11-28', '1', 'CB1599', '0.0', '-1.0', '332', '2', '2022', '48', '2022-332', '48', '2022-48']))\n",
      "('CB1699', ('CB1699', ['2510790', '2022-11-28', '1', 'CB1699', '0.0', '-1.0', '332', '2', '2022', '48', '2022-332', '48', '2022-48']))\n",
      "('CB2105', ('CB2105', ['2510791', '2022-11-28', '1', 'CB2105', '6.0', '19.0', '332', '2', '2022', '48', '2022-332', '48', '2022-48']))\n",
      "('CEE016', ('CEE016', ['2510792', '2022-11-28', '1', 'CEE016', '0.0', '-1.0', '332', '2', '2022', '48', '2022-332', '48', '2022-48']))\n",
      "('CEK049', ('CEK049', ['2510793', '2022-11-28', '1', 'CEK049', '2.0', '21.0', '332', '2', '2022', '48', '2022-332', '48', '2022-48']))\n",
      "...\n",
      "\n"
     ]
    },
    {
     "name": "stderr",
     "output_type": "stream",
     "text": [
      "                                                                                \r"
     ]
    },
    {
     "name": "stdout",
     "output_type": "stream",
     "text": [
      "-------------------------------------------\n",
      "Time: 2023-05-14 14:00:28\n",
      "-------------------------------------------\n",
      "('CAT17', ('CAT17', ['2522880', '2022-12-05', '1', 'CAT17', '0.0', '-1.0', '339', '2', '2022', '49', '2022-339', '49', '2022-49']))\n",
      "('CB02411', ('CB02411', ['2522881', '2022-12-05', '1', 'CB02411', '1.0', '15.0', '339', '2', '2022', '49', '2022-339', '49', '2022-49']))\n",
      "('CB1101', ('CB1101', ['2522882', '2022-12-05', '1', 'CB1101', '0.0', '-1.0', '339', '2', '2022', '49', '2022-339', '49', '2022-49']))\n",
      "('CB1142', ('CB1142', ['2522883', '2022-12-05', '1', 'CB1142', '3.0', '20.0', '339', '2', '2022', '49', '2022-339', '49', '2022-49']))\n",
      "('CB1143', ('CB1143', ['2522884', '2022-12-05', '1', 'CB1143', '3.0', '22.0', '339', '2', '2022', '49', '2022-339', '49', '2022-49']))\n",
      "('CB1599', ('CB1599', ['2522885', '2022-12-05', '1', 'CB1599', '0.0', '-1.0', '339', '2', '2022', '49', '2022-339', '49', '2022-49']))\n",
      "('CB1699', ('CB1699', ['2522886', '2022-12-05', '1', 'CB1699', '1.0', '29.0', '339', '2', '2022', '49', '2022-339', '49', '2022-49']))\n",
      "('CB2105', ('CB2105', ['2522887', '2022-12-05', '1', 'CB2105', '3.0', '22.0', '339', '2', '2022', '49', '2022-339', '49', '2022-49']))\n",
      "('CEE016', ('CEE016', ['2522888', '2022-12-05', '1', 'CEE016', '1.0', '18.0', '339', '2', '2022', '49', '2022-339', '49', '2022-49']))\n",
      "('CEK049', ('CEK049', ['2522889', '2022-12-05', '1', 'CEK049', '0.0', '-1.0', '339', '2', '2022', '49', '2022-339', '49', '2022-49']))\n",
      "...\n",
      "\n"
     ]
    },
    {
     "name": "stderr",
     "output_type": "stream",
     "text": [
      "                                                                                \r"
     ]
    },
    {
     "name": "stdout",
     "output_type": "stream",
     "text": [
      "-------------------------------------------\n",
      "Time: 2023-05-14 14:00:30\n",
      "-------------------------------------------\n",
      "\n"
     ]
    },
    {
     "name": "stderr",
     "output_type": "stream",
     "text": [
      "                                                                                \r"
     ]
    },
    {
     "name": "stdout",
     "output_type": "stream",
     "text": [
      "-------------------------------------------\n",
      "Time: 2023-05-14 14:00:32\n",
      "-------------------------------------------\n",
      "('CAT17', ('CAT17', ['2534976', '2022-12-12', '1', 'CAT17', '0.0', '-1.0', '346', '2', '2022', '50', '2022-346', '50', '2022-50']))\n",
      "('CB02411', ('CB02411', ['2534977', '2022-12-12', '1', 'CB02411', '0.0', '-1.0', '346', '2', '2022', '50', '2022-346', '50', '2022-50']))\n",
      "('CB1101', ('CB1101', ['2534978', '2022-12-12', '1', 'CB1101', '0.0', '-1.0', '346', '2', '2022', '50', '2022-346', '50', '2022-50']))\n",
      "('CB1142', ('CB1142', ['2534979', '2022-12-12', '1', 'CB1142', '2.0', '17.0', '346', '2', '2022', '50', '2022-346', '50', '2022-50']))\n",
      "('CB1143', ('CB1143', ['2534980', '2022-12-12', '1', 'CB1143', '1.0', '26.0', '346', '2', '2022', '50', '2022-346', '50', '2022-50']))\n",
      "('CB1599', ('CB1599', ['2534981', '2022-12-12', '1', 'CB1599', '0.0', '-1.0', '346', '2', '2022', '50', '2022-346', '50', '2022-50']))\n",
      "('CB1699', ('CB1699', ['2534982', '2022-12-12', '1', 'CB1699', '0.0', '-1.0', '346', '2', '2022', '50', '2022-346', '50', '2022-50']))\n",
      "('CB2105', ('CB2105', ['2534983', '2022-12-12', '1', 'CB2105', '2.0', '10.0', '346', '2', '2022', '50', '2022-346', '50', '2022-50']))\n",
      "('CEE016', ('CEE016', ['2534984', '2022-12-12', '1', 'CEE016', '0.0', '-1.0', '346', '2', '2022', '50', '2022-346', '50', '2022-50']))\n",
      "('CEK049', ('CEK049', ['2534985', '2022-12-12', '1', 'CEK049', '4.0', '19.0', '346', '2', '2022', '50', '2022-346', '50', '2022-50']))\n",
      "...\n",
      "\n"
     ]
    },
    {
     "name": "stderr",
     "output_type": "stream",
     "text": [
      "                                                                                \r"
     ]
    },
    {
     "name": "stdout",
     "output_type": "stream",
     "text": [
      "-------------------------------------------\n",
      "Time: 2023-05-14 14:00:34\n",
      "-------------------------------------------\n",
      "('CAT17', ('CAT17', ['2547072', '2022-12-19', '1', 'CAT17', '0.0', '-1.0', '353', '2', '2022', '51', '2022-353', '51', '2022-51']))\n",
      "('CB02411', ('CB02411', ['2547073', '2022-12-19', '1', 'CB02411', '3.0', '21.0', '353', '2', '2022', '51', '2022-353', '51', '2022-51']))\n",
      "('CB1101', ('CB1101', ['2547074', '2022-12-19', '1', 'CB1101', '0.0', '-1.0', '353', '2', '2022', '51', '2022-353', '51', '2022-51']))\n",
      "('CB1142', ('CB1142', ['2547075', '2022-12-19', '1', 'CB1142', '1.0', '8.0', '353', '2', '2022', '51', '2022-353', '51', '2022-51']))\n",
      "('CB1143', ('CB1143', ['2547076', '2022-12-19', '1', 'CB1143', '1.0', '20.0', '353', '2', '2022', '51', '2022-353', '51', '2022-51']))\n",
      "('CB1599', ('CB1599', ['2547077', '2022-12-19', '1', 'CB1599', '0.0', '-1.0', '353', '2', '2022', '51', '2022-353', '51', '2022-51']))\n",
      "('CB1699', ('CB1699', ['2547078', '2022-12-19', '1', 'CB1699', '1.0', '22.0', '353', '2', '2022', '51', '2022-353', '51', '2022-51']))\n",
      "('CB2105', ('CB2105', ['2547079', '2022-12-19', '1', 'CB2105', '3.0', '17.0', '353', '2', '2022', '51', '2022-353', '51', '2022-51']))\n",
      "('CEE016', ('CEE016', ['2547080', '2022-12-19', '1', 'CEE016', '0.0', '-1.0', '353', '2', '2022', '51', '2022-353', '51', '2022-51']))\n",
      "('CEK049', ('CEK049', ['2547081', '2022-12-19', '1', 'CEK049', '2.0', '19.0', '353', '2', '2022', '51', '2022-353', '51', '2022-51']))\n",
      "...\n",
      "\n"
     ]
    },
    {
     "name": "stderr",
     "output_type": "stream",
     "text": [
      "                                                                                \r"
     ]
    },
    {
     "name": "stdout",
     "output_type": "stream",
     "text": [
      "-------------------------------------------\n",
      "Time: 2023-05-14 14:00:36\n",
      "-------------------------------------------\n",
      "\n"
     ]
    },
    {
     "name": "stderr",
     "output_type": "stream",
     "text": [
      "                                                                                \r"
     ]
    },
    {
     "name": "stdout",
     "output_type": "stream",
     "text": [
      "-------------------------------------------\n",
      "Time: 2023-05-14 14:00:38\n",
      "-------------------------------------------\n",
      "('CAT17', ('CAT17', ['2559168', '2022-12-26', '1', 'CAT17', '0.0', '-1.0', '360', '2', '2022', '52', '2022-360', '52', '2022-52']))\n",
      "('CB02411', ('CB02411', ['2559169', '2022-12-26', '1', 'CB02411', '1.0', '19.0', '360', '2', '2022', '52', '2022-360', '52', '2022-52']))\n",
      "('CB1101', ('CB1101', ['2559170', '2022-12-26', '1', 'CB1101', '3.0', '19.0', '360', '2', '2022', '52', '2022-360', '52', '2022-52']))\n",
      "('CB1142', ('CB1142', ['2559171', '2022-12-26', '1', 'CB1142', '0.0', '-1.0', '360', '2', '2022', '52', '2022-360', '52', '2022-52']))\n",
      "('CB1143', ('CB1143', ['2559172', '2022-12-26', '1', 'CB1143', '2.0', '19.0', '360', '2', '2022', '52', '2022-360', '52', '2022-52']))\n",
      "('CB1599', ('CB1599', ['2559173', '2022-12-26', '1', 'CB1599', '0.0', '-1.0', '360', '2', '2022', '52', '2022-360', '52', '2022-52']))\n",
      "('CB1699', ('CB1699', ['2559174', '2022-12-26', '1', 'CB1699', '0.0', '-1.0', '360', '2', '2022', '52', '2022-360', '52', '2022-52']))\n",
      "('CB2105', ('CB2105', ['2559175', '2022-12-26', '1', 'CB2105', '4.0', '21.0', '360', '2', '2022', '52', '2022-360', '52', '2022-52']))\n",
      "('CEE016', ('CEE016', ['2559176', '2022-12-26', '1', 'CEE016', '0.0', '-1.0', '360', '2', '2022', '52', '2022-360', '52', '2022-52']))\n",
      "('CEK049', ('CEK049', ['2559177', '2022-12-26', '1', 'CEK049', '0.0', '-1.0', '360', '2', '2022', '52', '2022-360', '52', '2022-52']))\n",
      "...\n",
      "\n"
     ]
    },
    {
     "name": "stderr",
     "output_type": "stream",
     "text": [
      "                                                                                \r"
     ]
    },
    {
     "name": "stdout",
     "output_type": "stream",
     "text": [
      "-------------------------------------------\n",
      "Time: 2023-05-14 14:00:40\n",
      "-------------------------------------------\n",
      "('CAT17', ('CAT17', ['2571264', '2023-01-02', '1', 'CAT17', '0.0', '-1.0', '2', '2', '2023', '1', '2023-2', '01', '2023-01']))\n",
      "('CB02411', ('CB02411', ['2571265', '2023-01-02', '1', 'CB02411', '0.0', '-1.0', '2', '2', '2023', '1', '2023-2', '01', '2023-01']))\n",
      "('CB1101', ('CB1101', ['2571266', '2023-01-02', '1', 'CB1101', '4.0', '19.0', '2', '2', '2023', '1', '2023-2', '01', '2023-01']))\n",
      "('CB1142', ('CB1142', ['2571267', '2023-01-02', '1', 'CB1142', '2.0', '17.0', '2', '2', '2023', '1', '2023-2', '01', '2023-01']))\n",
      "('CB1143', ('CB1143', ['2571268', '2023-01-02', '1', 'CB1143', '3.0', '23.0', '2', '2', '2023', '1', '2023-2', '01', '2023-01']))\n",
      "('CB1599', ('CB1599', ['2571269', '2023-01-02', '1', 'CB1599', '0.0', '-1.0', '2', '2', '2023', '1', '2023-2', '01', '2023-01']))\n",
      "('CB1699', ('CB1699', ['2571270', '2023-01-02', '1', 'CB1699', '0.0', '-1.0', '2', '2', '2023', '1', '2023-2', '01', '2023-01']))\n",
      "('CB2105', ('CB2105', ['2571271', '2023-01-02', '1', 'CB2105', '3.0', '19.0', '2', '2', '2023', '1', '2023-2', '01', '2023-01']))\n",
      "('CEE016', ('CEE016', ['2571272', '2023-01-02', '1', 'CEE016', '0.0', '-1.0', '2', '2', '2023', '1', '2023-2', '01', '2023-01']))\n",
      "('CEK049', ('CEK049', ['2571273', '2023-01-02', '1', 'CEK049', '0.0', '-1.0', '2', '2', '2023', '1', '2023-2', '01', '2023-01']))\n",
      "...\n",
      "\n"
     ]
    },
    {
     "name": "stderr",
     "output_type": "stream",
     "text": [
      "                                                                                \r"
     ]
    },
    {
     "name": "stdout",
     "output_type": "stream",
     "text": [
      "-------------------------------------------\n",
      "Time: 2023-05-14 14:00:42\n",
      "-------------------------------------------\n",
      "('CAT17', ('CAT17', ['2583360', '2023-01-09', '1', 'CAT17', '0.0', '-1.0', '9', '2', '2023', '2', '2023-9', '02', '2023-02']))\n",
      "('CB02411', ('CB02411', ['2583361', '2023-01-09', '1', 'CB02411', '2.0', '20.0', '9', '2', '2023', '2', '2023-9', '02', '2023-02']))\n",
      "('CB1101', ('CB1101', ['2583362', '2023-01-09', '1', 'CB1101', '5.0', '18.0', '9', '2', '2023', '2', '2023-9', '02', '2023-02']))\n",
      "('CB1142', ('CB1142', ['2583363', '2023-01-09', '1', 'CB1142', '1.0', '18.0', '9', '2', '2023', '2', '2023-9', '02', '2023-02']))\n",
      "('CB1143', ('CB1143', ['2583364', '2023-01-09', '1', 'CB1143', '5.0', '22.0', '9', '2', '2023', '2', '2023-9', '02', '2023-02']))\n",
      "('CB1599', ('CB1599', ['2583365', '2023-01-09', '1', 'CB1599', '0.0', '-1.0', '9', '2', '2023', '2', '2023-9', '02', '2023-02']))\n",
      "('CB1699', ('CB1699', ['2583366', '2023-01-09', '1', 'CB1699', '0.0', '-1.0', '9', '2', '2023', '2', '2023-9', '02', '2023-02']))\n",
      "('CB2105', ('CB2105', ['2583367', '2023-01-09', '1', 'CB2105', '4.0', '21.0', '9', '2', '2023', '2', '2023-9', '02', '2023-02']))\n",
      "('CEE016', ('CEE016', ['2583368', '2023-01-09', '1', 'CEE016', '2.0', '16.0', '9', '2', '2023', '2', '2023-9', '02', '2023-02']))\n",
      "('CEK049', ('CEK049', ['2583369', '2023-01-09', '1', 'CEK049', '3.0', '22.0', '9', '2', '2023', '2', '2023-9', '02', '2023-02']))\n",
      "...\n",
      "\n"
     ]
    },
    {
     "name": "stderr",
     "output_type": "stream",
     "text": [
      "                                                                                \r"
     ]
    },
    {
     "name": "stdout",
     "output_type": "stream",
     "text": [
      "-------------------------------------------\n",
      "Time: 2023-05-14 14:00:44\n",
      "-------------------------------------------\n",
      "('CJE181', ('CJE181', ['2594605', '2023-01-15', '49', 'CJE181', '3.0', '22.0', '15', '1', '2023', '2', '2023-15', '02', '2023-02']))\n",
      "('CJM90', ('CJM90', ['2594606', '2023-01-15', '49', 'CJM90', '38.0', '17.0', '15', '1', '2023', '2', '2023-15', '02', '2023-02']))\n",
      "('CLW239', ('CLW239', ['2594607', '2023-01-15', '49', 'CLW239', '6.0', '21.0', '15', '1', '2023', '2', '2023-15', '02', '2023-02']))\n",
      "('COM205', ('COM205', ['2594608', '2023-01-15', '49', 'COM205', '16.0', '24.0', '15', '1', '2023', '2', '2023-15', '02', '2023-02']))\n",
      "('CVT387', ('CVT387', ['2594609', '2023-01-15', '49', 'CVT387', '8.0', '20.0', '15', '1', '2023', '2', '2023-15', '02', '2023-02']))\n",
      "('CAT17', ('CAT17', ['2594610', '2023-01-15', '50', 'CAT17', '7.0', '15.0', '15', '1', '2023', '2', '2023-15', '02', '2023-02']))\n",
      "('CB02411', ('CB02411', ['2594611', '2023-01-15', '50', 'CB02411', '20.0', '22.0', '15', '1', '2023', '2', '2023-15', '02', '2023-02']))\n",
      "('CB1101', ('CB1101', ['2594612', '2023-01-15', '50', 'CB1101', '32.0', '18.0', '15', '1', '2023', '2', '2023-15', '02', '2023-02']))\n",
      "('CB1142', ('CB1142', ['2594613', '2023-01-15', '50', 'CB1142', '31.0', '23.0', '15', '1', '2023', '2', '2023-15', '02', '2023-02']))\n",
      "('CB1143', ('CB1143', ['2594614', '2023-01-15', '50', 'CB1143', '20.0', '19.0', '15', '1', '2023', '2', '2023-15', '02', '2023-02']))\n",
      "...\n",
      "\n"
     ]
    },
    {
     "name": "stderr",
     "output_type": "stream",
     "text": [
      "                                                                                \r"
     ]
    },
    {
     "name": "stdout",
     "output_type": "stream",
     "text": [
      "-------------------------------------------\n",
      "Time: 2023-05-14 14:00:46\n",
      "-------------------------------------------\n",
      "('CAT17', ('CAT17', ['2595456', '2023-01-16', '1', 'CAT17', '1.0', '15.0', '16', '2', '2023', '3', '2023-16', '03', '2023-03']))\n",
      "('CB02411', ('CB02411', ['2595457', '2023-01-16', '1', 'CB02411', '0.0', '-1.0', '16', '2', '2023', '3', '2023-16', '03', '2023-03']))\n",
      "('CB1101', ('CB1101', ['2595458', '2023-01-16', '1', 'CB1101', '6.0', '14.0', '16', '2', '2023', '3', '2023-16', '03', '2023-03']))\n",
      "('CB1142', ('CB1142', ['2595459', '2023-01-16', '1', 'CB1142', '1.0', '24.0', '16', '2', '2023', '3', '2023-16', '03', '2023-03']))\n",
      "('CB1143', ('CB1143', ['2595460', '2023-01-16', '1', 'CB1143', '2.0', '21.0', '16', '2', '2023', '3', '2023-16', '03', '2023-03']))\n",
      "('CB1599', ('CB1599', ['2595461', '2023-01-16', '1', 'CB1599', '0.0', '-1.0', '16', '2', '2023', '3', '2023-16', '03', '2023-03']))\n",
      "('CB1699', ('CB1699', ['2595462', '2023-01-16', '1', 'CB1699', '0.0', '-1.0', '16', '2', '2023', '3', '2023-16', '03', '2023-03']))\n",
      "('CB2105', ('CB2105', ['2595463', '2023-01-16', '1', 'CB2105', '6.0', '20.0', '16', '2', '2023', '3', '2023-16', '03', '2023-03']))\n",
      "('CEE016', ('CEE016', ['2595464', '2023-01-16', '1', 'CEE016', '0.0', '-1.0', '16', '2', '2023', '3', '2023-16', '03', '2023-03']))\n",
      "('CEK049', ('CEK049', ['2595465', '2023-01-16', '1', 'CEK049', '0.0', '-1.0', '16', '2', '2023', '3', '2023-16', '03', '2023-03']))\n",
      "...\n",
      "\n"
     ]
    },
    {
     "name": "stderr",
     "output_type": "stream",
     "text": [
      "                                                                                \r"
     ]
    },
    {
     "name": "stdout",
     "output_type": "stream",
     "text": [
      "-------------------------------------------\n",
      "Time: 2023-05-14 14:00:48\n",
      "-------------------------------------------\n",
      "('CAT17', ('CAT17', ['2607552', '2023-01-23', '1', 'CAT17', '0.0', '-1.0', '23', '2', '2023', '4', '2023-23', '04', '2023-04']))\n",
      "('CB02411', ('CB02411', ['2607553', '2023-01-23', '1', 'CB02411', '1.0', '18.0', '23', '2', '2023', '4', '2023-23', '04', '2023-04']))\n",
      "('CB1101', ('CB1101', ['2607554', '2023-01-23', '1', 'CB1101', '7.0', '15.0', '23', '2', '2023', '4', '2023-23', '04', '2023-04']))\n",
      "('CB1142', ('CB1142', ['2607555', '2023-01-23', '1', 'CB1142', '1.0', '16.0', '23', '2', '2023', '4', '2023-23', '04', '2023-04']))\n",
      "('CB1143', ('CB1143', ['2607556', '2023-01-23', '1', 'CB1143', '1.0', '23.0', '23', '2', '2023', '4', '2023-23', '04', '2023-04']))\n",
      "('CB1599', ('CB1599', ['2607557', '2023-01-23', '1', 'CB1599', '0.0', '-1.0', '23', '2', '2023', '4', '2023-23', '04', '2023-04']))\n",
      "('CB1699', ('CB1699', ['2607558', '2023-01-23', '1', 'CB1699', '0.0', '-1.0', '23', '2', '2023', '4', '2023-23', '04', '2023-04']))\n",
      "('CB2105', ('CB2105', ['2607559', '2023-01-23', '1', 'CB2105', '4.0', '15.0', '23', '2', '2023', '4', '2023-23', '04', '2023-04']))\n",
      "('CEE016', ('CEE016', ['2607560', '2023-01-23', '1', 'CEE016', '2.0', '19.0', '23', '2', '2023', '4', '2023-23', '04', '2023-04']))\n",
      "('CEK049', ('CEK049', ['2607561', '2023-01-23', '1', 'CEK049', '0.0', '-1.0', '23', '2', '2023', '4', '2023-23', '04', '2023-04']))\n",
      "...\n",
      "\n"
     ]
    },
    {
     "name": "stderr",
     "output_type": "stream",
     "text": [
      "                                                                                \r"
     ]
    },
    {
     "name": "stdout",
     "output_type": "stream",
     "text": [
      "-------------------------------------------\n",
      "Time: 2023-05-14 14:00:50\n",
      "-------------------------------------------\n",
      "\n"
     ]
    },
    {
     "name": "stderr",
     "output_type": "stream",
     "text": [
      "                                                                                \r"
     ]
    },
    {
     "name": "stdout",
     "output_type": "stream",
     "text": [
      "-------------------------------------------\n",
      "Time: 2023-05-14 14:00:52\n",
      "-------------------------------------------\n",
      "('CAT17', ('CAT17', ['2619648', '2023-01-30', '1', 'CAT17', '0.0', '-1.0', '30', '2', '2023', '5', '2023-30', '05', '2023-05']))\n",
      "('CB02411', ('CB02411', ['2619649', '2023-01-30', '1', 'CB02411', '1.0', '18.0', '30', '2', '2023', '5', '2023-30', '05', '2023-05']))\n",
      "('CB1101', ('CB1101', ['2619650', '2023-01-30', '1', 'CB1101', '5.0', '14.0', '30', '2', '2023', '5', '2023-30', '05', '2023-05']))\n",
      "('CB1142', ('CB1142', ['2619651', '2023-01-30', '1', 'CB1142', '1.0', '11.0', '30', '2', '2023', '5', '2023-30', '05', '2023-05']))\n",
      "('CB1143', ('CB1143', ['2619652', '2023-01-30', '1', 'CB1143', '4.0', '19.0', '30', '2', '2023', '5', '2023-30', '05', '2023-05']))\n",
      "('CB1599', ('CB1599', ['2619653', '2023-01-30', '1', 'CB1599', '0.0', '-1.0', '30', '2', '2023', '5', '2023-30', '05', '2023-05']))\n",
      "('CB1699', ('CB1699', ['2619654', '2023-01-30', '1', 'CB1699', '0.0', '-1.0', '30', '2', '2023', '5', '2023-30', '05', '2023-05']))\n",
      "('CB2105', ('CB2105', ['2619655', '2023-01-30', '1', 'CB2105', '5.0', '18.0', '30', '2', '2023', '5', '2023-30', '05', '2023-05']))\n",
      "('CEE016', ('CEE016', ['2619656', '2023-01-30', '1', 'CEE016', '0.0', '-1.0', '30', '2', '2023', '5', '2023-30', '05', '2023-05']))\n",
      "('CEK049', ('CEK049', ['2619657', '2023-01-30', '1', 'CEK049', '1.0', '19.0', '30', '2', '2023', '5', '2023-30', '05', '2023-05']))\n",
      "...\n",
      "\n"
     ]
    },
    {
     "name": "stderr",
     "output_type": "stream",
     "text": [
      "                                                                                \r"
     ]
    },
    {
     "name": "stdout",
     "output_type": "stream",
     "text": [
      "-------------------------------------------\n",
      "Time: 2023-05-14 14:00:54\n",
      "-------------------------------------------\n",
      "('CAT17', ('CAT17', ['2631744', '2023-02-06', '1', 'CAT17', '0.0', '-1.0', '37', '2', '2023', '6', '2023-37', '06', '2023-06']))\n",
      "('CB02411', ('CB02411', ['2631745', '2023-02-06', '1', 'CB02411', '2.0', '18.0', '37', '2', '2023', '6', '2023-37', '06', '2023-06']))\n",
      "('CB1101', ('CB1101', ['2631746', '2023-02-06', '1', 'CB1101', '7.0', '17.0', '37', '2', '2023', '6', '2023-37', '06', '2023-06']))\n",
      "('CB1142', ('CB1142', ['2631747', '2023-02-06', '1', 'CB1142', '2.0', '20.0', '37', '2', '2023', '6', '2023-37', '06', '2023-06']))\n",
      "('CB1143', ('CB1143', ['2631748', '2023-02-06', '1', 'CB1143', '2.0', '19.0', '37', '2', '2023', '6', '2023-37', '06', '2023-06']))\n",
      "('CB1599', ('CB1599', ['2631749', '2023-02-06', '1', 'CB1599', '0.0', '-1.0', '37', '2', '2023', '6', '2023-37', '06', '2023-06']))\n",
      "('CB1699', ('CB1699', ['2631750', '2023-02-06', '1', 'CB1699', '2.0', '12.0', '37', '2', '2023', '6', '2023-37', '06', '2023-06']))\n",
      "('CB2105', ('CB2105', ['2631751', '2023-02-06', '1', 'CB2105', '5.0', '19.0', '37', '2', '2023', '6', '2023-37', '06', '2023-06']))\n",
      "('CEE016', ('CEE016', ['2631752', '2023-02-06', '1', 'CEE016', '2.0', '17.0', '37', '2', '2023', '6', '2023-37', '06', '2023-06']))\n",
      "('CEK049', ('CEK049', ['2631753', '2023-02-06', '1', 'CEK049', '0.0', '-1.0', '37', '2', '2023', '6', '2023-37', '06', '2023-06']))\n",
      "...\n",
      "\n"
     ]
    },
    {
     "name": "stderr",
     "output_type": "stream",
     "text": [
      "                                                                                \r"
     ]
    },
    {
     "name": "stdout",
     "output_type": "stream",
     "text": [
      "-------------------------------------------\n",
      "Time: 2023-05-14 14:00:56\n",
      "-------------------------------------------\n",
      "('CAT17', ('CAT17', ['2643840', '2023-02-13', '1', 'CAT17', '0.0', '-1.0', '44', '2', '2023', '7', '2023-44', '07', '2023-07']))\n",
      "('CB02411', ('CB02411', ['2643841', '2023-02-13', '1', 'CB02411', '3.0', '18.0', '44', '2', '2023', '7', '2023-44', '07', '2023-07']))\n",
      "('CB1101', ('CB1101', ['2643842', '2023-02-13', '1', 'CB1101', '6.0', '19.0', '44', '2', '2023', '7', '2023-44', '07', '2023-07']))\n",
      "('CB1142', ('CB1142', ['2643843', '2023-02-13', '1', 'CB1142', '2.0', '20.0', '44', '2', '2023', '7', '2023-44', '07', '2023-07']))\n",
      "('CB1143', ('CB1143', ['2643844', '2023-02-13', '1', 'CB1143', '0.0', '-1.0', '44', '2', '2023', '7', '2023-44', '07', '2023-07']))\n",
      "('CB1599', ('CB1599', ['2643845', '2023-02-13', '1', 'CB1599', '0.0', '-1.0', '44', '2', '2023', '7', '2023-44', '07', '2023-07']))\n",
      "('CB1699', ('CB1699', ['2643846', '2023-02-13', '1', 'CB1699', '2.0', '20.0', '44', '2', '2023', '7', '2023-44', '07', '2023-07']))\n",
      "('CB2105', ('CB2105', ['2643847', '2023-02-13', '1', 'CB2105', '7.0', '21.0', '44', '2', '2023', '7', '2023-44', '07', '2023-07']))\n",
      "('CEE016', ('CEE016', ['2643848', '2023-02-13', '1', 'CEE016', '2.0', '21.0', '44', '2', '2023', '7', '2023-44', '07', '2023-07']))\n",
      "('CEK049', ('CEK049', ['2643849', '2023-02-13', '1', 'CEK049', '2.0', '16.0', '44', '2', '2023', '7', '2023-44', '07', '2023-07']))\n",
      "...\n",
      "\n"
     ]
    },
    {
     "name": "stderr",
     "output_type": "stream",
     "text": [
      "                                                                                \r"
     ]
    },
    {
     "name": "stdout",
     "output_type": "stream",
     "text": [
      "-------------------------------------------\n",
      "Time: 2023-05-14 14:00:58\n",
      "-------------------------------------------\n",
      "('COM205', ('COM205', ['2645350', '2023-02-13', '84', 'COM205', '4.0', '29.0', '44', '2', '2023', '7', '2023-44', '07', '2023-07']))\n",
      "('CVT387', ('CVT387', ['2645351', '2023-02-13', '84', 'CVT387', '7.0', '15.0', '44', '2', '2023', '7', '2023-44', '07', '2023-07']))\n",
      "('CAT17', ('CAT17', ['2645352', '2023-02-13', '85', 'CAT17', '9.0', '19.0', '44', '2', '2023', '7', '2023-44', '07', '2023-07']))\n",
      "('CB02411', ('CB02411', ['2645353', '2023-02-13', '85', 'CB02411', '21.0', '23.0', '44', '2', '2023', '7', '2023-44', '07', '2023-07']))\n",
      "('CB1101', ('CB1101', ['2645354', '2023-02-13', '85', 'CB1101', '22.0', '19.0', '44', '2', '2023', '7', '2023-44', '07', '2023-07']))\n",
      "('CB1142', ('CB1142', ['2645355', '2023-02-13', '85', 'CB1142', '11.0', '23.0', '44', '2', '2023', '7', '2023-44', '07', '2023-07']))\n",
      "('CB1143', ('CB1143', ['2645356', '2023-02-13', '85', 'CB1143', '14.0', '22.0', '44', '2', '2023', '7', '2023-44', '07', '2023-07']))\n",
      "('CB1599', ('CB1599', ['2645357', '2023-02-13', '85', 'CB1599', '5.0', '22.0', '44', '2', '2023', '7', '2023-44', '07', '2023-07']))\n",
      "('CB1699', ('CB1699', ['2645358', '2023-02-13', '85', 'CB1699', '5.0', '19.0', '44', '2', '2023', '7', '2023-44', '07', '2023-07']))\n",
      "('CB2105', ('CB2105', ['2645359', '2023-02-13', '85', 'CB2105', '21.0', '20.0', '44', '2', '2023', '7', '2023-44', '07', '2023-07']))\n",
      "...\n",
      "\n"
     ]
    },
    {
     "name": "stderr",
     "output_type": "stream",
     "text": [
      "                                                                                \r"
     ]
    },
    {
     "name": "stdout",
     "output_type": "stream",
     "text": [
      "-------------------------------------------\n",
      "Time: 2023-05-14 14:01:00\n",
      "-------------------------------------------\n",
      "('CAT17', ('CAT17', ['2655936', '2023-02-20', '1', 'CAT17', '0.0', '-1.0', '51', '2', '2023', '8', '2023-51', '08', '2023-08']))\n",
      "('CB02411', ('CB02411', ['2655937', '2023-02-20', '1', 'CB02411', '0.0', '-1.0', '51', '2', '2023', '8', '2023-51', '08', '2023-08']))\n",
      "('CB1101', ('CB1101', ['2655938', '2023-02-20', '1', 'CB1101', '6.0', '20.0', '51', '2', '2023', '8', '2023-51', '08', '2023-08']))\n",
      "('CB1142', ('CB1142', ['2655939', '2023-02-20', '1', 'CB1142', '4.0', '22.0', '51', '2', '2023', '8', '2023-51', '08', '2023-08']))\n",
      "('CB1143', ('CB1143', ['2655940', '2023-02-20', '1', 'CB1143', '2.0', '18.0', '51', '2', '2023', '8', '2023-51', '08', '2023-08']))\n",
      "('CB1599', ('CB1599', ['2655941', '2023-02-20', '1', 'CB1599', '0.0', '-1.0', '51', '2', '2023', '8', '2023-51', '08', '2023-08']))\n",
      "('CB1699', ('CB1699', ['2655942', '2023-02-20', '1', 'CB1699', '0.0', '-1.0', '51', '2', '2023', '8', '2023-51', '08', '2023-08']))\n",
      "('CB2105', ('CB2105', ['2655943', '2023-02-20', '1', 'CB2105', '5.0', '19.0', '51', '2', '2023', '8', '2023-51', '08', '2023-08']))\n",
      "('CEE016', ('CEE016', ['2655944', '2023-02-20', '1', 'CEE016', '0.0', '-1.0', '51', '2', '2023', '8', '2023-51', '08', '2023-08']))\n",
      "('CEK049', ('CEK049', ['2655945', '2023-02-20', '1', 'CEK049', '3.0', '16.0', '51', '2', '2023', '8', '2023-51', '08', '2023-08']))\n",
      "...\n",
      "\n"
     ]
    },
    {
     "name": "stderr",
     "output_type": "stream",
     "text": [
      "                                                                                \r"
     ]
    },
    {
     "name": "stdout",
     "output_type": "stream",
     "text": [
      "-------------------------------------------\n",
      "Time: 2023-05-14 14:01:02\n",
      "-------------------------------------------\n",
      "('CAT17', ('CAT17', ['2668032', '2023-02-27', '1', 'CAT17', '0.0', '-1.0', '58', '2', '2023', '9', '2023-58', '09', '2023-09']))\n",
      "('CB02411', ('CB02411', ['2668033', '2023-02-27', '1', 'CB02411', '2.0', '22.0', '58', '2', '2023', '9', '2023-58', '09', '2023-09']))\n",
      "('CB1101', ('CB1101', ['2668034', '2023-02-27', '1', 'CB1101', '4.0', '16.0', '58', '2', '2023', '9', '2023-58', '09', '2023-09']))\n",
      "('CB1142', ('CB1142', ['2668035', '2023-02-27', '1', 'CB1142', '1.0', '15.0', '58', '2', '2023', '9', '2023-58', '09', '2023-09']))\n",
      "('CB1143', ('CB1143', ['2668036', '2023-02-27', '1', 'CB1143', '2.0', '18.0', '58', '2', '2023', '9', '2023-58', '09', '2023-09']))\n",
      "('CB1599', ('CB1599', ['2668037', '2023-02-27', '1', 'CB1599', '0.0', '-1.0', '58', '2', '2023', '9', '2023-58', '09', '2023-09']))\n",
      "('CB1699', ('CB1699', ['2668038', '2023-02-27', '1', 'CB1699', '0.0', '-1.0', '58', '2', '2023', '9', '2023-58', '09', '2023-09']))\n",
      "('CB2105', ('CB2105', ['2668039', '2023-02-27', '1', 'CB2105', '3.0', '20.0', '58', '2', '2023', '9', '2023-58', '09', '2023-09']))\n",
      "('CEE016', ('CEE016', ['2668040', '2023-02-27', '1', 'CEE016', '0.0', '-1.0', '58', '2', '2023', '9', '2023-58', '09', '2023-09']))\n",
      "('CEK049', ('CEK049', ['2668041', '2023-02-27', '1', 'CEK049', '2.0', '21.0', '58', '2', '2023', '9', '2023-58', '09', '2023-09']))\n",
      "...\n",
      "\n"
     ]
    },
    {
     "name": "stderr",
     "output_type": "stream",
     "text": [
      "                                                                                \r"
     ]
    },
    {
     "name": "stdout",
     "output_type": "stream",
     "text": [
      "-------------------------------------------\n",
      "Time: 2023-05-14 14:01:04\n",
      "-------------------------------------------\n",
      "('CB2105', ('CB2105', ['2678731', '2023-03-05', '19', 'CB2105', '3.0', '19.0', '64', '1', '2023', '9', '2023-64', '09', '2023-09']))\n",
      "('CEE016', ('CEE016', ['2678732', '2023-03-05', '19', 'CEE016', '2.0', '18.0', '64', '1', '2023', '9', '2023-64', '09', '2023-09']))\n",
      "('CEK049', ('CEK049', ['2678733', '2023-03-05', '19', 'CEK049', '1.0', '20.0', '64', '1', '2023', '9', '2023-64', '09', '2023-09']))\n",
      "('CEK18', ('CEK18', ['2678734', '2023-03-05', '19', 'CEK18', '1.0', '16.0', '64', '1', '2023', '9', '2023-64', '09', '2023-09']))\n",
      "('CEK31', ('CEK31', ['2678735', '2023-03-05', '19', 'CEK31', '0.0', '-1.0', '64', '1', '2023', '9', '2023-64', '09', '2023-09']))\n",
      "('CEV011', ('CEV011', ['2678736', '2023-03-05', '19', 'CEV011', '1.0', '19.0', '64', '1', '2023', '9', '2023-64', '09', '2023-09']))\n",
      "('CJE181', ('CJE181', ['2678737', '2023-03-05', '19', 'CJE181', '1.0', '19.0', '64', '1', '2023', '9', '2023-64', '09', '2023-09']))\n",
      "('CJM90', ('CJM90', ['2678738', '2023-03-05', '19', 'CJM90', '4.0', '19.0', '64', '1', '2023', '9', '2023-64', '09', '2023-09']))\n",
      "('CLW239', ('CLW239', ['2678739', '2023-03-05', '19', 'CLW239', '0.0', '-1.0', '64', '1', '2023', '9', '2023-64', '09', '2023-09']))\n",
      "('COM205', ('COM205', ['2678740', '2023-03-05', '19', 'COM205', '1.0', '12.0', '64', '1', '2023', '9', '2023-64', '09', '2023-09']))\n",
      "...\n",
      "\n"
     ]
    },
    {
     "name": "stderr",
     "output_type": "stream",
     "text": [
      "                                                                                \r"
     ]
    },
    {
     "name": "stdout",
     "output_type": "stream",
     "text": [
      "-------------------------------------------\n",
      "Time: 2023-05-14 14:01:06\n",
      "-------------------------------------------\n",
      "('CAT17', ('CAT17', ['2680128', '2023-03-06', '1', 'CAT17', '0.0', '-1.0', '65', '2', '2023', '10', '2023-65', '10', '2023-10']))\n",
      "('CB02411', ('CB02411', ['2680129', '2023-03-06', '1', 'CB02411', '1.0', '17.0', '65', '2', '2023', '10', '2023-65', '10', '2023-10']))\n",
      "('CB1101', ('CB1101', ['2680130', '2023-03-06', '1', 'CB1101', '6.0', '22.0', '65', '2', '2023', '10', '2023-65', '10', '2023-10']))\n",
      "('CB1142', ('CB1142', ['2680131', '2023-03-06', '1', 'CB1142', '0.0', '-1.0', '65', '2', '2023', '10', '2023-65', '10', '2023-10']))\n",
      "('CB1143', ('CB1143', ['2680132', '2023-03-06', '1', 'CB1143', '2.0', '17.0', '65', '2', '2023', '10', '2023-65', '10', '2023-10']))\n",
      "('CB1599', ('CB1599', ['2680133', '2023-03-06', '1', 'CB1599', '0.0', '-1.0', '65', '2', '2023', '10', '2023-65', '10', '2023-10']))\n",
      "('CB1699', ('CB1699', ['2680134', '2023-03-06', '1', 'CB1699', '1.0', '19.0', '65', '2', '2023', '10', '2023-65', '10', '2023-10']))\n",
      "('CB2105', ('CB2105', ['2680135', '2023-03-06', '1', 'CB2105', '2.0', '20.0', '65', '2', '2023', '10', '2023-65', '10', '2023-10']))\n",
      "('CEE016', ('CEE016', ['2680136', '2023-03-06', '1', 'CEE016', '0.0', '-1.0', '65', '2', '2023', '10', '2023-65', '10', '2023-10']))\n",
      "('CEK049', ('CEK049', ['2680137', '2023-03-06', '1', 'CEK049', '2.0', '26.0', '65', '2', '2023', '10', '2023-65', '10', '2023-10']))\n",
      "...\n",
      "\n"
     ]
    },
    {
     "name": "stderr",
     "output_type": "stream",
     "text": [
      "                                                                                \r"
     ]
    },
    {
     "name": "stdout",
     "output_type": "stream",
     "text": [
      "-------------------------------------------\n",
      "Time: 2023-05-14 14:01:08\n",
      "-------------------------------------------\n",
      "('CAT17', ('CAT17', ['2692224', '2023-03-13', '1', 'CAT17', '0.0', '-1.0', '72', '2', '2023', '11', '2023-72', '11', '2023-11']))\n",
      "('CB02411', ('CB02411', ['2692225', '2023-03-13', '1', 'CB02411', '0.0', '-1.0', '72', '2', '2023', '11', '2023-72', '11', '2023-11']))\n",
      "('CB1101', ('CB1101', ['2692226', '2023-03-13', '1', 'CB1101', '5.0', '20.0', '72', '2', '2023', '11', '2023-72', '11', '2023-11']))\n",
      "('CB1142', ('CB1142', ['2692227', '2023-03-13', '1', 'CB1142', '1.0', '11.0', '72', '2', '2023', '11', '2023-72', '11', '2023-11']))\n",
      "('CB1143', ('CB1143', ['2692228', '2023-03-13', '1', 'CB1143', '0.0', '-1.0', '72', '2', '2023', '11', '2023-72', '11', '2023-11']))\n",
      "('CB1599', ('CB1599', ['2692229', '2023-03-13', '1', 'CB1599', '0.0', '-1.0', '72', '2', '2023', '11', '2023-72', '11', '2023-11']))\n",
      "('CB1699', ('CB1699', ['2692230', '2023-03-13', '1', 'CB1699', '1.0', '16.0', '72', '2', '2023', '11', '2023-72', '11', '2023-11']))\n",
      "('CB2105', ('CB2105', ['2692231', '2023-03-13', '1', 'CB2105', '2.0', '15.0', '72', '2', '2023', '11', '2023-72', '11', '2023-11']))\n",
      "('CEE016', ('CEE016', ['2692232', '2023-03-13', '1', 'CEE016', '0.0', '-1.0', '72', '2', '2023', '11', '2023-72', '11', '2023-11']))\n",
      "('CEK049', ('CEK049', ['2692233', '2023-03-13', '1', 'CEK049', '3.0', '23.0', '72', '2', '2023', '11', '2023-72', '11', '2023-11']))\n",
      "...\n",
      "\n"
     ]
    },
    {
     "name": "stderr",
     "output_type": "stream",
     "text": [
      "                                                                                \r"
     ]
    },
    {
     "name": "stdout",
     "output_type": "stream",
     "text": [
      "-------------------------------------------\n",
      "Time: 2023-05-14 14:01:10\n",
      "-------------------------------------------\n",
      "\n"
     ]
    },
    {
     "name": "stderr",
     "output_type": "stream",
     "text": [
      "                                                                                \r"
     ]
    },
    {
     "name": "stdout",
     "output_type": "stream",
     "text": [
      "-------------------------------------------\n",
      "Time: 2023-05-14 14:01:12\n",
      "-------------------------------------------\n",
      "('CAT17', ('CAT17', ['2704320', '2023-03-20', '1', 'CAT17', '0.0', '-1.0', '79', '2', '2023', '12', '2023-79', '12', '2023-12']))\n",
      "('CB02411', ('CB02411', ['2704321', '2023-03-20', '1', 'CB02411', '3.0', '16.0', '79', '2', '2023', '12', '2023-79', '12', '2023-12']))\n",
      "('CB1101', ('CB1101', ['2704322', '2023-03-20', '1', 'CB1101', '5.0', '17.0', '79', '2', '2023', '12', '2023-79', '12', '2023-12']))\n",
      "('CB1142', ('CB1142', ['2704323', '2023-03-20', '1', 'CB1142', '0.0', '-1.0', '79', '2', '2023', '12', '2023-79', '12', '2023-12']))\n",
      "('CB1143', ('CB1143', ['2704324', '2023-03-20', '1', 'CB1143', '2.0', '18.0', '79', '2', '2023', '12', '2023-79', '12', '2023-12']))\n",
      "('CB1599', ('CB1599', ['2704325', '2023-03-20', '1', 'CB1599', '0.0', '-1.0', '79', '2', '2023', '12', '2023-79', '12', '2023-12']))\n",
      "('CB1699', ('CB1699', ['2704326', '2023-03-20', '1', 'CB1699', '1.0', '19.0', '79', '2', '2023', '12', '2023-79', '12', '2023-12']))\n",
      "('CB2105', ('CB2105', ['2704327', '2023-03-20', '1', 'CB2105', '3.0', '15.0', '79', '2', '2023', '12', '2023-79', '12', '2023-12']))\n",
      "('CEE016', ('CEE016', ['2704328', '2023-03-20', '1', 'CEE016', '4.0', '22.0', '79', '2', '2023', '12', '2023-79', '12', '2023-12']))\n",
      "('CEK049', ('CEK049', ['2704329', '2023-03-20', '1', 'CEK049', '1.0', '20.0', '79', '2', '2023', '12', '2023-79', '12', '2023-12']))\n",
      "...\n",
      "\n"
     ]
    },
    {
     "name": "stderr",
     "output_type": "stream",
     "text": [
      "                                                                                \r"
     ]
    },
    {
     "name": "stdout",
     "output_type": "stream",
     "text": [
      "-------------------------------------------\n",
      "Time: 2023-05-14 14:01:14\n",
      "-------------------------------------------\n",
      "('CAT17', ('CAT17', ['2716416', '2023-03-27', '1', 'CAT17', '0.0', '-1.0', '86', '2', '2023', '13', '2023-86', '13', '2023-13']))\n",
      "('CB02411', ('CB02411', ['2716417', '2023-03-27', '1', 'CB02411', '1.0', '19.0', '86', '2', '2023', '13', '2023-86', '13', '2023-13']))\n",
      "('CB1101', ('CB1101', ['2716418', '2023-03-27', '1', 'CB1101', '3.0', '13.0', '86', '2', '2023', '13', '2023-86', '13', '2023-13']))\n",
      "('CB1142', ('CB1142', ['2716419', '2023-03-27', '1', 'CB1142', '1.0', '22.0', '86', '2', '2023', '13', '2023-86', '13', '2023-13']))\n",
      "('CB1143', ('CB1143', ['2716420', '2023-03-27', '1', 'CB1143', '2.0', '17.0', '86', '2', '2023', '13', '2023-86', '13', '2023-13']))\n",
      "('CB1599', ('CB1599', ['2716421', '2023-03-27', '1', 'CB1599', '0.0', '-1.0', '86', '2', '2023', '13', '2023-86', '13', '2023-13']))\n",
      "('CB1699', ('CB1699', ['2716422', '2023-03-27', '1', 'CB1699', '0.0', '-1.0', '86', '2', '2023', '13', '2023-86', '13', '2023-13']))\n",
      "('CB2105', ('CB2105', ['2716423', '2023-03-27', '1', 'CB2105', '2.0', '17.0', '86', '2', '2023', '13', '2023-86', '13', '2023-13']))\n",
      "('CEE016', ('CEE016', ['2716424', '2023-03-27', '1', 'CEE016', '0.0', '-1.0', '86', '2', '2023', '13', '2023-86', '13', '2023-13']))\n",
      "('CEK049', ('CEK049', ['2716425', '2023-03-27', '1', 'CEK049', '1.0', '26.0', '86', '2', '2023', '13', '2023-86', '13', '2023-13']))\n",
      "...\n",
      "\n"
     ]
    },
    {
     "name": "stderr",
     "output_type": "stream",
     "text": [
      "                                                                                \r"
     ]
    },
    {
     "name": "stdout",
     "output_type": "stream",
     "text": [
      "-------------------------------------------\n",
      "Time: 2023-05-14 14:01:16\n",
      "-------------------------------------------\n",
      "('CAT17', ('CAT17', ['2569536', '2023-01-01', '1', 'CAT17', '1.0', '9.0', '1', '1', '2023', '52', '2023-1', '52', '2023-52']))\n",
      "('CB02411', ('CB02411', ['2569537', '2023-01-01', '1', 'CB02411', '8.0', '17.0', '1', '1', '2023', '52', '2023-1', '52', '2023-52']))\n",
      "('CB1101', ('CB1101', ['2569538', '2023-01-01', '1', 'CB1101', '17.0', '15.0', '1', '1', '2023', '52', '2023-1', '52', '2023-52']))\n",
      "('CB1142', ('CB1142', ['2569539', '2023-01-01', '1', 'CB1142', '12.0', '18.0', '1', '1', '2023', '52', '2023-1', '52', '2023-52']))\n",
      "('CB1143', ('CB1143', ['2569540', '2023-01-01', '1', 'CB1143', '16.0', '18.0', '1', '1', '2023', '52', '2023-1', '52', '2023-52']))\n",
      "('CB1599', ('CB1599', ['2569541', '2023-01-01', '1', 'CB1599', '3.0', '19.0', '1', '1', '2023', '52', '2023-1', '52', '2023-52']))\n",
      "('CB1699', ('CB1699', ['2569542', '2023-01-01', '1', 'CB1699', '2.0', '16.0', '1', '1', '2023', '52', '2023-1', '52', '2023-52']))\n",
      "('CB2105', ('CB2105', ['2569543', '2023-01-01', '1', 'CB2105', '12.0', '18.0', '1', '1', '2023', '52', '2023-1', '52', '2023-52']))\n",
      "('CEE016', ('CEE016', ['2569544', '2023-01-01', '1', 'CEE016', '2.0', '11.0', '1', '1', '2023', '52', '2023-1', '52', '2023-52']))\n",
      "('CEK049', ('CEK049', ['2569545', '2023-01-01', '1', 'CEK049', '6.0', '22.0', '1', '1', '2023', '52', '2023-1', '52', '2023-52']))\n",
      "...\n",
      "\n"
     ]
    },
    {
     "name": "stderr",
     "output_type": "stream",
     "text": [
      "                                                                                \r"
     ]
    },
    {
     "name": "stdout",
     "output_type": "stream",
     "text": [
      "-------------------------------------------\n",
      "Time: 2023-05-14 14:01:18\n",
      "-------------------------------------------\n",
      "\n"
     ]
    },
    {
     "name": "stderr",
     "output_type": "stream",
     "text": [
      "                                                                                \r"
     ]
    },
    {
     "name": "stdout",
     "output_type": "stream",
     "text": [
      "-------------------------------------------\n",
      "Time: 2023-05-14 14:01:20\n",
      "-------------------------------------------\n",
      "\n"
     ]
    },
    {
     "name": "stderr",
     "output_type": "stream",
     "text": [
      "                                                                                \r"
     ]
    },
    {
     "name": "stdout",
     "output_type": "stream",
     "text": [
      "-------------------------------------------\n",
      "Time: 2023-05-14 14:01:22\n",
      "-------------------------------------------\n",
      "\n"
     ]
    },
    {
     "name": "stderr",
     "output_type": "stream",
     "text": [
      "                                                                                \r"
     ]
    },
    {
     "name": "stdout",
     "output_type": "stream",
     "text": [
      "-------------------------------------------\n",
      "Time: 2023-05-14 14:01:24\n",
      "-------------------------------------------\n",
      "\n"
     ]
    },
    {
     "name": "stderr",
     "output_type": "stream",
     "text": [
      "                                                                                \r"
     ]
    },
    {
     "name": "stdout",
     "output_type": "stream",
     "text": [
      "-------------------------------------------\n",
      "Time: 2023-05-14 14:01:26\n",
      "-------------------------------------------\n",
      "\n"
     ]
    },
    {
     "name": "stderr",
     "output_type": "stream",
     "text": [
      "                                                                                \r"
     ]
    },
    {
     "name": "stdout",
     "output_type": "stream",
     "text": [
      "-------------------------------------------\n",
      "Time: 2023-05-14 14:01:28\n",
      "-------------------------------------------\n",
      "\n"
     ]
    },
    {
     "name": "stderr",
     "output_type": "stream",
     "text": [
      "                                                                                \r"
     ]
    },
    {
     "name": "stdout",
     "output_type": "stream",
     "text": [
      "-------------------------------------------\n",
      "Time: 2023-05-14 14:01:30\n",
      "-------------------------------------------\n",
      "\n"
     ]
    },
    {
     "name": "stderr",
     "output_type": "stream",
     "text": [
      "                                                                                \r"
     ]
    },
    {
     "name": "stdout",
     "output_type": "stream",
     "text": [
      "-------------------------------------------\n",
      "Time: 2023-05-14 14:01:32\n",
      "-------------------------------------------\n",
      "\n"
     ]
    },
    {
     "name": "stderr",
     "output_type": "stream",
     "text": [
      "\r",
      "[Stage 2265:>               (0 + 1) / 1][Stage 2984:>               (0 + 1) / 1]\r"
     ]
    }
   ],
   "source": [
    "ssc.start()"
   ]
  },
  {
   "cell_type": "code",
   "execution_count": 22,
   "id": "b091e6be",
   "metadata": {},
   "outputs": [
    {
     "name": "stderr",
     "output_type": "stream",
     "text": [
      "\r",
      "                                                                                \r"
     ]
    },
    {
     "name": "stdout",
     "output_type": "stream",
     "text": [
      "-------------------------------------------\n",
      "Time: 2023-05-14 14:01:34\n",
      "-------------------------------------------\n",
      "\n",
      "23/05/14 14:02:39 ERROR ReceiverTracker: Deregistered receiver for stream 0: Stopped by driver\n"
     ]
    },
    {
     "name": "stderr",
     "output_type": "stream",
     "text": [
      "Exception in thread \"receiver-supervisor-future-0\" java.lang.InterruptedException: sleep interrupted\n",
      "\tat java.base/java.lang.Thread.sleep(Native Method)\n",
      "\tat org.apache.spark.streaming.receiver.ReceiverSupervisor.$anonfun$restartReceiver$1(ReceiverSupervisor.scala:196)\n",
      "\tat scala.runtime.java8.JFunction0$mcV$sp.apply(JFunction0$mcV$sp.java:23)\n",
      "\tat scala.concurrent.Future$.$anonfun$apply$1(Future.scala:659)\n",
      "\tat scala.util.Success.$anonfun$map$1(Try.scala:255)\n",
      "\tat scala.util.Success.map(Try.scala:213)\n",
      "\tat scala.concurrent.Future.$anonfun$map$1(Future.scala:292)\n",
      "\tat scala.concurrent.impl.Promise.liftedTree1$1(Promise.scala:33)\n",
      "\tat scala.concurrent.impl.Promise.$anonfun$transform$1(Promise.scala:33)\n",
      "\tat scala.concurrent.impl.CallbackRunnable.run(Promise.scala:64)\n",
      "\tat java.base/java.util.concurrent.ThreadPoolExecutor.runWorker(ThreadPoolExecutor.java:1128)\n",
      "\tat java.base/java.util.concurrent.ThreadPoolExecutor$Worker.run(ThreadPoolExecutor.java:628)\n",
      "\tat java.base/java.lang.Thread.run(Thread.java:829)\n",
      "\r",
      "[Stage 2987:>                                                       (0 + 1) / 1]\r"
     ]
    }
   ],
   "source": [
    "ssc.stop(stopSparkContext=False, stopGraceFully=False)"
   ]
  }
 ],
 "metadata": {
  "kernelspec": {
   "display_name": "Python 3 (ipykernel)",
   "language": "python",
   "name": "python3"
  },
  "language_info": {
   "codemirror_mode": {
    "name": "ipython",
    "version": 3
   },
   "file_extension": ".py",
   "mimetype": "text/x-python",
   "name": "python",
   "nbconvert_exporter": "python",
   "pygments_lexer": "ipython3",
   "version": "3.10.4"
  }
 },
 "nbformat": 4,
 "nbformat_minor": 5
}
